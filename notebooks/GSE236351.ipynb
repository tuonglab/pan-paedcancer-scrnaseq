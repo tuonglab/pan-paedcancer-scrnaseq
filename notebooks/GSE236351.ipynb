{
 "cells": [
  {
   "cell_type": "markdown",
   "metadata": {},
   "source": [
    "### 1. General info of dataset GSE236351\n",
    "\n",
    "This is the Jupyter Notebook for dataset GSE236351. Its dataset includes barcodes/genes/matrix files for each sample.\n",
    "\n",
    "Thus, we need to simply incorparate these barcodes/genes/matrix files and generate an AnnData object for each sample. \n",
    "In total, there are 7 Mixed-Phenotype Acute Leukemia (MPAL) samples.\n"
   ]
  },
  {
   "cell_type": "code",
   "execution_count": 1,
   "metadata": {},
   "outputs": [],
   "source": [
    "# Environment setup\n",
    "import numpy as np\n",
    "import pandas as pd\n",
    "import scanpy as sc\n",
    "import anndata as anndata\n",
    "import scipy"
   ]
  },
  {
   "cell_type": "markdown",
   "metadata": {},
   "source": [
    "### 2. AnnData object of each sample\n",
    "\n",
    "<span style=\"color:red\">**IMPORTANT:**</span> rename files to get rid of prefixes; rename features.tsv to genes.tsv\n",
    "\n",
    "1. `barcodes.tsv`: cell barcodes, which go into `.obs`\n",
    "2. `genes.tsv`: gene names, `.var`\n",
    "3. `matrix.mtx`: the expression matrix, `.X`"
   ]
  },
  {
   "cell_type": "code",
   "execution_count": 16,
   "metadata": {},
   "outputs": [
    {
     "name": "stdout",
     "output_type": "stream",
     "text": [
      "AnnData object with n_obs × n_vars = 4293 × 17950\n",
      "    var: 'gene_ids'\n",
      "\n",
      "AnnData object with n_obs × n_vars = 6523 × 36601\n",
      "    var: 'gene_ids'\n",
      "\n",
      "AnnData object with n_obs × n_vars = 2942 × 17950\n",
      "    var: 'gene_ids'\n",
      "\n",
      "AnnData object with n_obs × n_vars = 3731 × 17950\n",
      "    var: 'gene_ids'\n",
      "\n",
      "AnnData object with n_obs × n_vars = 3726 × 17950\n",
      "    var: 'gene_ids'\n",
      "\n",
      "AnnData object with n_obs × n_vars = 1712 × 17950\n",
      "    var: 'gene_ids'\n",
      "\n",
      "AnnData object with n_obs × n_vars = 6916 × 36601\n",
      "    var: 'gene_ids'\n",
      "\n"
     ]
    }
   ],
   "source": [
    "general_input_path = '/scratch/user/s4543064/Xiaohan_Summer_Research/data/GSE236351/GSM75283'\n",
    "general_output_path = '/scratch/user/s4543064/Xiaohan_Summer_Research/write/GSE236351/GSM75283'\n",
    "\n",
    "for i, j in zip(range(25, 32), range(1, 8)):\n",
    "    actual_input_path = general_input_path + str(i) + '_M' + str(j)\n",
    "    actual_output_path = general_output_path + str(i) + '_M' + str(j) + '.h5ad'\n",
    "\n",
    "    sample = sc.read_10x_mtx(\n",
    "        actual_input_path,\n",
    "        var_names='gene_symbols',  \n",
    "        cache=False\n",
    "    )\n",
    "    print(sample)\n",
    "    \n",
    "    # save the anndata object\n",
    "    sample.write_h5ad(actual_output_path, compression=\"gzip\")"
   ]
  },
  {
   "cell_type": "markdown",
   "metadata": {},
   "source": [
    "### 3. Confirmation of created AnnData objects"
   ]
  },
  {
   "cell_type": "code",
   "execution_count": 18,
   "metadata": {},
   "outputs": [
    {
     "name": "stdout",
     "output_type": "stream",
     "text": [
      "AnnData object with n_obs × n_vars = 4293 × 17950\n",
      "    var: 'gene_ids'\n",
      "AnnData object with n_obs × n_vars = 6523 × 36601\n",
      "    var: 'gene_ids'\n",
      "AnnData object with n_obs × n_vars = 2942 × 17950\n",
      "    var: 'gene_ids'\n",
      "AnnData object with n_obs × n_vars = 3731 × 17950\n",
      "    var: 'gene_ids'\n",
      "AnnData object with n_obs × n_vars = 3726 × 17950\n",
      "    var: 'gene_ids'\n",
      "AnnData object with n_obs × n_vars = 1712 × 17950\n",
      "    var: 'gene_ids'\n",
      "AnnData object with n_obs × n_vars = 6916 × 36601\n",
      "    var: 'gene_ids'\n"
     ]
    }
   ],
   "source": [
    "general_output_path = '/scratch/user/s4543064/Xiaohan_Summer_Research/write/GSE236351/GSM75283'\n",
    "for i, j in zip(range(25, 32), range(1, 8)):\n",
    "    actual_output_path = general_output_path + str(i) + '_M' + str(j) + '.h5ad'\n",
    "    sample = anndata.read_h5ad(actual_output_path)\n",
    "    print(sample)"
   ]
  }
 ],
 "metadata": {
  "kernelspec": {
   "display_name": "Python 3 (ipykernel)",
   "language": "python",
   "name": "python3"
  },
  "language_info": {
   "codemirror_mode": {
    "name": "ipython",
    "version": 3
   },
   "file_extension": ".py",
   "mimetype": "text/x-python",
   "name": "python",
   "nbconvert_exporter": "python",
   "pygments_lexer": "ipython3",
   "version": "3.8.18"
  }
 },
 "nbformat": 4,
 "nbformat_minor": 2
}
