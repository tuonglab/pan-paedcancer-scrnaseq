{
 "cells": [
  {
   "cell_type": "markdown",
   "metadata": {},
   "source": [
    "### 1. General info of dataset GSE89567\n",
    "\n",
    "This is the Jupyter Notebook for dataset GSE89567. Its dataset includes an overall big txt file. As seen below, in the txt file, each row is a gene and each column is a cell.\n",
    "\n",
    "Thus, we need to transform this txt file and generate an overall AnnData object for all samples. "
   ]
  },
  {
   "cell_type": "code",
   "execution_count": 3,
   "metadata": {},
   "outputs": [],
   "source": [
    "# Environment setup\n",
    "import numpy as np\n",
    "import pandas as pd\n",
    "import scanpy as sc\n",
    "import anndata as anndata\n",
    "import scipy"
   ]
  },
  {
   "cell_type": "code",
   "execution_count": 20,
   "metadata": {},
   "outputs": [
    {
     "name": "stdout",
     "output_type": "stream",
     "text": [
      "            MGH42_P7_A01  MGH42_P7_A02  MGH42_P7_A03  MGH42_P7_A04  \\\n",
      "'A1BG'            1.1928      0.000000       0.00000        0.0000   \n",
      "'A1BG-AS1'        0.0000      0.000000       0.00000        0.0000   \n",
      "'A1CF'            0.0000      0.094912       0.00000        0.0000   \n",
      "'A2M'             7.0439      7.609500       0.77062        7.6146   \n",
      "'A2M-AS1'         0.0000      0.000000       0.00000        0.0000   \n",
      "\n",
      "            MGH42_P7_A05  MGH42_P7_A07  MGH42_P7_A09  MGH42_P7_A11  \\\n",
      "'A1BG'            0.0000       0.66903       0.00000        0.0000   \n",
      "'A1BG-AS1'        0.0000       0.00000       0.00000        0.0000   \n",
      "'A1CF'            0.0000       0.00000       0.00000        0.0000   \n",
      "'A2M'             0.0000       0.00000       0.27501        8.1624   \n",
      "'A2M-AS1'         2.0339       2.39420       0.00000        0.0000   \n",
      "\n",
      "            MGH42_P7_A12  MGH42_P7_B02  ...  MGH107neg_P2_E06  \\\n",
      "'A1BG'            0.0000        0.0000  ...               0.0   \n",
      "'A1BG-AS1'        0.0000        0.0000  ...               0.0   \n",
      "'A1CF'            0.0000        0.0000  ...               0.0   \n",
      "'A2M'             6.5655        6.9658  ...               0.0   \n",
      "'A2M-AS1'         0.0000        0.0000  ...               0.0   \n",
      "\n",
      "            MGH107pos_P2_B03  MGH107neg_P1_F03  MGH107neg_P1_G06  \\\n",
      "'A1BG'                0.0000               0.0               0.0   \n",
      "'A1BG-AS1'            0.0000               0.0               0.0   \n",
      "'A1CF'                0.0000               0.0               0.0   \n",
      "'A2M'                 8.6046               0.0               0.0   \n",
      "'A2M-AS1'             0.0000               0.0               0.0   \n",
      "\n",
      "            MGH107neg_P2_H03  MGH107neg_P2_C05  MGH107pos_P2_D07  \\\n",
      "'A1BG'                   0.0           0.00000            0.0000   \n",
      "'A1BG-AS1'               0.0           0.83996            0.0000   \n",
      "'A1CF'                   0.0           0.00000            0.0000   \n",
      "'A2M'                    0.0           0.00000            9.5281   \n",
      "'A2M-AS1'                0.0           0.00000            0.0000   \n",
      "\n",
      "            MGH107neg_P1_E01  MGH107pos_P2_G09  MGH107neg_P1_D06  \n",
      "'A1BG'                2.4772            0.0000               0.0  \n",
      "'A1BG-AS1'            0.0000            0.0000               0.0  \n",
      "'A1CF'                0.0000            0.0000               0.0  \n",
      "'A2M'                 0.0000            6.8999               0.0  \n",
      "'A2M-AS1'             0.0000            0.0000               0.0  \n",
      "\n",
      "[5 rows x 6341 columns]\n",
      "(23686, 6341)\n"
     ]
    }
   ],
   "source": [
    "# inspect the dataset\n",
    "path = '/scratch/user/s4543064/xiaohan-john-project/data/GSE89567/GSE89567_IDH_A_processed_data.txt'\n",
    "input = pd.read_csv(path, sep='\\t', index_col=0) # the first column contains gene names and is the index\n",
    "\n",
    "print(input.head()) \n",
    "print(input.shape) # (23686, 6341)"
   ]
  },
  {
   "cell_type": "markdown",
   "metadata": {},
   "source": [
    "<span style=\"color:red\">**PROBLEM:**</span> the gene names are stored as 'GENE_SYMBOL' (with a quotation mark)"
   ]
  },
  {
   "cell_type": "code",
   "execution_count": 21,
   "metadata": {},
   "outputs": [
    {
     "name": "stdout",
     "output_type": "stream",
     "text": [
      "          MGH42_P7_A01  MGH42_P7_A02  MGH42_P7_A03  MGH42_P7_A04  \\\n",
      "A1BG            1.1928      0.000000       0.00000        0.0000   \n",
      "A1BG-AS1        0.0000      0.000000       0.00000        0.0000   \n",
      "A1CF            0.0000      0.094912       0.00000        0.0000   \n",
      "A2M             7.0439      7.609500       0.77062        7.6146   \n",
      "A2M-AS1         0.0000      0.000000       0.00000        0.0000   \n",
      "\n",
      "          MGH42_P7_A05  MGH42_P7_A07  MGH42_P7_A09  MGH42_P7_A11  \\\n",
      "A1BG            0.0000       0.66903       0.00000        0.0000   \n",
      "A1BG-AS1        0.0000       0.00000       0.00000        0.0000   \n",
      "A1CF            0.0000       0.00000       0.00000        0.0000   \n",
      "A2M             0.0000       0.00000       0.27501        8.1624   \n",
      "A2M-AS1         2.0339       2.39420       0.00000        0.0000   \n",
      "\n",
      "          MGH42_P7_A12  MGH42_P7_B02  ...  MGH107neg_P2_E06  MGH107pos_P2_B03  \\\n",
      "A1BG            0.0000        0.0000  ...               0.0            0.0000   \n",
      "A1BG-AS1        0.0000        0.0000  ...               0.0            0.0000   \n",
      "A1CF            0.0000        0.0000  ...               0.0            0.0000   \n",
      "A2M             6.5655        6.9658  ...               0.0            8.6046   \n",
      "A2M-AS1         0.0000        0.0000  ...               0.0            0.0000   \n",
      "\n",
      "          MGH107neg_P1_F03  MGH107neg_P1_G06  MGH107neg_P2_H03  \\\n",
      "A1BG                   0.0               0.0               0.0   \n",
      "A1BG-AS1               0.0               0.0               0.0   \n",
      "A1CF                   0.0               0.0               0.0   \n",
      "A2M                    0.0               0.0               0.0   \n",
      "A2M-AS1                0.0               0.0               0.0   \n",
      "\n",
      "          MGH107neg_P2_C05  MGH107pos_P2_D07  MGH107neg_P1_E01  \\\n",
      "A1BG               0.00000            0.0000            2.4772   \n",
      "A1BG-AS1           0.83996            0.0000            0.0000   \n",
      "A1CF               0.00000            0.0000            0.0000   \n",
      "A2M                0.00000            9.5281            0.0000   \n",
      "A2M-AS1            0.00000            0.0000            0.0000   \n",
      "\n",
      "          MGH107pos_P2_G09  MGH107neg_P1_D06  \n",
      "A1BG                0.0000               0.0  \n",
      "A1BG-AS1            0.0000               0.0  \n",
      "A1CF                0.0000               0.0  \n",
      "A2M                 6.8999               0.0  \n",
      "A2M-AS1             0.0000               0.0  \n",
      "\n",
      "[5 rows x 6341 columns]\n"
     ]
    }
   ],
   "source": [
    "# Get rid of the extra quotation marks for gene symbols\n",
    "input.index = [gene[1:-1] for gene in input.index]\n",
    "print(input.head()) "
   ]
  },
  {
   "cell_type": "markdown",
   "metadata": {},
   "source": [
    "As shown above, the dataset contains 6341 cells and 23686 genes."
   ]
  },
  {
   "cell_type": "markdown",
   "metadata": {},
   "source": [
    "### 2. Overall AnnData object of the dataset\n",
    "\n",
    "<span style=\"color:red\">**IMPORTANT:**</span> transpose the DataFrame.values to match the AnnData.X\n",
    "\n",
    "1. `DataFrame.columns`: cell barcodes, which go into `.obs`\n",
    "2. `DataFrame.index`: gene names, `.var`\n",
    "3. `DataFrame.values`: the transpose of the expression matrix, `.X`"
   ]
  },
  {
   "cell_type": "code",
   "execution_count": 22,
   "metadata": {},
   "outputs": [
    {
     "name": "stderr",
     "output_type": "stream",
     "text": [
      "/home/s4543064/miniforge3/envs/summer_env/lib/python3.8/site-packages/anndata/_core/anndata.py:121: ImplicitModificationWarning: Transforming to str index.\n",
      "  warnings.warn(\"Transforming to str index.\", ImplicitModificationWarning)\n"
     ]
    },
    {
     "name": "stdout",
     "output_type": "stream",
     "text": [
      "AnnData object with n_obs × n_vars = 6341 × 23686\n",
      "    var: 'gene_symbols'\n"
     ]
    }
   ],
   "source": [
    "matrix = scipy.sparse.csr_matrix(input.values.T)\n",
    "obs_name = pd.DataFrame(index=input.columns)\n",
    "var_name = pd.DataFrame(input.index, columns=['gene_symbols'])\n",
    "\n",
    "sample = anndata.AnnData(X=matrix, obs=obs_name, var=var_name)\n",
    "print(sample)\n",
    "\n",
    "# save the anndata object\n",
    "sample.write_h5ad('/scratch/user/s4543064/xiaohan-john-project/write/GSE89567/GSE89567_IDH_A_processed_data.h5ad', compression=\"gzip\")"
   ]
  },
  {
   "cell_type": "markdown",
   "metadata": {},
   "source": [
    "### 3. Confirmation of created AnnData object"
   ]
  },
  {
   "cell_type": "code",
   "execution_count": 4,
   "metadata": {},
   "outputs": [
    {
     "name": "stdout",
     "output_type": "stream",
     "text": [
      "AnnData object with n_obs × n_vars = 6341 × 23686\n",
      "    var: 'gene_symbols'\n"
     ]
    }
   ],
   "source": [
    "output = '/scratch/user/s4543064/xiaohan-john-project/write/GSE89567/GSE89567_IDH_A_processed_data.h5ad'\n",
    "sample = anndata.read_h5ad(output)\n",
    "print(sample)"
   ]
  },
  {
   "cell_type": "markdown",
   "metadata": {},
   "source": [
    "### 4. Add feature info to the created AnnData object\n",
    "\n",
    "1. `cancer_type`: this AnnData is related to what type of cancer\n",
    "2. `dataset`: which the sample belongs to \n",
    "3. `tissue`: where the sample is obtained\n",
    "4. `uni_barcode`: the unique barcodes for each cell"
   ]
  },
  {
   "cell_type": "code",
   "execution_count": 9,
   "metadata": {},
   "outputs": [
    {
     "data": {
      "text/html": [
       "<div>\n",
       "<style scoped>\n",
       "    .dataframe tbody tr th:only-of-type {\n",
       "        vertical-align: middle;\n",
       "    }\n",
       "\n",
       "    .dataframe tbody tr th {\n",
       "        vertical-align: top;\n",
       "    }\n",
       "\n",
       "    .dataframe thead th {\n",
       "        text-align: right;\n",
       "    }\n",
       "</style>\n",
       "<table border=\"1\" class=\"dataframe\">\n",
       "  <thead>\n",
       "    <tr style=\"text-align: right;\">\n",
       "      <th></th>\n",
       "      <th>cancer_type</th>\n",
       "      <th>dataset</th>\n",
       "      <th>tissue</th>\n",
       "      <th>uni_barcode</th>\n",
       "    </tr>\n",
       "  </thead>\n",
       "  <tbody>\n",
       "    <tr>\n",
       "      <th>MGH42_P7_A01</th>\n",
       "      <td>IDH-Mutation_glioma</td>\n",
       "      <td>GSE89567</td>\n",
       "      <td>brain</td>\n",
       "      <td>GSE89567_MGH42_P7_A01</td>\n",
       "    </tr>\n",
       "    <tr>\n",
       "      <th>MGH42_P7_A02</th>\n",
       "      <td>IDH-Mutation_glioma</td>\n",
       "      <td>GSE89567</td>\n",
       "      <td>brain</td>\n",
       "      <td>GSE89567_MGH42_P7_A02</td>\n",
       "    </tr>\n",
       "    <tr>\n",
       "      <th>MGH42_P7_A03</th>\n",
       "      <td>IDH-Mutation_glioma</td>\n",
       "      <td>GSE89567</td>\n",
       "      <td>brain</td>\n",
       "      <td>GSE89567_MGH42_P7_A03</td>\n",
       "    </tr>\n",
       "    <tr>\n",
       "      <th>MGH42_P7_A04</th>\n",
       "      <td>IDH-Mutation_glioma</td>\n",
       "      <td>GSE89567</td>\n",
       "      <td>brain</td>\n",
       "      <td>GSE89567_MGH42_P7_A04</td>\n",
       "    </tr>\n",
       "    <tr>\n",
       "      <th>MGH42_P7_A05</th>\n",
       "      <td>IDH-Mutation_glioma</td>\n",
       "      <td>GSE89567</td>\n",
       "      <td>brain</td>\n",
       "      <td>GSE89567_MGH42_P7_A05</td>\n",
       "    </tr>\n",
       "    <tr>\n",
       "      <th>...</th>\n",
       "      <td>...</td>\n",
       "      <td>...</td>\n",
       "      <td>...</td>\n",
       "      <td>...</td>\n",
       "    </tr>\n",
       "    <tr>\n",
       "      <th>MGH107neg_P2_C05</th>\n",
       "      <td>IDH-Mutation_glioma</td>\n",
       "      <td>GSE89567</td>\n",
       "      <td>brain</td>\n",
       "      <td>GSE89567_MGH107neg_P2_C05</td>\n",
       "    </tr>\n",
       "    <tr>\n",
       "      <th>MGH107pos_P2_D07</th>\n",
       "      <td>IDH-Mutation_glioma</td>\n",
       "      <td>GSE89567</td>\n",
       "      <td>brain</td>\n",
       "      <td>GSE89567_MGH107pos_P2_D07</td>\n",
       "    </tr>\n",
       "    <tr>\n",
       "      <th>MGH107neg_P1_E01</th>\n",
       "      <td>IDH-Mutation_glioma</td>\n",
       "      <td>GSE89567</td>\n",
       "      <td>brain</td>\n",
       "      <td>GSE89567_MGH107neg_P1_E01</td>\n",
       "    </tr>\n",
       "    <tr>\n",
       "      <th>MGH107pos_P2_G09</th>\n",
       "      <td>IDH-Mutation_glioma</td>\n",
       "      <td>GSE89567</td>\n",
       "      <td>brain</td>\n",
       "      <td>GSE89567_MGH107pos_P2_G09</td>\n",
       "    </tr>\n",
       "    <tr>\n",
       "      <th>MGH107neg_P1_D06</th>\n",
       "      <td>IDH-Mutation_glioma</td>\n",
       "      <td>GSE89567</td>\n",
       "      <td>brain</td>\n",
       "      <td>GSE89567_MGH107neg_P1_D06</td>\n",
       "    </tr>\n",
       "  </tbody>\n",
       "</table>\n",
       "<p>6341 rows × 4 columns</p>\n",
       "</div>"
      ],
      "text/plain": [
       "                          cancer_type   dataset tissue  \\\n",
       "MGH42_P7_A01      IDH-Mutation_glioma  GSE89567  brain   \n",
       "MGH42_P7_A02      IDH-Mutation_glioma  GSE89567  brain   \n",
       "MGH42_P7_A03      IDH-Mutation_glioma  GSE89567  brain   \n",
       "MGH42_P7_A04      IDH-Mutation_glioma  GSE89567  brain   \n",
       "MGH42_P7_A05      IDH-Mutation_glioma  GSE89567  brain   \n",
       "...                               ...       ...    ...   \n",
       "MGH107neg_P2_C05  IDH-Mutation_glioma  GSE89567  brain   \n",
       "MGH107pos_P2_D07  IDH-Mutation_glioma  GSE89567  brain   \n",
       "MGH107neg_P1_E01  IDH-Mutation_glioma  GSE89567  brain   \n",
       "MGH107pos_P2_G09  IDH-Mutation_glioma  GSE89567  brain   \n",
       "MGH107neg_P1_D06  IDH-Mutation_glioma  GSE89567  brain   \n",
       "\n",
       "                                uni_barcode  \n",
       "MGH42_P7_A01          GSE89567_MGH42_P7_A01  \n",
       "MGH42_P7_A02          GSE89567_MGH42_P7_A02  \n",
       "MGH42_P7_A03          GSE89567_MGH42_P7_A03  \n",
       "MGH42_P7_A04          GSE89567_MGH42_P7_A04  \n",
       "MGH42_P7_A05          GSE89567_MGH42_P7_A05  \n",
       "...                                     ...  \n",
       "MGH107neg_P2_C05  GSE89567_MGH107neg_P2_C05  \n",
       "MGH107pos_P2_D07  GSE89567_MGH107pos_P2_D07  \n",
       "MGH107neg_P1_E01  GSE89567_MGH107neg_P1_E01  \n",
       "MGH107pos_P2_G09  GSE89567_MGH107pos_P2_G09  \n",
       "MGH107neg_P1_D06  GSE89567_MGH107neg_P1_D06  \n",
       "\n",
       "[6341 rows x 4 columns]"
      ]
     },
     "execution_count": 9,
     "metadata": {},
     "output_type": "execute_result"
    }
   ],
   "source": [
    "# Create an observation metric info to store related features\n",
    "obs_metrics = pd.DataFrame(index=sample.obs_names) ## Get the identifiers\n",
    "\n",
    "obs_metrics['cancer_type'] = 'IDH-Mutation_glioma'\n",
    "obs_metrics['dataset'] = 'GSE89567'\n",
    "obs_metrics['tissue'] = 'brain'\n",
    "obs_metrics['uni_barcode'] = obs_metrics['dataset'] + '_' + obs_metrics.index.astype(str)\n",
    "\n",
    "obs_metrics"
   ]
  },
  {
   "cell_type": "code",
   "execution_count": 21,
   "metadata": {},
   "outputs": [
    {
     "name": "stdout",
     "output_type": "stream",
     "text": [
      "                                   cancer_type   dataset tissue  \\\n",
      "uni_barcode                                                       \n",
      "GSE89567_MGH42_P7_A01      IDH-Mutation_glioma  GSE89567  brain   \n",
      "GSE89567_MGH42_P7_A02      IDH-Mutation_glioma  GSE89567  brain   \n",
      "GSE89567_MGH42_P7_A03      IDH-Mutation_glioma  GSE89567  brain   \n",
      "GSE89567_MGH42_P7_A04      IDH-Mutation_glioma  GSE89567  brain   \n",
      "GSE89567_MGH42_P7_A05      IDH-Mutation_glioma  GSE89567  brain   \n",
      "...                                        ...       ...    ...   \n",
      "GSE89567_MGH107neg_P2_C05  IDH-Mutation_glioma  GSE89567  brain   \n",
      "GSE89567_MGH107pos_P2_D07  IDH-Mutation_glioma  GSE89567  brain   \n",
      "GSE89567_MGH107neg_P1_E01  IDH-Mutation_glioma  GSE89567  brain   \n",
      "GSE89567_MGH107pos_P2_G09  IDH-Mutation_glioma  GSE89567  brain   \n",
      "GSE89567_MGH107neg_P1_D06  IDH-Mutation_glioma  GSE89567  brain   \n",
      "\n",
      "                                         uni_barcode  \n",
      "uni_barcode                                           \n",
      "GSE89567_MGH42_P7_A01          GSE89567_MGH42_P7_A01  \n",
      "GSE89567_MGH42_P7_A02          GSE89567_MGH42_P7_A02  \n",
      "GSE89567_MGH42_P7_A03          GSE89567_MGH42_P7_A03  \n",
      "GSE89567_MGH42_P7_A04          GSE89567_MGH42_P7_A04  \n",
      "GSE89567_MGH42_P7_A05          GSE89567_MGH42_P7_A05  \n",
      "...                                              ...  \n",
      "GSE89567_MGH107neg_P2_C05  GSE89567_MGH107neg_P2_C05  \n",
      "GSE89567_MGH107pos_P2_D07  GSE89567_MGH107pos_P2_D07  \n",
      "GSE89567_MGH107neg_P1_E01  GSE89567_MGH107neg_P1_E01  \n",
      "GSE89567_MGH107pos_P2_G09  GSE89567_MGH107pos_P2_G09  \n",
      "GSE89567_MGH107neg_P1_D06  GSE89567_MGH107neg_P1_D06  \n",
      "\n",
      "[6341 rows x 4 columns]\n"
     ]
    }
   ],
   "source": [
    "# Add the obs_metrics to the AnnData object\n",
    "sample.obs = obs_metrics\n",
    "sample.obs.set_index(\"uni_barcode\", drop=False, inplace=True)\n",
    "print(sample.obs)\n",
    "\n",
    "# save the anndata object\n",
    "sample.write_h5ad('/scratch/user/s4543064/xiaohan-john-project/write/GSE89567/GSE89567_IDH_A_processed_data_uni.h5ad', compression=\"gzip\")"
   ]
  },
  {
   "cell_type": "code",
   "execution_count": 22,
   "metadata": {},
   "outputs": [
    {
     "name": "stdout",
     "output_type": "stream",
     "text": [
      "AnnData object with n_obs × n_vars = 6341 × 23686\n",
      "    obs: 'cancer_type', 'dataset', 'tissue', 'uni_barcode'\n",
      "    var: 'gene_symbols'\n"
     ]
    }
   ],
   "source": [
    "output = '/scratch/user/s4543064/xiaohan-john-project/write/GSE89567/GSE89567_IDH_A_processed_data_uni.h5ad'\n",
    "sample = anndata.read_h5ad(output)\n",
    "print(sample)"
   ]
  }
 ],
 "metadata": {
  "kernelspec": {
   "display_name": "Python 3 (ipykernel)",
   "language": "python",
   "name": "python3"
  },
  "language_info": {
   "codemirror_mode": {
    "name": "ipython",
    "version": 3
   },
   "file_extension": ".py",
   "mimetype": "text/x-python",
   "name": "python",
   "nbconvert_exporter": "python",
   "pygments_lexer": "ipython3",
   "version": "3.8.18"
  }
 },
 "nbformat": 4,
 "nbformat_minor": 2
}
