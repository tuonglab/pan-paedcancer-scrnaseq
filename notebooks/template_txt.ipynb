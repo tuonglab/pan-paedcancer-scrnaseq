{
 "cells": [
  {
   "cell_type": "markdown",
   "metadata": {},
   "source": [
    "### 1. General info of dataset GSE102130\n",
    "\n",
    "This is the Jupyter Notebook for dataset GSE102130. Its dataset includes an overall big txt file. As seen below, in the txt file, each row is a gene and each column is a cell.\n",
    "\n",
    "Thus, we need to transform this txt file and generate an overall AnnData object for all samples. \n",
    "\n"
   ]
  },
  {
   "cell_type": "code",
   "execution_count": null,
   "metadata": {},
   "outputs": [],
   "source": [
    "# Environment setup\n",
    "import numpy as np\n",
    "import pandas as pd\n",
    "import scanpy as sc\n",
    "import anndata as anndata\n",
    "import scipy"
   ]
  },
  {
   "cell_type": "code",
   "execution_count": null,
   "metadata": {},
   "outputs": [],
   "source": [
    "# inspect the dataset\n",
    "path = '/scratch/user/s4543064/Xiaohan_Summer_Research/data/GSE102130/GSE102130_K27Mproject.RSEM.vh20170621.txt'\n",
    "input = pd.read_csv(path, sep='\\t', index_col=0) # the first column contains gene names and is the index\n",
    "\n",
    "print(input.head()) \n",
    "print(input.shape) # (23686 rows, 4058 columns)"
   ]
  },
  {
   "cell_type": "markdown",
   "metadata": {},
   "source": [
    "As shown above, the dataset contains 4058 cells and 23686 genes."
   ]
  },
  {
   "cell_type": "markdown",
   "metadata": {},
   "source": [
    "### 2. Overall AnnData object of the dataset\n",
    "\n",
    "<span style=\"color:red\">**IMPORTANT:**</span> transpose the DataFrame.values to match the AnnData.X\n",
    "\n",
    "1. `DataFrame.columns`: cell barcodes, which go into `.obs`\n",
    "2. `DataFrame.index`: gene names, `.var`\n",
    "3. `DataFrame.values`: the transpose of the expression matrix, `.X`"
   ]
  },
  {
   "cell_type": "code",
   "execution_count": null,
   "metadata": {},
   "outputs": [],
   "source": [
    "matrix = scipy.sparse.csr_matrix(input.values.T)\n",
    "obs_name = pd.DataFrame(index=input.columns)\n",
    "var_name = pd.DataFrame(index=input.index)\n",
    "var_name.rename(columns={'Gene': 'gene_symbols'}, inplace=True)\n",
    "\n",
    "sample = anndata.AnnData(X=matrix, obs=obs_name, var=var_name)\n",
    "print(sample)\n",
    "\n",
    "# Create an observation metric info to store related features\n",
    "obs_metrics = pd.DataFrame(index=sample.obs_names) ## Get the identifiers\n",
    "obs_metrics['cancer_type'] = 'H3K27M-glioma'\n",
    "obs_metrics['dataset'] = 'GSE102130'\n",
    "obs_metrics['tissue'] = 'brain'\n",
    "obs_metrics['sample_barcode'] = 'GSE102130_K27Mproject.RSEM.vh20170621'\n",
    "obs_metrics['uni_barcode'] = obs_metrics['dataset'] + '_' + obs_metrics.index.astype(str)\n",
    "\n",
    "sample.obs = obs_metrics\n",
    "sample.obs.set_index(\"uni_barcode\", drop=False, inplace=True)\n",
    "print(sample)\n",
    "\n",
    "# save the anndata object\n",
    "sample.write_h5ad('/scratch/user/s4543064/xiaohan-john-project/write/GSE102130/GSE102130_K27Mproject.RSEM.vh20170621_uni.h5ad', compression=\"gzip\")"
   ]
  },
  {
   "cell_type": "code",
   "execution_count": null,
   "metadata": {},
   "outputs": [],
   "source": [
    "sample.obs"
   ]
  },
  {
   "cell_type": "markdown",
   "metadata": {},
   "source": [
    "### 3. Confirmation of created AnnData object"
   ]
  },
  {
   "cell_type": "code",
   "execution_count": null,
   "metadata": {},
   "outputs": [],
   "source": [
    "output = '/scratch/user/s4543064/xiaohan-john-project/write/GSE102130/GSE102130_K27Mproject.RSEM.vh20170621_uni.h5ad'\n",
    "sample = anndata.read_h5ad(output)\n",
    "print(sample)"
   ]
  },
  {
   "cell_type": "code",
   "execution_count": null,
   "metadata": {},
   "outputs": [],
   "source": [
    "sample.var"
   ]
  },
  {
   "cell_type": "code",
   "execution_count": null,
   "metadata": {},
   "outputs": [],
   "source": [
    "sample.obs"
   ]
  },
  {
   "cell_type": "markdown",
   "metadata": {},
   "source": [
    "### 4. Convert AnnData objects to SingleCellExperiment objects"
   ]
  },
  {
   "cell_type": "code",
   "execution_count": null,
   "metadata": {},
   "outputs": [],
   "source": [
    "from pathlib import Path\n",
    "\n",
    "import anndata2ri\n",
    "import rpy2.robjects as robjects\n",
    "from rpy2.robjects import r\n",
    "from rpy2.robjects.conversion import localconverter\n",
    "\n",
    "# Specify directory paths\n",
    "write_directory = Path('/scratch/user/s4543064/xiaohan-john-project/write/GSE102130')\n",
    "\n",
    "# Loop through all files in the directory\n",
    "for file in write_directory.iterdir():\n",
    "    sample_name = file.stem\n",
    "    if \"_uni.h5ad\" in file.name:\n",
    "        sample_anndata = anndata.read_h5ad(file)\n",
    "        sample_sce_file = sample_name + \".rds\"\n",
    "\n",
    "        with localconverter(anndata2ri.converter):\n",
    "            sample_sce = anndata2ri.py2rpy(sample_anndata)\n",
    "        print(sample_sce)\n",
    "        \n",
    "        # Save the sce object in .rds file\n",
    "        robjects.globalenv[\"sample_sce\"] = sample_sce\n",
    "        sample_sce_path = write_directory / sample_sce_file\n",
    "        robjects.r(\"saveRDS(sample_sce, file='{}')\".format(sample_sce_path))"
   ]
  }
 ],
 "metadata": {
  "kernelspec": {
   "display_name": "Python 3 (ipykernel)",
   "language": "python",
   "name": "python3"
  },
  "language_info": {
   "codemirror_mode": {
    "name": "ipython",
    "version": 3
   },
   "file_extension": ".py",
   "mimetype": "text/x-python",
   "name": "python",
   "nbconvert_exporter": "python",
   "pygments_lexer": "ipython3",
   "version": "3.12.2"
  }
 },
 "nbformat": 4,
 "nbformat_minor": 2
}
