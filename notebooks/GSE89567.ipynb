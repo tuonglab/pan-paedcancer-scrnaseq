{
 "cells": [
  {
   "cell_type": "markdown",
   "metadata": {},
   "source": [
    "### 1. General info of dataset GSE89567\n",
    "\n",
    "This is the Jupyter Notebook for dataset GSE89567. Its dataset includes an overall big txt file. As seen below, in the txt file, each row is a gene and each column is a cell.\n",
    "\n",
    "Thus, we need to transform this txt file and generate an overall AnnData object for all samples. "
   ]
  },
  {
   "cell_type": "code",
   "execution_count": 1,
   "metadata": {},
   "outputs": [],
   "source": [
    "# Environment setup\n",
    "import numpy as np\n",
    "import pandas as pd\n",
    "import scanpy as sc\n",
    "import anndata as anndata\n",
    "import scipy"
   ]
  },
  {
   "cell_type": "code",
   "execution_count": 3,
   "metadata": {},
   "outputs": [
    {
     "name": "stdout",
     "output_type": "stream",
     "text": [
      "            MGH42_P7_A01  MGH42_P7_A02  MGH42_P7_A03  MGH42_P7_A04  \\\n",
      "'A1BG'            1.1928      0.000000       0.00000        0.0000   \n",
      "'A1BG-AS1'        0.0000      0.000000       0.00000        0.0000   \n",
      "'A1CF'            0.0000      0.094912       0.00000        0.0000   \n",
      "'A2M'             7.0439      7.609500       0.77062        7.6146   \n",
      "'A2M-AS1'         0.0000      0.000000       0.00000        0.0000   \n",
      "\n",
      "            MGH42_P7_A05  MGH42_P7_A07  MGH42_P7_A09  MGH42_P7_A11  \\\n",
      "'A1BG'            0.0000       0.66903       0.00000        0.0000   \n",
      "'A1BG-AS1'        0.0000       0.00000       0.00000        0.0000   \n",
      "'A1CF'            0.0000       0.00000       0.00000        0.0000   \n",
      "'A2M'             0.0000       0.00000       0.27501        8.1624   \n",
      "'A2M-AS1'         2.0339       2.39420       0.00000        0.0000   \n",
      "\n",
      "            MGH42_P7_A12  MGH42_P7_B02  ...  MGH107neg_P2_E06  \\\n",
      "'A1BG'            0.0000        0.0000  ...               0.0   \n",
      "'A1BG-AS1'        0.0000        0.0000  ...               0.0   \n",
      "'A1CF'            0.0000        0.0000  ...               0.0   \n",
      "'A2M'             6.5655        6.9658  ...               0.0   \n",
      "'A2M-AS1'         0.0000        0.0000  ...               0.0   \n",
      "\n",
      "            MGH107pos_P2_B03  MGH107neg_P1_F03  MGH107neg_P1_G06  \\\n",
      "'A1BG'                0.0000               0.0               0.0   \n",
      "'A1BG-AS1'            0.0000               0.0               0.0   \n",
      "'A1CF'                0.0000               0.0               0.0   \n",
      "'A2M'                 8.6046               0.0               0.0   \n",
      "'A2M-AS1'             0.0000               0.0               0.0   \n",
      "\n",
      "            MGH107neg_P2_H03  MGH107neg_P2_C05  MGH107pos_P2_D07  \\\n",
      "'A1BG'                   0.0           0.00000            0.0000   \n",
      "'A1BG-AS1'               0.0           0.83996            0.0000   \n",
      "'A1CF'                   0.0           0.00000            0.0000   \n",
      "'A2M'                    0.0           0.00000            9.5281   \n",
      "'A2M-AS1'                0.0           0.00000            0.0000   \n",
      "\n",
      "            MGH107neg_P1_E01  MGH107pos_P2_G09  MGH107neg_P1_D06  \n",
      "'A1BG'                2.4772            0.0000               0.0  \n",
      "'A1BG-AS1'            0.0000            0.0000               0.0  \n",
      "'A1CF'                0.0000            0.0000               0.0  \n",
      "'A2M'                 0.0000            6.8999               0.0  \n",
      "'A2M-AS1'             0.0000            0.0000               0.0  \n",
      "\n",
      "[5 rows x 6341 columns]\n",
      "(23686, 6341)\n"
     ]
    }
   ],
   "source": [
    "# inspect the dataset\n",
    "path = '/scratch/user/s4543064/xiaohan-john-project/data/GSE89567/GSE89567_IDH_A_processed_data.txt'\n",
    "input = pd.read_csv(path, sep='\\t', index_col=0) # the first column contains gene names and is the index\n",
    "\n",
    "print(input.head()) \n",
    "print(input.shape) # (23686, 6341)"
   ]
  },
  {
   "cell_type": "markdown",
   "metadata": {},
   "source": [
    "<span style=\"color:red\">**PROBLEM:**</span> the gene names are stored as 'GENE_SYMBOL' (with a quotation mark)"
   ]
  },
  {
   "cell_type": "code",
   "execution_count": 4,
   "metadata": {},
   "outputs": [
    {
     "name": "stdout",
     "output_type": "stream",
     "text": [
      "          MGH42_P7_A01  MGH42_P7_A02  MGH42_P7_A03  MGH42_P7_A04  \\\n",
      "A1BG            1.1928      0.000000       0.00000        0.0000   \n",
      "A1BG-AS1        0.0000      0.000000       0.00000        0.0000   \n",
      "A1CF            0.0000      0.094912       0.00000        0.0000   \n",
      "A2M             7.0439      7.609500       0.77062        7.6146   \n",
      "A2M-AS1         0.0000      0.000000       0.00000        0.0000   \n",
      "\n",
      "          MGH42_P7_A05  MGH42_P7_A07  MGH42_P7_A09  MGH42_P7_A11  \\\n",
      "A1BG            0.0000       0.66903       0.00000        0.0000   \n",
      "A1BG-AS1        0.0000       0.00000       0.00000        0.0000   \n",
      "A1CF            0.0000       0.00000       0.00000        0.0000   \n",
      "A2M             0.0000       0.00000       0.27501        8.1624   \n",
      "A2M-AS1         2.0339       2.39420       0.00000        0.0000   \n",
      "\n",
      "          MGH42_P7_A12  MGH42_P7_B02  ...  MGH107neg_P2_E06  MGH107pos_P2_B03  \\\n",
      "A1BG            0.0000        0.0000  ...               0.0            0.0000   \n",
      "A1BG-AS1        0.0000        0.0000  ...               0.0            0.0000   \n",
      "A1CF            0.0000        0.0000  ...               0.0            0.0000   \n",
      "A2M             6.5655        6.9658  ...               0.0            8.6046   \n",
      "A2M-AS1         0.0000        0.0000  ...               0.0            0.0000   \n",
      "\n",
      "          MGH107neg_P1_F03  MGH107neg_P1_G06  MGH107neg_P2_H03  \\\n",
      "A1BG                   0.0               0.0               0.0   \n",
      "A1BG-AS1               0.0               0.0               0.0   \n",
      "A1CF                   0.0               0.0               0.0   \n",
      "A2M                    0.0               0.0               0.0   \n",
      "A2M-AS1                0.0               0.0               0.0   \n",
      "\n",
      "          MGH107neg_P2_C05  MGH107pos_P2_D07  MGH107neg_P1_E01  \\\n",
      "A1BG               0.00000            0.0000            2.4772   \n",
      "A1BG-AS1           0.83996            0.0000            0.0000   \n",
      "A1CF               0.00000            0.0000            0.0000   \n",
      "A2M                0.00000            9.5281            0.0000   \n",
      "A2M-AS1            0.00000            0.0000            0.0000   \n",
      "\n",
      "          MGH107pos_P2_G09  MGH107neg_P1_D06  \n",
      "A1BG                0.0000               0.0  \n",
      "A1BG-AS1            0.0000               0.0  \n",
      "A1CF                0.0000               0.0  \n",
      "A2M                 6.8999               0.0  \n",
      "A2M-AS1             0.0000               0.0  \n",
      "\n",
      "[5 rows x 6341 columns]\n"
     ]
    }
   ],
   "source": [
    "# Get rid of the extra quotation marks for gene symbols\n",
    "input.index = [gene[1:-1] for gene in input.index]\n",
    "print(input.head()) "
   ]
  },
  {
   "cell_type": "markdown",
   "metadata": {},
   "source": [
    "As shown above, the dataset contains 6341 cells and 23686 genes."
   ]
  },
  {
   "cell_type": "markdown",
   "metadata": {},
   "source": [
    "### 2. Overall AnnData object of the dataset\n",
    "\n",
    "<span style=\"color:red\">**IMPORTANT:**</span> transpose the DataFrame.values to match the AnnData.X\n",
    "\n",
    "1. `DataFrame.columns`: cell barcodes, which go into `.obs`\n",
    "2. `DataFrame.index`: gene names, `.var`\n",
    "3. `DataFrame.values`: the transpose of the expression matrix, `.X`"
   ]
  },
  {
   "cell_type": "code",
   "execution_count": 5,
   "metadata": {},
   "outputs": [
    {
     "name": "stderr",
     "output_type": "stream",
     "text": [
      "/home/s4543064/miniforge3/envs/test/lib/python3.12/site-packages/anndata/_core/anndata.py:183: ImplicitModificationWarning: Transforming to str index.\n",
      "  warnings.warn(\"Transforming to str index.\", ImplicitModificationWarning)\n"
     ]
    },
    {
     "name": "stdout",
     "output_type": "stream",
     "text": [
      "AnnData object with n_obs × n_vars = 6341 × 23686\n",
      "    obs: 'cancer_type', 'dataset', 'tissue', 'sample_barcode', 'uni_barcode'\n",
      "    var: 'gene_symbols'\n"
     ]
    }
   ],
   "source": [
    "matrix = scipy.sparse.csr_matrix(input.values.T)\n",
    "obs_name = pd.DataFrame(index=input.columns)\n",
    "var_name = pd.DataFrame(input.index, columns=['gene_symbols'])\n",
    "\n",
    "sample = anndata.AnnData(X=matrix, obs=obs_name, var=var_name)\n",
    "\n",
    "# Create an observation metric info to store related features\n",
    "obs_metrics = pd.DataFrame(index=sample.obs_names) ## Get the identifiers\n",
    "\n",
    "obs_metrics['cancer_type'] = 'IDH-Mutation_glioma'\n",
    "obs_metrics['dataset'] = 'GSE89567'\n",
    "obs_metrics['tissue'] = 'brain'\n",
    "obs_metrics['sample_barcode'] = 'GSE89567'\n",
    "obs_metrics['uni_barcode'] = obs_metrics['dataset'] + '_' + obs_metrics.index.astype(str)\n",
    "\n",
    "sample.obs = obs_metrics\n",
    "sample.obs.set_index(\"uni_barcode\", drop=False, inplace=True)\n",
    "print(sample)\n",
    "\n",
    "# save the anndata object\n",
    "sample.write_h5ad('/scratch/user/s4543064/xiaohan-john-project/write/GSE89567/GSE89567_IDH_A_processed_data_uni.h5ad', compression=\"gzip\")"
   ]
  },
  {
   "cell_type": "markdown",
   "metadata": {},
   "source": [
    "### 3. Confirmation of created AnnData object"
   ]
  },
  {
   "cell_type": "code",
   "execution_count": 4,
   "metadata": {},
   "outputs": [
    {
     "name": "stdout",
     "output_type": "stream",
     "text": [
      "AnnData object with n_obs × n_vars = 6341 × 23686\n",
      "    obs: 'cancer_type', 'dataset', 'tissue', 'sample_barcode', 'uni_barcode'\n"
     ]
    }
   ],
   "source": [
    "output = '/scratch/user/s4543064/xiaohan-john-project/write/GSE89567/GSE89567_IDH_A_processed_data_uni.h5ad'\n",
    "sample = anndata.read_h5ad(output)\n",
    "sample.var.set_index('gene_symbols', drop=True, inplace=True)\n",
    "print(sample)"
   ]
  },
  {
   "cell_type": "code",
   "execution_count": 7,
   "metadata": {},
   "outputs": [],
   "source": [
    "sample.write_h5ad(output, compression=\"gzip\")"
   ]
  },
  {
   "cell_type": "code",
   "execution_count": 5,
   "metadata": {},
   "outputs": [
    {
     "data": {
      "text/html": [
       "<div>\n",
       "<style scoped>\n",
       "    .dataframe tbody tr th:only-of-type {\n",
       "        vertical-align: middle;\n",
       "    }\n",
       "\n",
       "    .dataframe tbody tr th {\n",
       "        vertical-align: top;\n",
       "    }\n",
       "\n",
       "    .dataframe thead th {\n",
       "        text-align: right;\n",
       "    }\n",
       "</style>\n",
       "<table border=\"1\" class=\"dataframe\">\n",
       "  <thead>\n",
       "    <tr style=\"text-align: right;\">\n",
       "      <th></th>\n",
       "    </tr>\n",
       "    <tr>\n",
       "      <th>gene_symbols</th>\n",
       "    </tr>\n",
       "  </thead>\n",
       "  <tbody>\n",
       "    <tr>\n",
       "      <th>A1BG</th>\n",
       "    </tr>\n",
       "    <tr>\n",
       "      <th>A1BG-AS1</th>\n",
       "    </tr>\n",
       "    <tr>\n",
       "      <th>A1CF</th>\n",
       "    </tr>\n",
       "    <tr>\n",
       "      <th>A2M</th>\n",
       "    </tr>\n",
       "    <tr>\n",
       "      <th>A2M-AS1</th>\n",
       "    </tr>\n",
       "    <tr>\n",
       "      <th>...</th>\n",
       "    </tr>\n",
       "    <tr>\n",
       "      <th>ZYG11A</th>\n",
       "    </tr>\n",
       "    <tr>\n",
       "      <th>ZYG11B</th>\n",
       "    </tr>\n",
       "    <tr>\n",
       "      <th>ZYX</th>\n",
       "    </tr>\n",
       "    <tr>\n",
       "      <th>ZZEF1</th>\n",
       "    </tr>\n",
       "    <tr>\n",
       "      <th>ZZZ3</th>\n",
       "    </tr>\n",
       "  </tbody>\n",
       "</table>\n",
       "<p>23686 rows × 0 columns</p>\n",
       "</div>"
      ],
      "text/plain": [
       "Empty DataFrame\n",
       "Columns: []\n",
       "Index: [A1BG, A1BG-AS1, A1CF, A2M, A2M-AS1, A2ML1, A2MP1, A4GALT, A4GNT, AA06, AAAS, AACS, AACSP1, AADAC, AADACL2, AADACL3, AADACL4, AADAT, AAED1, AAGAB, AAK1, AAMDC, AAMP, AANAT, AAR2, AARD, AARS, AARS2, AARSD1, AASDH, AASDHPPT, AASS, AATF, AATK, AATK-AS1, ABAT, ABCA1, ABCA10, ABCA11P, ABCA12, ABCA13, ABCA17P, ABCA2, ABCA3, ABCA4, ABCA5, ABCA6, ABCA7, ABCA8, ABCA9, ABCB1, ABCB10, ABCB11, ABCB4, ABCB5, ABCB6, ABCB7, ABCB8, ABCB9, ABCC1, ABCC10, ABCC11, ABCC12, ABCC13, ABCC2, ABCC3, ABCC4, ABCC5, ABCC5-AS1, ABCC6, ABCC6P1, ABCC6P2, ABCC8, ABCC9, ABCD1, ABCD2, ABCD3, ABCD4, ABCE1, ABCF1, ABCF2, ABCF3, ABCG1, ABCG2, ABCG4, ABCG5, ABCG8, ABHD1, ABHD10, ABHD11, ABHD12, ABHD12B, ABHD13, ABHD14A, ABHD14A-ACY1, ABHD14B, ABHD15, ABHD16A, ABHD16B, ABHD2, ...]\n",
       "\n",
       "[23686 rows x 0 columns]"
      ]
     },
     "execution_count": 5,
     "metadata": {},
     "output_type": "execute_result"
    }
   ],
   "source": [
    "sample.var"
   ]
  },
  {
   "cell_type": "code",
   "execution_count": 6,
   "metadata": {},
   "outputs": [
    {
     "data": {
      "text/html": [
       "<div>\n",
       "<style scoped>\n",
       "    .dataframe tbody tr th:only-of-type {\n",
       "        vertical-align: middle;\n",
       "    }\n",
       "\n",
       "    .dataframe tbody tr th {\n",
       "        vertical-align: top;\n",
       "    }\n",
       "\n",
       "    .dataframe thead th {\n",
       "        text-align: right;\n",
       "    }\n",
       "</style>\n",
       "<table border=\"1\" class=\"dataframe\">\n",
       "  <thead>\n",
       "    <tr style=\"text-align: right;\">\n",
       "      <th></th>\n",
       "      <th>cancer_type</th>\n",
       "      <th>dataset</th>\n",
       "      <th>tissue</th>\n",
       "      <th>sample_barcode</th>\n",
       "      <th>uni_barcode</th>\n",
       "    </tr>\n",
       "    <tr>\n",
       "      <th>uni_barcode</th>\n",
       "      <th></th>\n",
       "      <th></th>\n",
       "      <th></th>\n",
       "      <th></th>\n",
       "      <th></th>\n",
       "    </tr>\n",
       "  </thead>\n",
       "  <tbody>\n",
       "    <tr>\n",
       "      <th>GSE89567_MGH42_P7_A01</th>\n",
       "      <td>IDH-Mutation_glioma</td>\n",
       "      <td>GSE89567</td>\n",
       "      <td>brain</td>\n",
       "      <td>GSE89567</td>\n",
       "      <td>GSE89567_MGH42_P7_A01</td>\n",
       "    </tr>\n",
       "    <tr>\n",
       "      <th>GSE89567_MGH42_P7_A02</th>\n",
       "      <td>IDH-Mutation_glioma</td>\n",
       "      <td>GSE89567</td>\n",
       "      <td>brain</td>\n",
       "      <td>GSE89567</td>\n",
       "      <td>GSE89567_MGH42_P7_A02</td>\n",
       "    </tr>\n",
       "    <tr>\n",
       "      <th>GSE89567_MGH42_P7_A03</th>\n",
       "      <td>IDH-Mutation_glioma</td>\n",
       "      <td>GSE89567</td>\n",
       "      <td>brain</td>\n",
       "      <td>GSE89567</td>\n",
       "      <td>GSE89567_MGH42_P7_A03</td>\n",
       "    </tr>\n",
       "    <tr>\n",
       "      <th>GSE89567_MGH42_P7_A04</th>\n",
       "      <td>IDH-Mutation_glioma</td>\n",
       "      <td>GSE89567</td>\n",
       "      <td>brain</td>\n",
       "      <td>GSE89567</td>\n",
       "      <td>GSE89567_MGH42_P7_A04</td>\n",
       "    </tr>\n",
       "    <tr>\n",
       "      <th>GSE89567_MGH42_P7_A05</th>\n",
       "      <td>IDH-Mutation_glioma</td>\n",
       "      <td>GSE89567</td>\n",
       "      <td>brain</td>\n",
       "      <td>GSE89567</td>\n",
       "      <td>GSE89567_MGH42_P7_A05</td>\n",
       "    </tr>\n",
       "    <tr>\n",
       "      <th>...</th>\n",
       "      <td>...</td>\n",
       "      <td>...</td>\n",
       "      <td>...</td>\n",
       "      <td>...</td>\n",
       "      <td>...</td>\n",
       "    </tr>\n",
       "    <tr>\n",
       "      <th>GSE89567_MGH107neg_P2_C05</th>\n",
       "      <td>IDH-Mutation_glioma</td>\n",
       "      <td>GSE89567</td>\n",
       "      <td>brain</td>\n",
       "      <td>GSE89567</td>\n",
       "      <td>GSE89567_MGH107neg_P2_C05</td>\n",
       "    </tr>\n",
       "    <tr>\n",
       "      <th>GSE89567_MGH107pos_P2_D07</th>\n",
       "      <td>IDH-Mutation_glioma</td>\n",
       "      <td>GSE89567</td>\n",
       "      <td>brain</td>\n",
       "      <td>GSE89567</td>\n",
       "      <td>GSE89567_MGH107pos_P2_D07</td>\n",
       "    </tr>\n",
       "    <tr>\n",
       "      <th>GSE89567_MGH107neg_P1_E01</th>\n",
       "      <td>IDH-Mutation_glioma</td>\n",
       "      <td>GSE89567</td>\n",
       "      <td>brain</td>\n",
       "      <td>GSE89567</td>\n",
       "      <td>GSE89567_MGH107neg_P1_E01</td>\n",
       "    </tr>\n",
       "    <tr>\n",
       "      <th>GSE89567_MGH107pos_P2_G09</th>\n",
       "      <td>IDH-Mutation_glioma</td>\n",
       "      <td>GSE89567</td>\n",
       "      <td>brain</td>\n",
       "      <td>GSE89567</td>\n",
       "      <td>GSE89567_MGH107pos_P2_G09</td>\n",
       "    </tr>\n",
       "    <tr>\n",
       "      <th>GSE89567_MGH107neg_P1_D06</th>\n",
       "      <td>IDH-Mutation_glioma</td>\n",
       "      <td>GSE89567</td>\n",
       "      <td>brain</td>\n",
       "      <td>GSE89567</td>\n",
       "      <td>GSE89567_MGH107neg_P1_D06</td>\n",
       "    </tr>\n",
       "  </tbody>\n",
       "</table>\n",
       "<p>6341 rows × 5 columns</p>\n",
       "</div>"
      ],
      "text/plain": [
       "                                   cancer_type   dataset tissue  \\\n",
       "uni_barcode                                                       \n",
       "GSE89567_MGH42_P7_A01      IDH-Mutation_glioma  GSE89567  brain   \n",
       "GSE89567_MGH42_P7_A02      IDH-Mutation_glioma  GSE89567  brain   \n",
       "GSE89567_MGH42_P7_A03      IDH-Mutation_glioma  GSE89567  brain   \n",
       "GSE89567_MGH42_P7_A04      IDH-Mutation_glioma  GSE89567  brain   \n",
       "GSE89567_MGH42_P7_A05      IDH-Mutation_glioma  GSE89567  brain   \n",
       "...                                        ...       ...    ...   \n",
       "GSE89567_MGH107neg_P2_C05  IDH-Mutation_glioma  GSE89567  brain   \n",
       "GSE89567_MGH107pos_P2_D07  IDH-Mutation_glioma  GSE89567  brain   \n",
       "GSE89567_MGH107neg_P1_E01  IDH-Mutation_glioma  GSE89567  brain   \n",
       "GSE89567_MGH107pos_P2_G09  IDH-Mutation_glioma  GSE89567  brain   \n",
       "GSE89567_MGH107neg_P1_D06  IDH-Mutation_glioma  GSE89567  brain   \n",
       "\n",
       "                          sample_barcode                uni_barcode  \n",
       "uni_barcode                                                          \n",
       "GSE89567_MGH42_P7_A01           GSE89567      GSE89567_MGH42_P7_A01  \n",
       "GSE89567_MGH42_P7_A02           GSE89567      GSE89567_MGH42_P7_A02  \n",
       "GSE89567_MGH42_P7_A03           GSE89567      GSE89567_MGH42_P7_A03  \n",
       "GSE89567_MGH42_P7_A04           GSE89567      GSE89567_MGH42_P7_A04  \n",
       "GSE89567_MGH42_P7_A05           GSE89567      GSE89567_MGH42_P7_A05  \n",
       "...                                  ...                        ...  \n",
       "GSE89567_MGH107neg_P2_C05       GSE89567  GSE89567_MGH107neg_P2_C05  \n",
       "GSE89567_MGH107pos_P2_D07       GSE89567  GSE89567_MGH107pos_P2_D07  \n",
       "GSE89567_MGH107neg_P1_E01       GSE89567  GSE89567_MGH107neg_P1_E01  \n",
       "GSE89567_MGH107pos_P2_G09       GSE89567  GSE89567_MGH107pos_P2_G09  \n",
       "GSE89567_MGH107neg_P1_D06       GSE89567  GSE89567_MGH107neg_P1_D06  \n",
       "\n",
       "[6341 rows x 5 columns]"
      ]
     },
     "execution_count": 6,
     "metadata": {},
     "output_type": "execute_result"
    }
   ],
   "source": [
    "sample.obs"
   ]
  },
  {
   "cell_type": "markdown",
   "metadata": {},
   "source": [
    "### 4. Convert AnnData objects to SingleCellExperiment objects"
   ]
  },
  {
   "cell_type": "code",
   "execution_count": 8,
   "metadata": {},
   "outputs": [
    {
     "name": "stdout",
     "output_type": "stream",
     "text": [
      "class: SingleCellExperiment \n",
      "dim: 23686 6341 \n",
      "metadata(0):\n",
      "assays(1): X\n",
      "rownames(23686): A1BG A1BG-AS1 ... ZZEF1 ZZZ3\n",
      "rowData names(0):\n",
      "colnames(6341): GSE89567_MGH42_P7_A01 GSE89567_MGH42_P7_A02 ...\n",
      "  GSE89567_MGH107pos_P2_G09 GSE89567_MGH107neg_P1_D06\n",
      "colData names(5): cancer_type dataset tissue sample_barcode uni_barcode\n",
      "reducedDimNames(0):\n",
      "mainExpName: NULL\n",
      "altExpNames(0):\n",
      "\n"
     ]
    }
   ],
   "source": [
    "from pathlib import Path\n",
    "\n",
    "import anndata2ri\n",
    "import rpy2.robjects as robjects\n",
    "from rpy2.robjects import r\n",
    "from rpy2.robjects.conversion import localconverter\n",
    "\n",
    "# Specify directory paths\n",
    "write_directory = Path('/scratch/user/s4543064/xiaohan-john-project/write/GSE89567')\n",
    "\n",
    "# Loop through all files in the directory\n",
    "for file in write_directory.iterdir():\n",
    "    sample_name = file.stem\n",
    "    if \"_uni.h5ad\" in file.name:\n",
    "        sample_anndata = anndata.read_h5ad(file)\n",
    "        sample_sce_file = sample_name + \".rds\"\n",
    "\n",
    "        with localconverter(anndata2ri.converter):\n",
    "            sample_sce = anndata2ri.py2rpy(sample_anndata)\n",
    "        print(sample_sce)\n",
    "        \n",
    "        # Save the sce object in .rds file\n",
    "        robjects.globalenv[\"sample_sce\"] = sample_sce\n",
    "        sample_sce_path = write_directory / sample_sce_file\n",
    "        robjects.r(\"saveRDS(sample_sce, file='{}')\".format(sample_sce_path))"
   ]
  }
 ],
 "metadata": {
  "kernelspec": {
   "display_name": "Python 3 (ipykernel)",
   "language": "python",
   "name": "python3"
  },
  "language_info": {
   "codemirror_mode": {
    "name": "ipython",
    "version": 3
   },
   "file_extension": ".py",
   "mimetype": "text/x-python",
   "name": "python",
   "nbconvert_exporter": "python",
   "pygments_lexer": "ipython3",
   "version": "3.12.2"
  }
 },
 "nbformat": 4,
 "nbformat_minor": 2
}
