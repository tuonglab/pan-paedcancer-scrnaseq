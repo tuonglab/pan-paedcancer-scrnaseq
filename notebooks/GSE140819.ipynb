{
 "cells": [
  {
   "cell_type": "markdown",
   "metadata": {},
   "source": [
    "### 1. General info of dataset GSE140819\n",
    "\n",
    "This is the Jupyter Notebook for dataset GSE140819. Its dataset includes a single h5 files for each sample.\n",
    ". \n",
    "In total, there are 40 samples from various origins processed with different technologies. Within the pediatric tumours are:\n",
    "\n",
    "Neuroblastoma (NB): HTAPP-312-SMP-901, HTAPP-312-SMP-902, HTAPP-656-SMP-3481, HTAPP-244-SMP-451 (nuclei), HTAPP-656-SMP-3481 (nuclei)\n",
    "\n",
    "Glioblastoma (GB): HTAPP-443-SMP-5491\n",
    "\n",
    "Sarcoma: HTAPP-951-SMP-4652 (nuclei), HTAPP-975-SMP-4771 (nuclei)\n"
   ]
  },
  {
   "cell_type": "code",
   "execution_count": null,
   "metadata": {},
   "outputs": [],
   "source": [
    "# Environment setup\n",
    "import numpy as np\n",
    "import pandas as pd\n",
    "import scanpy as sc\n",
    "import anndata as anndata\n",
    "import scipy\n",
    "\n",
    "from pathlib import Path"
   ]
  },
  {
   "cell_type": "code",
   "execution_count": 17,
   "metadata": {},
   "outputs": [
    {
     "name": "stderr",
     "output_type": "stream",
     "text": [
      "/home/s4543064/miniforge3/envs/test/lib/python3.12/site-packages/anndata/_core/anndata.py:1908: UserWarning: Variable names are not unique. To make them unique, call `.var_names_make_unique`.\n",
      "  utils.warn_names_duplicates(\"var\")\n"
     ]
    },
    {
     "data": {
      "text/plain": [
       "AnnData object with n_obs × n_vars = 737280 × 33694\n",
       "    var: 'gene_ids'"
      ]
     },
     "execution_count": 17,
     "metadata": {},
     "output_type": "execute_result"
    }
   ],
   "source": [
    "# inspect the provided h5ad file\n",
    "data_directory = Path('/scratch/user/s4543064/xiaohan-john-project/data/GSE140819')\n",
    "\n",
    "adata_path = data_directory / 'GSM4186961_HTAPP-312-SMP-901_fresh-T1_channel1_raw_gene_bc_matrices_h5.h5'\n",
    "adata = sc.read_10x_h5(adata_path)\n",
    "\n",
    "adata"
   ]
  },
  {
   "cell_type": "code",
   "execution_count": 18,
   "metadata": {},
   "outputs": [
    {
     "data": {
      "text/html": [
       "<div>\n",
       "<style scoped>\n",
       "    .dataframe tbody tr th:only-of-type {\n",
       "        vertical-align: middle;\n",
       "    }\n",
       "\n",
       "    .dataframe tbody tr th {\n",
       "        vertical-align: top;\n",
       "    }\n",
       "\n",
       "    .dataframe thead th {\n",
       "        text-align: right;\n",
       "    }\n",
       "</style>\n",
       "<table border=\"1\" class=\"dataframe\">\n",
       "  <thead>\n",
       "    <tr style=\"text-align: right;\">\n",
       "      <th></th>\n",
       "      <th>gene_ids</th>\n",
       "    </tr>\n",
       "  </thead>\n",
       "  <tbody>\n",
       "    <tr>\n",
       "      <th>RP11-34P13.3</th>\n",
       "      <td>ENSG00000243485</td>\n",
       "    </tr>\n",
       "    <tr>\n",
       "      <th>FAM138A</th>\n",
       "      <td>ENSG00000237613</td>\n",
       "    </tr>\n",
       "    <tr>\n",
       "      <th>OR4F5</th>\n",
       "      <td>ENSG00000186092</td>\n",
       "    </tr>\n",
       "    <tr>\n",
       "      <th>RP11-34P13.7</th>\n",
       "      <td>ENSG00000238009</td>\n",
       "    </tr>\n",
       "    <tr>\n",
       "      <th>RP11-34P13.8</th>\n",
       "      <td>ENSG00000239945</td>\n",
       "    </tr>\n",
       "    <tr>\n",
       "      <th>...</th>\n",
       "      <td>...</td>\n",
       "    </tr>\n",
       "    <tr>\n",
       "      <th>AC233755.2</th>\n",
       "      <td>ENSG00000277856</td>\n",
       "    </tr>\n",
       "    <tr>\n",
       "      <th>AC233755.1</th>\n",
       "      <td>ENSG00000275063</td>\n",
       "    </tr>\n",
       "    <tr>\n",
       "      <th>AC240274.1</th>\n",
       "      <td>ENSG00000271254</td>\n",
       "    </tr>\n",
       "    <tr>\n",
       "      <th>AC213203.1</th>\n",
       "      <td>ENSG00000277475</td>\n",
       "    </tr>\n",
       "    <tr>\n",
       "      <th>FAM231B</th>\n",
       "      <td>ENSG00000268674</td>\n",
       "    </tr>\n",
       "  </tbody>\n",
       "</table>\n",
       "<p>33694 rows × 1 columns</p>\n",
       "</div>"
      ],
      "text/plain": [
       "                     gene_ids\n",
       "RP11-34P13.3  ENSG00000243485\n",
       "FAM138A       ENSG00000237613\n",
       "OR4F5         ENSG00000186092\n",
       "RP11-34P13.7  ENSG00000238009\n",
       "RP11-34P13.8  ENSG00000239945\n",
       "...                       ...\n",
       "AC233755.2    ENSG00000277856\n",
       "AC233755.1    ENSG00000275063\n",
       "AC240274.1    ENSG00000271254\n",
       "AC213203.1    ENSG00000277475\n",
       "FAM231B       ENSG00000268674\n",
       "\n",
       "[33694 rows x 1 columns]"
      ]
     },
     "execution_count": 18,
     "metadata": {},
     "output_type": "execute_result"
    }
   ],
   "source": [
    "adata.var"
   ]
  },
  {
   "cell_type": "code",
   "execution_count": 19,
   "metadata": {},
   "outputs": [
    {
     "data": {
      "text/html": [
       "<div>\n",
       "<style scoped>\n",
       "    .dataframe tbody tr th:only-of-type {\n",
       "        vertical-align: middle;\n",
       "    }\n",
       "\n",
       "    .dataframe tbody tr th {\n",
       "        vertical-align: top;\n",
       "    }\n",
       "\n",
       "    .dataframe thead th {\n",
       "        text-align: right;\n",
       "    }\n",
       "</style>\n",
       "<table border=\"1\" class=\"dataframe\">\n",
       "  <thead>\n",
       "    <tr style=\"text-align: right;\">\n",
       "      <th></th>\n",
       "    </tr>\n",
       "  </thead>\n",
       "  <tbody>\n",
       "    <tr>\n",
       "      <th>AAACCTGAGAAACCAT-1</th>\n",
       "    </tr>\n",
       "    <tr>\n",
       "      <th>AAACCTGAGAAACCGC-1</th>\n",
       "    </tr>\n",
       "    <tr>\n",
       "      <th>AAACCTGAGAAACCTA-1</th>\n",
       "    </tr>\n",
       "    <tr>\n",
       "      <th>AAACCTGAGAAACGAG-1</th>\n",
       "    </tr>\n",
       "    <tr>\n",
       "      <th>AAACCTGAGAAACGCC-1</th>\n",
       "    </tr>\n",
       "    <tr>\n",
       "      <th>...</th>\n",
       "    </tr>\n",
       "    <tr>\n",
       "      <th>TTTGTCATCTTTACAC-1</th>\n",
       "    </tr>\n",
       "    <tr>\n",
       "      <th>TTTGTCATCTTTACGT-1</th>\n",
       "    </tr>\n",
       "    <tr>\n",
       "      <th>TTTGTCATCTTTAGGG-1</th>\n",
       "    </tr>\n",
       "    <tr>\n",
       "      <th>TTTGTCATCTTTAGTC-1</th>\n",
       "    </tr>\n",
       "    <tr>\n",
       "      <th>TTTGTCATCTTTCCTC-1</th>\n",
       "    </tr>\n",
       "  </tbody>\n",
       "</table>\n",
       "<p>737280 rows × 0 columns</p>\n",
       "</div>"
      ],
      "text/plain": [
       "Empty DataFrame\n",
       "Columns: []\n",
       "Index: [AAACCTGAGAAACCAT-1, AAACCTGAGAAACCGC-1, AAACCTGAGAAACCTA-1, AAACCTGAGAAACGAG-1, AAACCTGAGAAACGCC-1, AAACCTGAGAAAGTGG-1, AAACCTGAGAACAACT-1, AAACCTGAGAACAATC-1, AAACCTGAGAACTCGG-1, AAACCTGAGAACTGTA-1, AAACCTGAGAAGAAGC-1, AAACCTGAGAAGATTC-1, AAACCTGAGAAGCCCA-1, AAACCTGAGAAGGACA-1, AAACCTGAGAAGGCCT-1, AAACCTGAGAAGGGTA-1, AAACCTGAGAAGGTGA-1, AAACCTGAGAAGGTTT-1, AAACCTGAGAATAGGG-1, AAACCTGAGAATCTCC-1, AAACCTGAGAATGTGT-1, AAACCTGAGAATGTTG-1, AAACCTGAGAATTCCC-1, AAACCTGAGAATTGTG-1, AAACCTGAGACAAAGG-1, AAACCTGAGACAAGCC-1, AAACCTGAGACAATAC-1, AAACCTGAGACACGAC-1, AAACCTGAGACACTAA-1, AAACCTGAGACAGACC-1, AAACCTGAGACAGAGA-1, AAACCTGAGACAGGCT-1, AAACCTGAGACATAAC-1, AAACCTGAGACCACGA-1, AAACCTGAGACCCACC-1, AAACCTGAGACCGGAT-1, AAACCTGAGACCTAGG-1, AAACCTGAGACCTTTG-1, AAACCTGAGACGACGT-1, AAACCTGAGACGCAAC-1, AAACCTGAGACGCACA-1, AAACCTGAGACGCTTT-1, AAACCTGAGACTAAGT-1, AAACCTGAGACTACAA-1, AAACCTGAGACTAGAT-1, AAACCTGAGACTAGGC-1, AAACCTGAGACTCGGA-1, AAACCTGAGACTGGGT-1, AAACCTGAGACTGTAA-1, AAACCTGAGACTTGAA-1, AAACCTGAGACTTTCG-1, AAACCTGAGAGAACAG-1, AAACCTGAGAGACGAA-1, AAACCTGAGAGACTAT-1, AAACCTGAGAGACTTA-1, AAACCTGAGAGAGCTC-1, AAACCTGAGAGATGAG-1, AAACCTGAGAGCAATT-1, AAACCTGAGAGCCCAA-1, AAACCTGAGAGCCTAG-1, AAACCTGAGAGCTATA-1, AAACCTGAGAGCTGCA-1, AAACCTGAGAGCTGGT-1, AAACCTGAGAGCTTCT-1, AAACCTGAGAGGACGG-1, AAACCTGAGAGGGATA-1, AAACCTGAGAGGGCTT-1, AAACCTGAGAGGTACC-1, AAACCTGAGAGGTAGA-1, AAACCTGAGAGGTTAT-1, AAACCTGAGAGGTTGC-1, AAACCTGAGAGTAAGG-1, AAACCTGAGAGTAATC-1, AAACCTGAGAGTACAT-1, AAACCTGAGAGTACCG-1, AAACCTGAGAGTCGGT-1, AAACCTGAGAGTCTGG-1, AAACCTGAGAGTGACC-1, AAACCTGAGAGTGAGA-1, AAACCTGAGAGTTGGC-1, AAACCTGAGATACACA-1, AAACCTGAGATAGCAT-1, AAACCTGAGATAGGAG-1, AAACCTGAGATAGTCA-1, AAACCTGAGATATACG-1, AAACCTGAGATATGCA-1, AAACCTGAGATATGGT-1, AAACCTGAGATCACGG-1, AAACCTGAGATCCCAT-1, AAACCTGAGATCCCGC-1, AAACCTGAGATCCGAG-1, AAACCTGAGATCCTGT-1, AAACCTGAGATCGATA-1, AAACCTGAGATCGGGT-1, AAACCTGAGATCTGAA-1, AAACCTGAGATCTGCT-1, AAACCTGAGATGAGAG-1, AAACCTGAGATGCCAG-1, AAACCTGAGATGCCTT-1, AAACCTGAGATGCGAC-1, ...]\n",
       "\n",
       "[737280 rows x 0 columns]"
      ]
     },
     "execution_count": 19,
     "metadata": {},
     "output_type": "execute_result"
    }
   ],
   "source": [
    "adata.obs"
   ]
  },
  {
   "cell_type": "code",
   "execution_count": 20,
   "metadata": {},
   "outputs": [
    {
     "data": {
      "text/plain": [
       "1298.0"
      ]
     },
     "execution_count": 20,
     "metadata": {},
     "output_type": "execute_result"
    }
   ],
   "source": [
    "np.max(adata.X[:100000, :])"
   ]
  },
  {
   "cell_type": "code",
   "execution_count": 28,
   "metadata": {},
   "outputs": [
    {
     "data": {
      "text/plain": [
       "162.0"
      ]
     },
     "execution_count": 28,
     "metadata": {},
     "output_type": "execute_result"
    }
   ],
   "source": [
    "np.max(adata.X[:500, :])"
   ]
  },
  {
   "cell_type": "markdown",
   "metadata": {},
   "source": [
    "As such, even the values of the count matrix are float, they are still 'raw'"
   ]
  },
  {
   "cell_type": "code",
   "execution_count": 43,
   "metadata": {},
   "outputs": [
    {
     "data": {
      "text/html": [
       "<div>\n",
       "<style scoped>\n",
       "    .dataframe tbody tr th:only-of-type {\n",
       "        vertical-align: middle;\n",
       "    }\n",
       "\n",
       "    .dataframe tbody tr th {\n",
       "        vertical-align: top;\n",
       "    }\n",
       "\n",
       "    .dataframe thead th {\n",
       "        text-align: right;\n",
       "    }\n",
       "</style>\n",
       "<table border=\"1\" class=\"dataframe\">\n",
       "  <thead>\n",
       "    <tr style=\"text-align: right;\">\n",
       "      <th></th>\n",
       "      <th>annotate</th>\n",
       "      <th>nUMI</th>\n",
       "      <th>nGene</th>\n",
       "      <th>percent_mito</th>\n",
       "      <th>doublet</th>\n",
       "    </tr>\n",
       "  </thead>\n",
       "  <tbody>\n",
       "    <tr>\n",
       "      <th>HTAPP-951-SMP-4652TST-V2channel1_AAACCTGAGACCTTTG</th>\n",
       "      <td>Skeletal myoblast</td>\n",
       "      <td>1467</td>\n",
       "      <td>1045</td>\n",
       "      <td>0.038173</td>\n",
       "      <td>False</td>\n",
       "    </tr>\n",
       "    <tr>\n",
       "      <th>HTAPP-951-SMP-4652TST-V2channel1_AAACCTGAGTCAAGCG</th>\n",
       "      <td>Skeletal myoblast</td>\n",
       "      <td>2021</td>\n",
       "      <td>1349</td>\n",
       "      <td>0.067293</td>\n",
       "      <td>False</td>\n",
       "    </tr>\n",
       "    <tr>\n",
       "      <th>HTAPP-951-SMP-4652TST-V2channel1_AAACCTGCAGACGCAA</th>\n",
       "      <td>Skeletal myoblast</td>\n",
       "      <td>720</td>\n",
       "      <td>590</td>\n",
       "      <td>0.025000</td>\n",
       "      <td>False</td>\n",
       "    </tr>\n",
       "    <tr>\n",
       "      <th>HTAPP-951-SMP-4652TST-V2channel1_AAACCTGCAGGTCCAC</th>\n",
       "      <td>Fibroblast</td>\n",
       "      <td>1453</td>\n",
       "      <td>912</td>\n",
       "      <td>0.021335</td>\n",
       "      <td>False</td>\n",
       "    </tr>\n",
       "    <tr>\n",
       "      <th>HTAPP-951-SMP-4652TST-V2channel1_AAACCTGGTCATGCCG</th>\n",
       "      <td>Skeletal myoblast</td>\n",
       "      <td>1332</td>\n",
       "      <td>879</td>\n",
       "      <td>0.126126</td>\n",
       "      <td>False</td>\n",
       "    </tr>\n",
       "    <tr>\n",
       "      <th>...</th>\n",
       "      <td>...</td>\n",
       "      <td>...</td>\n",
       "      <td>...</td>\n",
       "      <td>...</td>\n",
       "      <td>...</td>\n",
       "    </tr>\n",
       "    <tr>\n",
       "      <th>HTAPP-951-SMP-4652TST-V2channel1_TTTGTCACAATCGGTT</th>\n",
       "      <td>Skeletal myoblast</td>\n",
       "      <td>1433</td>\n",
       "      <td>1082</td>\n",
       "      <td>0.023029</td>\n",
       "      <td>False</td>\n",
       "    </tr>\n",
       "    <tr>\n",
       "      <th>HTAPP-951-SMP-4652TST-V2channel1_TTTGTCAGTACTTCTT</th>\n",
       "      <td>Skeletal myoblast</td>\n",
       "      <td>3602</td>\n",
       "      <td>1836</td>\n",
       "      <td>0.035536</td>\n",
       "      <td>False</td>\n",
       "    </tr>\n",
       "    <tr>\n",
       "      <th>HTAPP-951-SMP-4652TST-V2channel1_TTTGTCAGTCAGAGGT</th>\n",
       "      <td>Skeletal myoblast</td>\n",
       "      <td>2129</td>\n",
       "      <td>1267</td>\n",
       "      <td>0.169563</td>\n",
       "      <td>False</td>\n",
       "    </tr>\n",
       "    <tr>\n",
       "      <th>HTAPP-951-SMP-4652TST-V2channel1_TTTGTCATCCAGAAGG</th>\n",
       "      <td>Skeletal myoblast</td>\n",
       "      <td>661</td>\n",
       "      <td>582</td>\n",
       "      <td>0.006051</td>\n",
       "      <td>False</td>\n",
       "    </tr>\n",
       "    <tr>\n",
       "      <th>HTAPP-951-SMP-4652TST-V2channel1_TTTGTCATCTGTCTCG</th>\n",
       "      <td>Skeletal myoblast</td>\n",
       "      <td>764</td>\n",
       "      <td>626</td>\n",
       "      <td>0.024869</td>\n",
       "      <td>False</td>\n",
       "    </tr>\n",
       "  </tbody>\n",
       "</table>\n",
       "<p>3992 rows × 5 columns</p>\n",
       "</div>"
      ],
      "text/plain": [
       "                                                            annotate  nUMI  \\\n",
       "HTAPP-951-SMP-4652TST-V2channel1_AAACCTGAGACCTTTG  Skeletal myoblast  1467   \n",
       "HTAPP-951-SMP-4652TST-V2channel1_AAACCTGAGTCAAGCG  Skeletal myoblast  2021   \n",
       "HTAPP-951-SMP-4652TST-V2channel1_AAACCTGCAGACGCAA  Skeletal myoblast   720   \n",
       "HTAPP-951-SMP-4652TST-V2channel1_AAACCTGCAGGTCCAC         Fibroblast  1453   \n",
       "HTAPP-951-SMP-4652TST-V2channel1_AAACCTGGTCATGCCG  Skeletal myoblast  1332   \n",
       "...                                                              ...   ...   \n",
       "HTAPP-951-SMP-4652TST-V2channel1_TTTGTCACAATCGGTT  Skeletal myoblast  1433   \n",
       "HTAPP-951-SMP-4652TST-V2channel1_TTTGTCAGTACTTCTT  Skeletal myoblast  3602   \n",
       "HTAPP-951-SMP-4652TST-V2channel1_TTTGTCAGTCAGAGGT  Skeletal myoblast  2129   \n",
       "HTAPP-951-SMP-4652TST-V2channel1_TTTGTCATCCAGAAGG  Skeletal myoblast   661   \n",
       "HTAPP-951-SMP-4652TST-V2channel1_TTTGTCATCTGTCTCG  Skeletal myoblast   764   \n",
       "\n",
       "                                                   nGene  percent_mito  \\\n",
       "HTAPP-951-SMP-4652TST-V2channel1_AAACCTGAGACCTTTG   1045      0.038173   \n",
       "HTAPP-951-SMP-4652TST-V2channel1_AAACCTGAGTCAAGCG   1349      0.067293   \n",
       "HTAPP-951-SMP-4652TST-V2channel1_AAACCTGCAGACGCAA    590      0.025000   \n",
       "HTAPP-951-SMP-4652TST-V2channel1_AAACCTGCAGGTCCAC    912      0.021335   \n",
       "HTAPP-951-SMP-4652TST-V2channel1_AAACCTGGTCATGCCG    879      0.126126   \n",
       "...                                                  ...           ...   \n",
       "HTAPP-951-SMP-4652TST-V2channel1_TTTGTCACAATCGGTT   1082      0.023029   \n",
       "HTAPP-951-SMP-4652TST-V2channel1_TTTGTCAGTACTTCTT   1836      0.035536   \n",
       "HTAPP-951-SMP-4652TST-V2channel1_TTTGTCAGTCAGAGGT   1267      0.169563   \n",
       "HTAPP-951-SMP-4652TST-V2channel1_TTTGTCATCCAGAAGG    582      0.006051   \n",
       "HTAPP-951-SMP-4652TST-V2channel1_TTTGTCATCTGTCTCG    626      0.024869   \n",
       "\n",
       "                                                   doublet  \n",
       "HTAPP-951-SMP-4652TST-V2channel1_AAACCTGAGACCTTTG    False  \n",
       "HTAPP-951-SMP-4652TST-V2channel1_AAACCTGAGTCAAGCG    False  \n",
       "HTAPP-951-SMP-4652TST-V2channel1_AAACCTGCAGACGCAA    False  \n",
       "HTAPP-951-SMP-4652TST-V2channel1_AAACCTGCAGGTCCAC    False  \n",
       "HTAPP-951-SMP-4652TST-V2channel1_AAACCTGGTCATGCCG    False  \n",
       "...                                                    ...  \n",
       "HTAPP-951-SMP-4652TST-V2channel1_TTTGTCACAATCGGTT    False  \n",
       "HTAPP-951-SMP-4652TST-V2channel1_TTTGTCAGTACTTCTT    False  \n",
       "HTAPP-951-SMP-4652TST-V2channel1_TTTGTCAGTCAGAGGT    False  \n",
       "HTAPP-951-SMP-4652TST-V2channel1_TTTGTCATCCAGAAGG    False  \n",
       "HTAPP-951-SMP-4652TST-V2channel1_TTTGTCATCTGTCTCG    False  \n",
       "\n",
       "[3992 rows x 5 columns]"
      ]
     },
     "execution_count": 43,
     "metadata": {},
     "output_type": "execute_result"
    }
   ],
   "source": [
    "# inspect the metadata\n",
    "meta_path = data_directory / 'GSM4186992_metadata_HTAPP-951-SMP-4652_TST-V2_channel1.csv'\n",
    "meta = pd.read_csv(meta_path, sep=',', index_col=0)\n",
    "\n",
    "meta"
   ]
  },
  {
   "cell_type": "markdown",
   "metadata": {},
   "source": [
    "### 2. AnnData object of each sample"
   ]
  },
  {
   "cell_type": "markdown",
   "metadata": {},
   "source": [
    "Neuroblastoma (NB): HTAPP-312-SMP-901, HTAPP-312-SMP-902, HTAPP-656-SMP-3481, HTAPP-244-SMP-451 (nuclei), HTAPP-656-SMP-3481 (nuclei)\n",
    "\n",
    "Glioblastoma (GB): HTAPP-443-SMP-5491\n",
    "\n",
    "Sarcoma: HTAPP-951-SMP-4652 (nuclei), HTAPP-975-SMP-4771 (nuclei)"
   ]
  },
  {
   "cell_type": "code",
   "execution_count": 44,
   "metadata": {},
   "outputs": [],
   "source": [
    "# Load the metadata from Figure 1b\n",
    "cancer_tissue_dict = {\n",
    "    'HTAPP-312-SMP-901': ['neuroblastoma', 'neuroendocrine'],\n",
    "    'HTAPP-312-SMP-902': ['neuroblastoma', 'neuroendocrine'],\n",
    "    'HTAPP-656-SMP-3481': ['neuroblastoma', 'neuroendocrine'],\n",
    "    'HTAPP-244-SMP-451': ['neuroblastoma', 'neuroendocrine'],\n",
    "    'HTAPP-443-SMP-5491': ['glioblastoma', 'neuronal'],\n",
    "    'HTAPP-951-SMP-4652': ['sarcoma', 'mesenchymal'],\n",
    "    'HTAPP-975-SMP-4771': ['sarcoma', 'mesenchymal'],\n",
    "}\n"
   ]
  },
  {
   "cell_type": "code",
   "execution_count": 50,
   "metadata": {},
   "outputs": [
    {
     "name": "stderr",
     "output_type": "stream",
     "text": [
      "/home/s4543064/miniforge3/envs/test/lib/python3.12/site-packages/anndata/_core/anndata.py:1908: UserWarning: Variable names are not unique. To make them unique, call `.var_names_make_unique`.\n",
      "  utils.warn_names_duplicates(\"var\")\n"
     ]
    },
    {
     "name": "stdout",
     "output_type": "stream",
     "text": [
      "AnnData object with n_obs × n_vars = 737280 × 33694\n",
      "    obs: 'cancer_type', 'dataset', 'tissue', 'sample_barcode', 'uni_barcode'\n",
      "    var: 'gene_ids'\n"
     ]
    },
    {
     "name": "stderr",
     "output_type": "stream",
     "text": [
      "/home/s4543064/miniforge3/envs/test/lib/python3.12/site-packages/anndata/_core/anndata.py:1908: UserWarning: Variable names are not unique. To make them unique, call `.var_names_make_unique`.\n",
      "  utils.warn_names_duplicates(\"var\")\n"
     ]
    },
    {
     "name": "stdout",
     "output_type": "stream",
     "text": [
      "AnnData object with n_obs × n_vars = 737280 × 33694\n",
      "    obs: 'cancer_type', 'dataset', 'tissue', 'sample_barcode', 'uni_barcode'\n",
      "    var: 'gene_ids'\n"
     ]
    },
    {
     "name": "stderr",
     "output_type": "stream",
     "text": [
      "/home/s4543064/miniforge3/envs/test/lib/python3.12/site-packages/anndata/_core/anndata.py:1908: UserWarning: Variable names are not unique. To make them unique, call `.var_names_make_unique`.\n",
      "  utils.warn_names_duplicates(\"var\")\n",
      "/home/s4543064/miniforge3/envs/test/lib/python3.12/site-packages/anndata/_core/anndata.py:1908: UserWarning: Variable names are not unique. To make them unique, call `.var_names_make_unique`.\n",
      "  utils.warn_names_duplicates(\"var\")\n"
     ]
    },
    {
     "name": "stdout",
     "output_type": "stream",
     "text": [
      "AnnData object with n_obs × n_vars = 6794880 × 33538\n",
      "    obs: 'cancer_type', 'dataset', 'tissue', 'sample_barcode', 'uni_barcode'\n",
      "    var: 'gene_ids', 'feature_types', 'genome'\n"
     ]
    },
    {
     "name": "stderr",
     "output_type": "stream",
     "text": [
      "/home/s4543064/miniforge3/envs/test/lib/python3.12/site-packages/anndata/_core/anndata.py:1908: UserWarning: Variable names are not unique. To make them unique, call `.var_names_make_unique`.\n",
      "  utils.warn_names_duplicates(\"var\")\n",
      "/home/s4543064/miniforge3/envs/test/lib/python3.12/site-packages/anndata/_core/anndata.py:1908: UserWarning: Variable names are not unique. To make them unique, call `.var_names_make_unique`.\n",
      "  utils.warn_names_duplicates(\"var\")\n"
     ]
    },
    {
     "name": "stdout",
     "output_type": "stream",
     "text": [
      "AnnData object with n_obs × n_vars = 6794880 × 33538\n",
      "    obs: 'cancer_type', 'dataset', 'tissue', 'sample_barcode', 'uni_barcode'\n",
      "    var: 'gene_ids', 'feature_types', 'genome'\n"
     ]
    },
    {
     "name": "stderr",
     "output_type": "stream",
     "text": [
      "/home/s4543064/miniforge3/envs/test/lib/python3.12/site-packages/anndata/_core/anndata.py:1908: UserWarning: Variable names are not unique. To make them unique, call `.var_names_make_unique`.\n",
      "  utils.warn_names_duplicates(\"var\")\n",
      "/home/s4543064/miniforge3/envs/test/lib/python3.12/site-packages/anndata/_core/anndata.py:1908: UserWarning: Variable names are not unique. To make them unique, call `.var_names_make_unique`.\n",
      "  utils.warn_names_duplicates(\"var\")\n"
     ]
    },
    {
     "name": "stdout",
     "output_type": "stream",
     "text": [
      "AnnData object with n_obs × n_vars = 6794880 × 33538\n",
      "    obs: 'cancer_type', 'dataset', 'tissue', 'sample_barcode', 'uni_barcode'\n",
      "    var: 'gene_ids', 'feature_types', 'genome'\n"
     ]
    },
    {
     "name": "stderr",
     "output_type": "stream",
     "text": [
      "/home/s4543064/miniforge3/envs/test/lib/python3.12/site-packages/anndata/_core/anndata.py:1908: UserWarning: Variable names are not unique. To make them unique, call `.var_names_make_unique`.\n",
      "  utils.warn_names_duplicates(\"var\")\n",
      "/home/s4543064/miniforge3/envs/test/lib/python3.12/site-packages/anndata/_core/anndata.py:1908: UserWarning: Variable names are not unique. To make them unique, call `.var_names_make_unique`.\n",
      "  utils.warn_names_duplicates(\"var\")\n"
     ]
    },
    {
     "name": "stdout",
     "output_type": "stream",
     "text": [
      "AnnData object with n_obs × n_vars = 737280 × 33694\n",
      "    obs: 'cancer_type', 'dataset', 'tissue', 'sample_barcode', 'uni_barcode'\n",
      "    var: 'gene_ids', 'feature_types', 'genome'\n"
     ]
    },
    {
     "name": "stderr",
     "output_type": "stream",
     "text": [
      "/home/s4543064/miniforge3/envs/test/lib/python3.12/site-packages/anndata/_core/anndata.py:1908: UserWarning: Variable names are not unique. To make them unique, call `.var_names_make_unique`.\n",
      "  utils.warn_names_duplicates(\"var\")\n"
     ]
    },
    {
     "name": "stdout",
     "output_type": "stream",
     "text": [
      "AnnData object with n_obs × n_vars = 737280 × 33694\n",
      "    obs: 'cancer_type', 'dataset', 'tissue', 'sample_barcode', 'uni_barcode'\n",
      "    var: 'gene_ids'\n"
     ]
    },
    {
     "name": "stderr",
     "output_type": "stream",
     "text": [
      "/home/s4543064/miniforge3/envs/test/lib/python3.12/site-packages/anndata/_core/anndata.py:1908: UserWarning: Variable names are not unique. To make them unique, call `.var_names_make_unique`.\n",
      "  utils.warn_names_duplicates(\"var\")\n"
     ]
    },
    {
     "name": "stdout",
     "output_type": "stream",
     "text": [
      "AnnData object with n_obs × n_vars = 737280 × 33694\n",
      "    obs: 'cancer_type', 'dataset', 'tissue', 'sample_barcode', 'uni_barcode'\n",
      "    var: 'gene_ids'\n"
     ]
    },
    {
     "name": "stderr",
     "output_type": "stream",
     "text": [
      "/home/s4543064/miniforge3/envs/test/lib/python3.12/site-packages/anndata/_core/anndata.py:1908: UserWarning: Variable names are not unique. To make them unique, call `.var_names_make_unique`.\n",
      "  utils.warn_names_duplicates(\"var\")\n"
     ]
    },
    {
     "name": "stdout",
     "output_type": "stream",
     "text": [
      "AnnData object with n_obs × n_vars = 737280 × 33694\n",
      "    obs: 'cancer_type', 'dataset', 'tissue', 'sample_barcode', 'uni_barcode'\n",
      "    var: 'gene_ids'\n"
     ]
    },
    {
     "name": "stderr",
     "output_type": "stream",
     "text": [
      "/home/s4543064/miniforge3/envs/test/lib/python3.12/site-packages/anndata/_core/anndata.py:1908: UserWarning: Variable names are not unique. To make them unique, call `.var_names_make_unique`.\n",
      "  utils.warn_names_duplicates(\"var\")\n"
     ]
    },
    {
     "name": "stdout",
     "output_type": "stream",
     "text": [
      "AnnData object with n_obs × n_vars = 737280 × 33694\n",
      "    obs: 'cancer_type', 'dataset', 'tissue', 'sample_barcode', 'uni_barcode'\n",
      "    var: 'gene_ids'\n"
     ]
    },
    {
     "name": "stderr",
     "output_type": "stream",
     "text": [
      "/home/s4543064/miniforge3/envs/test/lib/python3.12/site-packages/anndata/_core/anndata.py:1908: UserWarning: Variable names are not unique. To make them unique, call `.var_names_make_unique`.\n",
      "  utils.warn_names_duplicates(\"var\")\n"
     ]
    },
    {
     "name": "stdout",
     "output_type": "stream",
     "text": [
      "AnnData object with n_obs × n_vars = 737280 × 33694\n",
      "    obs: 'cancer_type', 'dataset', 'tissue', 'sample_barcode', 'uni_barcode'\n",
      "    var: 'gene_ids'\n"
     ]
    },
    {
     "name": "stderr",
     "output_type": "stream",
     "text": [
      "/home/s4543064/miniforge3/envs/test/lib/python3.12/site-packages/anndata/_core/anndata.py:1908: UserWarning: Variable names are not unique. To make them unique, call `.var_names_make_unique`.\n",
      "  utils.warn_names_duplicates(\"var\")\n",
      "/home/s4543064/miniforge3/envs/test/lib/python3.12/site-packages/anndata/_core/anndata.py:1908: UserWarning: Variable names are not unique. To make them unique, call `.var_names_make_unique`.\n",
      "  utils.warn_names_duplicates(\"var\")\n"
     ]
    },
    {
     "name": "stdout",
     "output_type": "stream",
     "text": [
      "AnnData object with n_obs × n_vars = 6794880 × 33538\n",
      "    obs: 'cancer_type', 'dataset', 'tissue', 'sample_barcode', 'uni_barcode'\n",
      "    var: 'gene_ids', 'feature_types', 'genome'\n"
     ]
    },
    {
     "name": "stderr",
     "output_type": "stream",
     "text": [
      "/home/s4543064/miniforge3/envs/test/lib/python3.12/site-packages/anndata/_core/anndata.py:1908: UserWarning: Variable names are not unique. To make them unique, call `.var_names_make_unique`.\n",
      "  utils.warn_names_duplicates(\"var\")\n"
     ]
    },
    {
     "name": "stdout",
     "output_type": "stream",
     "text": [
      "AnnData object with n_obs × n_vars = 737280 × 33694\n",
      "    obs: 'cancer_type', 'dataset', 'tissue', 'sample_barcode', 'uni_barcode'\n",
      "    var: 'gene_ids'\n"
     ]
    }
   ],
   "source": [
    "from pathlib import Path\n",
    "\n",
    "# Specify directory paths\n",
    "data_directory = Path('/scratch/user/s4543064/xiaohan-john-project/data/GSE140819')\n",
    "write_directory = Path('/scratch/user/s4543064/xiaohan-john-project/write/GSE140819')\n",
    "\n",
    "for sample in data_directory.iterdir():\n",
    "    if '.h5' in sample.name:\n",
    "        # Get the gsm and patient id\n",
    "        gsm = sample.stem.split(\"_\")[0]\n",
    "        gsm_patient_id = sample.stem.split(\"_raw_\")[0]\n",
    "        patient_id = gsm_patient_id.split('_')[1]\n",
    "\n",
    "        adata = sc.read_10x_h5(sample)\n",
    "\n",
    "        adata.obs['cancer_type'] = cancer_tissue_dict[patient_id][0]\n",
    "        adata.obs['dataset'] = 'GSE140819'\n",
    "        adata.obs['tissue'] = cancer_tissue_dict[patient_id][1]\n",
    "        adata.obs['sample_barcode'] = gsm_patient_id\n",
    "        adata.obs['uni_barcode'] = adata.obs['dataset'] + '_' + adata.obs.index.astype(str)\n",
    "        adata.obs.set_index(\"uni_barcode\", drop=False, inplace=True)\n",
    "        print(adata)\n",
    "\n",
    "        # save the anndata object\n",
    "        sample_h5ad = gsm_patient_id + '_uni.h5ad'\n",
    "        output_path = write_directory / sample_h5ad\n",
    "        adata.write_h5ad(output_path, compression=\"gzip\")\n",
    "        "
   ]
  },
  {
   "cell_type": "markdown",
   "metadata": {},
   "source": [
    "### 3. Confirmation of created AnnData objects"
   ]
  },
  {
   "cell_type": "code",
   "execution_count": 52,
   "metadata": {},
   "outputs": [
    {
     "name": "stderr",
     "output_type": "stream",
     "text": [
      "/home/s4543064/miniforge3/envs/test/lib/python3.12/site-packages/anndata/_core/anndata.py:1908: UserWarning: Variable names are not unique. To make them unique, call `.var_names_make_unique`.\n",
      "  utils.warn_names_duplicates(\"var\")\n"
     ]
    },
    {
     "name": "stdout",
     "output_type": "stream",
     "text": [
      "AnnData object with n_obs × n_vars = 737280 × 33694\n",
      "    obs: 'cancer_type', 'dataset', 'tissue', 'sample_barcode', 'uni_barcode'\n",
      "    var: 'gene_ids'\n"
     ]
    },
    {
     "name": "stderr",
     "output_type": "stream",
     "text": [
      "/home/s4543064/miniforge3/envs/test/lib/python3.12/site-packages/anndata/_core/anndata.py:1908: UserWarning: Variable names are not unique. To make them unique, call `.var_names_make_unique`.\n",
      "  utils.warn_names_duplicates(\"var\")\n"
     ]
    },
    {
     "name": "stdout",
     "output_type": "stream",
     "text": [
      "AnnData object with n_obs × n_vars = 737280 × 33694\n",
      "    obs: 'cancer_type', 'dataset', 'tissue', 'sample_barcode', 'uni_barcode'\n",
      "    var: 'gene_ids'\n"
     ]
    },
    {
     "name": "stderr",
     "output_type": "stream",
     "text": [
      "/home/s4543064/miniforge3/envs/test/lib/python3.12/site-packages/anndata/_core/anndata.py:1908: UserWarning: Variable names are not unique. To make them unique, call `.var_names_make_unique`.\n",
      "  utils.warn_names_duplicates(\"var\")\n"
     ]
    },
    {
     "name": "stdout",
     "output_type": "stream",
     "text": [
      "AnnData object with n_obs × n_vars = 737280 × 33694\n",
      "    obs: 'cancer_type', 'dataset', 'tissue', 'sample_barcode', 'uni_barcode'\n",
      "    var: 'gene_ids', 'feature_types', 'genome'\n"
     ]
    },
    {
     "name": "stderr",
     "output_type": "stream",
     "text": [
      "/home/s4543064/miniforge3/envs/test/lib/python3.12/site-packages/anndata/_core/anndata.py:1908: UserWarning: Variable names are not unique. To make them unique, call `.var_names_make_unique`.\n",
      "  utils.warn_names_duplicates(\"var\")\n"
     ]
    },
    {
     "name": "stdout",
     "output_type": "stream",
     "text": [
      "AnnData object with n_obs × n_vars = 737280 × 33694\n",
      "    obs: 'cancer_type', 'dataset', 'tissue', 'sample_barcode', 'uni_barcode'\n",
      "    var: 'gene_ids'\n"
     ]
    },
    {
     "name": "stderr",
     "output_type": "stream",
     "text": [
      "/home/s4543064/miniforge3/envs/test/lib/python3.12/site-packages/anndata/_core/anndata.py:1908: UserWarning: Variable names are not unique. To make them unique, call `.var_names_make_unique`.\n",
      "  utils.warn_names_duplicates(\"var\")\n"
     ]
    },
    {
     "name": "stdout",
     "output_type": "stream",
     "text": [
      "AnnData object with n_obs × n_vars = 737280 × 33694\n",
      "    obs: 'cancer_type', 'dataset', 'tissue', 'sample_barcode', 'uni_barcode'\n",
      "    var: 'gene_ids'\n"
     ]
    },
    {
     "name": "stderr",
     "output_type": "stream",
     "text": [
      "/home/s4543064/miniforge3/envs/test/lib/python3.12/site-packages/anndata/_core/anndata.py:1908: UserWarning: Variable names are not unique. To make them unique, call `.var_names_make_unique`.\n",
      "  utils.warn_names_duplicates(\"var\")\n"
     ]
    },
    {
     "name": "stdout",
     "output_type": "stream",
     "text": [
      "AnnData object with n_obs × n_vars = 737280 × 33694\n",
      "    obs: 'cancer_type', 'dataset', 'tissue', 'sample_barcode', 'uni_barcode'\n",
      "    var: 'gene_ids'\n"
     ]
    },
    {
     "name": "stderr",
     "output_type": "stream",
     "text": [
      "/home/s4543064/miniforge3/envs/test/lib/python3.12/site-packages/anndata/_core/anndata.py:1908: UserWarning: Variable names are not unique. To make them unique, call `.var_names_make_unique`.\n",
      "  utils.warn_names_duplicates(\"var\")\n"
     ]
    },
    {
     "name": "stdout",
     "output_type": "stream",
     "text": [
      "AnnData object with n_obs × n_vars = 737280 × 33694\n",
      "    obs: 'cancer_type', 'dataset', 'tissue', 'sample_barcode', 'uni_barcode'\n",
      "    var: 'gene_ids'\n"
     ]
    },
    {
     "name": "stderr",
     "output_type": "stream",
     "text": [
      "/home/s4543064/miniforge3/envs/test/lib/python3.12/site-packages/anndata/_core/anndata.py:1908: UserWarning: Variable names are not unique. To make them unique, call `.var_names_make_unique`.\n",
      "  utils.warn_names_duplicates(\"var\")\n"
     ]
    },
    {
     "name": "stdout",
     "output_type": "stream",
     "text": [
      "AnnData object with n_obs × n_vars = 6794880 × 33538\n",
      "    obs: 'cancer_type', 'dataset', 'tissue', 'sample_barcode', 'uni_barcode'\n",
      "    var: 'gene_ids', 'feature_types', 'genome'\n"
     ]
    },
    {
     "name": "stderr",
     "output_type": "stream",
     "text": [
      "/home/s4543064/miniforge3/envs/test/lib/python3.12/site-packages/anndata/_core/anndata.py:1908: UserWarning: Variable names are not unique. To make them unique, call `.var_names_make_unique`.\n",
      "  utils.warn_names_duplicates(\"var\")\n"
     ]
    },
    {
     "name": "stdout",
     "output_type": "stream",
     "text": [
      "AnnData object with n_obs × n_vars = 6794880 × 33538\n",
      "    obs: 'cancer_type', 'dataset', 'tissue', 'sample_barcode', 'uni_barcode'\n",
      "    var: 'gene_ids', 'feature_types', 'genome'\n"
     ]
    },
    {
     "name": "stderr",
     "output_type": "stream",
     "text": [
      "/home/s4543064/miniforge3/envs/test/lib/python3.12/site-packages/anndata/_core/anndata.py:1908: UserWarning: Variable names are not unique. To make them unique, call `.var_names_make_unique`.\n",
      "  utils.warn_names_duplicates(\"var\")\n"
     ]
    },
    {
     "name": "stdout",
     "output_type": "stream",
     "text": [
      "AnnData object with n_obs × n_vars = 737280 × 33694\n",
      "    obs: 'cancer_type', 'dataset', 'tissue', 'sample_barcode', 'uni_barcode'\n",
      "    var: 'gene_ids'\n"
     ]
    },
    {
     "name": "stderr",
     "output_type": "stream",
     "text": [
      "/home/s4543064/miniforge3/envs/test/lib/python3.12/site-packages/anndata/_core/anndata.py:1908: UserWarning: Variable names are not unique. To make them unique, call `.var_names_make_unique`.\n",
      "  utils.warn_names_duplicates(\"var\")\n"
     ]
    },
    {
     "name": "stdout",
     "output_type": "stream",
     "text": [
      "AnnData object with n_obs × n_vars = 737280 × 33694\n",
      "    obs: 'cancer_type', 'dataset', 'tissue', 'sample_barcode', 'uni_barcode'\n",
      "    var: 'gene_ids'\n"
     ]
    },
    {
     "name": "stderr",
     "output_type": "stream",
     "text": [
      "/home/s4543064/miniforge3/envs/test/lib/python3.12/site-packages/anndata/_core/anndata.py:1908: UserWarning: Variable names are not unique. To make them unique, call `.var_names_make_unique`.\n",
      "  utils.warn_names_duplicates(\"var\")\n"
     ]
    },
    {
     "name": "stdout",
     "output_type": "stream",
     "text": [
      "AnnData object with n_obs × n_vars = 6794880 × 33538\n",
      "    obs: 'cancer_type', 'dataset', 'tissue', 'sample_barcode', 'uni_barcode'\n",
      "    var: 'gene_ids', 'feature_types', 'genome'\n"
     ]
    },
    {
     "name": "stderr",
     "output_type": "stream",
     "text": [
      "/home/s4543064/miniforge3/envs/test/lib/python3.12/site-packages/anndata/_core/anndata.py:1908: UserWarning: Variable names are not unique. To make them unique, call `.var_names_make_unique`.\n",
      "  utils.warn_names_duplicates(\"var\")\n"
     ]
    },
    {
     "name": "stdout",
     "output_type": "stream",
     "text": [
      "AnnData object with n_obs × n_vars = 737280 × 33694\n",
      "    obs: 'cancer_type', 'dataset', 'tissue', 'sample_barcode', 'uni_barcode'\n",
      "    var: 'gene_ids'\n"
     ]
    },
    {
     "name": "stderr",
     "output_type": "stream",
     "text": [
      "/home/s4543064/miniforge3/envs/test/lib/python3.12/site-packages/anndata/_core/anndata.py:1908: UserWarning: Variable names are not unique. To make them unique, call `.var_names_make_unique`.\n",
      "  utils.warn_names_duplicates(\"var\")\n"
     ]
    },
    {
     "name": "stdout",
     "output_type": "stream",
     "text": [
      "AnnData object with n_obs × n_vars = 737280 × 33694\n",
      "    obs: 'cancer_type', 'dataset', 'tissue', 'sample_barcode', 'uni_barcode'\n",
      "    var: 'gene_ids'\n"
     ]
    },
    {
     "name": "stderr",
     "output_type": "stream",
     "text": [
      "/home/s4543064/miniforge3/envs/test/lib/python3.12/site-packages/anndata/_core/anndata.py:1908: UserWarning: Variable names are not unique. To make them unique, call `.var_names_make_unique`.\n",
      "  utils.warn_names_duplicates(\"var\")\n"
     ]
    },
    {
     "name": "stdout",
     "output_type": "stream",
     "text": [
      "AnnData object with n_obs × n_vars = 737280 × 33694\n",
      "    obs: 'cancer_type', 'dataset', 'tissue', 'sample_barcode', 'uni_barcode'\n",
      "    var: 'gene_ids'\n",
      "AnnData object with n_obs × n_vars = 6794880 × 33538\n",
      "    obs: 'cancer_type', 'dataset', 'tissue', 'sample_barcode', 'uni_barcode'\n",
      "    var: 'gene_ids', 'feature_types', 'genome'\n"
     ]
    },
    {
     "name": "stderr",
     "output_type": "stream",
     "text": [
      "/home/s4543064/miniforge3/envs/test/lib/python3.12/site-packages/anndata/_core/anndata.py:1908: UserWarning: Variable names are not unique. To make them unique, call `.var_names_make_unique`.\n",
      "  utils.warn_names_duplicates(\"var\")\n"
     ]
    }
   ],
   "source": [
    "from pathlib import Path\n",
    "\n",
    "# Specify directory paths\n",
    "write_directory = Path('/scratch/user/s4543064/xiaohan-john-project/write/GSE140819')\n",
    "\n",
    "# Loop through all files in the directory\n",
    "for file in write_directory.iterdir():\n",
    "    if '_uni.h5ad' in file.name:\n",
    "        sample = anndata.read_h5ad(file)\n",
    "        print(sample)"
   ]
  },
  {
   "cell_type": "code",
   "execution_count": 53,
   "metadata": {},
   "outputs": [
    {
     "data": {
      "text/html": [
       "<div>\n",
       "<style scoped>\n",
       "    .dataframe tbody tr th:only-of-type {\n",
       "        vertical-align: middle;\n",
       "    }\n",
       "\n",
       "    .dataframe tbody tr th {\n",
       "        vertical-align: top;\n",
       "    }\n",
       "\n",
       "    .dataframe thead th {\n",
       "        text-align: right;\n",
       "    }\n",
       "</style>\n",
       "<table border=\"1\" class=\"dataframe\">\n",
       "  <thead>\n",
       "    <tr style=\"text-align: right;\">\n",
       "      <th></th>\n",
       "      <th>gene_ids</th>\n",
       "      <th>feature_types</th>\n",
       "      <th>genome</th>\n",
       "    </tr>\n",
       "  </thead>\n",
       "  <tbody>\n",
       "    <tr>\n",
       "      <th>MIR1302-2HG</th>\n",
       "      <td>ENSG00000243485</td>\n",
       "      <td>Gene Expression</td>\n",
       "      <td>GRCh38-3.0.0_premrna</td>\n",
       "    </tr>\n",
       "    <tr>\n",
       "      <th>FAM138A</th>\n",
       "      <td>ENSG00000237613</td>\n",
       "      <td>Gene Expression</td>\n",
       "      <td>GRCh38-3.0.0_premrna</td>\n",
       "    </tr>\n",
       "    <tr>\n",
       "      <th>OR4F5</th>\n",
       "      <td>ENSG00000186092</td>\n",
       "      <td>Gene Expression</td>\n",
       "      <td>GRCh38-3.0.0_premrna</td>\n",
       "    </tr>\n",
       "    <tr>\n",
       "      <th>AL627309.1</th>\n",
       "      <td>ENSG00000238009</td>\n",
       "      <td>Gene Expression</td>\n",
       "      <td>GRCh38-3.0.0_premrna</td>\n",
       "    </tr>\n",
       "    <tr>\n",
       "      <th>AL627309.3</th>\n",
       "      <td>ENSG00000239945</td>\n",
       "      <td>Gene Expression</td>\n",
       "      <td>GRCh38-3.0.0_premrna</td>\n",
       "    </tr>\n",
       "    <tr>\n",
       "      <th>...</th>\n",
       "      <td>...</td>\n",
       "      <td>...</td>\n",
       "      <td>...</td>\n",
       "    </tr>\n",
       "    <tr>\n",
       "      <th>AC233755.2</th>\n",
       "      <td>ENSG00000277856</td>\n",
       "      <td>Gene Expression</td>\n",
       "      <td>GRCh38-3.0.0_premrna</td>\n",
       "    </tr>\n",
       "    <tr>\n",
       "      <th>AC233755.1</th>\n",
       "      <td>ENSG00000275063</td>\n",
       "      <td>Gene Expression</td>\n",
       "      <td>GRCh38-3.0.0_premrna</td>\n",
       "    </tr>\n",
       "    <tr>\n",
       "      <th>AC240274.1</th>\n",
       "      <td>ENSG00000271254</td>\n",
       "      <td>Gene Expression</td>\n",
       "      <td>GRCh38-3.0.0_premrna</td>\n",
       "    </tr>\n",
       "    <tr>\n",
       "      <th>AC213203.1</th>\n",
       "      <td>ENSG00000277475</td>\n",
       "      <td>Gene Expression</td>\n",
       "      <td>GRCh38-3.0.0_premrna</td>\n",
       "    </tr>\n",
       "    <tr>\n",
       "      <th>FAM231C</th>\n",
       "      <td>ENSG00000268674</td>\n",
       "      <td>Gene Expression</td>\n",
       "      <td>GRCh38-3.0.0_premrna</td>\n",
       "    </tr>\n",
       "  </tbody>\n",
       "</table>\n",
       "<p>33538 rows × 3 columns</p>\n",
       "</div>"
      ],
      "text/plain": [
       "                    gene_ids    feature_types                genome\n",
       "MIR1302-2HG  ENSG00000243485  Gene Expression  GRCh38-3.0.0_premrna\n",
       "FAM138A      ENSG00000237613  Gene Expression  GRCh38-3.0.0_premrna\n",
       "OR4F5        ENSG00000186092  Gene Expression  GRCh38-3.0.0_premrna\n",
       "AL627309.1   ENSG00000238009  Gene Expression  GRCh38-3.0.0_premrna\n",
       "AL627309.3   ENSG00000239945  Gene Expression  GRCh38-3.0.0_premrna\n",
       "...                      ...              ...                   ...\n",
       "AC233755.2   ENSG00000277856  Gene Expression  GRCh38-3.0.0_premrna\n",
       "AC233755.1   ENSG00000275063  Gene Expression  GRCh38-3.0.0_premrna\n",
       "AC240274.1   ENSG00000271254  Gene Expression  GRCh38-3.0.0_premrna\n",
       "AC213203.1   ENSG00000277475  Gene Expression  GRCh38-3.0.0_premrna\n",
       "FAM231C      ENSG00000268674  Gene Expression  GRCh38-3.0.0_premrna\n",
       "\n",
       "[33538 rows x 3 columns]"
      ]
     },
     "execution_count": 53,
     "metadata": {},
     "output_type": "execute_result"
    }
   ],
   "source": [
    "sample.var"
   ]
  },
  {
   "cell_type": "code",
   "execution_count": 54,
   "metadata": {},
   "outputs": [
    {
     "data": {
      "text/html": [
       "<div>\n",
       "<style scoped>\n",
       "    .dataframe tbody tr th:only-of-type {\n",
       "        vertical-align: middle;\n",
       "    }\n",
       "\n",
       "    .dataframe tbody tr th {\n",
       "        vertical-align: top;\n",
       "    }\n",
       "\n",
       "    .dataframe thead th {\n",
       "        text-align: right;\n",
       "    }\n",
       "</style>\n",
       "<table border=\"1\" class=\"dataframe\">\n",
       "  <thead>\n",
       "    <tr style=\"text-align: right;\">\n",
       "      <th></th>\n",
       "      <th>cancer_type</th>\n",
       "      <th>dataset</th>\n",
       "      <th>tissue</th>\n",
       "      <th>sample_barcode</th>\n",
       "      <th>uni_barcode</th>\n",
       "    </tr>\n",
       "    <tr>\n",
       "      <th>uni_barcode</th>\n",
       "      <th></th>\n",
       "      <th></th>\n",
       "      <th></th>\n",
       "      <th></th>\n",
       "      <th></th>\n",
       "    </tr>\n",
       "  </thead>\n",
       "  <tbody>\n",
       "    <tr>\n",
       "      <th>GSE140819_AAACCCAAGAAACACT-1</th>\n",
       "      <td>sarcoma</td>\n",
       "      <td>GSE140819</td>\n",
       "      <td>mesenchymal</td>\n",
       "      <td>GSM4186995_HTAPP-975-SMP-4771_TST-V3_channel1</td>\n",
       "      <td>GSE140819_AAACCCAAGAAACACT-1</td>\n",
       "    </tr>\n",
       "    <tr>\n",
       "      <th>GSE140819_AAACCCAAGAAACCAT-1</th>\n",
       "      <td>sarcoma</td>\n",
       "      <td>GSE140819</td>\n",
       "      <td>mesenchymal</td>\n",
       "      <td>GSM4186995_HTAPP-975-SMP-4771_TST-V3_channel1</td>\n",
       "      <td>GSE140819_AAACCCAAGAAACCAT-1</td>\n",
       "    </tr>\n",
       "    <tr>\n",
       "      <th>GSE140819_AAACCCAAGAAACCCA-1</th>\n",
       "      <td>sarcoma</td>\n",
       "      <td>GSE140819</td>\n",
       "      <td>mesenchymal</td>\n",
       "      <td>GSM4186995_HTAPP-975-SMP-4771_TST-V3_channel1</td>\n",
       "      <td>GSE140819_AAACCCAAGAAACCCA-1</td>\n",
       "    </tr>\n",
       "    <tr>\n",
       "      <th>GSE140819_AAACCCAAGAAACCCG-1</th>\n",
       "      <td>sarcoma</td>\n",
       "      <td>GSE140819</td>\n",
       "      <td>mesenchymal</td>\n",
       "      <td>GSM4186995_HTAPP-975-SMP-4771_TST-V3_channel1</td>\n",
       "      <td>GSE140819_AAACCCAAGAAACCCG-1</td>\n",
       "    </tr>\n",
       "    <tr>\n",
       "      <th>GSE140819_AAACCCAAGAAACCTG-1</th>\n",
       "      <td>sarcoma</td>\n",
       "      <td>GSE140819</td>\n",
       "      <td>mesenchymal</td>\n",
       "      <td>GSM4186995_HTAPP-975-SMP-4771_TST-V3_channel1</td>\n",
       "      <td>GSE140819_AAACCCAAGAAACCTG-1</td>\n",
       "    </tr>\n",
       "    <tr>\n",
       "      <th>...</th>\n",
       "      <td>...</td>\n",
       "      <td>...</td>\n",
       "      <td>...</td>\n",
       "      <td>...</td>\n",
       "      <td>...</td>\n",
       "    </tr>\n",
       "    <tr>\n",
       "      <th>GSE140819_TTTGTTGTCTTTGCTA-1</th>\n",
       "      <td>sarcoma</td>\n",
       "      <td>GSE140819</td>\n",
       "      <td>mesenchymal</td>\n",
       "      <td>GSM4186995_HTAPP-975-SMP-4771_TST-V3_channel1</td>\n",
       "      <td>GSE140819_TTTGTTGTCTTTGCTA-1</td>\n",
       "    </tr>\n",
       "    <tr>\n",
       "      <th>GSE140819_TTTGTTGTCTTTGCTG-1</th>\n",
       "      <td>sarcoma</td>\n",
       "      <td>GSE140819</td>\n",
       "      <td>mesenchymal</td>\n",
       "      <td>GSM4186995_HTAPP-975-SMP-4771_TST-V3_channel1</td>\n",
       "      <td>GSE140819_TTTGTTGTCTTTGCTG-1</td>\n",
       "    </tr>\n",
       "    <tr>\n",
       "      <th>GSE140819_TTTGTTGTCTTTGGAG-1</th>\n",
       "      <td>sarcoma</td>\n",
       "      <td>GSE140819</td>\n",
       "      <td>mesenchymal</td>\n",
       "      <td>GSM4186995_HTAPP-975-SMP-4771_TST-V3_channel1</td>\n",
       "      <td>GSE140819_TTTGTTGTCTTTGGAG-1</td>\n",
       "    </tr>\n",
       "    <tr>\n",
       "      <th>GSE140819_TTTGTTGTCTTTGGCT-1</th>\n",
       "      <td>sarcoma</td>\n",
       "      <td>GSE140819</td>\n",
       "      <td>mesenchymal</td>\n",
       "      <td>GSM4186995_HTAPP-975-SMP-4771_TST-V3_channel1</td>\n",
       "      <td>GSE140819_TTTGTTGTCTTTGGCT-1</td>\n",
       "    </tr>\n",
       "    <tr>\n",
       "      <th>GSE140819_TTTGTTGTCTTTGTCG-1</th>\n",
       "      <td>sarcoma</td>\n",
       "      <td>GSE140819</td>\n",
       "      <td>mesenchymal</td>\n",
       "      <td>GSM4186995_HTAPP-975-SMP-4771_TST-V3_channel1</td>\n",
       "      <td>GSE140819_TTTGTTGTCTTTGTCG-1</td>\n",
       "    </tr>\n",
       "  </tbody>\n",
       "</table>\n",
       "<p>6794880 rows × 5 columns</p>\n",
       "</div>"
      ],
      "text/plain": [
       "                             cancer_type    dataset       tissue  \\\n",
       "uni_barcode                                                        \n",
       "GSE140819_AAACCCAAGAAACACT-1     sarcoma  GSE140819  mesenchymal   \n",
       "GSE140819_AAACCCAAGAAACCAT-1     sarcoma  GSE140819  mesenchymal   \n",
       "GSE140819_AAACCCAAGAAACCCA-1     sarcoma  GSE140819  mesenchymal   \n",
       "GSE140819_AAACCCAAGAAACCCG-1     sarcoma  GSE140819  mesenchymal   \n",
       "GSE140819_AAACCCAAGAAACCTG-1     sarcoma  GSE140819  mesenchymal   \n",
       "...                                  ...        ...          ...   \n",
       "GSE140819_TTTGTTGTCTTTGCTA-1     sarcoma  GSE140819  mesenchymal   \n",
       "GSE140819_TTTGTTGTCTTTGCTG-1     sarcoma  GSE140819  mesenchymal   \n",
       "GSE140819_TTTGTTGTCTTTGGAG-1     sarcoma  GSE140819  mesenchymal   \n",
       "GSE140819_TTTGTTGTCTTTGGCT-1     sarcoma  GSE140819  mesenchymal   \n",
       "GSE140819_TTTGTTGTCTTTGTCG-1     sarcoma  GSE140819  mesenchymal   \n",
       "\n",
       "                                                             sample_barcode  \\\n",
       "uni_barcode                                                                   \n",
       "GSE140819_AAACCCAAGAAACACT-1  GSM4186995_HTAPP-975-SMP-4771_TST-V3_channel1   \n",
       "GSE140819_AAACCCAAGAAACCAT-1  GSM4186995_HTAPP-975-SMP-4771_TST-V3_channel1   \n",
       "GSE140819_AAACCCAAGAAACCCA-1  GSM4186995_HTAPP-975-SMP-4771_TST-V3_channel1   \n",
       "GSE140819_AAACCCAAGAAACCCG-1  GSM4186995_HTAPP-975-SMP-4771_TST-V3_channel1   \n",
       "GSE140819_AAACCCAAGAAACCTG-1  GSM4186995_HTAPP-975-SMP-4771_TST-V3_channel1   \n",
       "...                                                                     ...   \n",
       "GSE140819_TTTGTTGTCTTTGCTA-1  GSM4186995_HTAPP-975-SMP-4771_TST-V3_channel1   \n",
       "GSE140819_TTTGTTGTCTTTGCTG-1  GSM4186995_HTAPP-975-SMP-4771_TST-V3_channel1   \n",
       "GSE140819_TTTGTTGTCTTTGGAG-1  GSM4186995_HTAPP-975-SMP-4771_TST-V3_channel1   \n",
       "GSE140819_TTTGTTGTCTTTGGCT-1  GSM4186995_HTAPP-975-SMP-4771_TST-V3_channel1   \n",
       "GSE140819_TTTGTTGTCTTTGTCG-1  GSM4186995_HTAPP-975-SMP-4771_TST-V3_channel1   \n",
       "\n",
       "                                               uni_barcode  \n",
       "uni_barcode                                                 \n",
       "GSE140819_AAACCCAAGAAACACT-1  GSE140819_AAACCCAAGAAACACT-1  \n",
       "GSE140819_AAACCCAAGAAACCAT-1  GSE140819_AAACCCAAGAAACCAT-1  \n",
       "GSE140819_AAACCCAAGAAACCCA-1  GSE140819_AAACCCAAGAAACCCA-1  \n",
       "GSE140819_AAACCCAAGAAACCCG-1  GSE140819_AAACCCAAGAAACCCG-1  \n",
       "GSE140819_AAACCCAAGAAACCTG-1  GSE140819_AAACCCAAGAAACCTG-1  \n",
       "...                                                    ...  \n",
       "GSE140819_TTTGTTGTCTTTGCTA-1  GSE140819_TTTGTTGTCTTTGCTA-1  \n",
       "GSE140819_TTTGTTGTCTTTGCTG-1  GSE140819_TTTGTTGTCTTTGCTG-1  \n",
       "GSE140819_TTTGTTGTCTTTGGAG-1  GSE140819_TTTGTTGTCTTTGGAG-1  \n",
       "GSE140819_TTTGTTGTCTTTGGCT-1  GSE140819_TTTGTTGTCTTTGGCT-1  \n",
       "GSE140819_TTTGTTGTCTTTGTCG-1  GSE140819_TTTGTTGTCTTTGTCG-1  \n",
       "\n",
       "[6794880 rows x 5 columns]"
      ]
     },
     "execution_count": 54,
     "metadata": {},
     "output_type": "execute_result"
    }
   ],
   "source": [
    "sample.obs"
   ]
  },
  {
   "cell_type": "markdown",
   "metadata": {},
   "source": [
    "### 4. Convert AnnData objects to SingleCellExperiment objects"
   ]
  },
  {
   "cell_type": "code",
   "execution_count": 55,
   "metadata": {},
   "outputs": [
    {
     "name": "stderr",
     "output_type": "stream",
     "text": [
      "/home/s4543064/miniforge3/envs/test/lib/python3.12/site-packages/anndata/_core/anndata.py:1908: UserWarning: Variable names are not unique. To make them unique, call `.var_names_make_unique`.\n",
      "  utils.warn_names_duplicates(\"var\")\n",
      "/home/s4543064/miniforge3/envs/test/lib/python3.12/functools.py:909: UserWarning: Duplicated var_names: Index(['AKR1C3', 'AKR1C3', 'ATRIP', 'ATRIP', 'BLOC1S5', 'BLOC1S5', 'C11orf71',\n",
      "       'C11orf71', 'C17orf100', 'C17orf100', 'C1QTNF9B-AS1', 'C1QTNF9B-AS1',\n",
      "       'CAPS', 'CAPS', 'CCDC7', 'CCDC7', 'CFAP99', 'CFAP99', 'CRHR1', 'CRHR1',\n",
      "       'CYB561D2', 'CYB561D2', 'ECSCR', 'ECSCR', 'FAM231C', 'FAM231C', 'FBF1',\n",
      "       'FBF1', 'IGHV2-70', 'IGHV2-70', 'LINC00864', 'LINC00864', 'LINC01297',\n",
      "       'LINC01297', 'LINC01422', 'LINC01422', 'LINC01481', 'LINC01481',\n",
      "       'MATR3', 'MATR3', 'PABPC1L2B-AS1', 'PABPC1L2B-AS1', 'PGM5-AS1',\n",
      "       'PGM5-AS1', 'PIK3R3', 'PIK3R3', 'PRICKLE2-AS1', 'PRICKLE2-AS1',\n",
      "       'PRICKLE4', 'PRICKLE4', 'RABL6', 'RABL6', 'RAET1E-AS1', 'RAET1E-AS1',\n",
      "       'RGS5', 'RGS5', 'SERPINA3', 'SERPINA3', 'SPATA13', 'SPATA13', 'TBC1D26',\n",
      "       'TBC1D26', 'TIMM10B', 'TIMM10B', 'TMBIM4', 'TMBIM4', 'TMEM256-PLSCR3',\n",
      "       'TMEM256-PLSCR3'],\n",
      "      dtype='object')\n",
      "  return dispatch(args[0].__class__)(*args, **kw)\n",
      "/home/s4543064/miniforge3/envs/test/lib/python3.12/site-packages/anndata/_core/anndata.py:1908: UserWarning: Variable names are not unique. To make them unique, call `.var_names_make_unique`.\n",
      "  utils.warn_names_duplicates(\"var\")\n",
      "/home/s4543064/miniforge3/envs/test/lib/python3.12/functools.py:909: UserWarning: Duplicated var_names: Index(['AKR1C3', 'AKR1C3', 'ATRIP', 'ATRIP', 'BLOC1S5', 'BLOC1S5', 'C11orf71',\n",
      "       'C11orf71', 'C17orf100', 'C17orf100', 'C1QTNF9B-AS1', 'C1QTNF9B-AS1',\n",
      "       'CAPS', 'CAPS', 'CCDC7', 'CCDC7', 'CFAP99', 'CFAP99', 'CRHR1', 'CRHR1',\n",
      "       'CYB561D2', 'CYB561D2', 'ECSCR', 'ECSCR', 'FAM231C', 'FAM231C', 'FBF1',\n",
      "       'FBF1', 'IGHV2-70', 'IGHV2-70', 'LINC00864', 'LINC00864', 'LINC01297',\n",
      "       'LINC01297', 'LINC01422', 'LINC01422', 'LINC01481', 'LINC01481',\n",
      "       'MATR3', 'MATR3', 'PABPC1L2B-AS1', 'PABPC1L2B-AS1', 'PGM5-AS1',\n",
      "       'PGM5-AS1', 'PIK3R3', 'PIK3R3', 'PRICKLE2-AS1', 'PRICKLE2-AS1',\n",
      "       'PRICKLE4', 'PRICKLE4', 'RABL6', 'RABL6', 'RAET1E-AS1', 'RAET1E-AS1',\n",
      "       'RGS5', 'RGS5', 'SERPINA3', 'SERPINA3', 'SPATA13', 'SPATA13', 'TBC1D26',\n",
      "       'TBC1D26', 'TIMM10B', 'TIMM10B', 'TMBIM4', 'TMBIM4', 'TMEM256-PLSCR3',\n",
      "       'TMEM256-PLSCR3'],\n",
      "      dtype='object')\n",
      "  return dispatch(args[0].__class__)(*args, **kw)\n",
      "/home/s4543064/miniforge3/envs/test/lib/python3.12/site-packages/anndata/_core/anndata.py:1908: UserWarning: Variable names are not unique. To make them unique, call `.var_names_make_unique`.\n",
      "  utils.warn_names_duplicates(\"var\")\n",
      "/home/s4543064/miniforge3/envs/test/lib/python3.12/functools.py:909: UserWarning: Duplicated var_names: Index(['AKR1C3', 'AKR1C3', 'ATRIP', 'ATRIP', 'BLOC1S5', 'BLOC1S5', 'C11orf71',\n",
      "       'C11orf71', 'C17orf100', 'C17orf100', 'C1QTNF9B-AS1', 'C1QTNF9B-AS1',\n",
      "       'CAPS', 'CAPS', 'CCDC7', 'CCDC7', 'CFAP99', 'CFAP99', 'CRHR1', 'CRHR1',\n",
      "       'CYB561D2', 'CYB561D2', 'ECSCR', 'ECSCR', 'FAM231C', 'FAM231C', 'FBF1',\n",
      "       'FBF1', 'IGHV2-70', 'IGHV2-70', 'LINC00864', 'LINC00864', 'LINC01297',\n",
      "       'LINC01297', 'LINC01422', 'LINC01422', 'LINC01481', 'LINC01481',\n",
      "       'MATR3', 'MATR3', 'PABPC1L2B-AS1', 'PABPC1L2B-AS1', 'PGM5-AS1',\n",
      "       'PGM5-AS1', 'PIK3R3', 'PIK3R3', 'PRICKLE2-AS1', 'PRICKLE2-AS1',\n",
      "       'PRICKLE4', 'PRICKLE4', 'RABL6', 'RABL6', 'RAET1E-AS1', 'RAET1E-AS1',\n",
      "       'RGS5', 'RGS5', 'SERPINA3', 'SERPINA3', 'SPATA13', 'SPATA13', 'TBC1D26',\n",
      "       'TBC1D26', 'TIMM10B', 'TIMM10B', 'TMBIM4', 'TMBIM4', 'TMEM256-PLSCR3',\n",
      "       'TMEM256-PLSCR3'],\n",
      "      dtype='object')\n",
      "  return dispatch(args[0].__class__)(*args, **kw)\n",
      "/home/s4543064/miniforge3/envs/test/lib/python3.12/site-packages/anndata/_core/anndata.py:1908: UserWarning: Variable names are not unique. To make them unique, call `.var_names_make_unique`.\n",
      "  utils.warn_names_duplicates(\"var\")\n",
      "/home/s4543064/miniforge3/envs/test/lib/python3.12/functools.py:909: UserWarning: Duplicated var_names: Index(['AKR1C3', 'AKR1C3', 'ATRIP', 'ATRIP', 'BLOC1S5', 'BLOC1S5', 'C11orf71',\n",
      "       'C11orf71', 'C17orf100', 'C17orf100', 'C1QTNF9B-AS1', 'C1QTNF9B-AS1',\n",
      "       'CAPS', 'CAPS', 'CCDC7', 'CCDC7', 'CFAP99', 'CFAP99', 'CRHR1', 'CRHR1',\n",
      "       'CYB561D2', 'CYB561D2', 'ECSCR', 'ECSCR', 'FAM231C', 'FAM231C', 'FBF1',\n",
      "       'FBF1', 'IGHV2-70', 'IGHV2-70', 'LINC00864', 'LINC00864', 'LINC01297',\n",
      "       'LINC01297', 'LINC01422', 'LINC01422', 'LINC01481', 'LINC01481',\n",
      "       'MATR3', 'MATR3', 'PABPC1L2B-AS1', 'PABPC1L2B-AS1', 'PGM5-AS1',\n",
      "       'PGM5-AS1', 'PIK3R3', 'PIK3R3', 'PRICKLE2-AS1', 'PRICKLE2-AS1',\n",
      "       'PRICKLE4', 'PRICKLE4', 'RABL6', 'RABL6', 'RAET1E-AS1', 'RAET1E-AS1',\n",
      "       'RGS5', 'RGS5', 'SERPINA3', 'SERPINA3', 'SPATA13', 'SPATA13', 'TBC1D26',\n",
      "       'TBC1D26', 'TIMM10B', 'TIMM10B', 'TMBIM4', 'TMBIM4', 'TMEM256-PLSCR3',\n",
      "       'TMEM256-PLSCR3'],\n",
      "      dtype='object')\n",
      "  return dispatch(args[0].__class__)(*args, **kw)\n",
      "/home/s4543064/miniforge3/envs/test/lib/python3.12/site-packages/anndata/_core/anndata.py:1908: UserWarning: Variable names are not unique. To make them unique, call `.var_names_make_unique`.\n",
      "  utils.warn_names_duplicates(\"var\")\n",
      "/home/s4543064/miniforge3/envs/test/lib/python3.12/functools.py:909: UserWarning: Duplicated var_names: Index(['AKR1C3', 'AKR1C3', 'ATRIP', 'ATRIP', 'BLOC1S5', 'BLOC1S5', 'C11orf71',\n",
      "       'C11orf71', 'C17orf100', 'C17orf100', 'C1QTNF9B-AS1', 'C1QTNF9B-AS1',\n",
      "       'CAPS', 'CAPS', 'CCDC7', 'CCDC7', 'CFAP99', 'CFAP99', 'CRHR1', 'CRHR1',\n",
      "       'CYB561D2', 'CYB561D2', 'ECSCR', 'ECSCR', 'FAM231C', 'FAM231C', 'FBF1',\n",
      "       'FBF1', 'IGHV2-70', 'IGHV2-70', 'LINC00864', 'LINC00864', 'LINC01297',\n",
      "       'LINC01297', 'LINC01422', 'LINC01422', 'LINC01481', 'LINC01481',\n",
      "       'MATR3', 'MATR3', 'PABPC1L2B-AS1', 'PABPC1L2B-AS1', 'PGM5-AS1',\n",
      "       'PGM5-AS1', 'PIK3R3', 'PIK3R3', 'PRICKLE2-AS1', 'PRICKLE2-AS1',\n",
      "       'PRICKLE4', 'PRICKLE4', 'RABL6', 'RABL6', 'RAET1E-AS1', 'RAET1E-AS1',\n",
      "       'RGS5', 'RGS5', 'SERPINA3', 'SERPINA3', 'SPATA13', 'SPATA13', 'TBC1D26',\n",
      "       'TBC1D26', 'TIMM10B', 'TIMM10B', 'TMBIM4', 'TMBIM4', 'TMEM256-PLSCR3',\n",
      "       'TMEM256-PLSCR3'],\n",
      "      dtype='object')\n",
      "  return dispatch(args[0].__class__)(*args, **kw)\n",
      "/home/s4543064/miniforge3/envs/test/lib/python3.12/site-packages/anndata/_core/anndata.py:1908: UserWarning: Variable names are not unique. To make them unique, call `.var_names_make_unique`.\n",
      "  utils.warn_names_duplicates(\"var\")\n",
      "/home/s4543064/miniforge3/envs/test/lib/python3.12/functools.py:909: UserWarning: Duplicated var_names: Index(['ABCF2', 'ABCF2', 'ATXN7', 'ATXN7', 'CCDC39', 'CCDC39', 'COG8', 'COG8',\n",
      "       'CYB561D2', 'CYB561D2', 'DIABLO', 'DIABLO', 'EMG1', 'EMG1', 'H2BFS',\n",
      "       'H2BFS', 'HSPA14', 'HSPA14', 'IGF2', 'IGF2', 'LINC01238', 'LINC01238',\n",
      "       'LINC01505', 'LINC01505', 'LINC02203', 'LINC02203', 'MATR3', 'MATR3',\n",
      "       'PDE11A', 'PDE11A', 'PINX1', 'PINX1', 'POLR2J3', 'POLR2J3', 'PRSS50',\n",
      "       'PRSS50', 'RGS5', 'RGS5', 'SCO2', 'SCO2', 'SOD2', 'SOD2', 'TBCE',\n",
      "       'TBCE', 'TMSB15B', 'TMSB15B', 'TXNRD3NB', 'TXNRD3NB'],\n",
      "      dtype='object')\n",
      "  return dispatch(args[0].__class__)(*args, **kw)\n",
      "/home/s4543064/miniforge3/envs/test/lib/python3.12/site-packages/anndata/_core/anndata.py:1908: UserWarning: Variable names are not unique. To make them unique, call `.var_names_make_unique`.\n",
      "  utils.warn_names_duplicates(\"var\")\n",
      "/home/s4543064/miniforge3/envs/test/lib/python3.12/functools.py:909: UserWarning: Duplicated var_names: Index(['ABCF2', 'ABCF2', 'ATXN7', 'ATXN7', 'CCDC39', 'CCDC39', 'COG8', 'COG8',\n",
      "       'CYB561D2', 'CYB561D2', 'DIABLO', 'DIABLO', 'EMG1', 'EMG1', 'H2BFS',\n",
      "       'H2BFS', 'HSPA14', 'HSPA14', 'IGF2', 'IGF2', 'LINC01238', 'LINC01238',\n",
      "       'LINC01505', 'LINC01505', 'LINC02203', 'LINC02203', 'MATR3', 'MATR3',\n",
      "       'PDE11A', 'PDE11A', 'PINX1', 'PINX1', 'POLR2J3', 'POLR2J3', 'PRSS50',\n",
      "       'PRSS50', 'RGS5', 'RGS5', 'SCO2', 'SCO2', 'SOD2', 'SOD2', 'TBCE',\n",
      "       'TBCE', 'TMSB15B', 'TMSB15B', 'TXNRD3NB', 'TXNRD3NB'],\n",
      "      dtype='object')\n",
      "  return dispatch(args[0].__class__)(*args, **kw)\n",
      "/home/s4543064/miniforge3/envs/test/lib/python3.12/site-packages/anndata/_core/anndata.py:1908: UserWarning: Variable names are not unique. To make them unique, call `.var_names_make_unique`.\n",
      "  utils.warn_names_duplicates(\"var\")\n",
      "/home/s4543064/miniforge3/envs/test/lib/python3.12/functools.py:909: UserWarning: Duplicated var_names: Index(['AKR1C3', 'AKR1C3', 'ATRIP', 'ATRIP', 'BLOC1S5', 'BLOC1S5', 'C11orf71',\n",
      "       'C11orf71', 'C17orf100', 'C17orf100', 'C1QTNF9B-AS1', 'C1QTNF9B-AS1',\n",
      "       'CAPS', 'CAPS', 'CCDC7', 'CCDC7', 'CFAP99', 'CFAP99', 'CRHR1', 'CRHR1',\n",
      "       'CYB561D2', 'CYB561D2', 'ECSCR', 'ECSCR', 'FAM231C', 'FAM231C', 'FBF1',\n",
      "       'FBF1', 'IGHV2-70', 'IGHV2-70', 'LINC00864', 'LINC00864', 'LINC01297',\n",
      "       'LINC01297', 'LINC01422', 'LINC01422', 'LINC01481', 'LINC01481',\n",
      "       'MATR3', 'MATR3', 'PABPC1L2B-AS1', 'PABPC1L2B-AS1', 'PGM5-AS1',\n",
      "       'PGM5-AS1', 'PIK3R3', 'PIK3R3', 'PRICKLE2-AS1', 'PRICKLE2-AS1',\n",
      "       'PRICKLE4', 'PRICKLE4', 'RABL6', 'RABL6', 'RAET1E-AS1', 'RAET1E-AS1',\n",
      "       'RGS5', 'RGS5', 'SERPINA3', 'SERPINA3', 'SPATA13', 'SPATA13', 'TBC1D26',\n",
      "       'TBC1D26', 'TIMM10B', 'TIMM10B', 'TMBIM4', 'TMBIM4', 'TMEM256-PLSCR3',\n",
      "       'TMEM256-PLSCR3'],\n",
      "      dtype='object')\n",
      "  return dispatch(args[0].__class__)(*args, **kw)\n",
      "/home/s4543064/miniforge3/envs/test/lib/python3.12/site-packages/anndata/_core/anndata.py:1908: UserWarning: Variable names are not unique. To make them unique, call `.var_names_make_unique`.\n",
      "  utils.warn_names_duplicates(\"var\")\n",
      "/home/s4543064/miniforge3/envs/test/lib/python3.12/functools.py:909: UserWarning: Duplicated var_names: Index(['AKR1C3', 'AKR1C3', 'ATRIP', 'ATRIP', 'BLOC1S5', 'BLOC1S5', 'C11orf71',\n",
      "       'C11orf71', 'C17orf100', 'C17orf100', 'C1QTNF9B-AS1', 'C1QTNF9B-AS1',\n",
      "       'CAPS', 'CAPS', 'CCDC7', 'CCDC7', 'CFAP99', 'CFAP99', 'CRHR1', 'CRHR1',\n",
      "       'CYB561D2', 'CYB561D2', 'ECSCR', 'ECSCR', 'FAM231C', 'FAM231C', 'FBF1',\n",
      "       'FBF1', 'IGHV2-70', 'IGHV2-70', 'LINC00864', 'LINC00864', 'LINC01297',\n",
      "       'LINC01297', 'LINC01422', 'LINC01422', 'LINC01481', 'LINC01481',\n",
      "       'MATR3', 'MATR3', 'PABPC1L2B-AS1', 'PABPC1L2B-AS1', 'PGM5-AS1',\n",
      "       'PGM5-AS1', 'PIK3R3', 'PIK3R3', 'PRICKLE2-AS1', 'PRICKLE2-AS1',\n",
      "       'PRICKLE4', 'PRICKLE4', 'RABL6', 'RABL6', 'RAET1E-AS1', 'RAET1E-AS1',\n",
      "       'RGS5', 'RGS5', 'SERPINA3', 'SERPINA3', 'SPATA13', 'SPATA13', 'TBC1D26',\n",
      "       'TBC1D26', 'TIMM10B', 'TIMM10B', 'TMBIM4', 'TMBIM4', 'TMEM256-PLSCR3',\n",
      "       'TMEM256-PLSCR3'],\n",
      "      dtype='object')\n",
      "  return dispatch(args[0].__class__)(*args, **kw)\n"
     ]
    }
   ],
   "source": [
    "from pathlib import Path\n",
    "\n",
    "import anndata2ri\n",
    "import rpy2.robjects as robjects\n",
    "from rpy2.robjects import r\n",
    "from rpy2.robjects.conversion import localconverter\n",
    "\n",
    "# Specify directory paths\n",
    "write_directory = Path('/scratch/user/s4543064/xiaohan-john-project/write/GSE140819')\n",
    "\n",
    "# Loop through all files in the directory\n",
    "for file in write_directory.iterdir():\n",
    "    sample_name = file.stem\n",
    "    if \"_uni.h5ad\" in file.name:\n",
    "        sample_anndata = anndata.read_h5ad(file)\n",
    "        sample_sce_file = sample_name + \".rds\"\n",
    "\n",
    "        with localconverter(anndata2ri.converter):\n",
    "            sample_sce = anndata2ri.py2rpy(sample_anndata)\n",
    "        \n",
    "        # Save the sce object in .rds file\n",
    "        robjects.globalenv[\"sample_sce\"] = sample_sce\n",
    "        sample_sce_path = write_directory / sample_sce_file\n",
    "        robjects.r(\"saveRDS(sample_sce, file='{}')\".format(sample_sce_path))"
   ]
  },
  {
   "cell_type": "code",
   "execution_count": 31,
   "metadata": {},
   "outputs": [
    {
     "name": "stdout",
     "output_type": "stream",
     "text": [
      "class: SingleCellExperiment \n",
      "dim: 33694 737280 \n",
      "metadata(0):\n",
      "assays(1): X\n",
      "rownames(33694): RP11-34P13.3 FAM138A ... AC213203.1 FAM231B\n",
      "rowData names(1): gene_ids\n",
      "colnames(737280): GSE140819_AAACCTGAGAAACCAT-1\n",
      "  GSE140819_AAACCTGAGAAACCGC-1 ... GSE140819_TTTGTCATCTTTAGTC-1\n",
      "  GSE140819_TTTGTCATCTTTCCTC-1\n",
      "colData names(5): cancer_type dataset tissue sample_barcode uni_barcode\n",
      "reducedDimNames(0):\n",
      "mainExpName: NULL\n",
      "altExpNames(0):\n",
      "\n"
     ]
    }
   ],
   "source": [
    "print(sample_sce)"
   ]
  }
 ],
 "metadata": {
  "kernelspec": {
   "display_name": "Python 3 (ipykernel)",
   "language": "python",
   "name": "python3"
  }
 },
 "nbformat": 4,
 "nbformat_minor": 2
}
