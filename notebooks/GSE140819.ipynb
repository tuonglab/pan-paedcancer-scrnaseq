{
 "cells": [
  {
   "cell_type": "markdown",
   "metadata": {},
   "source": [
    "### 1. General info of dataset GSE140819\n",
    "\n",
    "This is the Jupyter Notebook for dataset GSE140819. Its dataset includes a single h5 files for each sample.\n",
    ". \n",
    "In total, there are 39 samples from verious origins processed with different technologies. Within the pediatric tumours are:\n",
    "\n",
    "NB: neuroblastoma\n",
    "\n",
    "HTAPP-433: glioblastoma multiforme\n",
    "\n",
    "sarcoma: HTAPP-951, HTAPP-975"
   ]
  },
  {
   "cell_type": "code",
   "execution_count": 2,
   "metadata": {},
   "outputs": [],
   "source": [
    "# Environment setup\n",
    "import numpy as np\n",
    "import pandas as pd\n",
    "import scanpy as sc\n",
    "import anndata as anndata\n",
    "import scipy"
   ]
  },
  {
   "cell_type": "markdown",
   "metadata": {},
   "source": [
    "### 2. AnnData object of each sample"
   ]
  },
  {
   "cell_type": "code",
   "execution_count": 5,
   "metadata": {},
   "outputs": [
    {
     "name": "stderr",
     "output_type": "stream",
     "text": [
      "/home/uqjsaxo1/miniforge3/envs/env/lib/python3.10/site-packages/anndata/_core/anndata.py:1908: UserWarning: Variable names are not unique. To make them unique, call `.var_names_make_unique`.\n",
      "  utils.warn_names_duplicates(\"var\")\n"
     ]
    },
    {
     "name": "stdout",
     "output_type": "stream",
     "text": [
      "AnnData object with n_obs × n_vars = 737280 × 33694\n",
      "    obs: 'cancer_type', 'dataset', 'tissue', 'sample_barcode', 'uni_barcode'\n",
      "    var: 'gene_ids'\n"
     ]
    },
    {
     "name": "stderr",
     "output_type": "stream",
     "text": [
      "/home/uqjsaxo1/miniforge3/envs/env/lib/python3.10/site-packages/anndata/_core/anndata.py:1908: UserWarning: Variable names are not unique. To make them unique, call `.var_names_make_unique`.\n",
      "  utils.warn_names_duplicates(\"var\")\n"
     ]
    },
    {
     "name": "stdout",
     "output_type": "stream",
     "text": [
      "AnnData object with n_obs × n_vars = 737280 × 33694\n",
      "    obs: 'cancer_type', 'dataset', 'tissue', 'sample_barcode', 'uni_barcode'\n",
      "    var: 'gene_ids'\n"
     ]
    },
    {
     "name": "stderr",
     "output_type": "stream",
     "text": [
      "/home/uqjsaxo1/miniforge3/envs/env/lib/python3.10/site-packages/anndata/_core/anndata.py:1908: UserWarning: Variable names are not unique. To make them unique, call `.var_names_make_unique`.\n",
      "  utils.warn_names_duplicates(\"var\")\n"
     ]
    },
    {
     "name": "stdout",
     "output_type": "stream",
     "text": [
      "AnnData object with n_obs × n_vars = 737280 × 33694\n",
      "    obs: 'cancer_type', 'dataset', 'tissue', 'sample_barcode', 'uni_barcode'\n",
      "    var: 'gene_ids'\n"
     ]
    },
    {
     "name": "stderr",
     "output_type": "stream",
     "text": [
      "/home/uqjsaxo1/miniforge3/envs/env/lib/python3.10/site-packages/anndata/_core/anndata.py:1908: UserWarning: Variable names are not unique. To make them unique, call `.var_names_make_unique`.\n",
      "  utils.warn_names_duplicates(\"var\")\n"
     ]
    },
    {
     "name": "stdout",
     "output_type": "stream",
     "text": [
      "AnnData object with n_obs × n_vars = 737280 × 33694\n",
      "    obs: 'cancer_type', 'dataset', 'tissue', 'sample_barcode', 'uni_barcode'\n",
      "    var: 'gene_ids'\n"
     ]
    },
    {
     "name": "stderr",
     "output_type": "stream",
     "text": [
      "/home/uqjsaxo1/miniforge3/envs/env/lib/python3.10/site-packages/anndata/_core/anndata.py:1908: UserWarning: Variable names are not unique. To make them unique, call `.var_names_make_unique`.\n",
      "  utils.warn_names_duplicates(\"var\")\n",
      "/home/uqjsaxo1/miniforge3/envs/env/lib/python3.10/site-packages/anndata/_core/anndata.py:1908: UserWarning: Variable names are not unique. To make them unique, call `.var_names_make_unique`.\n",
      "  utils.warn_names_duplicates(\"var\")\n"
     ]
    },
    {
     "name": "stdout",
     "output_type": "stream",
     "text": [
      "AnnData object with n_obs × n_vars = 6794880 × 33538\n",
      "    obs: 'cancer_type', 'dataset', 'tissue', 'sample_barcode', 'uni_barcode'\n",
      "    var: 'gene_ids', 'feature_types', 'genome'\n"
     ]
    },
    {
     "ename": "FileNotFoundError",
     "evalue": "[Errno 2] Unable to synchronously open file (unable to open file: name = 'xiaohan-john-project/data/GSE140819_RAW/GSM4186994_HTAPP-951-SMP-4652_TST-V3_channel1_raw_feature_bc_matrix.h5', errno = 2, error message = 'No such file or directory', flags = 0, o_flags = 0)",
     "output_type": "error",
     "traceback": [
      "\u001b[0;31m---------------------------------------------------------------------------\u001b[0m",
      "\u001b[0;31mFileNotFoundError\u001b[0m                         Traceback (most recent call last)",
      "Cell \u001b[0;32mIn[5], line 46\u001b[0m\n\u001b[1;32m     36\u001b[0m process_file(sc\u001b[38;5;241m.\u001b[39mread_10x_h5(\u001b[38;5;124m'\u001b[39m\u001b[38;5;124mxiaohan-john-project/data/GSE140819_RAW/GSM4186961_HTAPP-312-SMP-901_fresh-T1_channel1_raw_gene_bc_matrices_h5.h5\u001b[39m\u001b[38;5;124m'\u001b[39m),\n\u001b[1;32m     37\u001b[0m             \u001b[38;5;124m'\u001b[39m\u001b[38;5;124mGSM4186961_HTAPP-312-SMP-901_fresh-T1\u001b[39m\u001b[38;5;124m'\u001b[39m,\n\u001b[1;32m     38\u001b[0m             \u001b[38;5;124m'\u001b[39m\u001b[38;5;124mNeuroendocrine\u001b[39m\u001b[38;5;124m'\u001b[39m, \n\u001b[1;32m     39\u001b[0m             \u001b[38;5;124m'\u001b[39m\u001b[38;5;124mNeuroblastoma\u001b[39m\u001b[38;5;124m'\u001b[39m\n\u001b[1;32m     40\u001b[0m         )\n\u001b[1;32m     41\u001b[0m process_file(sc\u001b[38;5;241m.\u001b[39mread_10x_h5(\u001b[38;5;124m'\u001b[39m\u001b[38;5;124mxiaohan-john-project/data/GSE140819_RAW/GSM4186982_HTAPP-443-SMP-5491_CST_channel1_raw_feature_bc_matrix.h5\u001b[39m\u001b[38;5;124m'\u001b[39m),\n\u001b[1;32m     42\u001b[0m             \u001b[38;5;124m'\u001b[39m\u001b[38;5;124mGSM4186982_HTAPP-443-SMP-5491_CST\u001b[39m\u001b[38;5;124m'\u001b[39m,\n\u001b[1;32m     43\u001b[0m             \u001b[38;5;124m'\u001b[39m\u001b[38;5;124mNeuronal\u001b[39m\u001b[38;5;124m'\u001b[39m, \n\u001b[1;32m     44\u001b[0m             \u001b[38;5;124m'\u001b[39m\u001b[38;5;124mGlioblastoma\u001b[39m\u001b[38;5;124m'\u001b[39m\n\u001b[1;32m     45\u001b[0m         )\n\u001b[0;32m---> 46\u001b[0m process_file(\u001b[43msc\u001b[49m\u001b[38;5;241;43m.\u001b[39;49m\u001b[43mread_10x_h5\u001b[49m\u001b[43m(\u001b[49m\u001b[38;5;124;43m'\u001b[39;49m\u001b[38;5;124;43mxiaohan-john-project/data/GSE140819_RAW/GSM4186994_HTAPP-951-SMP-4652_TST-V3_channel1_raw_feature_bc_matrix.h5\u001b[39;49m\u001b[38;5;124;43m'\u001b[39;49m\u001b[43m)\u001b[49m,\n\u001b[1;32m     47\u001b[0m             \u001b[38;5;124m'\u001b[39m\u001b[38;5;124mGSM4186994_HTAPP-951-SMP-4652_TST-V3\u001b[39m\u001b[38;5;124m'\u001b[39m, \n\u001b[1;32m     48\u001b[0m             \u001b[38;5;124m'\u001b[39m\u001b[38;5;124mMesenchymal\u001b[39m\u001b[38;5;124m'\u001b[39m, \n\u001b[1;32m     49\u001b[0m             \u001b[38;5;124m'\u001b[39m\u001b[38;5;124mSarcoma\u001b[39m\u001b[38;5;124m'\u001b[39m\n\u001b[1;32m     50\u001b[0m         )\n\u001b[1;32m     51\u001b[0m process_file(sc\u001b[38;5;241m.\u001b[39mread_10x_h5(\u001b[38;5;124m'\u001b[39m\u001b[38;5;124mxiaohan-john-project/data/GSE140819_RAW/GSM4186995_HTAPP-975-SMP-4771_TST-V3_channel1_raw_feature_bc_matrix.h5\u001b[39m\u001b[38;5;124m'\u001b[39m),\n\u001b[1;32m     52\u001b[0m             \u001b[38;5;124m'\u001b[39m\u001b[38;5;124mGSM4186995_HTAPP-975-SMP-4771_TST-V3\u001b[39m\u001b[38;5;124m'\u001b[39m, \n\u001b[1;32m     53\u001b[0m             \u001b[38;5;124m'\u001b[39m\u001b[38;5;124mMesenchymal\u001b[39m\u001b[38;5;124m'\u001b[39m, \n\u001b[1;32m     54\u001b[0m             \u001b[38;5;124m'\u001b[39m\u001b[38;5;124mSarcoma\u001b[39m\u001b[38;5;124m'\u001b[39m\n\u001b[1;32m     55\u001b[0m         )\n",
      "File \u001b[0;32m~/miniforge3/envs/env/lib/python3.10/site-packages/scanpy/readwrite.py:179\u001b[0m, in \u001b[0;36mread_10x_h5\u001b[0;34m(filename, genome, gex_only, backup_url)\u001b[0m\n\u001b[1;32m    177\u001b[0m \u001b[38;5;28;01mif\u001b[39;00m \u001b[38;5;129;01mnot\u001b[39;00m is_present:\n\u001b[1;32m    178\u001b[0m     logg\u001b[38;5;241m.\u001b[39mdebug(\u001b[38;5;124mf\u001b[39m\u001b[38;5;124m'\u001b[39m\u001b[38;5;124m... did not find original file \u001b[39m\u001b[38;5;132;01m{\u001b[39;00mfilename\u001b[38;5;132;01m}\u001b[39;00m\u001b[38;5;124m'\u001b[39m)\n\u001b[0;32m--> 179\u001b[0m \u001b[38;5;28;01mwith\u001b[39;00m \u001b[43mh5py\u001b[49m\u001b[38;5;241;43m.\u001b[39;49m\u001b[43mFile\u001b[49m\u001b[43m(\u001b[49m\u001b[38;5;28;43mstr\u001b[39;49m\u001b[43m(\u001b[49m\u001b[43mfilename\u001b[49m\u001b[43m)\u001b[49m\u001b[43m,\u001b[49m\u001b[43m \u001b[49m\u001b[38;5;124;43m'\u001b[39;49m\u001b[38;5;124;43mr\u001b[39;49m\u001b[38;5;124;43m'\u001b[39;49m\u001b[43m)\u001b[49m \u001b[38;5;28;01mas\u001b[39;00m f:\n\u001b[1;32m    180\u001b[0m     v3 \u001b[38;5;241m=\u001b[39m \u001b[38;5;124m'\u001b[39m\u001b[38;5;124m/matrix\u001b[39m\u001b[38;5;124m'\u001b[39m \u001b[38;5;129;01min\u001b[39;00m f\n\u001b[1;32m    181\u001b[0m \u001b[38;5;28;01mif\u001b[39;00m v3:\n",
      "File \u001b[0;32m~/miniforge3/envs/env/lib/python3.10/site-packages/h5py/_hl/files.py:562\u001b[0m, in \u001b[0;36mFile.__init__\u001b[0;34m(self, name, mode, driver, libver, userblock_size, swmr, rdcc_nslots, rdcc_nbytes, rdcc_w0, track_order, fs_strategy, fs_persist, fs_threshold, fs_page_size, page_buf_size, min_meta_keep, min_raw_keep, locking, alignment_threshold, alignment_interval, meta_block_size, **kwds)\u001b[0m\n\u001b[1;32m    553\u001b[0m     fapl \u001b[38;5;241m=\u001b[39m make_fapl(driver, libver, rdcc_nslots, rdcc_nbytes, rdcc_w0,\n\u001b[1;32m    554\u001b[0m                      locking, page_buf_size, min_meta_keep, min_raw_keep,\n\u001b[1;32m    555\u001b[0m                      alignment_threshold\u001b[38;5;241m=\u001b[39malignment_threshold,\n\u001b[1;32m    556\u001b[0m                      alignment_interval\u001b[38;5;241m=\u001b[39malignment_interval,\n\u001b[1;32m    557\u001b[0m                      meta_block_size\u001b[38;5;241m=\u001b[39mmeta_block_size,\n\u001b[1;32m    558\u001b[0m                      \u001b[38;5;241m*\u001b[39m\u001b[38;5;241m*\u001b[39mkwds)\n\u001b[1;32m    559\u001b[0m     fcpl \u001b[38;5;241m=\u001b[39m make_fcpl(track_order\u001b[38;5;241m=\u001b[39mtrack_order, fs_strategy\u001b[38;5;241m=\u001b[39mfs_strategy,\n\u001b[1;32m    560\u001b[0m                      fs_persist\u001b[38;5;241m=\u001b[39mfs_persist, fs_threshold\u001b[38;5;241m=\u001b[39mfs_threshold,\n\u001b[1;32m    561\u001b[0m                      fs_page_size\u001b[38;5;241m=\u001b[39mfs_page_size)\n\u001b[0;32m--> 562\u001b[0m     fid \u001b[38;5;241m=\u001b[39m \u001b[43mmake_fid\u001b[49m\u001b[43m(\u001b[49m\u001b[43mname\u001b[49m\u001b[43m,\u001b[49m\u001b[43m \u001b[49m\u001b[43mmode\u001b[49m\u001b[43m,\u001b[49m\u001b[43m \u001b[49m\u001b[43muserblock_size\u001b[49m\u001b[43m,\u001b[49m\u001b[43m \u001b[49m\u001b[43mfapl\u001b[49m\u001b[43m,\u001b[49m\u001b[43m \u001b[49m\u001b[43mfcpl\u001b[49m\u001b[43m,\u001b[49m\u001b[43m \u001b[49m\u001b[43mswmr\u001b[49m\u001b[38;5;241;43m=\u001b[39;49m\u001b[43mswmr\u001b[49m\u001b[43m)\u001b[49m\n\u001b[1;32m    564\u001b[0m \u001b[38;5;28;01mif\u001b[39;00m \u001b[38;5;28misinstance\u001b[39m(libver, \u001b[38;5;28mtuple\u001b[39m):\n\u001b[1;32m    565\u001b[0m     \u001b[38;5;28mself\u001b[39m\u001b[38;5;241m.\u001b[39m_libver \u001b[38;5;241m=\u001b[39m libver\n",
      "File \u001b[0;32m~/miniforge3/envs/env/lib/python3.10/site-packages/h5py/_hl/files.py:235\u001b[0m, in \u001b[0;36mmake_fid\u001b[0;34m(name, mode, userblock_size, fapl, fcpl, swmr)\u001b[0m\n\u001b[1;32m    233\u001b[0m     \u001b[38;5;28;01mif\u001b[39;00m swmr \u001b[38;5;129;01mand\u001b[39;00m swmr_support:\n\u001b[1;32m    234\u001b[0m         flags \u001b[38;5;241m|\u001b[39m\u001b[38;5;241m=\u001b[39m h5f\u001b[38;5;241m.\u001b[39mACC_SWMR_READ\n\u001b[0;32m--> 235\u001b[0m     fid \u001b[38;5;241m=\u001b[39m \u001b[43mh5f\u001b[49m\u001b[38;5;241;43m.\u001b[39;49m\u001b[43mopen\u001b[49m\u001b[43m(\u001b[49m\u001b[43mname\u001b[49m\u001b[43m,\u001b[49m\u001b[43m \u001b[49m\u001b[43mflags\u001b[49m\u001b[43m,\u001b[49m\u001b[43m \u001b[49m\u001b[43mfapl\u001b[49m\u001b[38;5;241;43m=\u001b[39;49m\u001b[43mfapl\u001b[49m\u001b[43m)\u001b[49m\n\u001b[1;32m    236\u001b[0m \u001b[38;5;28;01melif\u001b[39;00m mode \u001b[38;5;241m==\u001b[39m \u001b[38;5;124m'\u001b[39m\u001b[38;5;124mr+\u001b[39m\u001b[38;5;124m'\u001b[39m:\n\u001b[1;32m    237\u001b[0m     fid \u001b[38;5;241m=\u001b[39m h5f\u001b[38;5;241m.\u001b[39mopen(name, h5f\u001b[38;5;241m.\u001b[39mACC_RDWR, fapl\u001b[38;5;241m=\u001b[39mfapl)\n",
      "File \u001b[0;32mh5py/_objects.pyx:54\u001b[0m, in \u001b[0;36mh5py._objects.with_phil.wrapper\u001b[0;34m()\u001b[0m\n",
      "File \u001b[0;32mh5py/_objects.pyx:55\u001b[0m, in \u001b[0;36mh5py._objects.with_phil.wrapper\u001b[0;34m()\u001b[0m\n",
      "File \u001b[0;32mh5py/h5f.pyx:102\u001b[0m, in \u001b[0;36mh5py.h5f.open\u001b[0;34m()\u001b[0m\n",
      "\u001b[0;31mFileNotFoundError\u001b[0m: [Errno 2] Unable to synchronously open file (unable to open file: name = 'xiaohan-john-project/data/GSE140819_RAW/GSM4186994_HTAPP-951-SMP-4652_TST-V3_channel1_raw_feature_bc_matrix.h5', errno = 2, error message = 'No such file or directory', flags = 0, o_flags = 0)"
     ]
    }
   ],
   "source": [
    "from pathlib import Path\n",
    "\n",
    "# Specify directory paths\n",
    "data_directory = Path('/scratch/user/uqjsaxo1/xiaohan-john-project/data/GSE140819_RAW')\n",
    "write_directory = Path('/scratch/user/uqjsaxo1/xiaohan-john-project/write/GSE140819')\n",
    "\n",
    "def process_file(sample, sample_name, tissue_type, cancer_type):\n",
    "    sample.obs['cancer_type'] = cancer_type\n",
    "    sample.obs['dataset'] = 'GSE140819'\n",
    "    sample.obs['tissue'] = tissue_type\n",
    "    sample.obs['sample_barcode'] = sample_name\n",
    "    sample.obs['uni_barcode'] = sample.obs['dataset'] + '_' + sample.obs.index.astype(str)\n",
    "    sample.obs.set_index(\"uni_barcode\", drop=False, inplace=True)\n",
    "    print(sample)\n",
    "\n",
    "    # save the anndata object\n",
    "    sample_h5ad = sample_name + '_uni.h5ad'\n",
    "    output_path = write_directory / sample_h5ad\n",
    "    sample.write_h5ad(output_path, compression=\"gzip\")\n",
    "\n",
    "process_file(sc.read_10x_h5('xiaohan-john-project/data/GSE140819_RAW/GSM4186965_HTAPP-244-SMP-451_CST_channel1_raw_gene_bc_matrices_h5.h5'),\n",
    "            'GSM4186965_HTAPP-244-SMP-451_CST',\n",
    "            'Neuroendocrine', \n",
    "            'Neuroblastoma'\n",
    "        )\n",
    "process_file(sc.read_10x_h5('xiaohan-john-project/data/GSE140819_RAW/GSM4186963_HTAPP-656-SMP-3481_fresh-T1_channel1_raw_gene_bc_matrices_h5.h5'),\n",
    "            'GSM4186963_HTAPP-656-SMP-3481_fresh-T1',\n",
    "            'Neuroendocrine', \n",
    "            'Neuroblastoma'\n",
    "        )\n",
    "process_file(sc.read_10x_h5('xiaohan-john-project/data/GSE140819_RAW/GSM4186962_HTAPP-312-SMP-902_fresh-C4-T2_channel1_raw_gene_bc_matrices_h5.h5'),\n",
    "            'GSM4186962_HTAPP-312-SMP-902_fresh-C4-T2',\n",
    "            'Neuroendocrine', \n",
    "            'Neuroblastoma'\n",
    "        )\n",
    "process_file(sc.read_10x_h5('xiaohan-john-project/data/GSE140819_RAW/GSM4186961_HTAPP-312-SMP-901_fresh-T1_channel1_raw_gene_bc_matrices_h5.h5'),\n",
    "            'GSM4186961_HTAPP-312-SMP-901_fresh-T1',\n",
    "            'Neuroendocrine', \n",
    "            'Neuroblastoma'\n",
    "        )\n",
    "process_file(sc.read_10x_h5('xiaohan-john-project/data/GSE140819_RAW/GSM4186982_HTAPP-443-SMP-5491_CST_channel1_raw_feature_bc_matrix.h5'),\n",
    "            'GSM4186982_HTAPP-443-SMP-5491_CST',\n",
    "            'Neuronal', \n",
    "            'Glioblastoma'\n",
    "        )"
   ]
  },
  {
   "cell_type": "code",
   "execution_count": 6,
   "metadata": {},
   "outputs": [
    {
     "name": "stderr",
     "output_type": "stream",
     "text": [
      "/home/uqjsaxo1/miniforge3/envs/env/lib/python3.10/site-packages/anndata/_core/anndata.py:1908: UserWarning: Variable names are not unique. To make them unique, call `.var_names_make_unique`.\n",
      "  utils.warn_names_duplicates(\"var\")\n",
      "/home/uqjsaxo1/miniforge3/envs/env/lib/python3.10/site-packages/anndata/_core/anndata.py:1908: UserWarning: Variable names are not unique. To make them unique, call `.var_names_make_unique`.\n",
      "  utils.warn_names_duplicates(\"var\")\n"
     ]
    },
    {
     "name": "stdout",
     "output_type": "stream",
     "text": [
      "AnnData object with n_obs × n_vars = 6794880 × 33538\n",
      "    obs: 'cancer_type', 'dataset', 'tissue', 'sample_barcode', 'uni_barcode'\n",
      "    var: 'gene_ids', 'feature_types', 'genome'\n"
     ]
    },
    {
     "name": "stderr",
     "output_type": "stream",
     "text": [
      "/home/uqjsaxo1/miniforge3/envs/env/lib/python3.10/site-packages/anndata/_core/anndata.py:1908: UserWarning: Variable names are not unique. To make them unique, call `.var_names_make_unique`.\n",
      "  utils.warn_names_duplicates(\"var\")\n",
      "/home/uqjsaxo1/miniforge3/envs/env/lib/python3.10/site-packages/anndata/_core/anndata.py:1908: UserWarning: Variable names are not unique. To make them unique, call `.var_names_make_unique`.\n",
      "  utils.warn_names_duplicates(\"var\")\n"
     ]
    },
    {
     "name": "stdout",
     "output_type": "stream",
     "text": [
      "AnnData object with n_obs × n_vars = 6794880 × 33538\n",
      "    obs: 'cancer_type', 'dataset', 'tissue', 'sample_barcode', 'uni_barcode'\n",
      "    var: 'gene_ids', 'feature_types', 'genome'\n"
     ]
    }
   ],
   "source": [
    "process_file(sc.read_10x_h5('xiaohan-john-project/data/GSE140819_RAW/GSM4186993_HTAPP-951-SMP-4652_TST-V3_channel1_raw_feature_bc_matrix.h5'),\n",
    "            'GSM4186994_HTAPP-951-SMP-4652_TST-V3', \n",
    "            'Mesenchymal', \n",
    "            'Sarcoma'\n",
    "        )\n",
    "process_file(sc.read_10x_h5('xiaohan-john-project/data/GSE140819_RAW/GSM4186995_HTAPP-975-SMP-4771_TST-V3_channel1_raw_feature_bc_matrix.h5'),\n",
    "            'GSM4186995_HTAPP-975-SMP-4771_TST-V3', \n",
    "            'Mesenchymal', \n",
    "            'Sarcoma'\n",
    "        )"
   ]
  },
  {
   "cell_type": "markdown",
   "metadata": {},
   "source": [
    "### 3. Confirmation of created AnnData objects"
   ]
  },
  {
   "cell_type": "code",
   "execution_count": 7,
   "metadata": {},
   "outputs": [
    {
     "name": "stderr",
     "output_type": "stream",
     "text": [
      "/home/uqjsaxo1/miniforge3/envs/env/lib/python3.10/site-packages/anndata/_core/anndata.py:1908: UserWarning: Variable names are not unique. To make them unique, call `.var_names_make_unique`.\n",
      "  utils.warn_names_duplicates(\"var\")\n"
     ]
    },
    {
     "name": "stdout",
     "output_type": "stream",
     "text": [
      "AnnData object with n_obs × n_vars = 737280 × 33694\n",
      "    obs: 'cancer_type', 'dataset', 'tissue', 'sample_barcode', 'uni_barcode'\n",
      "    var: 'gene_ids'\n"
     ]
    },
    {
     "name": "stderr",
     "output_type": "stream",
     "text": [
      "/home/uqjsaxo1/miniforge3/envs/env/lib/python3.10/site-packages/anndata/_core/anndata.py:1908: UserWarning: Variable names are not unique. To make them unique, call `.var_names_make_unique`.\n",
      "  utils.warn_names_duplicates(\"var\")\n"
     ]
    },
    {
     "name": "stdout",
     "output_type": "stream",
     "text": [
      "AnnData object with n_obs × n_vars = 737280 × 33694\n",
      "    obs: 'cancer_type', 'dataset', 'tissue', 'sample_barcode', 'uni_barcode'\n",
      "    var: 'gene_ids'\n"
     ]
    },
    {
     "name": "stderr",
     "output_type": "stream",
     "text": [
      "/home/uqjsaxo1/miniforge3/envs/env/lib/python3.10/site-packages/anndata/_core/anndata.py:1908: UserWarning: Variable names are not unique. To make them unique, call `.var_names_make_unique`.\n",
      "  utils.warn_names_duplicates(\"var\")\n"
     ]
    },
    {
     "name": "stdout",
     "output_type": "stream",
     "text": [
      "AnnData object with n_obs × n_vars = 737280 × 33694\n",
      "    obs: 'cancer_type', 'dataset', 'tissue', 'sample_barcode', 'uni_barcode'\n",
      "    var: 'gene_ids'\n"
     ]
    },
    {
     "name": "stderr",
     "output_type": "stream",
     "text": [
      "/home/uqjsaxo1/miniforge3/envs/env/lib/python3.10/site-packages/anndata/_core/anndata.py:1908: UserWarning: Variable names are not unique. To make them unique, call `.var_names_make_unique`.\n",
      "  utils.warn_names_duplicates(\"var\")\n"
     ]
    },
    {
     "name": "stdout",
     "output_type": "stream",
     "text": [
      "AnnData object with n_obs × n_vars = 6794880 × 33538\n",
      "    obs: 'cancer_type', 'dataset', 'tissue', 'sample_barcode', 'uni_barcode'\n",
      "    var: 'gene_ids', 'feature_types', 'genome'\n"
     ]
    },
    {
     "name": "stderr",
     "output_type": "stream",
     "text": [
      "/home/uqjsaxo1/miniforge3/envs/env/lib/python3.10/site-packages/anndata/_core/anndata.py:1908: UserWarning: Variable names are not unique. To make them unique, call `.var_names_make_unique`.\n",
      "  utils.warn_names_duplicates(\"var\")\n"
     ]
    },
    {
     "name": "stdout",
     "output_type": "stream",
     "text": [
      "AnnData object with n_obs × n_vars = 6794880 × 33538\n",
      "    obs: 'cancer_type', 'dataset', 'tissue', 'sample_barcode', 'uni_barcode'\n",
      "    var: 'gene_ids', 'feature_types', 'genome'\n"
     ]
    },
    {
     "name": "stderr",
     "output_type": "stream",
     "text": [
      "/home/uqjsaxo1/miniforge3/envs/env/lib/python3.10/site-packages/anndata/_core/anndata.py:1908: UserWarning: Variable names are not unique. To make them unique, call `.var_names_make_unique`.\n",
      "  utils.warn_names_duplicates(\"var\")\n"
     ]
    },
    {
     "name": "stdout",
     "output_type": "stream",
     "text": [
      "AnnData object with n_obs × n_vars = 6794880 × 33538\n",
      "    obs: 'cancer_type', 'dataset', 'tissue', 'sample_barcode', 'uni_barcode'\n",
      "    var: 'gene_ids', 'feature_types', 'genome'\n",
      "AnnData object with n_obs × n_vars = 737280 × 33694\n",
      "    obs: 'cancer_type', 'dataset', 'tissue', 'sample_barcode', 'uni_barcode'\n",
      "    var: 'gene_ids'\n"
     ]
    },
    {
     "name": "stderr",
     "output_type": "stream",
     "text": [
      "/home/uqjsaxo1/miniforge3/envs/env/lib/python3.10/site-packages/anndata/_core/anndata.py:1908: UserWarning: Variable names are not unique. To make them unique, call `.var_names_make_unique`.\n",
      "  utils.warn_names_duplicates(\"var\")\n"
     ]
    }
   ],
   "source": [
    "from pathlib import Path\n",
    "\n",
    "# Specify directory paths\n",
    "write_directory = Path('/scratch/user/uqjsaxo1/xiaohan-john-project/write/GSE140819')\n",
    "\n",
    "# Loop through all files in the directory\n",
    "for file in write_directory.iterdir():\n",
    "    sample = anndata.read_h5ad(file)\n",
    "    print(sample)"
   ]
  },
  {
   "cell_type": "code",
   "execution_count": 8,
   "metadata": {},
   "outputs": [
    {
     "name": "stderr",
     "output_type": "stream",
     "text": [
      "/home/uqjsaxo1/miniforge3/envs/env/lib/python3.10/site-packages/anndata/_core/anndata.py:1908: UserWarning: Variable names are not unique. To make them unique, call `.var_names_make_unique`.\n",
      "  utils.warn_names_duplicates(\"var\")\n"
     ]
    },
    {
     "data": {
      "text/html": [
       "<div>\n",
       "<style scoped>\n",
       "    .dataframe tbody tr th:only-of-type {\n",
       "        vertical-align: middle;\n",
       "    }\n",
       "\n",
       "    .dataframe tbody tr th {\n",
       "        vertical-align: top;\n",
       "    }\n",
       "\n",
       "    .dataframe thead th {\n",
       "        text-align: right;\n",
       "    }\n",
       "</style>\n",
       "<table border=\"1\" class=\"dataframe\">\n",
       "  <thead>\n",
       "    <tr style=\"text-align: right;\">\n",
       "      <th></th>\n",
       "      <th>cancer_type</th>\n",
       "      <th>dataset</th>\n",
       "      <th>tissue</th>\n",
       "      <th>sample_barcode</th>\n",
       "      <th>uni_barcode</th>\n",
       "    </tr>\n",
       "    <tr>\n",
       "      <th>uni_barcode</th>\n",
       "      <th></th>\n",
       "      <th></th>\n",
       "      <th></th>\n",
       "      <th></th>\n",
       "      <th></th>\n",
       "    </tr>\n",
       "  </thead>\n",
       "  <tbody>\n",
       "    <tr>\n",
       "      <th>GSE140819_AAACCTGAGAAACCAT-1</th>\n",
       "      <td>Neuroblastoma</td>\n",
       "      <td>GSE140819</td>\n",
       "      <td>Neuroendocrine</td>\n",
       "      <td>GSM4186963_HTAPP-656-SMP-3481_fresh-T1</td>\n",
       "      <td>GSE140819_AAACCTGAGAAACCAT-1</td>\n",
       "    </tr>\n",
       "    <tr>\n",
       "      <th>GSE140819_AAACCTGAGAAACCGC-1</th>\n",
       "      <td>Neuroblastoma</td>\n",
       "      <td>GSE140819</td>\n",
       "      <td>Neuroendocrine</td>\n",
       "      <td>GSM4186963_HTAPP-656-SMP-3481_fresh-T1</td>\n",
       "      <td>GSE140819_AAACCTGAGAAACCGC-1</td>\n",
       "    </tr>\n",
       "    <tr>\n",
       "      <th>GSE140819_AAACCTGAGAAACCTA-1</th>\n",
       "      <td>Neuroblastoma</td>\n",
       "      <td>GSE140819</td>\n",
       "      <td>Neuroendocrine</td>\n",
       "      <td>GSM4186963_HTAPP-656-SMP-3481_fresh-T1</td>\n",
       "      <td>GSE140819_AAACCTGAGAAACCTA-1</td>\n",
       "    </tr>\n",
       "    <tr>\n",
       "      <th>GSE140819_AAACCTGAGAAACGAG-1</th>\n",
       "      <td>Neuroblastoma</td>\n",
       "      <td>GSE140819</td>\n",
       "      <td>Neuroendocrine</td>\n",
       "      <td>GSM4186963_HTAPP-656-SMP-3481_fresh-T1</td>\n",
       "      <td>GSE140819_AAACCTGAGAAACGAG-1</td>\n",
       "    </tr>\n",
       "    <tr>\n",
       "      <th>GSE140819_AAACCTGAGAAACGCC-1</th>\n",
       "      <td>Neuroblastoma</td>\n",
       "      <td>GSE140819</td>\n",
       "      <td>Neuroendocrine</td>\n",
       "      <td>GSM4186963_HTAPP-656-SMP-3481_fresh-T1</td>\n",
       "      <td>GSE140819_AAACCTGAGAAACGCC-1</td>\n",
       "    </tr>\n",
       "  </tbody>\n",
       "</table>\n",
       "</div>"
      ],
      "text/plain": [
       "                                cancer_type    dataset          tissue  \\\n",
       "uni_barcode                                                              \n",
       "GSE140819_AAACCTGAGAAACCAT-1  Neuroblastoma  GSE140819  Neuroendocrine   \n",
       "GSE140819_AAACCTGAGAAACCGC-1  Neuroblastoma  GSE140819  Neuroendocrine   \n",
       "GSE140819_AAACCTGAGAAACCTA-1  Neuroblastoma  GSE140819  Neuroendocrine   \n",
       "GSE140819_AAACCTGAGAAACGAG-1  Neuroblastoma  GSE140819  Neuroendocrine   \n",
       "GSE140819_AAACCTGAGAAACGCC-1  Neuroblastoma  GSE140819  Neuroendocrine   \n",
       "\n",
       "                                                      sample_barcode  \\\n",
       "uni_barcode                                                            \n",
       "GSE140819_AAACCTGAGAAACCAT-1  GSM4186963_HTAPP-656-SMP-3481_fresh-T1   \n",
       "GSE140819_AAACCTGAGAAACCGC-1  GSM4186963_HTAPP-656-SMP-3481_fresh-T1   \n",
       "GSE140819_AAACCTGAGAAACCTA-1  GSM4186963_HTAPP-656-SMP-3481_fresh-T1   \n",
       "GSE140819_AAACCTGAGAAACGAG-1  GSM4186963_HTAPP-656-SMP-3481_fresh-T1   \n",
       "GSE140819_AAACCTGAGAAACGCC-1  GSM4186963_HTAPP-656-SMP-3481_fresh-T1   \n",
       "\n",
       "                                               uni_barcode  \n",
       "uni_barcode                                                 \n",
       "GSE140819_AAACCTGAGAAACCAT-1  GSE140819_AAACCTGAGAAACCAT-1  \n",
       "GSE140819_AAACCTGAGAAACCGC-1  GSE140819_AAACCTGAGAAACCGC-1  \n",
       "GSE140819_AAACCTGAGAAACCTA-1  GSE140819_AAACCTGAGAAACCTA-1  \n",
       "GSE140819_AAACCTGAGAAACGAG-1  GSE140819_AAACCTGAGAAACGAG-1  \n",
       "GSE140819_AAACCTGAGAAACGCC-1  GSE140819_AAACCTGAGAAACGCC-1  "
      ]
     },
     "execution_count": 8,
     "metadata": {},
     "output_type": "execute_result"
    }
   ],
   "source": [
    "write_directory = Path('/scratch/user/uqjsaxo1/xiaohan-john-project/write/GSE140819')\n",
    "sample = anndata.read_h5ad(list(write_directory.glob('*'))[0])\n",
    "sample.obs.head()\n"
   ]
  },
  {
   "cell_type": "code",
   "execution_count": 9,
   "metadata": {},
   "outputs": [
    {
     "data": {
      "text/html": [
       "<div>\n",
       "<style scoped>\n",
       "    .dataframe tbody tr th:only-of-type {\n",
       "        vertical-align: middle;\n",
       "    }\n",
       "\n",
       "    .dataframe tbody tr th {\n",
       "        vertical-align: top;\n",
       "    }\n",
       "\n",
       "    .dataframe thead th {\n",
       "        text-align: right;\n",
       "    }\n",
       "</style>\n",
       "<table border=\"1\" class=\"dataframe\">\n",
       "  <thead>\n",
       "    <tr style=\"text-align: right;\">\n",
       "      <th></th>\n",
       "      <th>gene_ids</th>\n",
       "    </tr>\n",
       "  </thead>\n",
       "  <tbody>\n",
       "    <tr>\n",
       "      <th>RP11-34P13.3</th>\n",
       "      <td>ENSG00000243485</td>\n",
       "    </tr>\n",
       "    <tr>\n",
       "      <th>FAM138A</th>\n",
       "      <td>ENSG00000237613</td>\n",
       "    </tr>\n",
       "    <tr>\n",
       "      <th>OR4F5</th>\n",
       "      <td>ENSG00000186092</td>\n",
       "    </tr>\n",
       "    <tr>\n",
       "      <th>RP11-34P13.7</th>\n",
       "      <td>ENSG00000238009</td>\n",
       "    </tr>\n",
       "    <tr>\n",
       "      <th>RP11-34P13.8</th>\n",
       "      <td>ENSG00000239945</td>\n",
       "    </tr>\n",
       "  </tbody>\n",
       "</table>\n",
       "</div>"
      ],
      "text/plain": [
       "                     gene_ids\n",
       "RP11-34P13.3  ENSG00000243485\n",
       "FAM138A       ENSG00000237613\n",
       "OR4F5         ENSG00000186092\n",
       "RP11-34P13.7  ENSG00000238009\n",
       "RP11-34P13.8  ENSG00000239945"
      ]
     },
     "execution_count": 9,
     "metadata": {},
     "output_type": "execute_result"
    }
   ],
   "source": [
    "sample.var.head()"
   ]
  },
  {
   "cell_type": "markdown",
   "metadata": {},
   "source": [
    "### 4. Convert AnnData objects to SingleCellExperiment objects"
   ]
  },
  {
   "cell_type": "code",
   "execution_count": 22,
   "metadata": {},
   "outputs": [],
   "source": [
    "from pathlib import Path\n",
    "\n",
    "import anndata2ri\n",
    "import rpy2.robjects as robjects\n",
    "from rpy2.robjects import r\n",
    "from rpy2.robjects.conversion import localconverter\n",
    "\n",
    "# Specify directory paths\n",
    "write_directory = Path('/scratch/user/s4543064/xiaohan-john-project/write/GSE227122')\n",
    "\n",
    "# Loop through all files in the directory\n",
    "for file in write_directory.iterdir():\n",
    "    sample_name = file.stem\n",
    "    if \"_uni.h5ad\" in file.name:\n",
    "        sample_anndata = anndata.read_h5ad(file)\n",
    "        sample_sce_file = sample_name + \".rds\"\n",
    "\n",
    "        with localconverter(anndata2ri.converter):\n",
    "            sample_sce = anndata2ri.py2rpy(sample_anndata)\n",
    "        \n",
    "        # Save the sce object in .rds file\n",
    "        robjects.globalenv[\"sample_sce\"] = sample_sce\n",
    "        sample_sce_path = write_directory / sample_sce_file\n",
    "        robjects.r(\"saveRDS(sample_sce, file='{}')\".format(sample_sce_path))"
   ]
  }
 ],
 "metadata": {
  "kernelspec": {
   "display_name": "Python 3 (ipykernel)",
   "language": "python",
   "name": "python3"
  }
 },
 "nbformat": 4,
 "nbformat_minor": 2
}
