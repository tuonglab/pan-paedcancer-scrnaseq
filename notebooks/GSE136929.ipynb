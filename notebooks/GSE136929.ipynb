{
 "cells": [
  {
   "cell_type": "markdown",
   "metadata": {},
   "source": [
    "### 1. General info of dataset GSE136929\n",
    "\n",
    "This is the Jupyter Notebook for dataset GSE136929. Its dataset includes barcodes/genes/matrix files for each sample. There are 2 samples.\n",
    "\n",
    "\n",
    "<span style=\"color:green\">**[D90-rROs]**</span> Normal human retinal organoids at 90-days\n",
    "\n",
    "<span style=\"color:green\">**[D90-rRBOs]**</span> Human Rb organoids (hRBOs) at 90-days"
   ]
  },
  {
   "cell_type": "code",
   "execution_count": 1,
   "metadata": {},
   "outputs": [
    {
     "name": "stderr",
     "output_type": "stream",
     "text": [
      "/scratch/temp/8097431/ipykernel_3522153/982896711.py:3: DeprecationWarning: \n",
      "Pyarrow will become a required dependency of pandas in the next major release of pandas (pandas 3.0),\n",
      "(to allow more performant data types, such as the Arrow string type, and better interoperability with other libraries)\n",
      "but was not found to be installed on your system.\n",
      "If this would cause problems for you,\n",
      "please provide us feedback at https://github.com/pandas-dev/pandas/issues/54466\n",
      "        \n",
      "  import pandas as pd\n"
     ]
    }
   ],
   "source": [
    "# Environment setup\n",
    "import numpy as np\n",
    "import pandas as pd\n",
    "import scanpy as sc\n",
    "import anndata as anndata\n",
    "import scipy"
   ]
  },
  {
   "cell_type": "markdown",
   "metadata": {},
   "source": [
    "### 2. AnnData object of each sample\n",
    "\n",
    "<span style=\"color:red\">**IMPORTANT:**</span> rename files to get rid of prefixes\n",
    "\n",
    "1. `barcodes.tsv`: cell barcodes, which go into `.obs`\n",
    "2. `genes.tsv`: gene names, `.var`\n",
    "3. `matrix.mtx`: the expression matrix, `.X`"
   ]
  },
  {
   "cell_type": "code",
   "execution_count": 16,
   "metadata": {},
   "outputs": [
    {
     "name": "stdout",
     "output_type": "stream",
     "text": [
      "AnnData object with n_obs × n_vars = 9665 × 19997\n",
      "    obs: 'cancer_type', 'dataset', 'tissue', 'sample_name', 'uni_barcode'\n",
      "    var: 'gene_ids'\n",
      "AnnData object with n_obs × n_vars = 12218 × 19997\n",
      "    obs: 'cancer_type', 'dataset', 'tissue', 'sample_name', 'uni_barcode'\n",
      "    var: 'gene_ids'\n"
     ]
    }
   ],
   "source": [
    "from pathlib import Path\n",
    "\n",
    "# Specify directory paths\n",
    "data_directory = Path('/scratch/user/uqjsaxo1/xiaohan-john-project/data/GSE136929_RAW/')\n",
    "write_directory = Path('/scratch/user/uqjsaxo1/xiaohan-john-project/write/GSE136929/')\n",
    "\n",
    "# Loop through all files in the directory\n",
    "for sample_directory in data_directory.iterdir():\n",
    "    sample_name = sample_directory.stem\n",
    "    sample_h5ad = sample_name + '_uni.h5ad'\n",
    "\n",
    "    sample = sc.read_10x_mtx(\n",
    "    sample_directory,\n",
    "    var_names='gene_symbols',  \n",
    "    cache=False\n",
    "    )\n",
    "\n",
    "    # Create an observation metric info to store related features\n",
    "    obs_metrics = pd.DataFrame(index=sample.obs_names) ## Get the identifiers\n",
    "    obs_metrics['cancer_type'] = 'Retinoblastoma'\n",
    "    obs_metrics['dataset'] = 'GSE136929'\n",
    "    obs_metrics['tissue'] = 'retinal organoid'\n",
    "    obs_metrics['sample_name'] = sample_name\n",
    "    obs_metrics['uni_barcode'] = obs_metrics['dataset'] + '_' + obs_metrics.index.astype(str)\n",
    "    \n",
    "    sample.obs = obs_metrics\n",
    "    sample.obs.set_index(\"uni_barcode\", drop=False, inplace=True)\n",
    "    print(sample)\n",
    "\n",
    "    # save the anndata object\n",
    "    output_path = write_directory.joinpath(sample_h5ad)\n",
    "    sample.write_h5ad(output_path, compression=\"gzip\")"
   ]
  },
  {
   "cell_type": "markdown",
   "metadata": {},
   "source": [
    "### 3. Confirmation of created AnnData objects"
   ]
  },
  {
   "cell_type": "code",
   "execution_count": 18,
   "metadata": {},
   "outputs": [
    {
     "name": "stdout",
     "output_type": "stream",
     "text": [
      "AnnData object with n_obs × n_vars = 12218 × 19997\n",
      "    obs: 'cancer_type', 'dataset', 'tissue', 'sample_name', 'uni_barcode'\n",
      "    var: 'gene_ids'\n",
      "AnnData object with n_obs × n_vars = 9665 × 19997\n",
      "    obs: 'cancer_type', 'dataset', 'tissue', 'sample_name', 'uni_barcode'\n",
      "    var: 'gene_ids'\n"
     ]
    }
   ],
   "source": [
    "from pathlib import Path\n",
    "\n",
    "# Specify directory paths\n",
    "write_directory = Path('/scratch/user/uqjsaxo1/xiaohan-john-project/write/GSE136929/')\n",
    "\n",
    "# Loop through all files in the directory\n",
    "for file in write_directory.iterdir():\n",
    "    sample = anndata.read_h5ad(file)\n",
    "    print(sample)"
   ]
  }
 ],
 "metadata": {
  "kernelspec": {
   "display_name": "Python 3 (ipykernel)",
   "language": "python",
   "name": "python3"
  },
  "language_info": {
   "codemirror_mode": {
    "name": "ipython",
    "version": 3
   },
   "file_extension": ".py",
   "mimetype": "text/x-python",
   "name": "python",
   "nbconvert_exporter": "python",
   "pygments_lexer": "ipython3",
   "version": "3.12.2"
  }
 },
 "nbformat": 4,
 "nbformat_minor": 2
}
