{
 "cells": [
  {
   "cell_type": "markdown",
   "metadata": {},
   "source": [
    "### 1. General info of dataset GSE70630\n",
    "\n",
    "This is the Jupyter Notebook for dataset GSE70630. Its dataset includes an overall big txt file. As seen below, in the txt file, each row is a gene and each column is a cell.\n",
    "\n",
    "Thus, we need to transform this txt file and generate an overall AnnData object for all samples. \n",
    "\n"
   ]
  },
  {
   "cell_type": "code",
   "execution_count": 1,
   "metadata": {},
   "outputs": [],
   "source": [
    "# Environment setup\n",
    "import numpy as np\n",
    "import pandas as pd\n",
    "import scanpy as sc\n",
    "import anndata as anndata\n",
    "import scipy"
   ]
  },
  {
   "cell_type": "code",
   "execution_count": 2,
   "metadata": {},
   "outputs": [
    {
     "name": "stdout",
     "output_type": "stream",
     "text": [
      "            MGH36_P6_A12  MGH36_P6_H09  MGH53_P4_G04  MGH36_P10_G12  \\\n",
      "'A1BG'            0.0000         0.000        0.0000         0.0000   \n",
      "'A1BG-AS1'        0.0000         0.000        0.0000         0.0000   \n",
      "'A1CF'            0.0000         0.000        0.0000         0.0000   \n",
      "'A2M'             5.7056         4.437        8.0276         5.6288   \n",
      "'A2M-AS1'         0.0000         0.000        4.5347         0.0000   \n",
      "\n",
      "            MGH53_P2_H12  MGH53_P4_D10  MGH53_P4_D01  MGH36_P6_B07  \\\n",
      "'A1BG'           0.00000        0.0000        0.0000        0.0000   \n",
      "'A1BG-AS1'       0.00000        0.0000        0.0000        0.0000   \n",
      "'A1CF'           0.02148        0.0000        0.0000        0.0000   \n",
      "'A2M'            0.00000        3.3367        8.7811        8.3271   \n",
      "'A2M-AS1'        0.00000        0.0000        0.0000        3.3361   \n",
      "\n",
      "            MGH36_P10_B12  MGH53_P2_G11  ...  93_P10_H06  93_P8_B12  \\\n",
      "'A1BG'            0.00000       0.00000  ...         0.0        0.0   \n",
      "'A1BG-AS1'        0.00000       0.00000  ...         0.0        0.0   \n",
      "'A1CF'            0.52707       0.00000  ...         0.0        0.0   \n",
      "'A2M'             7.42620       9.04620  ...         0.0        0.0   \n",
      "'A2M-AS1'         0.00000       0.63134  ...         0.0        0.0   \n",
      "\n",
      "            93_P8_D09  93_P9_D11  93_P10_G08  93_P8_H06  93_P9_C07  93_P8_A12  \\\n",
      "'A1BG'            0.0        0.0         0.0        0.0        0.0        0.0   \n",
      "'A1BG-AS1'        0.0        0.0         0.0        0.0        0.0        0.0   \n",
      "'A1CF'            0.0        0.0         0.0        0.0        0.0        0.0   \n",
      "'A2M'             0.0        0.0         0.0        0.0        0.0        0.0   \n",
      "'A2M-AS1'         0.0        0.0         0.0        0.0        0.0        0.0   \n",
      "\n",
      "            93_P8_C01  93_P9_F06  \n",
      "'A1BG'            0.0        0.0  \n",
      "'A1BG-AS1'        0.0        0.0  \n",
      "'A1CF'            0.0        0.0  \n",
      "'A2M'             0.0        0.0  \n",
      "'A2M-AS1'         0.0        0.0  \n",
      "\n",
      "[5 rows x 4347 columns]\n",
      "(23686, 4347)\n"
     ]
    }
   ],
   "source": [
    "# inspect the dataset\n",
    "path = '/scratch/user/s4543064/xiaohan-john-project/data/GSE70630/GSE70630_OG_processed_data_v2.txt'\n",
    "input = pd.read_csv(path, sep='\\t', index_col=0) # the first column contains gene names and is the index\n",
    "\n",
    "print(input.head()) \n",
    "print(input.shape) # (23686 rows, 4347 columns)"
   ]
  },
  {
   "cell_type": "markdown",
   "metadata": {},
   "source": [
    "<span style=\"color:red\">**PROBLEM:**</span> the gene names are stored as 'GENE_SYMBOL' (with a quotation mark)"
   ]
  },
  {
   "cell_type": "code",
   "execution_count": 3,
   "metadata": {},
   "outputs": [
    {
     "name": "stdout",
     "output_type": "stream",
     "text": [
      "          MGH36_P6_A12  MGH36_P6_H09  MGH53_P4_G04  MGH36_P10_G12  \\\n",
      "A1BG            0.0000         0.000        0.0000         0.0000   \n",
      "A1BG-AS1        0.0000         0.000        0.0000         0.0000   \n",
      "A1CF            0.0000         0.000        0.0000         0.0000   \n",
      "A2M             5.7056         4.437        8.0276         5.6288   \n",
      "A2M-AS1         0.0000         0.000        4.5347         0.0000   \n",
      "\n",
      "          MGH53_P2_H12  MGH53_P4_D10  MGH53_P4_D01  MGH36_P6_B07  \\\n",
      "A1BG           0.00000        0.0000        0.0000        0.0000   \n",
      "A1BG-AS1       0.00000        0.0000        0.0000        0.0000   \n",
      "A1CF           0.02148        0.0000        0.0000        0.0000   \n",
      "A2M            0.00000        3.3367        8.7811        8.3271   \n",
      "A2M-AS1        0.00000        0.0000        0.0000        3.3361   \n",
      "\n",
      "          MGH36_P10_B12  MGH53_P2_G11  ...  93_P10_H06  93_P8_B12  93_P8_D09  \\\n",
      "A1BG            0.00000       0.00000  ...         0.0        0.0        0.0   \n",
      "A1BG-AS1        0.00000       0.00000  ...         0.0        0.0        0.0   \n",
      "A1CF            0.52707       0.00000  ...         0.0        0.0        0.0   \n",
      "A2M             7.42620       9.04620  ...         0.0        0.0        0.0   \n",
      "A2M-AS1         0.00000       0.63134  ...         0.0        0.0        0.0   \n",
      "\n",
      "          93_P9_D11  93_P10_G08  93_P8_H06  93_P9_C07  93_P8_A12  93_P8_C01  \\\n",
      "A1BG            0.0         0.0        0.0        0.0        0.0        0.0   \n",
      "A1BG-AS1        0.0         0.0        0.0        0.0        0.0        0.0   \n",
      "A1CF            0.0         0.0        0.0        0.0        0.0        0.0   \n",
      "A2M             0.0         0.0        0.0        0.0        0.0        0.0   \n",
      "A2M-AS1         0.0         0.0        0.0        0.0        0.0        0.0   \n",
      "\n",
      "          93_P9_F06  \n",
      "A1BG            0.0  \n",
      "A1BG-AS1        0.0  \n",
      "A1CF            0.0  \n",
      "A2M             0.0  \n",
      "A2M-AS1         0.0  \n",
      "\n",
      "[5 rows x 4347 columns]\n"
     ]
    }
   ],
   "source": [
    "# Get rid of the extra quotation marks for gene symbols\n",
    "input.index = [gene[1:-1] for gene in input.index]\n",
    "print(input.head()) "
   ]
  },
  {
   "cell_type": "markdown",
   "metadata": {},
   "source": [
    "### 2. Overall AnnData object of the dataset\n",
    "\n",
    "<span style=\"color:red\">**IMPORTANT:**</span> transpose the DataFrame.values to match the AnnData.X\n",
    "\n",
    "1. `DataFrame.columns`: cell barcodes, which go into `.obs`\n",
    "2. `DataFrame.index`: gene names, `.var`\n",
    "3. `DataFrame.values`: the transpose of the expression matrix, `.X`"
   ]
  },
  {
   "cell_type": "code",
   "execution_count": 6,
   "metadata": {},
   "outputs": [
    {
     "name": "stderr",
     "output_type": "stream",
     "text": [
      "/home/s4543064/miniforge3/envs/test/lib/python3.12/site-packages/anndata/_core/anndata.py:183: ImplicitModificationWarning: Transforming to str index.\n",
      "  warnings.warn(\"Transforming to str index.\", ImplicitModificationWarning)\n"
     ]
    },
    {
     "name": "stdout",
     "output_type": "stream",
     "text": [
      "                                cancer_type   dataset tissue  \\\n",
      "uni_barcode                                                    \n",
      "GSE70630_MGH36_P6_A12   IDH-Mutation_glioma  GSE70630  brain   \n",
      "GSE70630_MGH36_P6_H09   IDH-Mutation_glioma  GSE70630  brain   \n",
      "GSE70630_MGH53_P4_G04   IDH-Mutation_glioma  GSE70630  brain   \n",
      "GSE70630_MGH36_P10_G12  IDH-Mutation_glioma  GSE70630  brain   \n",
      "GSE70630_MGH53_P2_H12   IDH-Mutation_glioma  GSE70630  brain   \n",
      "...                                     ...       ...    ...   \n",
      "GSE70630_93_P8_H06      IDH-Mutation_glioma  GSE70630  brain   \n",
      "GSE70630_93_P9_C07      IDH-Mutation_glioma  GSE70630  brain   \n",
      "GSE70630_93_P8_A12      IDH-Mutation_glioma  GSE70630  brain   \n",
      "GSE70630_93_P8_C01      IDH-Mutation_glioma  GSE70630  brain   \n",
      "GSE70630_93_P9_F06      IDH-Mutation_glioma  GSE70630  brain   \n",
      "\n",
      "                                   uni_barcode  \n",
      "uni_barcode                                     \n",
      "GSE70630_MGH36_P6_A12    GSE70630_MGH36_P6_A12  \n",
      "GSE70630_MGH36_P6_H09    GSE70630_MGH36_P6_H09  \n",
      "GSE70630_MGH53_P4_G04    GSE70630_MGH53_P4_G04  \n",
      "GSE70630_MGH36_P10_G12  GSE70630_MGH36_P10_G12  \n",
      "GSE70630_MGH53_P2_H12    GSE70630_MGH53_P2_H12  \n",
      "...                                        ...  \n",
      "GSE70630_93_P8_H06          GSE70630_93_P8_H06  \n",
      "GSE70630_93_P9_C07          GSE70630_93_P9_C07  \n",
      "GSE70630_93_P8_A12          GSE70630_93_P8_A12  \n",
      "GSE70630_93_P8_C01          GSE70630_93_P8_C01  \n",
      "GSE70630_93_P9_F06          GSE70630_93_P9_F06  \n",
      "\n",
      "[4347 rows x 4 columns]\n"
     ]
    }
   ],
   "source": [
    "matrix = scipy.sparse.csr_matrix(input.values.T)\n",
    "obs_name = pd.DataFrame(index=input.columns)\n",
    "var_name = pd.DataFrame(input.index, columns=['gene_symbols'])\n",
    "\n",
    "sample = anndata.AnnData(X=matrix, obs=obs_name, var=var_name)\n",
    "\n",
    "# Create an observation metric info to store related features\n",
    "obs_metrics = pd.DataFrame(index=sample.obs_names) ## Get the identifiers\n",
    "\n",
    "obs_metrics['cancer_type'] = 'IDH-Mutation_glioma'\n",
    "obs_metrics['dataset'] = 'GSE70630'\n",
    "obs_metrics['tissue'] = 'brain'\n",
    "obs_metrics['uni_barcode'] = obs_metrics['dataset'] + '_' + obs_metrics.index.astype(str)\n",
    "\n",
    "# Add the obs_metrics to the AnnData object\n",
    "sample.obs = obs_metrics\n",
    "sample.obs.set_index(\"uni_barcode\", drop=False, inplace=True)\n",
    "print(sample.obs)\n",
    "\n",
    "# save the anndata object\n",
    "sample.write_h5ad('/scratch/user/s4543064/xiaohan-john-project/write/GSE70630/GSE70630_OG_processed_data_v2_uni.h5ad', compression=\"gzip\")"
   ]
  },
  {
   "cell_type": "markdown",
   "metadata": {},
   "source": [
    "### 3. Confirmation of created AnnData object"
   ]
  },
  {
   "cell_type": "code",
   "execution_count": 16,
   "metadata": {},
   "outputs": [
    {
     "name": "stdout",
     "output_type": "stream",
     "text": [
      "AnnData object with n_obs × n_vars = 4347 × 23686\n",
      "    obs: 'cancer_type', 'dataset', 'tissue', 'uni_barcode', 'sample_barcode'\n",
      "    var: 'gene_symbols'\n"
     ]
    }
   ],
   "source": [
    "output = '/scratch/user/s4543064/xiaohan-john-project/write/GSE70630/GSE70630_OG_processed_data_v2_uni.h5ad'\n",
    "sample = anndata.read_h5ad(output)\n",
    "print(sample)"
   ]
  },
  {
   "cell_type": "code",
   "execution_count": 3,
   "metadata": {},
   "outputs": [
    {
     "data": {
      "text/html": [
       "<div>\n",
       "<style scoped>\n",
       "    .dataframe tbody tr th:only-of-type {\n",
       "        vertical-align: middle;\n",
       "    }\n",
       "\n",
       "    .dataframe tbody tr th {\n",
       "        vertical-align: top;\n",
       "    }\n",
       "\n",
       "    .dataframe thead th {\n",
       "        text-align: right;\n",
       "    }\n",
       "</style>\n",
       "<table border=\"1\" class=\"dataframe\">\n",
       "  <thead>\n",
       "    <tr style=\"text-align: right;\">\n",
       "      <th></th>\n",
       "      <th>cancer_type</th>\n",
       "      <th>dataset</th>\n",
       "      <th>tissue</th>\n",
       "      <th>uni_barcode</th>\n",
       "      <th>sample_barcode</th>\n",
       "    </tr>\n",
       "    <tr>\n",
       "      <th>uni_barcode</th>\n",
       "      <th></th>\n",
       "      <th></th>\n",
       "      <th></th>\n",
       "      <th></th>\n",
       "      <th></th>\n",
       "    </tr>\n",
       "  </thead>\n",
       "  <tbody>\n",
       "    <tr>\n",
       "      <th>GSE70630_MGH36_P6_A12</th>\n",
       "      <td>IDH-Mutation_glioma</td>\n",
       "      <td>GSE70630</td>\n",
       "      <td>brain</td>\n",
       "      <td>GSE70630_MGH36_P6_A12</td>\n",
       "      <td>GSE70630</td>\n",
       "    </tr>\n",
       "    <tr>\n",
       "      <th>GSE70630_MGH36_P6_H09</th>\n",
       "      <td>IDH-Mutation_glioma</td>\n",
       "      <td>GSE70630</td>\n",
       "      <td>brain</td>\n",
       "      <td>GSE70630_MGH36_P6_H09</td>\n",
       "      <td>GSE70630</td>\n",
       "    </tr>\n",
       "    <tr>\n",
       "      <th>GSE70630_MGH53_P4_G04</th>\n",
       "      <td>IDH-Mutation_glioma</td>\n",
       "      <td>GSE70630</td>\n",
       "      <td>brain</td>\n",
       "      <td>GSE70630_MGH53_P4_G04</td>\n",
       "      <td>GSE70630</td>\n",
       "    </tr>\n",
       "    <tr>\n",
       "      <th>GSE70630_MGH36_P10_G12</th>\n",
       "      <td>IDH-Mutation_glioma</td>\n",
       "      <td>GSE70630</td>\n",
       "      <td>brain</td>\n",
       "      <td>GSE70630_MGH36_P10_G12</td>\n",
       "      <td>GSE70630</td>\n",
       "    </tr>\n",
       "    <tr>\n",
       "      <th>GSE70630_MGH53_P2_H12</th>\n",
       "      <td>IDH-Mutation_glioma</td>\n",
       "      <td>GSE70630</td>\n",
       "      <td>brain</td>\n",
       "      <td>GSE70630_MGH53_P2_H12</td>\n",
       "      <td>GSE70630</td>\n",
       "    </tr>\n",
       "    <tr>\n",
       "      <th>...</th>\n",
       "      <td>...</td>\n",
       "      <td>...</td>\n",
       "      <td>...</td>\n",
       "      <td>...</td>\n",
       "      <td>...</td>\n",
       "    </tr>\n",
       "    <tr>\n",
       "      <th>GSE70630_93_P8_H06</th>\n",
       "      <td>IDH-Mutation_glioma</td>\n",
       "      <td>GSE70630</td>\n",
       "      <td>brain</td>\n",
       "      <td>GSE70630_93_P8_H06</td>\n",
       "      <td>GSE70630</td>\n",
       "    </tr>\n",
       "    <tr>\n",
       "      <th>GSE70630_93_P9_C07</th>\n",
       "      <td>IDH-Mutation_glioma</td>\n",
       "      <td>GSE70630</td>\n",
       "      <td>brain</td>\n",
       "      <td>GSE70630_93_P9_C07</td>\n",
       "      <td>GSE70630</td>\n",
       "    </tr>\n",
       "    <tr>\n",
       "      <th>GSE70630_93_P8_A12</th>\n",
       "      <td>IDH-Mutation_glioma</td>\n",
       "      <td>GSE70630</td>\n",
       "      <td>brain</td>\n",
       "      <td>GSE70630_93_P8_A12</td>\n",
       "      <td>GSE70630</td>\n",
       "    </tr>\n",
       "    <tr>\n",
       "      <th>GSE70630_93_P8_C01</th>\n",
       "      <td>IDH-Mutation_glioma</td>\n",
       "      <td>GSE70630</td>\n",
       "      <td>brain</td>\n",
       "      <td>GSE70630_93_P8_C01</td>\n",
       "      <td>GSE70630</td>\n",
       "    </tr>\n",
       "    <tr>\n",
       "      <th>GSE70630_93_P9_F06</th>\n",
       "      <td>IDH-Mutation_glioma</td>\n",
       "      <td>GSE70630</td>\n",
       "      <td>brain</td>\n",
       "      <td>GSE70630_93_P9_F06</td>\n",
       "      <td>GSE70630</td>\n",
       "    </tr>\n",
       "  </tbody>\n",
       "</table>\n",
       "<p>4347 rows × 5 columns</p>\n",
       "</div>"
      ],
      "text/plain": [
       "                                cancer_type   dataset tissue  \\\n",
       "uni_barcode                                                    \n",
       "GSE70630_MGH36_P6_A12   IDH-Mutation_glioma  GSE70630  brain   \n",
       "GSE70630_MGH36_P6_H09   IDH-Mutation_glioma  GSE70630  brain   \n",
       "GSE70630_MGH53_P4_G04   IDH-Mutation_glioma  GSE70630  brain   \n",
       "GSE70630_MGH36_P10_G12  IDH-Mutation_glioma  GSE70630  brain   \n",
       "GSE70630_MGH53_P2_H12   IDH-Mutation_glioma  GSE70630  brain   \n",
       "...                                     ...       ...    ...   \n",
       "GSE70630_93_P8_H06      IDH-Mutation_glioma  GSE70630  brain   \n",
       "GSE70630_93_P9_C07      IDH-Mutation_glioma  GSE70630  brain   \n",
       "GSE70630_93_P8_A12      IDH-Mutation_glioma  GSE70630  brain   \n",
       "GSE70630_93_P8_C01      IDH-Mutation_glioma  GSE70630  brain   \n",
       "GSE70630_93_P9_F06      IDH-Mutation_glioma  GSE70630  brain   \n",
       "\n",
       "                                   uni_barcode sample_barcode  \n",
       "uni_barcode                                                    \n",
       "GSE70630_MGH36_P6_A12    GSE70630_MGH36_P6_A12       GSE70630  \n",
       "GSE70630_MGH36_P6_H09    GSE70630_MGH36_P6_H09       GSE70630  \n",
       "GSE70630_MGH53_P4_G04    GSE70630_MGH53_P4_G04       GSE70630  \n",
       "GSE70630_MGH36_P10_G12  GSE70630_MGH36_P10_G12       GSE70630  \n",
       "GSE70630_MGH53_P2_H12    GSE70630_MGH53_P2_H12       GSE70630  \n",
       "...                                        ...            ...  \n",
       "GSE70630_93_P8_H06          GSE70630_93_P8_H06       GSE70630  \n",
       "GSE70630_93_P9_C07          GSE70630_93_P9_C07       GSE70630  \n",
       "GSE70630_93_P8_A12          GSE70630_93_P8_A12       GSE70630  \n",
       "GSE70630_93_P8_C01          GSE70630_93_P8_C01       GSE70630  \n",
       "GSE70630_93_P9_F06          GSE70630_93_P9_F06       GSE70630  \n",
       "\n",
       "[4347 rows x 5 columns]"
      ]
     },
     "execution_count": 3,
     "metadata": {},
     "output_type": "execute_result"
    }
   ],
   "source": [
    "sample.obs['sample_barcode'] = 'GSE70630'\n",
    "sample.obs"
   ]
  },
  {
   "cell_type": "code",
   "execution_count": 4,
   "metadata": {},
   "outputs": [],
   "source": [
    "# save the anndata object\n",
    "sample.write_h5ad('/scratch/user/s4543064/xiaohan-john-project/write/GSE70630/GSE70630_OG_processed_data_v2_uni.h5ad', compression=\"gzip\")"
   ]
  },
  {
   "cell_type": "markdown",
   "metadata": {},
   "source": [
    "### 4. Convert AnnData objects to SingleCellExperiment objects"
   ]
  },
  {
   "cell_type": "code",
   "execution_count": 5,
   "metadata": {},
   "outputs": [],
   "source": [
    "from pathlib import Path\n",
    "\n",
    "import anndata2ri\n",
    "import rpy2.robjects as robjects\n",
    "from rpy2.robjects import r\n",
    "from rpy2.robjects.conversion import localconverter\n",
    "\n",
    "# Specify directory paths\n",
    "write_directory = Path('/scratch/user/s4543064/xiaohan-john-project/write/GSE70630')\n",
    "\n",
    "# Loop through all files in the directory\n",
    "for file in write_directory.iterdir():\n",
    "    sample_name = file.stem\n",
    "    if \"_uni.h5ad\" in file.name:\n",
    "        sample_anndata = anndata.read_h5ad(file)\n",
    "        sample_sce_file = sample_name + \".rds\"\n",
    "\n",
    "        with localconverter(anndata2ri.converter):\n",
    "            sample_sce = anndata2ri.py2rpy(sample_anndata)\n",
    "        # print(sample_sce)\n",
    "        \n",
    "        # Save the sce object in .rds file\n",
    "        robjects.globalenv[\"sample_sce\"] = sample_sce\n",
    "        sample_sce_path = write_directory / sample_sce_file\n",
    "        robjects.r(\"saveRDS(sample_sce, file='{}')\".format(sample_sce_path))"
   ]
  },
  {
   "cell_type": "code",
   "execution_count": 6,
   "metadata": {},
   "outputs": [
    {
     "name": "stdout",
     "output_type": "stream",
     "text": [
      "class: SingleCellExperiment \n",
      "dim: 23686 4347 \n",
      "metadata(0):\n",
      "assays(1): X\n",
      "rownames(23686): 0 1 ... 23684 23685\n",
      "rowData names(1): gene_symbols\n",
      "colnames(4347): GSE70630_MGH36_P6_A12 GSE70630_MGH36_P6_H09 ...\n",
      "  GSE70630_93_P8_C01 GSE70630_93_P9_F06\n",
      "colData names(5): cancer_type dataset tissue uni_barcode sample_barcode\n",
      "reducedDimNames(0):\n",
      "mainExpName: NULL\n",
      "altExpNames(0):\n",
      "\n"
     ]
    }
   ],
   "source": [
    "print(sample_sce)"
   ]
  }
 ],
 "metadata": {
  "kernelspec": {
   "display_name": "Python 3 (ipykernel)",
   "language": "python",
   "name": "python3"
  },
  "language_info": {
   "codemirror_mode": {
    "name": "ipython",
    "version": 3
   },
   "file_extension": ".py",
   "mimetype": "text/x-python",
   "name": "python",
   "nbconvert_exporter": "python",
   "pygments_lexer": "ipython3",
   "version": "3.12.2"
  }
 },
 "nbformat": 4,
 "nbformat_minor": 2
}
