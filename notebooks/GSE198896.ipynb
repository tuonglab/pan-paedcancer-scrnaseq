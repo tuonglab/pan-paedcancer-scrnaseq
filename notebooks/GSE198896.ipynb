{
 "cells": [
  {
   "cell_type": "markdown",
   "metadata": {},
   "source": [
    "### 1. General info of dataset GSE198896\n",
    "\n",
    "This is the Jupyter Notebook for dataset GSE198896. Its dataset includes barcodes/genes/matrix files for each sample.\n",
    "\n",
    "Thus, we need to simply incorparate these barcodes/genes/matrix files and generate an AnnData object for each sample. In total, there are 18 samples.\n",
    "\n",
    "<span style=\"color:green\">**[PBMC]**</span> Peripheral blood mononuclear cell\n",
    "\n",
    "<span style=\"color:green\">**[TIL]**</span> Tumor-Infiltrating Lymphocyte\n",
    "\n",
    "<span style=\"color:green\">**[CITE-SEQ]**</span> Simultaneously quantifies cell surface protein and transcriptomic data within a single cell readout"
   ]
  },
  {
   "cell_type": "code",
   "execution_count": 1,
   "metadata": {},
   "outputs": [],
   "source": [
    "# Environment setup\n",
    "import numpy as np\n",
    "import pandas as pd\n",
    "import scanpy as sc\n",
    "import anndata as anndata\n",
    "import scipy"
   ]
  },
  {
   "cell_type": "markdown",
   "metadata": {},
   "source": [
    "### 2. AnnData object of each sample\n",
    "\n",
    "<span style=\"color:red\">**IMPORTANT:**</span> rename features.tsv to genes.tsv\n",
    "\n",
    "1. `barcodes.tsv`: cell barcodes, which go into `.obs`\n",
    "2. `genes.tsv`: gene names, `.var`\n",
    "3. `matrix.mtx`: the expression matrix, `.X`"
   ]
  },
  {
   "cell_type": "code",
   "execution_count": 7,
   "metadata": {},
   "outputs": [
    {
     "name": "stdout",
     "output_type": "stream",
     "text": [
      "Healthy_donor_CITEseq\n",
      "Ewings_2_CITEseq\n",
      "Ewings_4_CITEseq\n",
      "Ewings_3_CITEseq\n"
     ]
    }
   ],
   "source": [
    "from pathlib import Path\n",
    "\n",
    "# Specify directory paths\n",
    "data_directory = Path('/scratch/user/s4543064/xiaohan-john-project/data/GSE198896')\n",
    "write_directory = Path('/scratch/user/s4543064/xiaohan-john-project/write/GSE198896')\n",
    "\n",
    "# Loop through all files in the directory\n",
    "for sample_directory in data_directory.iterdir():\n",
    "    sample_name = sample_directory.stem\n",
    "    sample_h5ad = sample_name + '.h5ad'\n",
    "\n",
    "    try:\n",
    "        sample = sc.read_10x_mtx(\n",
    "        sample_directory,\n",
    "        var_names='gene_symbols',  \n",
    "        cache=False\n",
    "        )\n",
    "\n",
    "        # save the anndata object\n",
    "        output_path = write_directory / sample_h5ad\n",
    "        sample.write_h5ad(output_path, compression=\"gzip\")\n",
    "    except:\n",
    "        print(sample_name)"
   ]
  },
  {
   "cell_type": "markdown",
   "metadata": {},
   "source": [
    "<span style=\"color:red\">**PROBLEM:**</span> The genes.tsv files for all 4 CITEseq samples are incomplete. The standard genes.tsv should have two columns (1st column: gene ID such as ENSG00000186092; 2nd column: gene symbol such as OR4F5). However, the genes,tsv for these samples are like:  \n",
    "\n",
    "hto2-TGATGGCCTATTGGG<br>\n",
    "hto3-TTCCGCCTCTCTTTG<br>\n",
    "hto4-AGTAAGTTCAGCGTA<br>\n",
    "hto5-AAGTATCGTTTCGCA<br>\n",
    "unmapped\n",
    "\n",
    "These look like cellular indices (hashtags) instead of gene-related annotations."
   ]
  },
  {
   "cell_type": "markdown",
   "metadata": {},
   "source": [
    "### 3. Confirmation of created AnnData objects"
   ]
  },
  {
   "cell_type": "code",
   "execution_count": 22,
   "metadata": {},
   "outputs": [
    {
     "name": "stdout",
     "output_type": "stream",
     "text": [
      "AnnData object with n_obs × n_vars = 572 × 33694\n",
      "    var: 'gene_ids'\n",
      "AnnData object with n_obs × n_vars = 1631 × 33694\n",
      "    var: 'gene_ids'\n",
      "AnnData object with n_obs × n_vars = 1498 × 33694\n",
      "    var: 'gene_ids'\n",
      "AnnData object with n_obs × n_vars = 3390 × 33538\n",
      "    var: 'gene_ids'\n",
      "AnnData object with n_obs × n_vars = 2008 × 33694\n",
      "    var: 'gene_ids'\n",
      "AnnData object with n_obs × n_vars = 2655 × 33694\n",
      "    var: 'gene_ids'\n",
      "AnnData object with n_obs × n_vars = 10843 × 33538\n",
      "    var: 'gene_ids'\n",
      "AnnData object with n_obs × n_vars = 3495 × 33694\n",
      "    var: 'gene_ids'\n",
      "AnnData object with n_obs × n_vars = 3854 × 33538\n",
      "    var: 'gene_ids'\n",
      "AnnData object with n_obs × n_vars = 1690 × 33694\n",
      "    var: 'gene_ids'\n",
      "AnnData object with n_obs × n_vars = 4296 × 33538\n",
      "    var: 'gene_ids'\n",
      "AnnData object with n_obs × n_vars = 687 × 33694\n",
      "    var: 'gene_ids'\n",
      "AnnData object with n_obs × n_vars = 1693 × 33694\n",
      "    var: 'gene_ids'\n",
      "AnnData object with n_obs × n_vars = 2376 × 33694\n",
      "    var: 'gene_ids'\n"
     ]
    }
   ],
   "source": [
    "from pathlib import Path\n",
    "\n",
    "# Specify directory paths\n",
    "write_directory = Path('/scratch/user/s4543064/xiaohan-john-project/write/GSE198896')\n",
    "\n",
    "# Loop through all files in the directory\n",
    "for file in write_directory.iterdir():\n",
    "    sample = anndata.read_h5ad(file)\n",
    "    print(sample)"
   ]
  }
 ],
 "metadata": {
  "kernelspec": {
   "display_name": "Python 3 (ipykernel)",
   "language": "python",
   "name": "python3"
  }
 },
 "nbformat": 4,
 "nbformat_minor": 2
}
