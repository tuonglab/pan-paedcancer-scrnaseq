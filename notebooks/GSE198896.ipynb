{
 "cells": [
  {
   "cell_type": "markdown",
   "metadata": {},
   "source": [
    "### 1. General info of dataset GSE198896\n",
    "\n",
    "This is the Jupyter Notebook for dataset GSE198896. Its dataset includes a .tar.gz file for each sample; within each tar file, there is a sample directory including barcodes & features.tsv,  matrix mtx files.\n",
    "\n",
    "Thus, we need to first gzip and then incorparate these barcodes/genes/matrix files and generate an AnnData object for each sample. In total, there are 18 samples.\n",
    "\n",
    "<span style=\"color:green\">**[PBMC]**</span> Peripheral blood mononuclear cell\n",
    "\n",
    "<span style=\"color:green\">**[TIL]**</span> Tumor-Infiltrating Lymphocyte\n",
    "\n",
    "<span style=\"color:green\">**[CITE-SEQ]**</span> Simultaneously quantifies cell surface protein and transcriptomic data within a single cell readout"
   ]
  },
  {
   "cell_type": "code",
   "execution_count": 6,
   "metadata": {},
   "outputs": [],
   "source": [
    "# Environment setup\n",
    "import numpy as np\n",
    "import pandas as pd\n",
    "import scanpy as sc\n",
    "import anndata as anndata\n",
    "import scipy"
   ]
  },
  {
   "cell_type": "markdown",
   "metadata": {},
   "source": [
    "### 2. AnnData object of each sample\n",
    "\n",
    "<span style=\"color:red\">**IMPORTANT:**</span> gzip all the files\n",
    "\n",
    "1. `barcodes.tsv`: cell barcodes, which go into `.obs`\n",
    "2. `features.tsv`: gene names, `.var`\n",
    "3. `matrix.mtx`: the expression matrix, `.X`"
   ]
  },
  {
   "cell_type": "code",
   "execution_count": 7,
   "metadata": {},
   "outputs": [
    {
     "name": "stdout",
     "output_type": "stream",
     "text": [
      "AnnData object with n_obs × n_vars = 3854 × 33538\n",
      "    obs: 'cancer_type', 'dataset', 'tissue', 'sample_barcode', 'uni_barcode'\n",
      "    var: 'gene_ids', 'feature_types'\n",
      "GSM5959134_Osteosarcoma_2_TIL\n",
      "GSM5959144_Ewings_3_CITEseq\n",
      "GSM5959136_Osteosarcoma_3_TIL\n",
      "GSM5959138_Osteosarcoma_4_TIL\n",
      "GSM5959133_Osteosarcoma_2_PBMC\n",
      "GSM5959145_Ewings_4_CITEseq\n",
      "AnnData object with n_obs × n_vars = 3390 × 33538\n",
      "    obs: 'cancer_type', 'dataset', 'tissue', 'sample_barcode', 'uni_barcode'\n",
      "    var: 'gene_ids', 'feature_types'\n",
      "GSM5959135_Osteosarcoma_3_PBMC\n",
      "GSM5959146_Healthy_donor_CITEseq\n",
      "AnnData object with n_obs × n_vars = 10843 × 33538\n",
      "    obs: 'cancer_type', 'dataset', 'tissue', 'sample_barcode', 'uni_barcode'\n",
      "    var: 'gene_ids', 'feature_types'\n",
      "GSM5959129_Ewing_1_PBMC\n",
      "GSM5959130_Ewing_1_TIL\n",
      "AnnData object with n_obs × n_vars = 4296 × 33538\n",
      "    obs: 'cancer_type', 'dataset', 'tissue', 'sample_barcode', 'uni_barcode'\n",
      "    var: 'gene_ids', 'feature_types'\n",
      "GSM5959132_Osteosarcoma_1_TIL\n",
      "GSM5959137_Osteosarcoma_4_PBMC\n",
      "GSM5959131_Osteosarcoma_1_PBMC\n",
      "GSM5959143_Ewings_2_CITEseq\n"
     ]
    }
   ],
   "source": [
    "from pathlib import Path\n",
    "\n",
    "# Specify directory paths\n",
    "data_directory = Path('/scratch/user/s4543064/xiaohan-john-project/data/GSE198896')\n",
    "write_directory = Path('/scratch/user/s4543064/xiaohan-john-project/write/GSE198896')\n",
    "\n",
    "# Loop through all files in the directory\n",
    "for sample_directory in data_directory.iterdir():\n",
    "    sample_name = sample_directory.stem\n",
    "    sample_h5ad = sample_name + '_uni.h5ad'\n",
    "\n",
    "    try:\n",
    "        sample = sc.read_10x_mtx(\n",
    "        sample_directory,\n",
    "        var_names='gene_symbols',  \n",
    "        cache=False\n",
    "        )\n",
    "\n",
    "        # Create an observation metric info to store related features\n",
    "        obs_metrics = pd.DataFrame(index=sample.obs_names) ## Get the identifiers\n",
    "        if \"Ewing\" in sample_name:\n",
    "            obs_metrics['cancer_type'] = 'ewing_sarcoma'\n",
    "        else:\n",
    "            obs_metrics['cancer_type'] = 'osteosarcoma'\n",
    "        \n",
    "        obs_metrics['dataset'] = 'GSE198896'\n",
    "        \n",
    "        if \"PBMC\" in sample_name:\n",
    "            obs_metrics['tissue'] = 'pbmc'\n",
    "        elif \"TIL\" in sample_name:\n",
    "            obs_metrics['tissue'] = 'sarcoma_tumour'\n",
    "        \n",
    "        obs_metrics['sample_barcode'] = sample_name\n",
    "        obs_metrics['uni_barcode'] = obs_metrics['dataset'] + '_' + obs_metrics.index.astype(str)\n",
    "        \n",
    "        sample.obs = obs_metrics\n",
    "        sample.obs.set_index(\"uni_barcode\", drop=False, inplace=True)\n",
    "        print(sample)\n",
    "\n",
    "        # save the anndata object\n",
    "        output_path = write_directory / sample_h5ad\n",
    "        sample.write_h5ad(output_path, compression=\"gzip\")\n",
    "    except:\n",
    "        print(sample_name)"
   ]
  },
  {
   "cell_type": "markdown",
   "metadata": {},
   "source": [
    "<span style=\"color:red\">**PROBLEM 1:**</span> The following samples have incomplete features.tsv.gz files <br>\n",
    "`GSM5959134_Osteosarcoma_2_TIL`<br>\n",
    "`GSM5959136_Osteosarcoma_3_TIL`<br>\n",
    "`GSM5959138_Osteosarcoma_4_TIL`<br>\n",
    "`GSM5959133_Osteosarcoma_2_PBMC`<br>\n",
    "`GSM5959135_Osteosarcoma_3_PBMC`<br>\n",
    "`GSM5959129_Ewing_1_PBMC`<br>\n",
    "`GSM5959130_Ewing_1_TIL`<br>\n",
    "`GSM5959132_Osteosarcoma_1_TIL`<br>\n",
    "`GSM5959137_Osteosarcoma_4_PBMC`<br>\n",
    "`GSM5959131_Osteosarcoma_1_PBMC`<br>\n",
    "We expect to have three columns in the features.tsv.gz files (1st col: gene identifier, 2nd col: gene symbol, 3rd col: feature type), but these samples lack the 3rd column.\n",
    "\n",
    "So the easiest way is to unzip all barcodes/features/matrix files and rename features.tsv to genes.tsv --> treat them as outputs from older version of cell ranger.\n"
   ]
  },
  {
   "cell_type": "markdown",
   "metadata": {},
   "source": [
    "<span style=\"color:red\">**PROBLEM 2:**</span> The genes.tsv files for all 4 CITEseq samples are incomplete. The standard genes.tsv should have two columns (1st column: gene ID such as ENSG00000186092; 2nd column: gene symbol such as OR4F5). However, the genes,tsv for these samples are like:  \n",
    "\n",
    "hto2-TGATGGCCTATTGGG<br>\n",
    "hto3-TTCCGCCTCTCTTTG<br>\n",
    "hto4-AGTAAGTTCAGCGTA<br>\n",
    "hto5-AAGTATCGTTTCGCA<br>\n",
    "unmapped\n",
    "\n",
    "These look like cellular indices (hashtags) instead of gene-related annotations."
   ]
  },
  {
   "cell_type": "markdown",
   "metadata": {},
   "source": [
    "### 3. Confirmation of created AnnData objects"
   ]
  },
  {
   "cell_type": "code",
   "execution_count": 22,
   "metadata": {},
   "outputs": [
    {
     "name": "stdout",
     "output_type": "stream",
     "text": [
      "AnnData object with n_obs × n_vars = 572 × 33694\n",
      "    var: 'gene_ids'\n",
      "AnnData object with n_obs × n_vars = 1631 × 33694\n",
      "    var: 'gene_ids'\n",
      "AnnData object with n_obs × n_vars = 1498 × 33694\n",
      "    var: 'gene_ids'\n",
      "AnnData object with n_obs × n_vars = 3390 × 33538\n",
      "    var: 'gene_ids'\n",
      "AnnData object with n_obs × n_vars = 2008 × 33694\n",
      "    var: 'gene_ids'\n",
      "AnnData object with n_obs × n_vars = 2655 × 33694\n",
      "    var: 'gene_ids'\n",
      "AnnData object with n_obs × n_vars = 10843 × 33538\n",
      "    var: 'gene_ids'\n",
      "AnnData object with n_obs × n_vars = 3495 × 33694\n",
      "    var: 'gene_ids'\n",
      "AnnData object with n_obs × n_vars = 3854 × 33538\n",
      "    var: 'gene_ids'\n",
      "AnnData object with n_obs × n_vars = 1690 × 33694\n",
      "    var: 'gene_ids'\n",
      "AnnData object with n_obs × n_vars = 4296 × 33538\n",
      "    var: 'gene_ids'\n",
      "AnnData object with n_obs × n_vars = 687 × 33694\n",
      "    var: 'gene_ids'\n",
      "AnnData object with n_obs × n_vars = 1693 × 33694\n",
      "    var: 'gene_ids'\n",
      "AnnData object with n_obs × n_vars = 2376 × 33694\n",
      "    var: 'gene_ids'\n"
     ]
    }
   ],
   "source": [
    "from pathlib import Path\n",
    "\n",
    "# Specify directory paths\n",
    "write_directory = Path('/scratch/user/s4543064/xiaohan-john-project/write/GSE198896')\n",
    "\n",
    "# Loop through all files in the directory\n",
    "for file in write_directory.iterdir():\n",
    "    sample = anndata.read_h5ad(file)\n",
    "    print(sample)"
   ]
  }
 ],
 "metadata": {
  "kernelspec": {
   "display_name": "Python 3 (ipykernel)",
   "language": "python",
   "name": "python3"
  },
  "language_info": {
   "codemirror_mode": {
    "name": "ipython",
    "version": 3
   },
   "file_extension": ".py",
   "mimetype": "text/x-python",
   "name": "python",
   "nbconvert_exporter": "python",
   "pygments_lexer": "ipython3",
   "version": "3.12.2"
  }
 },
 "nbformat": 4,
 "nbformat_minor": 2
}
