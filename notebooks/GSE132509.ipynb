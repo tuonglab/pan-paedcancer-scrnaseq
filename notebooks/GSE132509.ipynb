{
 "cells": [
  {
   "cell_type": "markdown",
   "metadata": {},
   "source": [
    "### 1. General info of dataset GSE132509\n",
    "\n",
    "This is the Jupyter Notebook for dataset GSE132509. Its raw data includes a cell metadata tsv file and a count matrix tsv file.\n",
    "\n",
    "Thus, we need to simply incorparate these two files and generate an AnnData object for this dataset."
   ]
  },
  {
   "cell_type": "code",
   "execution_count": null,
   "metadata": {},
   "outputs": [],
   "source": []
  }
 ],
 "metadata": {
  "kernelspec": {
   "display_name": "Python 3 (ipykernel)",
   "language": "python",
   "name": "python3"
  }
 },
 "nbformat": 4,
 "nbformat_minor": 2
}
