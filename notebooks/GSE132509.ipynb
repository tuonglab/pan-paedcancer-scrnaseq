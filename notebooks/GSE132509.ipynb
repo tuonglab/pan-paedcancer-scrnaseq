{
 "cells": [
  {
   "cell_type": "markdown",
   "metadata": {},
   "source": [
    "### 1. General info of dataset GSE132509\n",
    "\n",
    "This is the Jupyter Notebook for dataset GSE132509. Its dataset includes a big overall cell annotation tsv file and barcodes/genes/matrix files for each sample.\n",
    "\n",
    "Thus, we need to simply incorparate these barcodes/genes/matrix files and generate an AnnData object for each sample. In total, there are 11 samples.\n",
    "\n",
    "<span style=\"color:green\">**[ETV6-RUNX1]**</span> Pre-B t(12;21) acute lymphoblastic leukemia\n",
    "\n",
    "<span style=\"color:green\">**[HHD]**</span> Pre-B High hyper diploid acute lymphoblastic leukemia\n",
    "\n",
    "<span style=\"color:green\">**[PRE-T]**</span> Pre-T acute lymphoblastic leukemia\n",
    "\n",
    "<span style=\"color:green\">**[PBMCC]**</span> Healthy pediatric bone marrow mononuclear cells"
   ]
  },
  {
   "cell_type": "code",
   "execution_count": 1,
   "metadata": {},
   "outputs": [],
   "source": [
    "# Environment setup\n",
    "import numpy as np\n",
    "import pandas as pd\n",
    "import scanpy as sc\n",
    "import anndata as anndata\n",
    "import scipy"
   ]
  },
  {
   "cell_type": "markdown",
   "metadata": {},
   "source": [
    "### 2. AnnData object of each sample\n",
    "\n",
    "<span style=\"color:red\">**IMPORTANT:**</span> rename files to get rid of prefixes\n",
    "\n",
    "1. `barcodes.tsv`: cell barcodes, which go into `.obs`\n",
    "2. `genes.tsv`: gene names, `.var`\n",
    "3. `matrix.mtx`: the expression matrix, `.X`"
   ]
  },
  {
   "cell_type": "code",
   "execution_count": 5,
   "metadata": {},
   "outputs": [
    {
     "name": "stdout",
     "output_type": "stream",
     "text": [
      "AnnData object with n_obs × n_vars = 2776 × 33694\n",
      "    var: 'gene_ids'\n",
      "AnnData object with n_obs × n_vars = 6274 × 33694\n",
      "    var: 'gene_ids'\n",
      "AnnData object with n_obs × n_vars = 3862 × 33694\n",
      "    var: 'gene_ids'\n",
      "AnnData object with n_obs × n_vars = 5069 × 33694\n",
      "    var: 'gene_ids'\n",
      "AnnData object with n_obs × n_vars = 3728 × 33694\n",
      "    var: 'gene_ids'\n",
      "AnnData object with n_obs × n_vars = 5013 × 33694\n",
      "    var: 'gene_ids'\n",
      "AnnData object with n_obs × n_vars = 2959 × 33694\n",
      "    var: 'gene_ids'\n",
      "AnnData object with n_obs × n_vars = 2748 × 33694\n",
      "    var: 'gene_ids'\n",
      "AnnData object with n_obs × n_vars = 1612 × 33694\n",
      "    var: 'gene_ids'\n",
      "AnnData object with n_obs × n_vars = 3105 × 33694\n",
      "    var: 'gene_ids'\n",
      "AnnData object with n_obs × n_vars = 2229 × 33694\n",
      "    var: 'gene_ids'\n"
     ]
    }
   ],
   "source": [
    "general_input_path = '/scratch/user/s4543064/Xiaohan_Summer_Research/data/GSE132509/GSE132509_RAW/GSM38724'\n",
    "general_output_path = '/scratch/user/s4543064/Xiaohan_Summer_Research/write/GSE132509/GSM38724'\n",
    "\n",
    "for i, j in zip(range(34, 38), range(1, 5)):\n",
    "    actual_input_path = general_input_path + str(i) + '_ETV6-RUNX1_' + str(j)\n",
    "    actual_output_path = general_output_path + str(i) + '_ETV6-RUNX1_' + str(j) + '.h5ad'\n",
    "\n",
    "    sample = sc.read_10x_mtx(\n",
    "        actual_input_path,\n",
    "        var_names='gene_symbols',  \n",
    "        cache=False\n",
    "    )\n",
    "    print(sample)\n",
    "    \n",
    "    # save the anndata object\n",
    "    sample.write_h5ad(actual_output_path, compression=\"gzip\")\n",
    "\n",
    "for i, j in zip(range(38, 40), range(1, 3)):\n",
    "    actual_input_path = general_input_path + str(i) + '_HHD_' + str(j)\n",
    "    actual_output_path = general_output_path + str(i) + '_HHD_' + str(j) + '.h5ad'\n",
    "\n",
    "    sample = sc.read_10x_mtx(\n",
    "        actual_input_path,\n",
    "        var_names='gene_symbols',  \n",
    "        cache=False\n",
    "    )\n",
    "    print(sample)\n",
    "    \n",
    "    # save the anndata object\n",
    "    sample.write_h5ad(actual_output_path, compression=\"gzip\")\n",
    "\n",
    "for i, j in zip(range(40, 42), range(1, 3)):\n",
    "    actual_input_path = general_input_path + str(i) + '_PRE-T_' + str(j)\n",
    "    actual_output_path = general_output_path + str(i) + '_PRE-T_' + str(j) + '.h5ad'\n",
    "\n",
    "    sample = sc.read_10x_mtx(\n",
    "        actual_input_path,\n",
    "        var_names='gene_symbols',  \n",
    "        cache=False\n",
    "    )\n",
    "    print(sample)\n",
    "    \n",
    "    # save the anndata object\n",
    "    sample.write_h5ad(actual_output_path, compression=\"gzip\")\n",
    "\n",
    "for i, j in zip(range(42, 45), range(1, 4)):\n",
    "    actual_input_path = general_input_path + str(i) + '_PBMMC_' + str(j)\n",
    "    actual_output_path = general_output_path + str(i) + '_PBMMC_' + str(j) + '.h5ad'\n",
    "\n",
    "    sample = sc.read_10x_mtx(\n",
    "        actual_input_path,\n",
    "        var_names='gene_symbols',  \n",
    "        cache=False\n",
    "    )\n",
    "    print(sample)\n",
    "    \n",
    "    # save the anndata object\n",
    "    sample.write_h5ad(actual_output_path, compression=\"gzip\")"
   ]
  },
  {
   "cell_type": "markdown",
   "metadata": {},
   "source": [
    "### 3. Confirmation of created AnnData objects"
   ]
  },
  {
   "cell_type": "code",
   "execution_count": 7,
   "metadata": {},
   "outputs": [
    {
     "name": "stdout",
     "output_type": "stream",
     "text": [
      "AnnData object with n_obs × n_vars = 2776 × 33694\n",
      "    var: 'gene_ids'\n",
      "AnnData object with n_obs × n_vars = 6274 × 33694\n",
      "    var: 'gene_ids'\n",
      "AnnData object with n_obs × n_vars = 3862 × 33694\n",
      "    var: 'gene_ids'\n",
      "AnnData object with n_obs × n_vars = 5069 × 33694\n",
      "    var: 'gene_ids'\n",
      "AnnData object with n_obs × n_vars = 3728 × 33694\n",
      "    var: 'gene_ids'\n",
      "AnnData object with n_obs × n_vars = 5013 × 33694\n",
      "    var: 'gene_ids'\n",
      "AnnData object with n_obs × n_vars = 2959 × 33694\n",
      "    var: 'gene_ids'\n",
      "AnnData object with n_obs × n_vars = 2748 × 33694\n",
      "    var: 'gene_ids'\n",
      "AnnData object with n_obs × n_vars = 1612 × 33694\n",
      "    var: 'gene_ids'\n",
      "AnnData object with n_obs × n_vars = 3105 × 33694\n",
      "    var: 'gene_ids'\n",
      "AnnData object with n_obs × n_vars = 2229 × 33694\n",
      "    var: 'gene_ids'\n"
     ]
    }
   ],
   "source": [
    "general_output_path = '/scratch/user/s4543064/Xiaohan_Summer_Research/write/GSE132509/GSM38724'\n",
    "\n",
    "for i, j in zip(range(34, 38), range(1, 5)):\n",
    "    actual_output_path = general_output_path + str(i) + '_ETV6-RUNX1_' + str(j) + '.h5ad'\n",
    "    sample = anndata.read_h5ad(actual_output_path)\n",
    "    print(sample)\n",
    "\n",
    "for i, j in zip(range(38, 40), range(1, 3)):\n",
    "    actual_output_path = general_output_path + str(i) + '_HHD_' + str(j) + '.h5ad'\n",
    "    sample = anndata.read_h5ad(actual_output_path)\n",
    "    print(sample)\n",
    "\n",
    "for i, j in zip(range(40, 42), range(1, 3)):\n",
    "    actual_output_path = general_output_path + str(i) + '_PRE-T_' + str(j) + '.h5ad'\n",
    "    sample = anndata.read_h5ad(actual_output_path)\n",
    "    print(sample)\n",
    "\n",
    "for i, j in zip(range(42, 45), range(1, 4)):\n",
    "    actual_output_path = general_output_path + str(i) + '_PBMMC_' + str(j) + '.h5ad'\n",
    "    sample = anndata.read_h5ad(actual_output_path)\n",
    "    print(sample)\n"
   ]
  }
 ],
 "metadata": {
  "kernelspec": {
   "display_name": "Python 3 (ipykernel)",
   "language": "python",
   "name": "python3"
  },
  "language_info": {
   "codemirror_mode": {
    "name": "ipython",
    "version": 3
   },
   "file_extension": ".py",
   "mimetype": "text/x-python",
   "name": "python",
   "nbconvert_exporter": "python",
   "pygments_lexer": "ipython3",
   "version": "3.8.18"
  }
 },
 "nbformat": 4,
 "nbformat_minor": 2
}
