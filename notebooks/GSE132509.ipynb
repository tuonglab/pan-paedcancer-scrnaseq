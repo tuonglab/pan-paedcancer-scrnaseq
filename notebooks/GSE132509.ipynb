{
 "cells": [
  {
   "cell_type": "markdown",
   "metadata": {},
   "source": [
    "### 1. General info of dataset GSE132509\n",
    "\n",
    "This is the Jupyter Notebook for dataset GSE132509. Its dataset includes a big overall cell annotation tsv file and barcodes/genes/matrix files for each sample.\n",
    "\n",
    "Thus, we need to simply incorparate these barcodes/genes/matrix files and generate an AnnData object for each sample.\n",
    "\n",
    "<span style=\"color:green\">**[ETV6-RUNX1]**</span> Pre-B t(12;21) acute lymphoblastic leukemia\n",
    "\n",
    "<span style=\"color:green\">**[HHD]**</span> Pre-B High hyper diploid acute lymphoblastic leukemia\n",
    "\n",
    "<span style=\"color:green\">**[PRE-T]**</span> Pre-T acute lymphoblastic leukemia\n",
    "\n",
    "<span style=\"color:green\">**[PBMCC]**</span> Healthy pediatric bone marrow mononuclear cells"
   ]
  },
  {
   "cell_type": "code",
   "execution_count": 1,
   "metadata": {},
   "outputs": [],
   "source": [
    "# Environment setup\n",
    "import numpy as np\n",
    "import pandas as pd\n",
    "import scanpy as sc\n",
    "import anndata as anndata\n",
    "import scipy"
   ]
  },
  {
   "cell_type": "markdown",
   "metadata": {},
   "source": [
    "### 2. AnnData object of each sample\n",
    "\n",
    "<span style=\"color:red\">**IMPORTANT:**</span> rename files to get rid of prefixes\n",
    "\n",
    "1. `barcodes.tsv`: cell barcodes, which go into `.obs`\n",
    "2. `genes.tsv`: gene names, `.var`\n",
    "3. `matrix.mtx`: the expression matrix, `.X`"
   ]
  },
  {
   "cell_type": "code",
   "execution_count": 3,
   "metadata": {},
   "outputs": [],
   "source": [
    "etv6_runx1_1 = sc.read_10x_mtx(\n",
    "    '/scratch/user/s4543064/Xiaohan_Summer_Research/data/GSM3872434_ETV6-RUNX1_1',  # the directory with the `.mtx` file\n",
    "    var_names='gene_symbols',                # use gene symbols for the variable names (variables-axis index)\n",
    "    cache=False)                              # write a cache file for faster subsequent reading\n",
    "# n_obs × n_vars = 2776 × 33694\n",
    "\n",
    "# save the anndata object for later use\n",
    "etv6_runx1_1.write_h5ad(\"/scratch/user/s4543064/Xiaohan_Summer_Research/write/GSM3872434_ETV6-RUNX1_1.h5ad\", compression=\"gzip\")"
   ]
  }
 ],
 "metadata": {
  "kernelspec": {
   "display_name": "Python 3 (ipykernel)",
   "language": "python",
   "name": "python3"
  },
  "language_info": {
   "codemirror_mode": {
    "name": "ipython",
    "version": 3
   },
   "file_extension": ".py",
   "mimetype": "text/x-python",
   "name": "python",
   "nbconvert_exporter": "python",
   "pygments_lexer": "ipython3",
   "version": "3.8.18"
  }
 },
 "nbformat": 4,
 "nbformat_minor": 2
}
