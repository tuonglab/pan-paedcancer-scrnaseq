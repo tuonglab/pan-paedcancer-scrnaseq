{
 "cells": [
  {
   "cell_type": "markdown",
   "metadata": {},
   "source": [
    "### 1. General info of dataset GSE132509\n",
    "\n",
    "This is the Jupyter Notebook for dataset GSE132509. Its dataset includes a big overall cell annotation tsv file and barcodes/genes/matrix files for each sample.\n",
    "\n",
    "Thus, we need to simply incorparate these barcodes/genes/matrix files and generate an AnnData object for each sample. In total, there are 11 samples.\n",
    "\n",
    "<span style=\"color:green\">**[ETV6-RUNX1]**</span> Pre-B t(12;21) acute lymphoblastic leukemia\n",
    "\n",
    "<span style=\"color:green\">**[HHD]**</span> Pre-B High hyper diploid acute lymphoblastic leukemia\n",
    "\n",
    "<span style=\"color:green\">**[PRE-T]**</span> Pre-T acute lymphoblastic leukemia\n",
    "\n",
    "<span style=\"color:green\">**[PBMCC]**</span> Healthy pediatric bone marrow mononuclear cells"
   ]
  },
  {
   "cell_type": "code",
   "execution_count": 1,
   "metadata": {},
   "outputs": [],
   "source": [
    "# Environment setup\n",
    "import numpy as np\n",
    "import pandas as pd\n",
    "import scanpy as sc\n",
    "import anndata as anndata\n",
    "import scipy"
   ]
  },
  {
   "cell_type": "markdown",
   "metadata": {},
   "source": [
    "### 2. AnnData object of each sample\n",
    "\n",
    "<span style=\"color:red\">**IMPORTANT:**</span> rename files to get rid of prefixes\n",
    "\n",
    "1. `barcodes.tsv`: cell barcodes, which go into `.obs`\n",
    "2. `genes.tsv`: gene names, `.var`\n",
    "3. `matrix.mtx`: the expression matrix, `.X`"
   ]
  },
  {
   "cell_type": "code",
   "execution_count": 3,
   "metadata": {},
   "outputs": [],
   "source": [
    "etv6_runx1_1 = sc.read_10x_mtx(\n",
    "    '/scratch/user/s4543064/Xiaohan_Summer_Research/data/GSE132509/GSE132509_RAW/GSM3872434_ETV6-RUNX1_1',  \n",
    "    var_names='gene_symbols',                \n",
    "    cache=False)                              \n",
    "# n_obs × n_vars = 2776 × 33694\n",
    "\n",
    "# save the anndata object for later use\n",
    "etv6_runx1_1.write_h5ad(\"/scratch/user/s4543064/Xiaohan_Summer_Research/write/GSE132509/GSM3872434_ETV6-RUNX1_1.h5ad\", compression=\"gzip\")"
   ]
  },
  {
   "cell_type": "code",
   "execution_count": 4,
   "metadata": {},
   "outputs": [],
   "source": [
    "etv6_runx1_2 = sc.read_10x_mtx(\n",
    "    '/scratch/user/s4543064/Xiaohan_Summer_Research/data/GSE132509/GSE132509_RAW/GSM3872435_ETV6-RUNX1_2',  \n",
    "    var_names='gene_symbols',                \n",
    "    cache=False)                              \n",
    "# n_obs × n_vars = 6274 × 33694\n",
    "\n",
    "# save the anndata object for later use\n",
    "etv6_runx1_2.write_h5ad(\"/scratch/user/s4543064/Xiaohan_Summer_Research/write/GSE132509/GSM3872435_ETV6-RUNX1_2.h5ad\", compression=\"gzip\")"
   ]
  },
  {
   "cell_type": "code",
   "execution_count": 2,
   "metadata": {},
   "outputs": [],
   "source": [
    "etv6_runx1_3 = sc.read_10x_mtx(\n",
    "    '/scratch/user/s4543064/Xiaohan_Summer_Research/data/GSE132509/GSE132509_RAW/GSM3872436_ETV6-RUNX1_3',  \n",
    "    var_names='gene_symbols',                \n",
    "    cache=False)                              \n",
    "# n_obs × n_vars = 3862 × 33694\n",
    "\n",
    "# save the anndata object for later use\n",
    "etv6_runx1_3.write_h5ad(\"/scratch/user/s4543064/Xiaohan_Summer_Research/write/GSE132509/GSM3872436_ETV6-RUNX1_3.h5ad\", compression=\"gzip\")"
   ]
  },
  {
   "cell_type": "code",
   "execution_count": 4,
   "metadata": {},
   "outputs": [],
   "source": [
    "etv6_runx1_4 = sc.read_10x_mtx(\n",
    "    '/scratch/user/s4543064/Xiaohan_Summer_Research/data/GSE132509/GSE132509_RAW/GSM3872437_ETV6-RUNX1_4',  \n",
    "    var_names='gene_symbols',                \n",
    "    cache=False)                              \n",
    "# n_obs × n_vars = 5069 × 33694\n",
    "\n",
    "# save the anndata object for later use\n",
    "etv6_runx1_4.write_h5ad(\"/scratch/user/s4543064/Xiaohan_Summer_Research/write/GSE132509/GSM3872437_ETV6-RUNX1_4.h5ad\", compression=\"gzip\")"
   ]
  },
  {
   "cell_type": "code",
   "execution_count": 6,
   "metadata": {},
   "outputs": [],
   "source": [
    "hhd_1 = sc.read_10x_mtx(\n",
    "    '/scratch/user/s4543064/Xiaohan_Summer_Research/data/GSE132509/GSE132509_RAW/GSM3872438_HHD_1',  \n",
    "    var_names='gene_symbols',                \n",
    "    cache=False)                              \n",
    "# n_obs × n_vars = 3728 × 33694\n",
    "\n",
    "# save the anndata object for later use\n",
    "hhd_1.write_h5ad(\"/scratch/user/s4543064/Xiaohan_Summer_Research/write/GSE132509/GSM3872438_HHD_1.h5ad\", compression=\"gzip\")"
   ]
  },
  {
   "cell_type": "code",
   "execution_count": 8,
   "metadata": {},
   "outputs": [],
   "source": [
    "hhd_2 = sc.read_10x_mtx(\n",
    "    '/scratch/user/s4543064/Xiaohan_Summer_Research/data/GSE132509/GSE132509_RAW/GSM3872439_HHD_2',  \n",
    "    var_names='gene_symbols',                \n",
    "    cache=False)                              \n",
    "# n_obs × n_vars = 5013 × 33694\n",
    "\n",
    "# save the anndata object for later use\n",
    "hhd_2.write_h5ad(\"/scratch/user/s4543064/Xiaohan_Summer_Research/write/GSE132509/GSM3872439_HHD_2.h5ad\", compression=\"gzip\")"
   ]
  },
  {
   "cell_type": "code",
   "execution_count": 11,
   "metadata": {},
   "outputs": [],
   "source": [
    "pre_t_1 = sc.read_10x_mtx(\n",
    "    '/scratch/user/s4543064/Xiaohan_Summer_Research/data/GSE132509/GSE132509_RAW/GSM3872440_PRE-T_1',  \n",
    "    var_names='gene_symbols',                \n",
    "    cache=False)                              \n",
    "# n_obs × n_vars = 2959 × 33694\n",
    "\n",
    "# save the anndata object for later use\n",
    "pre_t_1.write_h5ad(\"/scratch/user/s4543064/Xiaohan_Summer_Research/write/GSE132509/GSM3872440_PRE-T_1.h5ad\", compression=\"gzip\")"
   ]
  },
  {
   "cell_type": "code",
   "execution_count": 13,
   "metadata": {},
   "outputs": [],
   "source": [
    "pre_t_2 = sc.read_10x_mtx(\n",
    "    '/scratch/user/s4543064/Xiaohan_Summer_Research/data/GSE132509/GSE132509_RAW/GSM3872441_PRE-T_2',  \n",
    "    var_names='gene_symbols',                \n",
    "    cache=False)                              \n",
    "# n_obs × n_vars = 2748 × 33694\n",
    "\n",
    "# save the anndata object for later use\n",
    "pre_t_2.write_h5ad(\"/scratch/user/s4543064/Xiaohan_Summer_Research/write/GSE132509/GSM3872441_PRE-T_2.h5ad\", compression=\"gzip\")"
   ]
  },
  {
   "cell_type": "code",
   "execution_count": 15,
   "metadata": {},
   "outputs": [],
   "source": [
    "pbmmc_1 = sc.read_10x_mtx(\n",
    "    '/scratch/user/s4543064/Xiaohan_Summer_Research/data/GSE132509/GSE132509_RAW/GSM3872442_PBMMC_1',  \n",
    "    var_names='gene_symbols',                \n",
    "    cache=False)                              \n",
    "# n_obs × n_vars = 1612 × 33694\n",
    "\n",
    "# save the anndata object for later use\n",
    "pbmmc_1.write_h5ad(\"/scratch/user/s4543064/Xiaohan_Summer_Research/write/GSE132509/GSM3872442_PBMMC_1.h5ad\", compression=\"gzip\")"
   ]
  },
  {
   "cell_type": "code",
   "execution_count": 17,
   "metadata": {},
   "outputs": [],
   "source": [
    "pbmmc_2 = sc.read_10x_mtx(\n",
    "    '/scratch/user/s4543064/Xiaohan_Summer_Research/data/GSE132509/GSE132509_RAW/GSM3872443_PBMMC_2',  \n",
    "    var_names='gene_symbols',                \n",
    "    cache=False)                              \n",
    "# n_obs × n_vars = 3105 × 33694\n",
    "\n",
    "# save the anndata object for later use\n",
    "pbmmc_2.write_h5ad(\"/scratch/user/s4543064/Xiaohan_Summer_Research/write/GSE132509/GSM3872443_PBMMC_2.h5ad\", compression=\"gzip\")"
   ]
  },
  {
   "cell_type": "code",
   "execution_count": 19,
   "metadata": {},
   "outputs": [],
   "source": [
    "pbmmc_3 = sc.read_10x_mtx(\n",
    "    '/scratch/user/s4543064/Xiaohan_Summer_Research/data/GSE132509/GSE132509_RAW/GSM3872444_PBMMC_3',  \n",
    "    var_names='gene_symbols',                \n",
    "    cache=False)                              \n",
    "# n_obs × n_vars = 2229 × 33694\n",
    "\n",
    "# save the anndata object for later use\n",
    "pbmmc_3.write_h5ad(\"/scratch/user/s4543064/Xiaohan_Summer_Research/write/GSE132509/GSM3872444_PBMMC_3.h5ad\", compression=\"gzip\")"
   ]
  },
  {
   "cell_type": "markdown",
   "metadata": {},
   "source": [
    "### 3. Confirmation of created AnnData objects"
   ]
  },
  {
   "cell_type": "code",
   "execution_count": 25,
   "metadata": {},
   "outputs": [
    {
     "name": "stdout",
     "output_type": "stream",
     "text": [
      "AnnData object with n_obs × n_vars = 2776 × 33694\n",
      "    var: 'gene_ids'\n",
      "AnnData object with n_obs × n_vars = 6274 × 33694\n",
      "    var: 'gene_ids'\n",
      "AnnData object with n_obs × n_vars = 3862 × 33694\n",
      "    var: 'gene_ids'\n",
      "AnnData object with n_obs × n_vars = 5069 × 33694\n",
      "    var: 'gene_ids'\n",
      "AnnData object with n_obs × n_vars = 3728 × 33694\n",
      "    var: 'gene_ids'\n",
      "AnnData object with n_obs × n_vars = 5013 × 33694\n",
      "    var: 'gene_ids'\n",
      "AnnData object with n_obs × n_vars = 2959 × 33694\n",
      "    var: 'gene_ids'\n",
      "AnnData object with n_obs × n_vars = 2748 × 33694\n",
      "    var: 'gene_ids'\n",
      "AnnData object with n_obs × n_vars = 1612 × 33694\n",
      "    var: 'gene_ids'\n",
      "AnnData object with n_obs × n_vars = 3105 × 33694\n",
      "    var: 'gene_ids'\n",
      "AnnData object with n_obs × n_vars = 2229 × 33694\n",
      "    var: 'gene_ids'\n"
     ]
    }
   ],
   "source": [
    "sample_1 = anndata.read_h5ad('/scratch/user/s4543064/Xiaohan_Summer_Research/write/GSE132509/GSM3872434_ETV6-RUNX1_1.h5ad')\n",
    "print(sample_1)\n",
    "\n",
    "sample_2 = anndata.read_h5ad('/scratch/user/s4543064/Xiaohan_Summer_Research/write/GSE132509/GSM3872435_ETV6-RUNX1_2.h5ad')\n",
    "print(sample_2)\n",
    "\n",
    "sample_3 = anndata.read_h5ad('/scratch/user/s4543064/Xiaohan_Summer_Research/write/GSE132509/GSM3872436_ETV6-RUNX1_3.h5ad')\n",
    "print(sample_3)\n",
    "\n",
    "sample_4 = anndata.read_h5ad('/scratch/user/s4543064/Xiaohan_Summer_Research/write/GSE132509/GSM3872437_ETV6-RUNX1_4.h5ad')\n",
    "print(sample_4)\n",
    "\n",
    "sample_5 = anndata.read_h5ad('/scratch/user/s4543064/Xiaohan_Summer_Research/write/GSE132509/GSM3872438_HHD_1.h5ad')\n",
    "print(sample_5)\n",
    "\n",
    "sample_6 = anndata.read_h5ad('/scratch/user/s4543064/Xiaohan_Summer_Research/write/GSE132509/GSM3872439_HHD_2.h5ad')\n",
    "print(sample_6)\n",
    "\n",
    "sample_7 = anndata.read_h5ad('/scratch/user/s4543064/Xiaohan_Summer_Research/write/GSE132509/GSM3872440_PRE-T_1.h5ad')\n",
    "print(sample_7)\n",
    "\n",
    "sample_8 = anndata.read_h5ad('/scratch/user/s4543064/Xiaohan_Summer_Research/write/GSE132509/GSM3872441_PRE-T_2.h5ad')\n",
    "print(sample_8)\n",
    "\n",
    "sample_9 = anndata.read_h5ad('/scratch/user/s4543064/Xiaohan_Summer_Research/write/GSE132509/GSM3872442_PBMMC_1.h5ad')\n",
    "print(sample_9)\n",
    "\n",
    "sample_10 = anndata.read_h5ad('/scratch/user/s4543064/Xiaohan_Summer_Research/write/GSE132509/GSM3872443_PBMMC_2.h5ad')\n",
    "print(sample_10)\n",
    "\n",
    "sample_11 = anndata.read_h5ad('/scratch/user/s4543064/Xiaohan_Summer_Research/write/GSE132509/GSM3872444_PBMMC_3.h5ad')\n",
    "print(sample_11)"
   ]
  }
 ],
 "metadata": {
  "kernelspec": {
   "display_name": "Python 3 (ipykernel)",
   "language": "python",
   "name": "python3"
  },
  "language_info": {
   "codemirror_mode": {
    "name": "ipython",
    "version": 3
   },
   "file_extension": ".py",
   "mimetype": "text/x-python",
   "name": "python",
   "nbconvert_exporter": "python",
   "pygments_lexer": "ipython3",
   "version": "3.8.18"
  }
 },
 "nbformat": 4,
 "nbformat_minor": 2
}
