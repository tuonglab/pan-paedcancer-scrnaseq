{
 "cells": [
  {
   "cell_type": "markdown",
   "metadata": {},
   "source": [
    "### 1. General info of dataset GSE223373\n",
    "\n",
    "This is the Jupyter Notebook for dataset GSE223373. Its dataset includes barcodes/genes/matrix files for each sample. There are 3 samples.\n",
    "\t\n",
    "GSM6946666\tWT-RBG-L, Left Wilms tumor\n",
    "\n",
    "GSM6946667\tWT-RBG-N, Normal Kidney tissue\n",
    "\n",
    "GSM6946668\tWT-RBG-R, Right Wilms tumor"
   ]
  },
  {
   "cell_type": "code",
   "execution_count": 1,
   "metadata": {},
   "outputs": [],
   "source": [
    "# Environment setup\n",
    "import numpy as np\n",
    "import pandas as pd\n",
    "import scanpy as sc\n",
    "import anndata as anndata\n",
    "import scipy"
   ]
  },
  {
   "cell_type": "markdown",
   "metadata": {},
   "source": [
    "### 2. AnnData object of each sample\n",
    "\n",
    "<span style=\"color:red\">**IMPORTANT:**</span> rename files to get rid of prefixes\n",
    "\n",
    "1. `barcodes.tsv`: cell barcodes, which go into `.obs`\n",
    "2. `genes.tsv`: gene names, `.var`\n",
    "3. `matrix.mtx`: the expression matrix, `.X`"
   ]
  },
  {
   "cell_type": "code",
   "execution_count": 2,
   "metadata": {},
   "outputs": [],
   "source": [
    "from pathlib import Path"
   ]
  },
  {
   "cell_type": "code",
   "execution_count": 4,
   "metadata": {},
   "outputs": [
    {
     "name": "stdout",
     "output_type": "stream",
     "text": [
      "AnnData object with n_obs × n_vars = 11773 × 32249\n",
      "    obs: 'cancer_type', 'dataset', 'tissue', 'sample_barcode'\n",
      "    var: 'gene_ids'\n",
      "AnnData object with n_obs × n_vars = 11296 × 31096\n",
      "    obs: 'cancer_type', 'dataset', 'tissue', 'sample_barcode'\n",
      "    var: 'gene_ids'\n",
      "AnnData object with n_obs × n_vars = 11715 × 30369\n",
      "    obs: 'cancer_type', 'dataset', 'tissue', 'sample_barcode'\n",
      "    var: 'gene_ids'\n"
     ]
    }
   ],
   "source": [
    "# Specify directory paths\n",
    "data_directory = Path('/scratch/user/uqjsaxo1/xiaohan-john-project/data/GSE223373_RAW/')\n",
    "write_directory = Path('/scratch/user/uqjsaxo1/xiaohan-john-project/write/GSE223373/')\n",
    "\n",
    "# Loop through all files in the directory\n",
    "for sample_directory in data_directory.iterdir():\n",
    "    sample_name = sample_directory.stem\n",
    "    sample_h5ad = sample_name + '_uni.h5ad'\n",
    "\n",
    "    sample = sc.read_10x_mtx(\n",
    "    sample_directory,\n",
    "    var_names='gene_symbols',  \n",
    "    cache=False\n",
    "    )\n",
    "\n",
    "    # Create an observation metric info to store related features\n",
    "    obs_metrics = pd.DataFrame(index=sample.obs_names) ## Get the identifiers\n",
    "    obs_metrics['cancer_type'] = 'Nephroblastoma'\n",
    "    obs_metrics['dataset'] = 'GSE223373'\n",
    "    obs_metrics['tissue'] = 'Kidney'\n",
    "    obs_metrics['sample_barcode'] = sample_name\n",
    "    obs_metrics['uni_barcode'] = obs_metrics['dataset'] + '_' + obs_metrics.index.astype(str)\n",
    "    \n",
    "    sample.obs = obs_metrics\n",
    "    sample.obs.set_index(\"uni_barcode\", drop=True, inplace=True)\n",
    "    print(sample)\n",
    "\n",
    "    # save the anndata object\n",
    "    output_path = write_directory.joinpath(sample_h5ad)\n",
    "    sample.write_h5ad(output_path, compression=\"gzip\")"
   ]
  },
  {
   "cell_type": "markdown",
   "metadata": {},
   "source": [
    "### 3. Confirmation of created AnnData objects"
   ]
  },
  {
   "cell_type": "code",
   "execution_count": 6,
   "metadata": {},
   "outputs": [
    {
     "name": "stdout",
     "output_type": "stream",
     "text": [
      "AnnData object with n_obs × n_vars = 11773 × 32249\n",
      "    obs: 'cancer_type', 'dataset', 'tissue', 'sample_barcode'\n",
      "    var: 'gene_ids'\n",
      "AnnData object with n_obs × n_vars = 11715 × 30369\n",
      "    obs: 'cancer_type', 'dataset', 'tissue', 'sample_barcode'\n",
      "    var: 'gene_ids'\n",
      "AnnData object with n_obs × n_vars = 11296 × 31096\n",
      "    obs: 'cancer_type', 'dataset', 'tissue', 'sample_barcode'\n",
      "    var: 'gene_ids'\n"
     ]
    }
   ],
   "source": [
    "from pathlib import Path\n",
    "\n",
    "# Specify directory paths\n",
    "write_directory = Path('/scratch/user/uqjsaxo1/xiaohan-john-project/write/GSE223373/')\n",
    "\n",
    "# Loop through all files in the directory\n",
    "for file in write_directory.iterdir():\n",
    "    sample = anndata.read_h5ad(file)\n",
    "    print(sample)"
   ]
  },
  {
   "cell_type": "code",
   "execution_count": 7,
   "metadata": {},
   "outputs": [
    {
     "data": {
      "text/html": [
       "<div>\n",
       "<style scoped>\n",
       "    .dataframe tbody tr th:only-of-type {\n",
       "        vertical-align: middle;\n",
       "    }\n",
       "\n",
       "    .dataframe tbody tr th {\n",
       "        vertical-align: top;\n",
       "    }\n",
       "\n",
       "    .dataframe thead th {\n",
       "        text-align: right;\n",
       "    }\n",
       "</style>\n",
       "<table border=\"1\" class=\"dataframe\">\n",
       "  <thead>\n",
       "    <tr style=\"text-align: right;\">\n",
       "      <th></th>\n",
       "      <th>cancer_type</th>\n",
       "      <th>dataset</th>\n",
       "      <th>tissue</th>\n",
       "      <th>sample_barcode</th>\n",
       "    </tr>\n",
       "    <tr>\n",
       "      <th>uni_barcode</th>\n",
       "      <th></th>\n",
       "      <th></th>\n",
       "      <th></th>\n",
       "      <th></th>\n",
       "    </tr>\n",
       "  </thead>\n",
       "  <tbody>\n",
       "    <tr>\n",
       "      <th>GSE223373_AAACATCGAACCGAGAACATTGGC</th>\n",
       "      <td>Nephroblastoma</td>\n",
       "      <td>GSE223373</td>\n",
       "      <td>Kidney</td>\n",
       "      <td>GSM6946667_WT-RBG-N_matrix</td>\n",
       "    </tr>\n",
       "    <tr>\n",
       "      <th>GSE223373_AAACATCGAACGCTTAGGTGCGAA</th>\n",
       "      <td>Nephroblastoma</td>\n",
       "      <td>GSE223373</td>\n",
       "      <td>Kidney</td>\n",
       "      <td>GSM6946667_WT-RBG-N_matrix</td>\n",
       "    </tr>\n",
       "    <tr>\n",
       "      <th>GSE223373_AAACATCGAACGTGATGACTAGTA</th>\n",
       "      <td>Nephroblastoma</td>\n",
       "      <td>GSE223373</td>\n",
       "      <td>Kidney</td>\n",
       "      <td>GSM6946667_WT-RBG-N_matrix</td>\n",
       "    </tr>\n",
       "    <tr>\n",
       "      <th>GSE223373_AAACATCGAACTCACCCCGAAGTA</th>\n",
       "      <td>Nephroblastoma</td>\n",
       "      <td>GSE223373</td>\n",
       "      <td>Kidney</td>\n",
       "      <td>GSM6946667_WT-RBG-N_matrix</td>\n",
       "    </tr>\n",
       "    <tr>\n",
       "      <th>GSE223373_AAACATCGAAGACGGACTGAGCCA</th>\n",
       "      <td>Nephroblastoma</td>\n",
       "      <td>GSE223373</td>\n",
       "      <td>Kidney</td>\n",
       "      <td>GSM6946667_WT-RBG-N_matrix</td>\n",
       "    </tr>\n",
       "    <tr>\n",
       "      <th>...</th>\n",
       "      <td>...</td>\n",
       "      <td>...</td>\n",
       "      <td>...</td>\n",
       "      <td>...</td>\n",
       "    </tr>\n",
       "    <tr>\n",
       "      <th>GSE223373_TTCACGCAGTGTTCTAGTACGCAA</th>\n",
       "      <td>Nephroblastoma</td>\n",
       "      <td>GSE223373</td>\n",
       "      <td>Kidney</td>\n",
       "      <td>GSM6946667_WT-RBG-N_matrix</td>\n",
       "    </tr>\n",
       "    <tr>\n",
       "      <th>GSE223373_TTCACGCATAGGATGATCTTCACA</th>\n",
       "      <td>Nephroblastoma</td>\n",
       "      <td>GSE223373</td>\n",
       "      <td>Kidney</td>\n",
       "      <td>GSM6946667_WT-RBG-N_matrix</td>\n",
       "    </tr>\n",
       "    <tr>\n",
       "      <th>GSE223373_TTCACGCATATCAGCAAGCACCTC</th>\n",
       "      <td>Nephroblastoma</td>\n",
       "      <td>GSE223373</td>\n",
       "      <td>Kidney</td>\n",
       "      <td>GSM6946667_WT-RBG-N_matrix</td>\n",
       "    </tr>\n",
       "    <tr>\n",
       "      <th>GSE223373_TTCACGCATGGAACAACTAAGGTC</th>\n",
       "      <td>Nephroblastoma</td>\n",
       "      <td>GSE223373</td>\n",
       "      <td>Kidney</td>\n",
       "      <td>GSM6946667_WT-RBG-N_matrix</td>\n",
       "    </tr>\n",
       "    <tr>\n",
       "      <th>GSE223373_TTCACGCATTCACGCACGAACTTA</th>\n",
       "      <td>Nephroblastoma</td>\n",
       "      <td>GSE223373</td>\n",
       "      <td>Kidney</td>\n",
       "      <td>GSM6946667_WT-RBG-N_matrix</td>\n",
       "    </tr>\n",
       "  </tbody>\n",
       "</table>\n",
       "<p>11296 rows × 4 columns</p>\n",
       "</div>"
      ],
      "text/plain": [
       "                                       cancer_type    dataset  tissue  \\\n",
       "uni_barcode                                                             \n",
       "GSE223373_AAACATCGAACCGAGAACATTGGC  Nephroblastoma  GSE223373  Kidney   \n",
       "GSE223373_AAACATCGAACGCTTAGGTGCGAA  Nephroblastoma  GSE223373  Kidney   \n",
       "GSE223373_AAACATCGAACGTGATGACTAGTA  Nephroblastoma  GSE223373  Kidney   \n",
       "GSE223373_AAACATCGAACTCACCCCGAAGTA  Nephroblastoma  GSE223373  Kidney   \n",
       "GSE223373_AAACATCGAAGACGGACTGAGCCA  Nephroblastoma  GSE223373  Kidney   \n",
       "...                                            ...        ...     ...   \n",
       "GSE223373_TTCACGCAGTGTTCTAGTACGCAA  Nephroblastoma  GSE223373  Kidney   \n",
       "GSE223373_TTCACGCATAGGATGATCTTCACA  Nephroblastoma  GSE223373  Kidney   \n",
       "GSE223373_TTCACGCATATCAGCAAGCACCTC  Nephroblastoma  GSE223373  Kidney   \n",
       "GSE223373_TTCACGCATGGAACAACTAAGGTC  Nephroblastoma  GSE223373  Kidney   \n",
       "GSE223373_TTCACGCATTCACGCACGAACTTA  Nephroblastoma  GSE223373  Kidney   \n",
       "\n",
       "                                                sample_barcode  \n",
       "uni_barcode                                                     \n",
       "GSE223373_AAACATCGAACCGAGAACATTGGC  GSM6946667_WT-RBG-N_matrix  \n",
       "GSE223373_AAACATCGAACGCTTAGGTGCGAA  GSM6946667_WT-RBG-N_matrix  \n",
       "GSE223373_AAACATCGAACGTGATGACTAGTA  GSM6946667_WT-RBG-N_matrix  \n",
       "GSE223373_AAACATCGAACTCACCCCGAAGTA  GSM6946667_WT-RBG-N_matrix  \n",
       "GSE223373_AAACATCGAAGACGGACTGAGCCA  GSM6946667_WT-RBG-N_matrix  \n",
       "...                                                        ...  \n",
       "GSE223373_TTCACGCAGTGTTCTAGTACGCAA  GSM6946667_WT-RBG-N_matrix  \n",
       "GSE223373_TTCACGCATAGGATGATCTTCACA  GSM6946667_WT-RBG-N_matrix  \n",
       "GSE223373_TTCACGCATATCAGCAAGCACCTC  GSM6946667_WT-RBG-N_matrix  \n",
       "GSE223373_TTCACGCATGGAACAACTAAGGTC  GSM6946667_WT-RBG-N_matrix  \n",
       "GSE223373_TTCACGCATTCACGCACGAACTTA  GSM6946667_WT-RBG-N_matrix  \n",
       "\n",
       "[11296 rows x 4 columns]"
      ]
     },
     "execution_count": 7,
     "metadata": {},
     "output_type": "execute_result"
    }
   ],
   "source": [
    "sample.obs"
   ]
  },
  {
   "cell_type": "code",
   "execution_count": 8,
   "metadata": {},
   "outputs": [
    {
     "data": {
      "text/html": [
       "<div>\n",
       "<style scoped>\n",
       "    .dataframe tbody tr th:only-of-type {\n",
       "        vertical-align: middle;\n",
       "    }\n",
       "\n",
       "    .dataframe tbody tr th {\n",
       "        vertical-align: top;\n",
       "    }\n",
       "\n",
       "    .dataframe thead th {\n",
       "        text-align: right;\n",
       "    }\n",
       "</style>\n",
       "<table border=\"1\" class=\"dataframe\">\n",
       "  <thead>\n",
       "    <tr style=\"text-align: right;\">\n",
       "      <th></th>\n",
       "      <th>gene_ids</th>\n",
       "    </tr>\n",
       "  </thead>\n",
       "  <tbody>\n",
       "    <tr>\n",
       "      <th>TSPAN6</th>\n",
       "      <td>ENSG00000000003</td>\n",
       "    </tr>\n",
       "    <tr>\n",
       "      <th>TNMD</th>\n",
       "      <td>ENSG00000000005</td>\n",
       "    </tr>\n",
       "    <tr>\n",
       "      <th>DPM1</th>\n",
       "      <td>ENSG00000000419</td>\n",
       "    </tr>\n",
       "    <tr>\n",
       "      <th>SCYL3</th>\n",
       "      <td>ENSG00000000457</td>\n",
       "    </tr>\n",
       "    <tr>\n",
       "      <th>C1orf112</th>\n",
       "      <td>ENSG00000000460</td>\n",
       "    </tr>\n",
       "    <tr>\n",
       "      <th>...</th>\n",
       "      <td>...</td>\n",
       "    </tr>\n",
       "    <tr>\n",
       "      <th>AC093827.5</th>\n",
       "      <td>ENSG00000285458</td>\n",
       "    </tr>\n",
       "    <tr>\n",
       "      <th>AL136419.1</th>\n",
       "      <td>ENSG00000285467</td>\n",
       "    </tr>\n",
       "    <tr>\n",
       "      <th>AC139491.7</th>\n",
       "      <td>ENSG00000285476</td>\n",
       "    </tr>\n",
       "    <tr>\n",
       "      <th>AL356417.3</th>\n",
       "      <td>ENSG00000285492</td>\n",
       "    </tr>\n",
       "    <tr>\n",
       "      <th>AP000646.1</th>\n",
       "      <td>ENSG00000285509</td>\n",
       "    </tr>\n",
       "  </tbody>\n",
       "</table>\n",
       "<p>31096 rows × 1 columns</p>\n",
       "</div>"
      ],
      "text/plain": [
       "                   gene_ids\n",
       "TSPAN6      ENSG00000000003\n",
       "TNMD        ENSG00000000005\n",
       "DPM1        ENSG00000000419\n",
       "SCYL3       ENSG00000000457\n",
       "C1orf112    ENSG00000000460\n",
       "...                     ...\n",
       "AC093827.5  ENSG00000285458\n",
       "AL136419.1  ENSG00000285467\n",
       "AC139491.7  ENSG00000285476\n",
       "AL356417.3  ENSG00000285492\n",
       "AP000646.1  ENSG00000285509\n",
       "\n",
       "[31096 rows x 1 columns]"
      ]
     },
     "execution_count": 8,
     "metadata": {},
     "output_type": "execute_result"
    }
   ],
   "source": [
    "sample.var"
   ]
  },
  {
   "cell_type": "code",
   "execution_count": 14,
   "metadata": {},
   "outputs": [
    {
     "data": {
      "text/plain": [
       "array([[0., 1., 0., 0., 0., 0., 0., 0., 0.],\n",
       "       [0., 1., 0., 0., 0., 0., 1., 0., 0.],\n",
       "       [0., 0., 0., 0., 0., 0., 0., 0., 0.],\n",
       "       [0., 1., 0., 0., 0., 0., 0., 0., 1.],\n",
       "       [0., 0., 0., 0., 0., 0., 0., 0., 0.],\n",
       "       [0., 1., 0., 0., 0., 0., 0., 0., 0.],\n",
       "       [0., 3., 0., 0., 0., 0., 0., 0., 0.],\n",
       "       [0., 0., 1., 0., 0., 0., 0., 0., 0.],\n",
       "       [0., 0., 0., 0., 0., 0., 0., 0., 0.]], dtype=float32)"
      ]
     },
     "execution_count": 14,
     "metadata": {},
     "output_type": "execute_result"
    }
   ],
   "source": [
    "sample.X[1:10, 1:10].toarray()"
   ]
  },
  {
   "cell_type": "markdown",
   "metadata": {},
   "source": [
    "### 4. Convert AnnData objects to SingleCellExperiment objects"
   ]
  },
  {
   "cell_type": "code",
   "execution_count": null,
   "metadata": {},
   "outputs": [],
   "source": [
    "from pathlib import Path\n",
    "\n",
    "import anndata2ri\n",
    "import rpy2.robjects as robjects\n",
    "from rpy2.robjects import r\n",
    "from rpy2.robjects.conversion import localconverter\n",
    "\n",
    "# Specify directory paths\n",
    "write_directory = Path('/scratch/user/s4543064/xiaohan-john-project/write/GSE136929')\n",
    "\n",
    "# Loop through all files in the directory\n",
    "for file in write_directory.iterdir():\n",
    "    sample_name = file.stem\n",
    "    if \"_uni.h5ad\" in file.name:\n",
    "        sample_anndata = anndata.read_h5ad(file)\n",
    "        sample_sce_file = sample_name + \".rds\"\n",
    "\n",
    "        with localconverter(anndata2ri.converter):\n",
    "            sample_sce = anndata2ri.py2rpy(sample_anndata)\n",
    "        # print(sample_sce)\n",
    "        \n",
    "        # Save the sce object in .rds file\n",
    "        robjects.globalenv[\"sample_sce\"] = sample_sce\n",
    "        sample_sce_path = write_directory / sample_sce_file\n",
    "        robjects.r(\"saveRDS(sample_sce, file='{}')\".format(sample_sce_path))"
   ]
  }
 ],
 "metadata": {
  "kernelspec": {
   "display_name": "Python 3 (ipykernel)",
   "language": "python",
   "name": "python3"
  },
  "language_info": {
   "codemirror_mode": {
    "name": "ipython",
    "version": 3
   },
   "file_extension": ".py",
   "mimetype": "text/x-python",
   "name": "python",
   "nbconvert_exporter": "python",
   "pygments_lexer": "ipython3",
   "version": "3.10.13"
  }
 },
 "nbformat": 4,
 "nbformat_minor": 2
}
