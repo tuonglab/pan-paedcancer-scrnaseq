{
 "cells": [
  {
   "cell_type": "markdown",
   "metadata": {},
   "source": [
    "### 1. Preprocess the data such as highly-variable gene filtering\n",
    "\n",
    "See https://scanpy-tutorials.readthedocs.io/en/latest/pbmc3k.html for preprocessing\n",
    "\n",
    "<span style=\"color:yellow\">**Attemp 1:**</span> filter multiple AnnData objects from dataset\n",
    "\n",
    "From the paper: \n",
    "\n",
    "Genes expressed in at least 5 cells, cells having at least 200 genes expressed and cells having less than 8% mitochondrial reads were retained for the analysis.\n",
    "\n",
    "The thousand most variable genes were selected for each sample and pooled to create a unique list of genes being highly variable in at least two samples (n = 883)."
   ]
  },
  {
   "cell_type": "code",
   "execution_count": 20,
   "metadata": {},
   "outputs": [],
   "source": [
    "# Environment set-up\n",
    "import numpy as np\n",
    "import pandas as pd\n",
    "import scanpy as sc\n",
    "import anndata as anndata\n",
    "import scipy as scipy\n",
    "import seaborn as sbn\n",
    "import matplotlib.pyplot as plt"
   ]
  },
  {
   "cell_type": "code",
   "execution_count": 12,
   "metadata": {},
   "outputs": [
    {
     "name": "stdout",
     "output_type": "stream",
     "text": [
      "GSM3872444_PBMMC_3_uni\n",
      "AnnData object with n_obs × n_vars = 2229 × 33694\n",
      "    obs: 'cancer_type', 'dataset', 'tissue', 'uni_barcode'\n",
      "    var: 'gene_ids'\n"
     ]
    }
   ],
   "source": [
    "from pathlib import Path\n",
    "\n",
    "dataset_directory = Path('/QRISdata/Q6104/Xiaohan/2_AnnData_objs/GSE132509')\n",
    "for adata_path in dataset_directory.iterdir():\n",
    "    if \"_uni.h5ad\" in adata_path.name:\n",
    "        adata = anndata.read_h5ad(adata_path)\n",
    "        print(adata_path.stem)\n",
    "        print(adata)\n",
    "        break"
   ]
  },
  {
   "cell_type": "code",
   "execution_count": 13,
   "metadata": {},
   "outputs": [
    {
     "name": "stdout",
     "output_type": "stream",
     "text": [
      "AnnData object with n_obs × n_vars = 2229 × 14405\n",
      "    obs: 'cancer_type', 'dataset', 'tissue', 'uni_barcode', 'n_genes'\n",
      "    var: 'gene_ids', 'n_cells'\n"
     ]
    }
   ],
   "source": [
    "# Basic filter\n",
    "sc.pp.filter_cells(adata, min_genes=200)\n",
    "sc.pp.filter_genes(adata, min_cells=5)\n",
    "print(adata)"
   ]
  },
  {
   "cell_type": "markdown",
   "metadata": {},
   "source": [
    "Filtered out `33694 - 14405 = 19289` genes that are detected in less than 5 cells."
   ]
  },
  {
   "cell_type": "code",
   "execution_count": 14,
   "metadata": {},
   "outputs": [
    {
     "name": "stdout",
     "output_type": "stream",
     "text": [
      "                      gene_ids  n_cells     mt  n_cells_by_counts  \\\n",
      "FO538757.2     ENSG00000279457      429  False                429   \n",
      "AP006222.2     ENSG00000228463       92  False                 92   \n",
      "RP11-206L10.9  ENSG00000237491       24  False                 24   \n",
      "LINC00115      ENSG00000225880       31  False                 31   \n",
      "FAM41C         ENSG00000230368       63  False                 63   \n",
      "...                        ...      ...    ...                ...   \n",
      "AC145212.2     ENSG00000274847        6  False                  6   \n",
      "AL592183.1     ENSG00000273748      116  False                116   \n",
      "AC007325.4     ENSG00000278817       25  False                 25   \n",
      "AC004556.1     ENSG00000276345       25  False                 25   \n",
      "AC240274.1     ENSG00000271254       36  False                 36   \n",
      "\n",
      "               mean_counts  pct_dropout_by_counts  total_counts  \n",
      "FO538757.2        0.233288              80.753701         520.0  \n",
      "AP006222.2        0.043069              95.872589          96.0  \n",
      "RP11-206L10.9     0.011216              98.923284          25.0  \n",
      "LINC00115         0.014356              98.609242          32.0  \n",
      "FAM41C            0.028712              97.173620          64.0  \n",
      "...                    ...                    ...           ...  \n",
      "AC145212.2        0.002692              99.730821           6.0  \n",
      "AL592183.1        0.055182              94.795873         123.0  \n",
      "AC007325.4        0.011216              98.878421          25.0  \n",
      "AC004556.1        0.011216              98.878421          25.0  \n",
      "AC240274.1        0.016151              98.384926          36.0  \n",
      "\n",
      "[14405 rows x 7 columns]\n"
     ]
    }
   ],
   "source": [
    "adata.var['mt'] = adata.var_names.str.startswith('MT-')  # annotate the group of mitochondrial genes as 'mt'\n",
    "sc.pp.calculate_qc_metrics(adata, qc_vars=['mt'], percent_top=None, log1p=False, inplace=True)\n",
    "print(adata.var)"
   ]
  },
  {
   "cell_type": "code",
   "execution_count": 15,
   "metadata": {},
   "outputs": [
    {
     "name": "stdout",
     "output_type": "stream",
     "text": [
      "View of AnnData object with n_obs × n_vars = 2195 × 14405\n",
      "    obs: 'cancer_type', 'dataset', 'tissue', 'uni_barcode', 'n_genes', 'n_genes_by_counts', 'total_counts', 'total_counts_mt', 'pct_counts_mt'\n",
      "    var: 'gene_ids', 'n_cells', 'mt', 'n_cells_by_counts', 'mean_counts', 'pct_dropout_by_counts', 'total_counts'\n"
     ]
    }
   ],
   "source": [
    "# Remove cells that have too many mitochondrial genes expressed\n",
    "adata = adata[adata.obs.pct_counts_mt < 8, :]\n",
    "print(adata)"
   ]
  },
  {
   "cell_type": "code",
   "execution_count": 16,
   "metadata": {},
   "outputs": [
    {
     "name": "stderr",
     "output_type": "stream",
     "text": [
      "/scratch/temp/8101596/ipykernel_239176/3976240152.py:4: ImplicitModificationWarning: Setting element `.layers['raw_counts']` of view, initializing view as actual.\n",
      "  adata.layers['raw_counts'] = adata.X.copy()\n"
     ]
    }
   ],
   "source": [
    "# Normlization\n",
    "\n",
    "# First need to store raw counts in the \"raw_counts\" layer in case for later use\n",
    "adata.layers['raw_counts'] = adata.X.copy()\n",
    "\n",
    "sc.pp.normalize_total(adata, target_sum=None, inplace=True)"
   ]
  },
  {
   "cell_type": "code",
   "execution_count": 26,
   "metadata": {},
   "outputs": [
    {
     "data": {
      "text/plain": [
       "Text(0.5, 1.0, 'After normalisation')"
      ]
     },
     "execution_count": 26,
     "metadata": {},
     "output_type": "execute_result"
    },
    {
     "data": {
      "image/png": "[encoded data removed]",
      "text/plain": [
       "<Figure size 640x480 with 1 Axes>"
      ]
     },
     "metadata": {},
     "output_type": "display_data"
    }
   ],
   "source": [
    "# Visualise after normalisation \n",
    "sbn.histplot(adata.X.sum(axis=1), bins=6, discrete=False, legend=False)\n",
    "plt.title('After normalisation')"
   ]
  },
  {
   "cell_type": "code",
   "execution_count": 22,
   "metadata": {},
   "outputs": [
    {
     "data": {
      "text/plain": [
       "Text(0.5, 1.0, 'Before normalisation')"
      ]
     },
     "execution_count": 22,
     "metadata": {},
     "output_type": "execute_result"
    },
    {
     "data": {
      "image/png": "[encoded data removed]",
      "text/plain": [
       "<Figure size 640x480 with 1 Axes>"
      ]
     },
     "metadata": {},
     "output_type": "display_data"
    }
   ],
   "source": [
    "# You can restore the value before normalisation \n",
    "sbn.histplot(adata.layers['raw_counts'].sum(axis=1), discrete=True, legend=False)\n",
    "plt.title('Before normalisation')"
   ]
  },
  {
   "cell_type": "code",
   "execution_count": 8,
   "metadata": {},
   "outputs": [
    {
     "data": {
      "text/plain": [
       "AnnData object with n_obs × n_vars = 2195 × 14405\n",
       "    obs: 'cancer_type', 'dataset', 'tissue', 'uni_barcode', 'n_genes', 'n_genes_by_counts', 'total_counts', 'total_counts_mt', 'pct_counts_mt'\n",
       "    var: 'gene_ids', 'n_cells', 'mt', 'n_cells_by_counts', 'mean_counts', 'pct_dropout_by_counts', 'total_counts'\n",
       "    layers: 'raw_counts'"
      ]
     },
     "execution_count": 8,
     "metadata": {},
     "output_type": "execute_result"
    }
   ],
   "source": []
  },
  {
   "cell_type": "markdown",
   "metadata": {},
   "source": [
    "Filtered out `2229 - 2195 = 34` cells that have more than 8% mitochondrial reads."
   ]
  },
  {
   "cell_type": "markdown",
   "metadata": {},
   "source": [
    "### 2. Integration with Scanorama\n",
    "\n",
    "See https://github.com/brianhie/scanorama for more info"
   ]
  }
 ],
 "metadata": {
  "kernelspec": {
   "display_name": "Python 3 (ipykernel)",
   "language": "python",
   "name": "python3"
  },
  "language_info": {
   "codemirror_mode": {
    "name": "ipython",
    "version": 3
   },
   "file_extension": ".py",
   "mimetype": "text/x-python",
   "name": "python",
   "nbconvert_exporter": "python",
   "pygments_lexer": "ipython3",
   "version": "3.12.2"
  }
 },
 "nbformat": 4,
 "nbformat_minor": 2
}
