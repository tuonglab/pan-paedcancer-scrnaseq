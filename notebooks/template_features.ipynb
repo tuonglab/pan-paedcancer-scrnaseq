{
 "cells": [
  {
   "cell_type": "markdown",
   "metadata": {},
   "source": [
    "### 1. General info of dataset GSE227122\n",
    "\n",
    "This is the Jupyter Notebook for dataset GSE227122. Its dataset includes barcodes/features/matrix files for each sample.\n",
    "\n",
    "Thus, we need to simply incorparate these barcodes/features/matrix files and generate an AnnData object for each sample. \n",
    "In total, there are 16 T-cell acute lymphoblastic leukemia (T-ALL) samples.\n",
    "\n",
    "<span style=\"color:green\">**[Dx]**</span> patients at diagnosis\n",
    "\n",
    "<span style=\"color:green\">**[EOI]**</span> patients after therapy\n",
    "\n",
    "<span style=\"color:green\">**[Rel]**</span> patients at relapse"
   ]
  },
  {
   "cell_type": "code",
   "execution_count": 2,
   "metadata": {},
   "outputs": [],
   "source": [
    "# Environment setup\n",
    "import numpy as np\n",
    "import pandas as pd\n",
    "import scanpy as sc\n",
    "import anndata as anndata\n",
    "import scipy"
   ]
  },
  {
   "cell_type": "markdown",
   "metadata": {},
   "source": [
    "### 2. AnnData object of each sample\n",
    "\n",
    "<span style=\"color:red\">**IMPORTANT:**</span> rename files to get rid of prefixes \n",
    "\n",
    "1. `barcodes.tsv.gz`: cell barcodes, which go into `.obs`\n",
    "2. `features.tsv.gz`: gene names, `.var`\n",
    "3. `matrix.mtx.gz`: the expression matrix, `.X`"
   ]
  },
  {
   "cell_type": "code",
   "execution_count": null,
   "metadata": {},
   "outputs": [],
   "source": [
    "from pathlib import Path\n",
    "\n",
    "# Specify directory paths\n",
    "data_directory = Path('/scratch/user/s4543064/xiaohan-john-project/data/GSE227122')\n",
    "write_directory = Path('/scratch/user/s4543064/xiaohan-john-project/write/GSE227122')\n",
    "\n",
    "# Loop through all files in the directory\n",
    "for sample_directory in data_directory.iterdir():\n",
    "    sample_name = sample_directory.stem\n",
    "    sample_h5ad = sample_name + '_uni.h5ad'\n",
    "\n",
    "    sample = sc.read_10x_mtx(\n",
    "    sample_directory,\n",
    "    var_names='gene_symbols',  \n",
    "    cache=False\n",
    "    )\n",
    "\n",
    "    # Create an observation metric info to store related features\n",
    "    obs_metrics = pd.DataFrame(index=sample.obs_names) ## Get the identifiers\n",
    "    obs_metrics['cancer_type'] = 'T-cell_acute_lymphoblastic_leukemia'\n",
    "    obs_metrics['dataset'] = 'GSE227122'\n",
    "    obs_metrics['tissue'] = 'bone_marrow'\n",
    "    obs_metrics['uni_barcode'] = obs_metrics['dataset'] + '_' + obs_metrics.index.astype(str)\n",
    "    \n",
    "    sample.obs = obs_metrics\n",
    "    sample.obs.set_index(\"uni_barcode\", drop=False, inplace=True)\n",
    "    print(sample)\n",
    "\n",
    "    # save the anndata object\n",
    "    output_path = write_directory / sample_h5ad\n",
    "    sample.write_h5ad(output_path, compression=\"gzip\")"
   ]
  },
  {
   "cell_type": "markdown",
   "metadata": {},
   "source": [
    "### 3. Confirmation of created AnnData objects"
   ]
  },
  {
   "cell_type": "code",
   "execution_count": 8,
   "metadata": {},
   "outputs": [
    {
     "name": "stdout",
     "output_type": "stream",
     "text": [
      "AnnData object with n_obs × n_vars = 3522 × 33538\n",
      "    obs: 'cancer_type', 'dataset', 'tissue', 'uni_barcode'\n",
      "    var: 'gene_ids', 'feature_types'\n",
      "AnnData object with n_obs × n_vars = 2894 × 33538\n",
      "    obs: 'cancer_type', 'dataset', 'tissue', 'uni_barcode'\n",
      "    var: 'gene_ids', 'feature_types'\n",
      "AnnData object with n_obs × n_vars = 3530 × 33538\n",
      "    obs: 'cancer_type', 'dataset', 'tissue', 'uni_barcode'\n",
      "    var: 'gene_ids', 'feature_types'\n",
      "AnnData object with n_obs × n_vars = 1073 × 33538\n",
      "    obs: 'cancer_type', 'dataset', 'tissue', 'uni_barcode'\n",
      "    var: 'gene_ids', 'feature_types'\n",
      "AnnData object with n_obs × n_vars = 949 × 33538\n",
      "    obs: 'cancer_type', 'dataset', 'tissue', 'uni_barcode'\n",
      "    var: 'gene_ids', 'feature_types'\n",
      "AnnData object with n_obs × n_vars = 1845 × 33538\n",
      "    obs: 'cancer_type', 'dataset', 'tissue', 'uni_barcode'\n",
      "    var: 'gene_ids', 'feature_types'\n",
      "AnnData object with n_obs × n_vars = 4034 × 33538\n",
      "    obs: 'cancer_type', 'dataset', 'tissue', 'uni_barcode'\n",
      "    var: 'gene_ids', 'feature_types'\n",
      "AnnData object with n_obs × n_vars = 828 × 33538\n",
      "    obs: 'cancer_type', 'dataset', 'tissue', 'uni_barcode'\n",
      "    var: 'gene_ids', 'feature_types'\n",
      "AnnData object with n_obs × n_vars = 4951 × 33538\n",
      "    obs: 'cancer_type', 'dataset', 'tissue', 'uni_barcode'\n",
      "    var: 'gene_ids', 'feature_types'\n",
      "AnnData object with n_obs × n_vars = 2531 × 33538\n",
      "    obs: 'cancer_type', 'dataset', 'tissue', 'uni_barcode'\n",
      "    var: 'gene_ids', 'feature_types'\n",
      "AnnData object with n_obs × n_vars = 569 × 33538\n",
      "    obs: 'cancer_type', 'dataset', 'tissue', 'uni_barcode'\n",
      "    var: 'gene_ids', 'feature_types'\n",
      "AnnData object with n_obs × n_vars = 3071 × 33538\n",
      "    obs: 'cancer_type', 'dataset', 'tissue', 'uni_barcode'\n",
      "    var: 'gene_ids', 'feature_types'\n",
      "AnnData object with n_obs × n_vars = 3426 × 33538\n",
      "    obs: 'cancer_type', 'dataset', 'tissue', 'uni_barcode'\n",
      "    var: 'gene_ids', 'feature_types'\n",
      "AnnData object with n_obs × n_vars = 1227 × 33538\n",
      "    obs: 'cancer_type', 'dataset', 'tissue', 'uni_barcode'\n",
      "    var: 'gene_ids', 'feature_types'\n",
      "AnnData object with n_obs × n_vars = 3461 × 33538\n",
      "    obs: 'cancer_type', 'dataset', 'tissue', 'uni_barcode'\n",
      "    var: 'gene_ids', 'feature_types'\n",
      "AnnData object with n_obs × n_vars = 3405 × 33538\n",
      "    obs: 'cancer_type', 'dataset', 'tissue', 'uni_barcode'\n",
      "    var: 'gene_ids', 'feature_types'\n"
     ]
    }
   ],
   "source": [
    "from pathlib import Path\n",
    "\n",
    "# Specify directory paths\n",
    "write_directory = Path('/scratch/user/s4543064/xiaohan-john-project/write/GSE227122')\n",
    "\n",
    "# Loop through all files in the directory\n",
    "for file in write_directory.iterdir():\n",
    "    sample = anndata.read_h5ad(file)\n",
    "    print(sample)"
   ]
  },
  {
   "cell_type": "markdown",
   "metadata": {},
   "source": [
    "### 4. Convert AnnData objects to SingleCellExperiment objects"
   ]
  },
  {
   "cell_type": "code",
   "execution_count": 10,
   "metadata": {},
   "outputs": [
    {
     "name": "stdout",
     "output_type": "stream",
     "text": [
      "class: SingleCellExperiment \n",
      "dim: 33538 3405 \n",
      "metadata(0):\n",
      "assays(1): X\n",
      "rownames(33538): MIR1302-2HG FAM138A ... AC213203.1 FAM231C\n",
      "rowData names(2): gene_ids feature_types\n",
      "colnames(3405): GSE227122_AAACCTGAGAGTCTGG-1\n",
      "  GSE227122_AAACCTGCAGCCTGTG-1 ... GSE227122_TTTGTCATCGAGCCCA-1\n",
      "  GSE227122_TTTGTCATCGATGAGG-1\n",
      "colData names(4): cancer_type dataset tissue uni_barcode\n",
      "reducedDimNames(0):\n",
      "mainExpName: NULL\n",
      "altExpNames(0):\n",
      "\n"
     ]
    }
   ],
   "source": [
    "from rpy2.robjects import r\n",
    "from rpy2.robjects.conversion import localconverter\n",
    "\n",
    "with localconverter(anndata2ri.converter):\n",
    "    sce = anndata2ri.py2rpy(sample)\n",
    "    print(sce)"
   ]
  },
  {
   "cell_type": "code",
   "execution_count": 34,
   "metadata": {},
   "outputs": [
    {
     "data": {
      "text/plain": [
       "<rpy2.rinterface_lib.sexp.NULLType object at 0x7f41cdb619d0> [0]"
      ]
     },
     "execution_count": 34,
     "metadata": {},
     "output_type": "execute_result"
    }
   ],
   "source": [
    "import rpy2.robjects as robjects\n",
    "\n",
    "robjects.globalenv[\"sce\"] = sce\n",
    "\n",
    "file_path = \"write/test_rds/sce.rds\"\n",
    "robjects.r(\"saveRDS(sce, file='{}')\".format(file_path))"
   ]
  },
  {
   "cell_type": "code",
   "execution_count": 22,
   "metadata": {},
   "outputs": [],
   "source": [
    "from pathlib import Path\n",
    "\n",
    "import anndata2ri\n",
    "import rpy2.robjects as robjects\n",
    "from rpy2.robjects import r\n",
    "from rpy2.robjects.conversion import localconverter\n",
    "\n",
    "# Specify directory paths\n",
    "write_directory = Path('/scratch/user/s4543064/xiaohan-john-project/write/GSE227122')\n",
    "\n",
    "# Loop through all files in the directory\n",
    "for file in write_directory.iterdir():\n",
    "    sample_name = file.stem\n",
    "    if \"_uni.h5ad\" in sample_name:\n",
    "        sample_anndata = anndata.read_h5ad(file)\n",
    "        sample_sce_file = sample_name + \".rds\"\n",
    "\n",
    "        with localconverter(anndata2ri.converter):\n",
    "            sample_sce = anndata2ri.py2rpy(sample_anndata)\n",
    "        \n",
    "        # Save the sce object in .rds file\n",
    "        robjects.globalenv[\"sample_sce\"] = sample_sce\n",
    "        sample_sce_path = write_directory / sample_sce_file\n",
    "        robjects.r(\"saveRDS(sample_sce, file='{}')\".format(sample_sce_path))"
   ]
  }
 ],
 "metadata": {
  "kernelspec": {
   "display_name": "Python 3 (ipykernel)",
   "language": "python",
   "name": "python3"
  },
  "language_info": {
   "codemirror_mode": {
    "name": "ipython",
    "version": 3
   },
   "file_extension": ".py",
   "mimetype": "text/x-python",
   "name": "python",
   "nbconvert_exporter": "python",
   "pygments_lexer": "ipython3",
   "version": "3.12.2"
  }
 },
 "nbformat": 4,
 "nbformat_minor": 2
}
