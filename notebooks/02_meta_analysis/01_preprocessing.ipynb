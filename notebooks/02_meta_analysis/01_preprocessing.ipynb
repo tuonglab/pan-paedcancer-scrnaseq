{
 "cells": [
  {
   "cell_type": "markdown",
   "metadata": {},
   "source": [
    "## All Cancers Integration Notebook 01: Preprocessing \n",
    "\n",
    "This is the Jupyter Notebook to preprocess AnnData objects from all paediatric cancer datasets. As a result, a concatenated AnnData object is outputted for scVI integration.\n",
    "\n",
    "| Dataset GEO Term     | Sample Number (Patient Number) |\n",
    "|----------------------|--------------------------------|\n",
    "| GSE132509            | 11 (11)                        |\n",
    "| GSE236351            | 7 (7)                          |\n",
    "| GSE148218            | 8 (6)                          |\n",
    "| GSE154109*           | 15 (15)                        |\n",
    "| GSE235923            | 31 (20)                        |\n",
    "| GSE235063            | 75 (28)                        |\n",
    "| GSE227122            | 16 (11)                        |\n",
    "| GSE102130*           | 10 (6)                         |\n",
    "| GSE119926*           | 25 (25)                        |\n",
    "| GSE155446/GSE156053  | 30 (28)                        |\n",
    "| GSE141460            | 28 (21)                        |\n",
    "| GSE189939            | 4 (4)                          |\n",
    "| GSE125969/GSE126025  | 26 (26)                        |\n",
    "| GSE231860/GSE231859  | 19 (19)                        |\n",
    "| GSE221776            | 39 (39)                        |\n",
    "| GSE198896*           | 14 (12)                        |\n",
    "| GSE162454*           | 3 (3)                          |\n",
    "| GSE152048*           | 6 (6)                          |\n",
    "| GSE243347            | 27 (11)                        |\n",
    "| GSE195709            | 4 (4)                          |\n",
    "| GSE174376            | 18 (16)                        |\n",
    "| EGAD00001008345*     | 28 (28)                        |\n",
    "| GSE137804            | 22 (22)                        |\n",
    "| GSE192906            | 10 (10)                        |\n",
    "| GSE140819            | 13 (7)                         |\n",
    "| GSE216176            | 17 (16)                        |\n",
    "| GSE147766            | 19 (17)                        |\n",
    "| PRJNA737188          | 2 (2)                          |\n",
    "| GSE249995            | 4 (4)                          |\n",
    "| GSE168434            | 10 (7)                         |\n",
    "| GSE223373            | 3 (1)                          |\n",
    "\n",
    "In total, there are 29/31 usuable datasets."
   ]
  },
  {
   "cell_type": "code",
   "execution_count": 16,
   "metadata": {},
   "outputs": [],
   "source": [
    "import anndata\n",
    "import scanpy as sc\n",
    "import pandas as pd\n",
    "from rich import print\n",
    "from scipy.sparse import issparse\n",
    "\n",
    "import warnings\n",
    "warnings.filterwarnings(\"ignore\")"
   ]
  },
  {
   "cell_type": "code",
   "execution_count": 17,
   "metadata": {},
   "outputs": [
    {
     "data": {
      "text/html": [
       "<pre style=\"white-space:pre;overflow-x:auto;line-height:normal;font-family:Menlo,'DejaVu Sans Mono',consolas,'Courier New',monospace\">01_leukemia\n",
       "</pre>\n"
      ],
      "text/plain": [
       "01_leukemia\n"
      ]
     },
     "metadata": {},
     "output_type": "display_data"
    },
    {
     "data": {
      "text/html": [
       "<pre style=\"white-space:pre;overflow-x:auto;line-height:normal;font-family:Menlo,'DejaVu Sans Mono',consolas,'Courier New',monospace\">GSE235923 <span style=\"color: #008080; text-decoration-color: #008080; font-weight: bold\">31</span>\n",
       "</pre>\n"
      ],
      "text/plain": [
       "GSE235923 \u001b[1;36m31\u001b[0m\n"
      ]
     },
     "metadata": {},
     "output_type": "display_data"
    },
    {
     "data": {
      "text/html": [
       "<pre style=\"white-space:pre;overflow-x:auto;line-height:normal;font-family:Menlo,'DejaVu Sans Mono',consolas,'Courier New',monospace\">GSE236351 <span style=\"color: #008080; text-decoration-color: #008080; font-weight: bold\">7</span>\n",
       "</pre>\n"
      ],
      "text/plain": [
       "GSE236351 \u001b[1;36m7\u001b[0m\n"
      ]
     },
     "metadata": {},
     "output_type": "display_data"
    },
    {
     "data": {
      "text/html": [
       "<pre style=\"white-space:pre;overflow-x:auto;line-height:normal;font-family:Menlo,'DejaVu Sans Mono',consolas,'Courier New',monospace\">GSE154109 <span style=\"color: #008080; text-decoration-color: #008080; font-weight: bold\">15</span>\n",
       "</pre>\n"
      ],
      "text/plain": [
       "GSE154109 \u001b[1;36m15\u001b[0m\n"
      ]
     },
     "metadata": {},
     "output_type": "display_data"
    },
    {
     "data": {
      "text/html": [
       "<pre style=\"white-space:pre;overflow-x:auto;line-height:normal;font-family:Menlo,'DejaVu Sans Mono',consolas,'Courier New',monospace\">GSE235063 <span style=\"color: #008080; text-decoration-color: #008080; font-weight: bold\">75</span>\n",
       "</pre>\n"
      ],
      "text/plain": [
       "GSE235063 \u001b[1;36m75\u001b[0m\n"
      ]
     },
     "metadata": {},
     "output_type": "display_data"
    },
    {
     "data": {
      "text/html": [
       "<pre style=\"white-space:pre;overflow-x:auto;line-height:normal;font-family:Menlo,'DejaVu Sans Mono',consolas,'Courier New',monospace\">GSE132509 <span style=\"color: #008080; text-decoration-color: #008080; font-weight: bold\">11</span>\n",
       "</pre>\n"
      ],
      "text/plain": [
       "GSE132509 \u001b[1;36m11\u001b[0m\n"
      ]
     },
     "metadata": {},
     "output_type": "display_data"
    },
    {
     "data": {
      "text/html": [
       "<pre style=\"white-space:pre;overflow-x:auto;line-height:normal;font-family:Menlo,'DejaVu Sans Mono',consolas,'Courier New',monospace\">GSE227122 <span style=\"color: #008080; text-decoration-color: #008080; font-weight: bold\">16</span>\n",
       "</pre>\n"
      ],
      "text/plain": [
       "GSE227122 \u001b[1;36m16\u001b[0m\n"
      ]
     },
     "metadata": {},
     "output_type": "display_data"
    },
    {
     "data": {
      "text/html": [
       "<pre style=\"white-space:pre;overflow-x:auto;line-height:normal;font-family:Menlo,'DejaVu Sans Mono',consolas,'Courier New',monospace\">GSE148218 <span style=\"color: #008080; text-decoration-color: #008080; font-weight: bold\">8</span>\n",
       "</pre>\n"
      ],
      "text/plain": [
       "GSE148218 \u001b[1;36m8\u001b[0m\n"
      ]
     },
     "metadata": {},
     "output_type": "display_data"
    },
    {
     "data": {
      "text/html": [
       "<pre style=\"white-space:pre;overflow-x:auto;line-height:normal;font-family:Menlo,'DejaVu Sans Mono',consolas,'Courier New',monospace\">02_brain_tumor\n",
       "</pre>\n"
      ],
      "text/plain": [
       "02_brain_tumor\n"
      ]
     },
     "metadata": {},
     "output_type": "display_data"
    },
    {
     "data": {
      "text/html": [
       "<pre style=\"white-space:pre;overflow-x:auto;line-height:normal;font-family:Menlo,'DejaVu Sans Mono',consolas,'Courier New',monospace\">GSE102130 <span style=\"color: #008080; text-decoration-color: #008080; font-weight: bold\">1</span>\n",
       "</pre>\n"
      ],
      "text/plain": [
       "GSE102130 \u001b[1;36m1\u001b[0m\n"
      ]
     },
     "metadata": {},
     "output_type": "display_data"
    },
    {
     "data": {
      "text/html": [
       "<pre style=\"white-space:pre;overflow-x:auto;line-height:normal;font-family:Menlo,'DejaVu Sans Mono',consolas,'Courier New',monospace\">GSE125969 <span style=\"color: #008080; text-decoration-color: #008080; font-weight: bold\">1</span>\n",
       "</pre>\n"
      ],
      "text/plain": [
       "GSE125969 \u001b[1;36m1\u001b[0m\n"
      ]
     },
     "metadata": {},
     "output_type": "display_data"
    },
    {
     "data": {
      "text/html": [
       "<pre style=\"white-space:pre;overflow-x:auto;line-height:normal;font-family:Menlo,'DejaVu Sans Mono',consolas,'Courier New',monospace\">GSE221776 <span style=\"color: #008080; text-decoration-color: #008080; font-weight: bold\">2</span>\n",
       "</pre>\n"
      ],
      "text/plain": [
       "GSE221776 \u001b[1;36m2\u001b[0m\n"
      ]
     },
     "metadata": {},
     "output_type": "display_data"
    },
    {
     "data": {
      "text/html": [
       "<pre style=\"white-space:pre;overflow-x:auto;line-height:normal;font-family:Menlo,'DejaVu Sans Mono',consolas,'Courier New',monospace\">GSE189939 <span style=\"color: #008080; text-decoration-color: #008080; font-weight: bold\">4</span>\n",
       "</pre>\n"
      ],
      "text/plain": [
       "GSE189939 \u001b[1;36m4\u001b[0m\n"
      ]
     },
     "metadata": {},
     "output_type": "display_data"
    },
    {
     "data": {
      "text/html": [
       "<pre style=\"white-space:pre;overflow-x:auto;line-height:normal;font-family:Menlo,'DejaVu Sans Mono',consolas,'Courier New',monospace\">GSE231860 <span style=\"color: #008080; text-decoration-color: #008080; font-weight: bold\">19</span>\n",
       "</pre>\n"
      ],
      "text/plain": [
       "GSE231860 \u001b[1;36m19\u001b[0m\n"
      ]
     },
     "metadata": {},
     "output_type": "display_data"
    },
    {
     "data": {
      "text/html": [
       "<pre style=\"white-space:pre;overflow-x:auto;line-height:normal;font-family:Menlo,'DejaVu Sans Mono',consolas,'Courier New',monospace\">GSE155446 <span style=\"color: #008080; text-decoration-color: #008080; font-weight: bold\">1</span>\n",
       "</pre>\n"
      ],
      "text/plain": [
       "GSE155446 \u001b[1;36m1\u001b[0m\n"
      ]
     },
     "metadata": {},
     "output_type": "display_data"
    },
    {
     "data": {
      "text/html": [
       "<pre style=\"white-space:pre;overflow-x:auto;line-height:normal;font-family:Menlo,'DejaVu Sans Mono',consolas,'Courier New',monospace\">GSE141460 <span style=\"color: #008080; text-decoration-color: #008080; font-weight: bold\">9</span>\n",
       "</pre>\n"
      ],
      "text/plain": [
       "GSE141460 \u001b[1;36m9\u001b[0m\n"
      ]
     },
     "metadata": {},
     "output_type": "display_data"
    },
    {
     "data": {
      "text/html": [
       "<pre style=\"white-space:pre;overflow-x:auto;line-height:normal;font-family:Menlo,'DejaVu Sans Mono',consolas,'Courier New',monospace\">03_bone_cancer\n",
       "</pre>\n"
      ],
      "text/plain": [
       "03_bone_cancer\n"
      ]
     },
     "metadata": {},
     "output_type": "display_data"
    },
    {
     "data": {
      "text/html": [
       "<pre style=\"white-space:pre;overflow-x:auto;line-height:normal;font-family:Menlo,'DejaVu Sans Mono',consolas,'Courier New',monospace\">GSE198896 <span style=\"color: #008080; text-decoration-color: #008080; font-weight: bold\">14</span>\n",
       "</pre>\n"
      ],
      "text/plain": [
       "GSE198896 \u001b[1;36m14\u001b[0m\n"
      ]
     },
     "metadata": {},
     "output_type": "display_data"
    },
    {
     "data": {
      "text/html": [
       "<pre style=\"white-space:pre;overflow-x:auto;line-height:normal;font-family:Menlo,'DejaVu Sans Mono',consolas,'Courier New',monospace\">GSE243347 <span style=\"color: #008080; text-decoration-color: #008080; font-weight: bold\">27</span>\n",
       "</pre>\n"
      ],
      "text/plain": [
       "GSE243347 \u001b[1;36m27\u001b[0m\n"
      ]
     },
     "metadata": {},
     "output_type": "display_data"
    },
    {
     "data": {
      "text/html": [
       "<pre style=\"white-space:pre;overflow-x:auto;line-height:normal;font-family:Menlo,'DejaVu Sans Mono',consolas,'Courier New',monospace\">GSE162454 <span style=\"color: #008080; text-decoration-color: #008080; font-weight: bold\">3</span>\n",
       "</pre>\n"
      ],
      "text/plain": [
       "GSE162454 \u001b[1;36m3\u001b[0m\n"
      ]
     },
     "metadata": {},
     "output_type": "display_data"
    },
    {
     "data": {
      "text/html": [
       "<pre style=\"white-space:pre;overflow-x:auto;line-height:normal;font-family:Menlo,'DejaVu Sans Mono',consolas,'Courier New',monospace\">GSE152048 <span style=\"color: #008080; text-decoration-color: #008080; font-weight: bold\">6</span>\n",
       "</pre>\n"
      ],
      "text/plain": [
       "GSE152048 \u001b[1;36m6\u001b[0m\n"
      ]
     },
     "metadata": {},
     "output_type": "display_data"
    },
    {
     "data": {
      "text/html": [
       "<pre style=\"white-space:pre;overflow-x:auto;line-height:normal;font-family:Menlo,'DejaVu Sans Mono',consolas,'Courier New',monospace\">04_rhabdomyosarcoma\n",
       "</pre>\n"
      ],
      "text/plain": [
       "04_rhabdomyosarcoma\n"
      ]
     },
     "metadata": {},
     "output_type": "display_data"
    },
    {
     "data": {
      "text/html": [
       "<pre style=\"white-space:pre;overflow-x:auto;line-height:normal;font-family:Menlo,'DejaVu Sans Mono',consolas,'Courier New',monospace\">GSE195709 <span style=\"color: #008080; text-decoration-color: #008080; font-weight: bold\">4</span>\n",
       "</pre>\n"
      ],
      "text/plain": [
       "GSE195709 \u001b[1;36m4\u001b[0m\n"
      ]
     },
     "metadata": {},
     "output_type": "display_data"
    },
    {
     "data": {
      "text/html": [
       "<pre style=\"white-space:pre;overflow-x:auto;line-height:normal;font-family:Menlo,'DejaVu Sans Mono',consolas,'Courier New',monospace\">GSE174376 <span style=\"color: #008080; text-decoration-color: #008080; font-weight: bold\">18</span>\n",
       "</pre>\n"
      ],
      "text/plain": [
       "GSE174376 \u001b[1;36m18\u001b[0m\n"
      ]
     },
     "metadata": {},
     "output_type": "display_data"
    },
    {
     "data": {
      "text/html": [
       "<pre style=\"white-space:pre;overflow-x:auto;line-height:normal;font-family:Menlo,'DejaVu Sans Mono',consolas,'Courier New',monospace\">05_neuroblastoma\n",
       "</pre>\n"
      ],
      "text/plain": [
       "05_neuroblastoma\n"
      ]
     },
     "metadata": {},
     "output_type": "display_data"
    },
    {
     "data": {
      "text/html": [
       "<pre style=\"white-space:pre;overflow-x:auto;line-height:normal;font-family:Menlo,'DejaVu Sans Mono',consolas,'Courier New',monospace\">GSE137804 <span style=\"color: #008080; text-decoration-color: #008080; font-weight: bold\">22</span>\n",
       "</pre>\n"
      ],
      "text/plain": [
       "GSE137804 \u001b[1;36m22\u001b[0m\n"
      ]
     },
     "metadata": {},
     "output_type": "display_data"
    },
    {
     "data": {
      "text/html": [
       "<pre style=\"white-space:pre;overflow-x:auto;line-height:normal;font-family:Menlo,'DejaVu Sans Mono',consolas,'Courier New',monospace\">GSE140819 <span style=\"color: #008080; text-decoration-color: #008080; font-weight: bold\">13</span>\n",
       "</pre>\n"
      ],
      "text/plain": [
       "GSE140819 \u001b[1;36m13\u001b[0m\n"
      ]
     },
     "metadata": {},
     "output_type": "display_data"
    },
    {
     "data": {
      "text/html": [
       "<pre style=\"white-space:pre;overflow-x:auto;line-height:normal;font-family:Menlo,'DejaVu Sans Mono',consolas,'Courier New',monospace\">GSE216176 <span style=\"color: #008080; text-decoration-color: #008080; font-weight: bold\">17</span>\n",
       "</pre>\n"
      ],
      "text/plain": [
       "GSE216176 \u001b[1;36m17\u001b[0m\n"
      ]
     },
     "metadata": {},
     "output_type": "display_data"
    },
    {
     "data": {
      "text/html": [
       "<pre style=\"white-space:pre;overflow-x:auto;line-height:normal;font-family:Menlo,'DejaVu Sans Mono',consolas,'Courier New',monospace\">GSE147766 <span style=\"color: #008080; text-decoration-color: #008080; font-weight: bold\">19</span>\n",
       "</pre>\n"
      ],
      "text/plain": [
       "GSE147766 \u001b[1;36m19\u001b[0m\n"
      ]
     },
     "metadata": {},
     "output_type": "display_data"
    },
    {
     "data": {
      "text/html": [
       "<pre style=\"white-space:pre;overflow-x:auto;line-height:normal;font-family:Menlo,'DejaVu Sans Mono',consolas,'Courier New',monospace\">GSE192906 <span style=\"color: #008080; text-decoration-color: #008080; font-weight: bold\">10</span>\n",
       "</pre>\n"
      ],
      "text/plain": [
       "GSE192906 \u001b[1;36m10\u001b[0m\n"
      ]
     },
     "metadata": {},
     "output_type": "display_data"
    },
    {
     "data": {
      "text/html": [
       "<pre style=\"white-space:pre;overflow-x:auto;line-height:normal;font-family:Menlo,'DejaVu Sans Mono',consolas,'Courier New',monospace\">06_retinoblastoma\n",
       "</pre>\n"
      ],
      "text/plain": [
       "06_retinoblastoma\n"
      ]
     },
     "metadata": {},
     "output_type": "display_data"
    },
    {
     "data": {
      "text/html": [
       "<pre style=\"white-space:pre;overflow-x:auto;line-height:normal;font-family:Menlo,'DejaVu Sans Mono',consolas,'Courier New',monospace\">GSE168434 <span style=\"color: #008080; text-decoration-color: #008080; font-weight: bold\">10</span>\n",
       "</pre>\n"
      ],
      "text/plain": [
       "GSE168434 \u001b[1;36m10\u001b[0m\n"
      ]
     },
     "metadata": {},
     "output_type": "display_data"
    },
    {
     "data": {
      "text/html": [
       "<pre style=\"white-space:pre;overflow-x:auto;line-height:normal;font-family:Menlo,'DejaVu Sans Mono',consolas,'Courier New',monospace\">GSE249995 <span style=\"color: #008080; text-decoration-color: #008080; font-weight: bold\">4</span>\n",
       "</pre>\n"
      ],
      "text/plain": [
       "GSE249995 \u001b[1;36m4\u001b[0m\n"
      ]
     },
     "metadata": {},
     "output_type": "display_data"
    },
    {
     "data": {
      "text/html": [
       "<pre style=\"white-space:pre;overflow-x:auto;line-height:normal;font-family:Menlo,'DejaVu Sans Mono',consolas,'Courier New',monospace\">PRJNA737188 <span style=\"color: #008080; text-decoration-color: #008080; font-weight: bold\">2</span>\n",
       "</pre>\n"
      ],
      "text/plain": [
       "PRJNA737188 \u001b[1;36m2\u001b[0m\n"
      ]
     },
     "metadata": {},
     "output_type": "display_data"
    },
    {
     "data": {
      "text/html": [
       "<pre style=\"white-space:pre;overflow-x:auto;line-height:normal;font-family:Menlo,'DejaVu Sans Mono',consolas,'Courier New',monospace\">07_kidney_cancer\n",
       "</pre>\n"
      ],
      "text/plain": [
       "07_kidney_cancer\n"
      ]
     },
     "metadata": {},
     "output_type": "display_data"
    },
    {
     "data": {
      "text/html": [
       "<pre style=\"white-space:pre;overflow-x:auto;line-height:normal;font-family:Menlo,'DejaVu Sans Mono',consolas,'Courier New',monospace\">GSE223373 <span style=\"color: #008080; text-decoration-color: #008080; font-weight: bold\">3</span>\n",
       "</pre>\n"
      ],
      "text/plain": [
       "GSE223373 \u001b[1;36m3\u001b[0m\n"
      ]
     },
     "metadata": {},
     "output_type": "display_data"
    },
    {
     "data": {
      "text/html": [
       "<pre style=\"white-space:pre;overflow-x:auto;line-height:normal;font-family:Menlo,'DejaVu Sans Mono',consolas,'Courier New',monospace\"><span style=\"color: #008080; text-decoration-color: #008080; font-weight: bold\">372</span>\n",
       "</pre>\n"
      ],
      "text/plain": [
       "\u001b[1;36m372\u001b[0m\n"
      ]
     },
     "metadata": {},
     "output_type": "display_data"
    }
   ],
   "source": [
    "# Load all AnnData objects into a list\n",
    "\n",
    "from pathlib import Path\n",
    "\n",
    "cancer_types = ['01_leukemia', '02_brain_tumor', '03_bone_cancer', '04_rhabdomyosarcoma', '05_neuroblastoma', '06_retinoblastoma', '07_kidney_cancer']\n",
    "data_directory = Path('/scratch/user/s4543064/Xiaohan_Summer_Research/data')\n",
    "\n",
    "adatas = {}\n",
    "\n",
    "for cancer_type in cancer_types:\n",
    "    print(cancer_type)\n",
    "    \n",
    "    cancer_directory = data_directory / cancer_type\n",
    "\n",
    "    for dataset in cancer_directory.iterdir():\n",
    "        print(dataset.stem, len(list(dataset.glob('*'))))\n",
    "\n",
    "        for file in dataset.iterdir():\n",
    "            if \"_uni.h5ad\" in file.name:\n",
    "                sample_name = dataset.stem + '_' + file.stem\n",
    "                adata = sc.read_h5ad(file)\n",
    "                adata.var_names_make_unique()\n",
    "\n",
    "                # Check if the index of obs has duplicates\n",
    "                if adata.obs.index.duplicated().any():\n",
    "                    print(file.stem, 'originally has duplicated index')\n",
    "                adata.obs.index = adata.obs.index + '_' + adata.obs['sample_barcode'].astype(str)\n",
    "                if adata.obs.index.duplicated().any():\n",
    "                    print(file.stem, 'still has duplicated index')\n",
    "\n",
    "                # Check if the count matrix has NaN values\n",
    "                count_df = anndata.AnnData.to_df(adata)\n",
    "                if count_df.isnull().any().any():\n",
    "                    print(file.stem, 'has NaN values in the count matrix')\n",
    "                    adata.X.fillna(0, inplace=True)\n",
    "\n",
    "                # Check if the count matrix is sparse matrix\n",
    "                if not issparse(adata.X):\n",
    "                    print(sample_name, 'has a wrong format for .X')\n",
    "\n",
    "                adatas[sample_name] = adata\n",
    "\n",
    "print(len(adatas))"
   ]
  },
  {
   "cell_type": "code",
   "execution_count": 18,
   "metadata": {},
   "outputs": [
    {
     "data": {
      "text/plain": [
       "528"
      ]
     },
     "execution_count": 18,
     "metadata": {},
     "output_type": "execute_result"
    }
   ],
   "source": [
    "# Double check we have 528 unique sample barcodes (what about 491????)\n",
    "sample_count = 0\n",
    "for sample in adatas:\n",
    "    adata = adatas[sample]\n",
    "    sample_count += len(adata.obs['sample_barcode'].unique())\n",
    "sample_count"
   ]
  },
  {
   "cell_type": "code",
   "execution_count": 22,
   "metadata": {},
   "outputs": [
    {
     "data": {
      "text/html": [
       "<pre style=\"white-space:pre;overflow-x:auto;line-height:normal;font-family:Menlo,'DejaVu Sans Mono',consolas,'Courier New',monospace\">GSE235923_GSM7512002_Sample4D_uni GSM7512002_Sample4D\n",
       "</pre>\n"
      ],
      "text/plain": [
       "GSE235923_GSM7512002_Sample4D_uni GSM7512002_Sample4D\n"
      ]
     },
     "metadata": {},
     "output_type": "display_data"
    },
    {
     "data": {
      "text/html": [
       "<pre style=\"white-space:pre;overflow-x:auto;line-height:normal;font-family:Menlo,'DejaVu Sans Mono',consolas,'Courier New',monospace\">GSE221776_GSE221776_CD8_uni GSE221776_unknown_donor\n",
       "</pre>\n"
      ],
      "text/plain": [
       "GSE221776_GSE221776_CD8_uni GSE221776_unknown_donor\n"
      ]
     },
     "metadata": {},
     "output_type": "display_data"
    },
    {
     "data": {
      "text/html": [
       "<pre style=\"white-space:pre;overflow-x:auto;line-height:normal;font-family:Menlo,'DejaVu Sans Mono',consolas,'Courier New',monospace\">GSE221776_GSE221776_CD8_uni GSE221776_PBT_10\n",
       "</pre>\n"
      ],
      "text/plain": [
       "GSE221776_GSE221776_CD8_uni GSE221776_PBT_10\n"
      ]
     },
     "metadata": {},
     "output_type": "display_data"
    },
    {
     "data": {
      "text/html": [
       "<pre style=\"white-space:pre;overflow-x:auto;line-height:normal;font-family:Menlo,'DejaVu Sans Mono',consolas,'Courier New',monospace\">GSE221776_GSE221776_CD8_uni GSE221776_PBT_05\n",
       "</pre>\n"
      ],
      "text/plain": [
       "GSE221776_GSE221776_CD8_uni GSE221776_PBT_05\n"
      ]
     },
     "metadata": {},
     "output_type": "display_data"
    },
    {
     "data": {
      "text/html": [
       "<pre style=\"white-space:pre;overflow-x:auto;line-height:normal;font-family:Menlo,'DejaVu Sans Mono',consolas,'Courier New',monospace\">GSE221776_GSE221776_CD8_uni GSE221776_PBT_12\n",
       "</pre>\n"
      ],
      "text/plain": [
       "GSE221776_GSE221776_CD8_uni GSE221776_PBT_12\n"
      ]
     },
     "metadata": {},
     "output_type": "display_data"
    },
    {
     "data": {
      "text/html": [
       "<pre style=\"white-space:pre;overflow-x:auto;line-height:normal;font-family:Menlo,'DejaVu Sans Mono',consolas,'Courier New',monospace\">GSE221776_GSE221776_CD8_uni GSE221776_PBT_01\n",
       "</pre>\n"
      ],
      "text/plain": [
       "GSE221776_GSE221776_CD8_uni GSE221776_PBT_01\n"
      ]
     },
     "metadata": {},
     "output_type": "display_data"
    },
    {
     "data": {
      "text/html": [
       "<pre style=\"white-space:pre;overflow-x:auto;line-height:normal;font-family:Menlo,'DejaVu Sans Mono',consolas,'Courier New',monospace\">GSE221776_GSE221776_CD8_uni GSE221776_PBT_35\n",
       "</pre>\n"
      ],
      "text/plain": [
       "GSE221776_GSE221776_CD8_uni GSE221776_PBT_35\n"
      ]
     },
     "metadata": {},
     "output_type": "display_data"
    },
    {
     "data": {
      "text/html": [
       "<pre style=\"white-space:pre;overflow-x:auto;line-height:normal;font-family:Menlo,'DejaVu Sans Mono',consolas,'Courier New',monospace\">GSE221776_GSE221776_CD8_uni GSE221776_PBT_11\n",
       "</pre>\n"
      ],
      "text/plain": [
       "GSE221776_GSE221776_CD8_uni GSE221776_PBT_11\n"
      ]
     },
     "metadata": {},
     "output_type": "display_data"
    },
    {
     "data": {
      "text/html": [
       "<pre style=\"white-space:pre;overflow-x:auto;line-height:normal;font-family:Menlo,'DejaVu Sans Mono',consolas,'Courier New',monospace\">GSE221776_GSE221776_CD8_uni GSE221776_PBT_02\n",
       "</pre>\n"
      ],
      "text/plain": [
       "GSE221776_GSE221776_CD8_uni GSE221776_PBT_02\n"
      ]
     },
     "metadata": {},
     "output_type": "display_data"
    },
    {
     "data": {
      "text/html": [
       "<pre style=\"white-space:pre;overflow-x:auto;line-height:normal;font-family:Menlo,'DejaVu Sans Mono',consolas,'Courier New',monospace\">GSE221776_GSE221776_CD8_uni GSE221776_PBT_26\n",
       "</pre>\n"
      ],
      "text/plain": [
       "GSE221776_GSE221776_CD8_uni GSE221776_PBT_26\n"
      ]
     },
     "metadata": {},
     "output_type": "display_data"
    },
    {
     "data": {
      "text/html": [
       "<pre style=\"white-space:pre;overflow-x:auto;line-height:normal;font-family:Menlo,'DejaVu Sans Mono',consolas,'Courier New',monospace\">GSE221776_GSE221776_CD8_uni GSE221776_PBT_25\n",
       "</pre>\n"
      ],
      "text/plain": [
       "GSE221776_GSE221776_CD8_uni GSE221776_PBT_25\n"
      ]
     },
     "metadata": {},
     "output_type": "display_data"
    },
    {
     "data": {
      "text/html": [
       "<pre style=\"white-space:pre;overflow-x:auto;line-height:normal;font-family:Menlo,'DejaVu Sans Mono',consolas,'Courier New',monospace\">GSE221776_GSE221776_CD8_uni GSE221776_PBT_32\n",
       "</pre>\n"
      ],
      "text/plain": [
       "GSE221776_GSE221776_CD8_uni GSE221776_PBT_32\n"
      ]
     },
     "metadata": {},
     "output_type": "display_data"
    },
    {
     "data": {
      "text/html": [
       "<pre style=\"white-space:pre;overflow-x:auto;line-height:normal;font-family:Menlo,'DejaVu Sans Mono',consolas,'Courier New',monospace\">GSE221776_GSE221776_CD8_uni GSE221776_PBT_24\n",
       "</pre>\n"
      ],
      "text/plain": [
       "GSE221776_GSE221776_CD8_uni GSE221776_PBT_24\n"
      ]
     },
     "metadata": {},
     "output_type": "display_data"
    },
    {
     "data": {
      "text/html": [
       "<pre style=\"white-space:pre;overflow-x:auto;line-height:normal;font-family:Menlo,'DejaVu Sans Mono',consolas,'Courier New',monospace\">GSE221776_GSE221776_CD8_uni GSE221776_PBT_30\n",
       "</pre>\n"
      ],
      "text/plain": [
       "GSE221776_GSE221776_CD8_uni GSE221776_PBT_30\n"
      ]
     },
     "metadata": {},
     "output_type": "display_data"
    },
    {
     "data": {
      "text/html": [
       "<pre style=\"white-space:pre;overflow-x:auto;line-height:normal;font-family:Menlo,'DejaVu Sans Mono',consolas,'Courier New',monospace\">GSE221776_GSE221776_CD8_uni GSE221776_PBT_09\n",
       "</pre>\n"
      ],
      "text/plain": [
       "GSE221776_GSE221776_CD8_uni GSE221776_PBT_09\n"
      ]
     },
     "metadata": {},
     "output_type": "display_data"
    },
    {
     "data": {
      "text/html": [
       "<pre style=\"white-space:pre;overflow-x:auto;line-height:normal;font-family:Menlo,'DejaVu Sans Mono',consolas,'Courier New',monospace\">GSE221776_GSE221776_CD8_uni GSE221776_PBT_20\n",
       "</pre>\n"
      ],
      "text/plain": [
       "GSE221776_GSE221776_CD8_uni GSE221776_PBT_20\n"
      ]
     },
     "metadata": {},
     "output_type": "display_data"
    },
    {
     "data": {
      "text/html": [
       "<pre style=\"white-space:pre;overflow-x:auto;line-height:normal;font-family:Menlo,'DejaVu Sans Mono',consolas,'Courier New',monospace\">GSE221776_GSE221776_CD8_uni GSE221776_PBT_21\n",
       "</pre>\n"
      ],
      "text/plain": [
       "GSE221776_GSE221776_CD8_uni GSE221776_PBT_21\n"
      ]
     },
     "metadata": {},
     "output_type": "display_data"
    },
    {
     "data": {
      "text/html": [
       "<pre style=\"white-space:pre;overflow-x:auto;line-height:normal;font-family:Menlo,'DejaVu Sans Mono',consolas,'Courier New',monospace\">GSE221776_GSE221776_CD8_uni GSE221776_PBT_29\n",
       "</pre>\n"
      ],
      "text/plain": [
       "GSE221776_GSE221776_CD8_uni GSE221776_PBT_29\n"
      ]
     },
     "metadata": {},
     "output_type": "display_data"
    },
    {
     "data": {
      "text/html": [
       "<pre style=\"white-space:pre;overflow-x:auto;line-height:normal;font-family:Menlo,'DejaVu Sans Mono',consolas,'Courier New',monospace\">GSE221776_GSE221776_CD8_uni GSE221776_PBT_04\n",
       "</pre>\n"
      ],
      "text/plain": [
       "GSE221776_GSE221776_CD8_uni GSE221776_PBT_04\n"
      ]
     },
     "metadata": {},
     "output_type": "display_data"
    },
    {
     "data": {
      "text/html": [
       "<pre style=\"white-space:pre;overflow-x:auto;line-height:normal;font-family:Menlo,'DejaVu Sans Mono',consolas,'Courier New',monospace\">GSE221776_GSE221776_CD8_uni GSE221776_PBT_07\n",
       "</pre>\n"
      ],
      "text/plain": [
       "GSE221776_GSE221776_CD8_uni GSE221776_PBT_07\n"
      ]
     },
     "metadata": {},
     "output_type": "display_data"
    },
    {
     "data": {
      "text/html": [
       "<pre style=\"white-space:pre;overflow-x:auto;line-height:normal;font-family:Menlo,'DejaVu Sans Mono',consolas,'Courier New',monospace\">GSE221776_GSE221776_CD8_uni GSE221776_PBT_13\n",
       "</pre>\n"
      ],
      "text/plain": [
       "GSE221776_GSE221776_CD8_uni GSE221776_PBT_13\n"
      ]
     },
     "metadata": {},
     "output_type": "display_data"
    },
    {
     "data": {
      "text/html": [
       "<pre style=\"white-space:pre;overflow-x:auto;line-height:normal;font-family:Menlo,'DejaVu Sans Mono',consolas,'Courier New',monospace\">GSE221776_GSE221776_CD8_uni GSE221776_PBT_22\n",
       "</pre>\n"
      ],
      "text/plain": [
       "GSE221776_GSE221776_CD8_uni GSE221776_PBT_22\n"
      ]
     },
     "metadata": {},
     "output_type": "display_data"
    },
    {
     "data": {
      "text/html": [
       "<pre style=\"white-space:pre;overflow-x:auto;line-height:normal;font-family:Menlo,'DejaVu Sans Mono',consolas,'Courier New',monospace\">GSE221776_GSE221776_CD8_uni GSE221776_PBT_14\n",
       "</pre>\n"
      ],
      "text/plain": [
       "GSE221776_GSE221776_CD8_uni GSE221776_PBT_14\n"
      ]
     },
     "metadata": {},
     "output_type": "display_data"
    },
    {
     "data": {
      "text/html": [
       "<pre style=\"white-space:pre;overflow-x:auto;line-height:normal;font-family:Menlo,'DejaVu Sans Mono',consolas,'Courier New',monospace\">GSE221776_GSE221776_CD8_uni GSE221776_PBT_23\n",
       "</pre>\n"
      ],
      "text/plain": [
       "GSE221776_GSE221776_CD8_uni GSE221776_PBT_23\n"
      ]
     },
     "metadata": {},
     "output_type": "display_data"
    },
    {
     "data": {
      "text/html": [
       "<pre style=\"white-space:pre;overflow-x:auto;line-height:normal;font-family:Menlo,'DejaVu Sans Mono',consolas,'Courier New',monospace\">GSE221776_GSE221776_CD8_uni GSE221776_PBT_17\n",
       "</pre>\n"
      ],
      "text/plain": [
       "GSE221776_GSE221776_CD8_uni GSE221776_PBT_17\n"
      ]
     },
     "metadata": {},
     "output_type": "display_data"
    },
    {
     "data": {
      "text/html": [
       "<pre style=\"white-space:pre;overflow-x:auto;line-height:normal;font-family:Menlo,'DejaVu Sans Mono',consolas,'Courier New',monospace\">GSE221776_GSE221776_CD8_uni GSE221776_PBT_31\n",
       "</pre>\n"
      ],
      "text/plain": [
       "GSE221776_GSE221776_CD8_uni GSE221776_PBT_31\n"
      ]
     },
     "metadata": {},
     "output_type": "display_data"
    },
    {
     "data": {
      "text/html": [
       "<pre style=\"white-space:pre;overflow-x:auto;line-height:normal;font-family:Menlo,'DejaVu Sans Mono',consolas,'Courier New',monospace\">GSE221776_GSE221776_CD8_uni GSE221776_PBT_03\n",
       "</pre>\n"
      ],
      "text/plain": [
       "GSE221776_GSE221776_CD8_uni GSE221776_PBT_03\n"
      ]
     },
     "metadata": {},
     "output_type": "display_data"
    },
    {
     "data": {
      "text/html": [
       "<pre style=\"white-space:pre;overflow-x:auto;line-height:normal;font-family:Menlo,'DejaVu Sans Mono',consolas,'Courier New',monospace\">GSE221776_GSE221776_CD8_uni GSE221776_PBT_19\n",
       "</pre>\n"
      ],
      "text/plain": [
       "GSE221776_GSE221776_CD8_uni GSE221776_PBT_19\n"
      ]
     },
     "metadata": {},
     "output_type": "display_data"
    },
    {
     "data": {
      "text/html": [
       "<pre style=\"white-space:pre;overflow-x:auto;line-height:normal;font-family:Menlo,'DejaVu Sans Mono',consolas,'Courier New',monospace\">GSE221776_GSE221776_CD8_uni GSE221776_PBT_33\n",
       "</pre>\n"
      ],
      "text/plain": [
       "GSE221776_GSE221776_CD8_uni GSE221776_PBT_33\n"
      ]
     },
     "metadata": {},
     "output_type": "display_data"
    },
    {
     "data": {
      "text/html": [
       "<pre style=\"white-space:pre;overflow-x:auto;line-height:normal;font-family:Menlo,'DejaVu Sans Mono',consolas,'Courier New',monospace\">GSE221776_GSE221776_CD8_uni GSE221776_PBT_18\n",
       "</pre>\n"
      ],
      "text/plain": [
       "GSE221776_GSE221776_CD8_uni GSE221776_PBT_18\n"
      ]
     },
     "metadata": {},
     "output_type": "display_data"
    },
    {
     "data": {
      "text/html": [
       "<pre style=\"white-space:pre;overflow-x:auto;line-height:normal;font-family:Menlo,'DejaVu Sans Mono',consolas,'Courier New',monospace\">GSE221776_GSE221776_CD8_uni GSE221776_PBT_27\n",
       "</pre>\n"
      ],
      "text/plain": [
       "GSE221776_GSE221776_CD8_uni GSE221776_PBT_27\n"
      ]
     },
     "metadata": {},
     "output_type": "display_data"
    },
    {
     "data": {
      "text/html": [
       "<pre style=\"white-space:pre;overflow-x:auto;line-height:normal;font-family:Menlo,'DejaVu Sans Mono',consolas,'Courier New',monospace\">GSE221776_GSE221776_CD8_uni GSE221776_PBT_28\n",
       "</pre>\n"
      ],
      "text/plain": [
       "GSE221776_GSE221776_CD8_uni GSE221776_PBT_28\n"
      ]
     },
     "metadata": {},
     "output_type": "display_data"
    },
    {
     "data": {
      "text/html": [
       "<pre style=\"white-space:pre;overflow-x:auto;line-height:normal;font-family:Menlo,'DejaVu Sans Mono',consolas,'Courier New',monospace\">GSE221776_GSE221776_CD8_uni GSE221776_PBT_08\n",
       "</pre>\n"
      ],
      "text/plain": [
       "GSE221776_GSE221776_CD8_uni GSE221776_PBT_08\n"
      ]
     },
     "metadata": {},
     "output_type": "display_data"
    },
    {
     "data": {
      "text/html": [
       "<pre style=\"white-space:pre;overflow-x:auto;line-height:normal;font-family:Menlo,'DejaVu Sans Mono',consolas,'Courier New',monospace\">GSE221776_GSE221776_CD8_uni GSE221776_PBT_38\n",
       "</pre>\n"
      ],
      "text/plain": [
       "GSE221776_GSE221776_CD8_uni GSE221776_PBT_38\n"
      ]
     },
     "metadata": {},
     "output_type": "display_data"
    },
    {
     "data": {
      "text/html": [
       "<pre style=\"white-space:pre;overflow-x:auto;line-height:normal;font-family:Menlo,'DejaVu Sans Mono',consolas,'Courier New',monospace\">GSE221776_GSE221776_CD8_uni GSE221776_PBT_15\n",
       "</pre>\n"
      ],
      "text/plain": [
       "GSE221776_GSE221776_CD8_uni GSE221776_PBT_15\n"
      ]
     },
     "metadata": {},
     "output_type": "display_data"
    },
    {
     "data": {
      "text/html": [
       "<pre style=\"white-space:pre;overflow-x:auto;line-height:normal;font-family:Menlo,'DejaVu Sans Mono',consolas,'Courier New',monospace\">GSE221776_GSE221776_CD8_uni GSE221776_PBT_06\n",
       "</pre>\n"
      ],
      "text/plain": [
       "GSE221776_GSE221776_CD8_uni GSE221776_PBT_06\n"
      ]
     },
     "metadata": {},
     "output_type": "display_data"
    },
    {
     "data": {
      "text/html": [
       "<pre style=\"white-space:pre;overflow-x:auto;line-height:normal;font-family:Menlo,'DejaVu Sans Mono',consolas,'Courier New',monospace\">GSE221776_GSE221776_CD8_uni GSE221776_PBT_34\n",
       "</pre>\n"
      ],
      "text/plain": [
       "GSE221776_GSE221776_CD8_uni GSE221776_PBT_34\n"
      ]
     },
     "metadata": {},
     "output_type": "display_data"
    },
    {
     "data": {
      "text/html": [
       "<pre style=\"white-space:pre;overflow-x:auto;line-height:normal;font-family:Menlo,'DejaVu Sans Mono',consolas,'Courier New',monospace\">GSE221776_GSE221776_CD8_uni GSE221776_PBT_36\n",
       "</pre>\n"
      ],
      "text/plain": [
       "GSE221776_GSE221776_CD8_uni GSE221776_PBT_36\n"
      ]
     },
     "metadata": {},
     "output_type": "display_data"
    },
    {
     "data": {
      "text/html": [
       "<pre style=\"white-space:pre;overflow-x:auto;line-height:normal;font-family:Menlo,'DejaVu Sans Mono',consolas,'Courier New',monospace\"><span style=\"color: #008080; text-decoration-color: #008080; font-weight: bold\">491</span>\n",
       "</pre>\n"
      ],
      "text/plain": [
       "\u001b[1;36m491\u001b[0m\n"
      ]
     },
     "metadata": {},
     "output_type": "display_data"
    }
   ],
   "source": [
    "# Find out common genes among all AnnData objects\n",
    "samples = set(adatas['GSE235923_GSM7512002_Sample4D_uni'].obs['sample_barcode'].unique().tolist())\n",
    "for sample in adatas:\n",
    "    sample_list = adatas[sample].obs['sample_barcode'].unique().tolist()\n",
    "    for id in sample_list:\n",
    "        if id in samples:\n",
    "            print(sample, id)\n",
    "    samples.update(adatas[sample].obs['sample_barcode'].unique().tolist())\n",
    "    # print(len(common_genes))\n",
    "print(len(samples))"
   ]
  },
  {
   "cell_type": "markdown",
   "metadata": {},
   "source": [
    "For the dataset GSE221776, the provided data is separated to include CD4 and CD8 information. Since they share the same donors, the number of sample barcodes are counted twice when summing the number of sample barcodes of all loaded AnnData objects.\n",
    "\n",
    "Thus, in total we have 491 sample."
   ]
  },
  {
   "cell_type": "code",
   "execution_count": 4,
   "metadata": {},
   "outputs": [
    {
     "data": {
      "text/plain": [
       "dict_keys(['GSE235923_GSM7512002_Sample4D_uni', 'GSE235923_GSM7512005_Sample5R_uni', 'GSE235923_GSM7512020_Sample16E_uni', 'GSE235923_GSM7512000_Sample3D_uni', 'GSE235923_GSM7512018_Sample15E_uni', 'GSE235923_GSM7512021_Sample17D_uni', 'GSE235923_GSM7512025_Sample19D_uni', 'GSE235923_GSM7512007_Sample6E_uni', 'GSE235923_GSM7512026_Sample19E_uni', 'GSE235923_GSM7512003_Sample5D_uni', 'GSE235923_GSM7512017_Sample14E_uni', 'GSE235923_GSM7512006_Sample6D_uni', 'GSE235923_GSM7511999_Sample2D_uni', 'GSE235923_GSM7512027_Sample20D_uni', 'GSE235923_GSM7512011_Sample9D_uni', 'GSE235923_GSM7512009_Sample7D_uni', 'GSE235923_GSM7511998_Sample1D_uni', 'GSE235923_GSM7512004_Sample5E_uni', 'GSE235923_GSM7512012_Sample10D_uni', 'GSE235923_GSM7512019_Sample16D_uni', 'GSE235923_GSM7512016_Sample14D_uni', 'GSE235923_GSM7512023_Sample18Dx_uni', 'GSE235923_GSM7512028_Sample20E_uni', 'GSE235923_GSM7512013_Sample11D_uni', 'GSE235923_GSM7512024_Sample18E_uni', 'GSE235923_GSM7512010_Sample8D_uni', 'GSE235923_GSM7512022_Sample17E_uni', 'GSE235923_GSM7512015_Sample13D_uni', 'GSE235923_GSM7512001_Sample3E_uni', 'GSE235923_GSM7512008_Sample6R_uni', 'GSE235923_GSM7512014_Sample12D_uni', 'GSE236351_GSM7528330_M6_uni', 'GSE236351_GSM7528331_M7_uni', 'GSE236351_GSM7528326_M2_uni', 'GSE236351_GSM7528328_M4_uni', 'GSE236351_GSM7528329_M5_uni', 'GSE236351_GSM7528327_M3_uni', 'GSE236351_GSM7528325_M1_uni', 'GSE154109_GSM4664013_1150_uni', 'GSE154109_GSM4664025_1281_uni', 'GSE154109_GSM4664018_1260_uni', 'GSE154109_GSM4664020_1528_uni', 'GSE154109_GSM4664027_1209_uni', 'GSE154109_GSM4664014_1197_uni', 'GSE154109_GSM4664019_1249_uni', 'GSE154109_GSM4664016_1258_uni', 'GSE154109_GSM4664017_1323_uni', 'GSE154109_GSM4664024_1308_uni', 'GSE154109_GSM4664022_1199_uni', 'GSE154109_GSM4664026_1277_uni', 'GSE154109_GSM4664021_1236_uni', 'GSE154109_GSM4664023_1167_uni', 'GSE154109_GSM4664015_1210_uni', 'GSE235063_GSM7494282_AML17_DX_processed_uni', 'GSE235063_GSM7494267_AML15_REL_processed_uni', 'GSE235063_GSM7494277_AML20_DX_processed_uni', 'GSE235063_GSM7494275_AML8_REL_processed_uni', 'GSE235063_GSM7494320_AML26_REL_processed_uni', 'GSE235063_GSM7494260_AML6_DX_processed_uni', 'GSE235063_GSM7494324_AML18_DX_processed_uni', 'GSE235063_GSM7494297_AML11_REM_processed_uni', 'GSE235063_GSM7494296_AML11_REL_processed_uni', 'GSE235063_GSM7494276_AML8_REM_processed_uni', 'GSE235063_GSM7494306_AML24_DX_processed_uni', 'GSE235063_GSM7494309_AML23_DX_processed_uni', 'GSE235063_GSM7494285_AML1_DX_processed_uni', 'GSE235063_GSM7494262_AML6_REM_processed_uni', 'GSE235063_GSM7494329_AML13_DX_processed_uni', 'GSE235063_GSM7494319_AML26_DX_processed_uni', 'GSE235063_GSM7494270_AML3_REM_processed_uni', 'GSE235063_GSM7494295_AML11_DX_processed_uni', 'GSE235063_GSM7494318_AML25_REM_processed_uni', 'GSE235063_GSM7494298_AML4_DX_processed_uni', 'GSE235063_GSM7494292_AML10_DX_processed_uni', 'GSE235063_GSM7494274_AML8_DX_processed_uni', 'GSE235063_GSM7494312_AML28_REL_processed_uni', 'GSE235063_GSM7494272_AML7_REL_processed_uni', 'GSE235063_GSM7494271_AML7_DX_processed_uni', 'GSE235063_GSM7494330_AML13_REL_processed_uni', 'GSE235063_GSM7494310_AML23_REL_processed_uni', 'GSE235063_GSM7494326_AML12_DX_processed_uni', 'GSE235063_GSM7494269_AML3_DX_processed_uni', 'GSE235063_GSM7494293_AML10_REL_processed_uni', 'GSE235063_GSM7494328_AML12_REM_processed_uni', 'GSE235063_GSM7494316_AML25_DX_processed_uni', 'GSE235063_GSM7494278_AML20_REM_processed_uni', 'GSE235063_GSM7494290_AML9_REL_processed_uni', 'GSE235063_GSM7494302_AML22_REM_processed_uni', 'GSE235063_GSM7494287_AML27_REL_processed_uni', 'GSE235063_GSM7494257_AML16_DX_processed_uni', 'GSE235063_GSM7494283_AML17_REL_processed_uni', 'GSE235063_GSM7494317_AML25_REL_processed_uni', 'GSE235063_GSM7494261_AML6_REL_processed_uni', 'GSE235063_GSM7494304_AML21_REL_processed_uni', 'GSE235063_GSM7494268_AML15_REM_processed_uni', 'GSE235063_GSM7494315_AML14_REM_processed_uni', 'GSE235063_GSM7494331_AML13_REM_processed_uni', 'GSE235063_GSM7494259_AML16_REM_processed_uni', 'GSE235063_GSM7494307_AML24_REL_processed_uni', 'GSE235063_GSM7494263_AML2_DX_processed_uni', 'GSE235063_GSM7494300_AML22_DX_processed_uni', 'GSE235063_GSM7494299_AML4_REL_processed_uni', 'GSE235063_GSM7494323_AML19_REL_processed_uni', 'GSE235063_GSM7494291_AML9_REM_processed_uni', 'GSE235063_GSM7494288_AML27_REM_processed_uni', 'GSE235063_GSM7494289_AML9_DX_processed_uni', 'GSE235063_GSM7494286_AML27_DX_processed_uni', 'GSE235063_GSM7494301_AML22_REL_processed_uni', 'GSE235063_GSM7494327_AML12_REL_processed_uni', 'GSE235063_GSM7494314_AML14_DX_processed_uni', 'GSE235063_GSM7494279_AML5_DX_processed_uni', 'GSE235063_GSM7494325_AML18_REL_processed_uni', 'GSE235063_GSM7494266_AML15_DX_processed_uni', 'GSE235063_GSM7494281_AML5_REM_processed_uni', 'GSE235063_GSM7494265_AML2_REM_processed_uni', 'GSE235063_GSM7494308_AML24_REM_processed_uni', 'GSE235063_GSM7494321_AML26_REM_processed_uni', 'GSE235063_GSM7494280_AML5_REL_processed_uni', 'GSE235063_GSM7494303_AML21_DX_processed_uni', 'GSE235063_GSM7494273_AML7_REM_processed_uni', 'GSE235063_GSM7494284_AML1_REM_processed_uni', 'GSE235063_GSM7494305_AML21_REM_processed_uni', 'GSE235063_GSM7494264_AML2_REL_processed_uni', 'GSE235063_GSM7494322_AML19_DX_processed_uni', 'GSE235063_GSM7494258_AML16_REL_processed_uni', 'GSE235063_GSM7494294_AML10_REM_processed_uni', 'GSE235063_GSM7494311_AML23_REM_processed_uni', 'GSE235063_GSM7494313_AML28_REM_processed_uni', 'GSE132509_GSM3872444_PBMMC_3_uni', 'GSE132509_GSM3872442_PBMMC_1_uni', 'GSE132509_GSM3872441_PRE-T_2_uni', 'GSE132509_GSM3872443_PBMMC_2_uni', 'GSE132509_GSM3872437_ETV6-RUNX1_4_uni', 'GSE132509_GSM3872438_HHD_1_uni', 'GSE132509_GSM3872439_HHD_2_uni', 'GSE132509_GSM3872435_ETV6-RUNX1_2_uni', 'GSE132509_GSM3872434_ETV6-RUNX1_1_uni', 'GSE132509_GSM3872440_PRE-T_1_uni', 'GSE132509_GSM3872436_ETV6-RUNX1_3_uni', 'GSE227122_GSM7091999_T4Dx_uni', 'GSE227122_GSM7091997_T2Dx_uni', 'GSE227122_GSM7092003_T7Dx_uni', 'GSE227122_GSM7092008_T9EOI_uni', 'GSE227122_GSM7092002_T6EOI_uni', 'GSE227122_GSM7092007_T9Dx_uni', 'GSE227122_GSM7091998_T3Dx_uni', 'GSE227122_GSM7092009_T10Dx_uni', 'GSE227122_GSM7092001_T6Dx_uni', 'GSE227122_GSM7092004_T7EOI_uni', 'GSE227122_GSM7092006_T8EOI_uni', 'GSE227122_GSM7092011_T11Rel_uni', 'GSE227122_GSM7092000_T5Dx_uni', 'GSE227122_GSM7092010_T10EOI_uni', 'GSE227122_GSM7091996_T1Dx_uni', 'GSE227122_GSM7092005_T8Dx_uni', 'GSE148218_GSM4456252_ALL3_uni', 'GSE148218_GSM4456253_ALL8_uni', 'GSE148218_GSM4456254_ALL9_uni', 'GSE148218_GSM4456257_ALL10-d15_uni', 'GSE148218_GSM4456255_ALL10_uni', 'GSE148218_GSM4456256_ALL12_uni', 'GSE148218_GSM4456258_ALL12-d15_uni', 'GSE148218_GSM4456251_ALL1_uni', 'GSE102130_GSE102130_K27Mproject.RSEM.vh20170621_uni', 'GSE125969_GSE125969_uni', 'GSE221776_GSE221776_CD4_uni', 'GSE221776_GSE221776_CD8_uni', 'GSE189939_GSM5710226_GTE001_uni', 'GSE189939_GSM5710228_GTE009_uni', 'GSE189939_GSM5710227_GTE002_uni', 'GSE189939_GSM5710229_GTE012_uni', 'GSE231860_GSM7305269_1190_uni', 'GSE231860_GSM7305263_910_uni', 'GSE231860_GSM7305265_968_uni', 'GSE231860_GSM7305277_1458_uni', 'GSE231860_GSM7305272_1241_uni', 'GSE231860_GSM7305274_1421_uni', 'GSE231860_GSM7305271_1214_uni', 'GSE231860_GSM7305260_834_uni', 'GSE231860_GSM7305261_868_uni', 'GSE231860_GSM7305273_1414_uni', 'GSE231860_GSM7305275_1431_uni', 'GSE231860_GSM7305267_1144_uni', 'GSE231860_GSM7305276_1437_uni', 'GSE231860_GSM7305266_1107_uni', 'GSE231860_GSM7305278_1463_B_uni', 'GSE231860_GSM7305262_905_uni', 'GSE231860_GSM7305268_1187_uni', 'GSE231860_GSM7305270_1196_uni', 'GSE231860_GSM7305264_954_uni', 'GSE155446_GSE155446_uni', 'GSE141460_GSM5273084_MUV006_uni', 'GSE141460_PF_EPN_uni', 'GSE141460_GSM5273083_MUV056_uni', 'GSE141460_GSM5273081_MUV051_uni', 'GSE141460_SP_EPN_uni', 'GSE141460_GSM5273080_MUV013_uni', 'GSE141460_GSM5273079_MUV014_uni', 'GSE141460_ST_EPN_uni', 'GSE141460_Matched_uni', 'GSE198896_GSM5959131_Osteosarcoma_1_PBMC_uni', 'GSE198896_GSM5959132_Osteosarcoma_1_TIL_uni', 'GSE198896_GSM5959130_Ewing_1_TIL_uni', 'GSE198896_GSM5959129_Ewing_1_PBMC_uni', 'GSE198896_GSM5959137_Osteosarcoma_4_PBMC_uni', 'GSE198896_GSM5959133_Osteosarcoma_2_PBMC_uni', 'GSE198896_GSM5959140_Ewing_3_PBMC_TIL_uni', 'GSE198896_GSM5959139_Ewing_2_PBMC_TIL_uni', 'GSE198896_GSM5959134_Osteosarcoma_2_TIL_uni', 'GSE198896_GSM5959135_Osteosarcoma_3_PBMC_uni', 'GSE198896_GSM5959142_Healthy_donor_PBMC_uni', 'GSE198896_GSM5959136_Osteosarcoma_3_TIL_uni', 'GSE198896_GSM5959141_Ewing_4_PBMC_TIL_uni', 'GSE198896_GSM5959138_Osteosarcoma_4_TIL_uni', 'GSE243347_GSM7783794_TM548_uni', 'GSE243347_GSM7783786_TM348_uni', 'GSE243347_GSM7783798_TM570_uni', 'GSE243347_GSM7783783_TM338_uni', 'GSE243347_GSM7783805_TM712_uni', 'GSE243347_GSM7783809_TM770_uni', 'GSE243347_GSM7783785_TM344_uni', 'GSE243347_GSM7783806_TM734_uni', 'GSE243347_GSM7783797_TM564_uni', 'GSE243347_GSM7783789_TM424_uni', 'GSE243347_GSM7783807_TM736_uni', 'GSE243347_GSM7783791_TM505_uni', 'GSE243347_GSM7783793_TM547_uni', 'GSE243347_GSM7783788_TM417_uni', 'GSE243347_GSM7783802_TM709_uni', 'GSE243347_GSM7783787_TM416_uni', 'GSE243347_GSM7783790_TM425_uni', 'GSE243347_GSM7783803_TM737_uni', 'GSE243347_GSM7783784_TM339_uni', 'GSE243347_GSM7783796_TM552_uni', 'GSE243347_GSM7783799_TM572_uni', 'GSE243347_GSM7783808_TM768_uni', 'GSE243347_GSM7783792_TM506_uni', 'GSE243347_GSM7783800_TM574_uni', 'GSE243347_GSM7783801_TM707_uni', 'GSE243347_GSM7783804_TM739_uni', 'GSE243347_GSM7783795_TM549_uni', 'GSE162454_GSM5155199_OS_5_uni', 'GSE162454_GSM5155200_OS_6_uni', 'GSE162454_GSM4952363_OS_1_uni', 'GSE152048_GSE152048_BC11_uni', 'GSE152048_GSE152048_BC16_uni', 'GSE152048_GSE152048_BC22_uni', 'GSE152048_GSE152048_BC3_uni', 'GSE152048_GSE152048_BC2_uni', 'GSE152048_GSE152048_BC20_uni', 'GSE195709_GSM5848673_20082_hg19_uni', 'GSE195709_GSM5848675_21202_hg19_uni', 'GSE195709_GSM5848674_20696_hg19_uni', 'GSE195709_GSM5848676_29806_hg19_uni', 'GSE174376_GSM5293229_1634977_DYE2513_uni', 'GSE174376_GSM5390473_1763615_DYE2654_uni', 'GSE174376_GSM5390462_1782335_DYE2684_uni', 'GSE174376_GSM5390469_1782333_DYE2682_uni', 'GSE174376_GSM5390463_1782332_DYE2681_uni', 'GSE174376_GSM5390464_1763618_DYE2657_uni', 'GSE174376_GSM5390456_1681824_DYE2564_uni', 'GSE174376_GSM5390458_1801663_DYE2838_uni', 'GSE174376_GSM5390461_1782334_DYE2683_uni', 'GSE174376_GSM5390468_1722930_DYE2604_uni', 'GSE174376_GSM5390459_1801661_DYE2836_uni', 'GSE174376_GSM5390474_1722931_DYE2605_uni', 'GSE174376_GSM5390465_1801664_DYE2839_uni', 'GSE174376_GSM5390467_1763613_DYE2652_uni', 'GSE174376_GSM5390460_1771480_DYE2661_uni', 'GSE174376_GSM5390457_1801665_DYE2840_uni', 'GSE174376_GSM5390470_1763617_DYE2656_uni', 'GSE174376_GSM5390466_1801662_DYE2837_uni', 'GSE137804_GSM4088781_T71_uni', 'GSE137804_GSM4654667_F366_uni', 'GSE137804_GSM4088774_T10_uni', 'GSE137804_GSM4088776_T27_uni', 'GSE137804_GSM4088779_T44_uni', 'GSE137804_GSM4088778_T40_uni', 'GSE137804_GSM4088788_F107_uni', 'GSE137804_GSM4654669_T162_uni', 'GSE137804_GSM4088787_F106_uni', 'GSE137804_GSM4088786_F7_uni', 'GSE137804_GSM4088775_T19_uni', 'GSE137804_GSM4088780_T69_uni', 'GSE137804_GSM4654668_F379_uni', 'GSE137804_GSM4654674_T230_uni', 'GSE137804_GSM4088782_T75_uni', 'GSE137804_GSM4654673_T214_uni', 'GSE137804_GSM4088783_T92_uni', 'GSE137804_GSM4654671_T188_uni', 'GSE137804_GSM4654670_T175_uni', 'GSE137804_GSM4088785_F2_uni', 'GSE137804_GSM4088777_T34_uni', 'GSE137804_GSM4654672_T200_uni', 'GSE140819_GSM4186968_HTAPP-244-SMP-451_TST_channel1_uni', 'GSE140819_GSM4186992_HTAPP-951-SMP-4652_TST-V2_channel1_uni', 'GSE140819_GSM4186966_HTAPP-244-SMP-451_EZ_channel1_uni', 'GSE140819_GSM4186962_HTAPP-312-SMP-902_fresh-C4-T2_channel1_uni', 'GSE140819_GSM4186969_HTAPP-656-SMP-3481_TST_channel1_uni', 'GSE140819_GSM4186982_HTAPP-443-SMP-5491_CST_channel1_uni', 'GSE140819_GSM4186994_HTAPP-951-SMP-4652_CST-V3_channel1_uni', 'GSE140819_GSM4186963_HTAPP-656-SMP-3481_fresh-T1_channel1_uni', 'GSE140819_GSM4186967_HTAPP-244-SMP-451_NST_channel1_uni', 'GSE140819_GSM4186993_HTAPP-951-SMP-4652_TST-V3_channel1_uni', 'GSE140819_GSM4186961_HTAPP-312-SMP-901_fresh-T1_channel1_uni', 'GSE140819_GSM4186965_HTAPP-244-SMP-451_CST_channel1_uni', 'GSE140819_GSM4186995_HTAPP-975-SMP-4771_TST-V3_channel1_uni', 'GSE216176_GSM6659425_A2_filtered_feature_bc_matrix_uni', 'GSE216176_GSM6659423_M4_filtered_feature_bc_matrix_uni', 'GSE216176_GSM6659430_S5_filtered_feature_bc_matrix_uni', 'GSE216176_GSM6659414_C1_filtered_feature_bc_matrix_uni', 'GSE216176_GSM6659417_C4_filtered_feature_bc_matrix_uni', 'GSE216176_GSM6659415_C2_filtered_feature_bc_matrix_uni', 'GSE216176_GSM6659426_S1_filtered_feature_bc_matrix_uni', 'GSE216176_GSM6659422_M3_filtered_feature_bc_matrix_uni', 'GSE216176_GSM6659429_S4_filtered_feature_bc_matrix_uni', 'GSE216176_GSM6659421_M2b_filtered_feature_bc_matrix_uni', 'GSE216176_GSM6659416_C3_filtered_feature_bc_matrix_uni', 'GSE216176_GSM6659419_M1_filtered_feature_bc_matrix_uni', 'GSE216176_GSM6659420_M2a_filtered_feature_bc_matrix_uni', 'GSE216176_GSM6659428_S3_filtered_feature_bc_matrix_uni', 'GSE216176_GSM6659427_S2_filtered_feature_bc_matrix_uni', 'GSE216176_GSM6659424_A1_filtered_feature_bc_matrix_uni', 'GSE216176_GSM6659418_C5_filtered_feature_bc_matrix_uni', 'GSE147766_GSM4445623_NB24.count.csv_uni', 'GSE147766_GSM4445608_NB01.count.csv_uni', 'GSE147766_GSM4445621_NB22.count.csv_uni', 'GSE147766_GSM6058205_NB34.count.csv_uni', 'GSE147766_GSM4445615_NB16.count.csv_uni', 'GSE147766_GSM4445624_NB26.count.csv_uni', 'GSE147766_GSM4445612_NB12.count.csv_uni', 'GSE147766_GSM4445616_NB17.count.csv_uni', 'GSE147766_GSM4445609_NB02.count.csv_uni', 'GSE147766_GSM4445622_NB23.count.csv_uni', 'GSE147766_GSM4445619_NB20.count.csv_uni', 'GSE147766_GSM4445620_NB21.count.csv_uni', 'GSE147766_GSM4445614_NB15.count.csv_uni', 'GSE147766_GSM4445617_NB18.count.csv_uni', 'GSE147766_GSM6058206_NB37.count.csv_uni', 'GSE147766_GSM4445611_NB11.count.csv_uni', 'GSE147766_GSM4445610_NB09.count.csv_uni', 'GSE147766_GSM4445613_NB13.count.csv_uni', 'GSE147766_GSM4445618_NB19.count.csv_uni', 'GSE192906_GSM5768752_GN1_uni', 'GSE192906_GSM5768748_GNB1_uni', 'GSE192906_GSM5768750_GNB3_uni', 'GSE192906_GSM5768744_NB2_uni', 'GSE192906_GSM5768746_NB4_uni', 'GSE192906_GSM5768745_NB3_uni', 'GSE192906_GSM5768743_NB1_uni', 'GSE192906_GSM5768747_NB5_uni', 'GSE192906_GSM5768751_GNB4_uni', 'GSE192906_GSM5768749_GNB2_uni', 'GSE168434_GSM5139854_RB02_rep1_counts_uni', 'GSE168434_GSM5139857_RB03_rep2_counts_uni', 'GSE168434_GSM5139861_RB07_counts_uni', 'GSE168434_GSM5139855_RB02_rep2_counts_uni', 'GSE168434_GSM5139852_RB01_rep1_counts_uni', 'GSE168434_GSM5139860_RB06_counts_uni', 'GSE168434_GSM5139858_RB04_counts_uni', 'GSE168434_GSM5139856_RB03_rep1_counts_uni', 'GSE168434_GSM5139853_RB01_rep2_counts_uni', 'GSE168434_GSM5139859_RB05_counts_uni', 'GSE249995_GSM7968798_in_RB2_uni', 'GSE249995_GSM7968797_in_RB1_uni', 'GSE249995_GSM7968799_ex_RB1_uni', 'GSE249995_GSM7968800_ex_RB2_uni', 'PRJNA737188_SRR14800535_uni', 'PRJNA737188_SRR14800536_uni', 'GSE223373_GSM6946668_WT-RBG-R_matrix_uni', 'GSE223373_GSM6946666_WT-RBG-L_matrix_uni', 'GSE223373_GSM6946667_WT-RBG-N_matrix_uni'])"
      ]
     },
     "execution_count": 4,
     "metadata": {},
     "output_type": "execute_result"
    }
   ],
   "source": [
    "adatas.keys()"
   ]
  },
  {
   "cell_type": "code",
   "execution_count": 5,
   "metadata": {},
   "outputs": [
    {
     "data": {
      "text/plain": [
       "AnnData object with n_obs × n_vars = 4268 × 33538\n",
       "    obs: 'cancer_type', 'dataset', 'tissue', 'uni_barcode', 'disease_progression', 'sample_barcode'\n",
       "    var: 'gene_ids', 'feature_types'"
      ]
     },
     "execution_count": 5,
     "metadata": {},
     "output_type": "execute_result"
    }
   ],
   "source": [
    "# Find one AnnData has a complete .var dataframe\n",
    "adatas['GSE235923_GSM7512002_Sample4D_uni']"
   ]
  },
  {
   "cell_type": "code",
   "execution_count": 6,
   "metadata": {},
   "outputs": [
    {
     "data": {
      "text/html": [
       "<div>\n",
       "<style scoped>\n",
       "    .dataframe tbody tr th:only-of-type {\n",
       "        vertical-align: middle;\n",
       "    }\n",
       "\n",
       "    .dataframe tbody tr th {\n",
       "        vertical-align: top;\n",
       "    }\n",
       "\n",
       "    .dataframe thead th {\n",
       "        text-align: right;\n",
       "    }\n",
       "</style>\n",
       "<table border=\"1\" class=\"dataframe\">\n",
       "  <thead>\n",
       "    <tr style=\"text-align: right;\">\n",
       "      <th></th>\n",
       "      <th>gene_ids</th>\n",
       "      <th>feature_types</th>\n",
       "    </tr>\n",
       "  </thead>\n",
       "  <tbody>\n",
       "    <tr>\n",
       "      <th>MIR1302-2HG</th>\n",
       "      <td>ENSG00000243485</td>\n",
       "      <td>Gene Expression</td>\n",
       "    </tr>\n",
       "    <tr>\n",
       "      <th>FAM138A</th>\n",
       "      <td>ENSG00000237613</td>\n",
       "      <td>Gene Expression</td>\n",
       "    </tr>\n",
       "    <tr>\n",
       "      <th>OR4F5</th>\n",
       "      <td>ENSG00000186092</td>\n",
       "      <td>Gene Expression</td>\n",
       "    </tr>\n",
       "    <tr>\n",
       "      <th>AL627309.1</th>\n",
       "      <td>ENSG00000238009</td>\n",
       "      <td>Gene Expression</td>\n",
       "    </tr>\n",
       "    <tr>\n",
       "      <th>AL627309.3</th>\n",
       "      <td>ENSG00000239945</td>\n",
       "      <td>Gene Expression</td>\n",
       "    </tr>\n",
       "    <tr>\n",
       "      <th>...</th>\n",
       "      <td>...</td>\n",
       "      <td>...</td>\n",
       "    </tr>\n",
       "    <tr>\n",
       "      <th>AC233755.2</th>\n",
       "      <td>ENSG00000277856</td>\n",
       "      <td>Gene Expression</td>\n",
       "    </tr>\n",
       "    <tr>\n",
       "      <th>AC233755.1</th>\n",
       "      <td>ENSG00000275063</td>\n",
       "      <td>Gene Expression</td>\n",
       "    </tr>\n",
       "    <tr>\n",
       "      <th>AC240274.1</th>\n",
       "      <td>ENSG00000271254</td>\n",
       "      <td>Gene Expression</td>\n",
       "    </tr>\n",
       "    <tr>\n",
       "      <th>AC213203.1</th>\n",
       "      <td>ENSG00000277475</td>\n",
       "      <td>Gene Expression</td>\n",
       "    </tr>\n",
       "    <tr>\n",
       "      <th>FAM231C</th>\n",
       "      <td>ENSG00000268674</td>\n",
       "      <td>Gene Expression</td>\n",
       "    </tr>\n",
       "  </tbody>\n",
       "</table>\n",
       "<p>33538 rows × 2 columns</p>\n",
       "</div>"
      ],
      "text/plain": [
       "                    gene_ids    feature_types\n",
       "MIR1302-2HG  ENSG00000243485  Gene Expression\n",
       "FAM138A      ENSG00000237613  Gene Expression\n",
       "OR4F5        ENSG00000186092  Gene Expression\n",
       "AL627309.1   ENSG00000238009  Gene Expression\n",
       "AL627309.3   ENSG00000239945  Gene Expression\n",
       "...                      ...              ...\n",
       "AC233755.2   ENSG00000277856  Gene Expression\n",
       "AC233755.1   ENSG00000275063  Gene Expression\n",
       "AC240274.1   ENSG00000271254  Gene Expression\n",
       "AC213203.1   ENSG00000277475  Gene Expression\n",
       "FAM231C      ENSG00000268674  Gene Expression\n",
       "\n",
       "[33538 rows x 2 columns]"
      ]
     },
     "execution_count": 6,
     "metadata": {},
     "output_type": "execute_result"
    }
   ],
   "source": [
    "adatas['GSE235923_GSM7512002_Sample4D_uni'].var"
   ]
  },
  {
   "cell_type": "code",
   "execution_count": 7,
   "metadata": {},
   "outputs": [
    {
     "data": {
      "text/html": [
       "<pre style=\"white-space:pre;overflow-x:auto;line-height:normal;font-family:Menlo,'DejaVu Sans Mono',consolas,'Courier New',monospace\"><span style=\"color: #008080; text-decoration-color: #008080; font-weight: bold\">7662</span>\n",
       "</pre>\n"
      ],
      "text/plain": [
       "\u001b[1;36m7662\u001b[0m\n"
      ]
     },
     "metadata": {},
     "output_type": "display_data"
    }
   ],
   "source": [
    "# Find out common genes among all AnnData objects\n",
    "common_genes = set(adatas['GSE235923_GSM7512002_Sample4D_uni'].var_names)\n",
    "for sample in adatas:\n",
    "    common_genes.intersection_update(adatas[sample].var_names)\n",
    "    # print(len(common_genes))\n",
    "print(len(common_genes))"
   ]
  },
  {
   "cell_type": "markdown",
   "metadata": {},
   "source": [
    "We have 7,662 common genes for all cancer datasets."
   ]
  },
  {
   "cell_type": "code",
   "execution_count": 8,
   "metadata": {},
   "outputs": [
    {
     "data": {
      "text/html": [
       "<pre style=\"white-space:pre;overflow-x:auto;line-height:normal;font-family:Menlo,'DejaVu Sans Mono',consolas,'Courier New',monospace\">Total number of cells: <span style=\"color: #008080; text-decoration-color: #008080; font-weight: bold\">1944497</span>\n",
       "</pre>\n"
      ],
      "text/plain": [
       "Total number of cells: \u001b[1;36m1944497\u001b[0m\n"
      ]
     },
     "metadata": {},
     "output_type": "display_data"
    }
   ],
   "source": [
    "# Check the total number of cells at the beginning\n",
    "total_cells = 0\n",
    "\n",
    "# Iterate through each AnnData object in the list\n",
    "for sample in adatas:\n",
    "    # Add the number of cells in the current AnnData object to the total\n",
    "    total_cells += adatas[sample].shape[0]  # 'shape[0]' gives the number of cells\n",
    "\n",
    "# Print the total number of cells\n",
    "print(\"Total number of cells:\", total_cells)"
   ]
  },
  {
   "cell_type": "markdown",
   "metadata": {},
   "source": [
    "At the beginning, we have a total of 1,944,497 cells."
   ]
  },
  {
   "cell_type": "markdown",
   "metadata": {},
   "source": [
    "### <span style=\"color:yellow\">**Preprocessing:**</span> normalization & log transformation\n",
    "\n",
    "Use the preprocessing package from dandelion to filter out cell and gene outliers\n",
    "\n",
    "Modified parameters:\n",
    "\n",
    "`max_genes: int = 6000`\n",
    "\n",
    "`mito_cutoff: Optional[int] = None`"
   ]
  },
  {
   "cell_type": "code",
   "execution_count": 9,
   "metadata": {},
   "outputs": [],
   "source": [
    "from sklearn.mixture import GaussianMixture\n",
    "\n",
    "def recipe_scanpy_qc(\n",
    "    adata: anndata,\n",
    "    mito_startswith: str = \"MT-\",\n",
    "    max_genes: int = 6000,\n",
    "    min_genes: int = 200,\n",
    "    mito_cutoff: int = None,\n",
    "):\n",
    "    \n",
    "    _adata = adata.copy()\n",
    "    # run basic scanpy pipeline\n",
    "    sc.pp.filter_cells(_adata, min_genes=0)\n",
    "    _adata.var[\"mt\"] = _adata.var_names.str.startswith(mito_startswith)\n",
    "    sc.pp.calculate_qc_metrics(\n",
    "        _adata, qc_vars=[\"mt\"], percent_top=None, log1p=False, inplace=True\n",
    "    )\n",
    "    if mito_cutoff is None:\n",
    "        # use a model-based method to determine the cut off\n",
    "        # for mitochondrial content\n",
    "        gmm = GaussianMixture(\n",
    "            n_components=2, max_iter=1000, covariance_type=\"full\", random_state=0\n",
    "        )\n",
    "        X = _adata.obs[[\"pct_counts_mt\", \"n_genes_by_counts\"]]\n",
    "        try:\n",
    "            _adata.obs[\"gmm_pct_count_clusters\"] = gmm.fit(X).predict(X)\n",
    "            # use a simple metric to workout which cluster\n",
    "            # is the one that contains lower mito content?\n",
    "            A1 = (\n",
    "                _adata[_adata.obs[\"gmm_pct_count_clusters\"] == 0]\n",
    "                .obs[\"pct_counts_mt\"]\n",
    "                .mean()\n",
    "            )\n",
    "            B1 = (\n",
    "                _adata[_adata.obs[\"gmm_pct_count_clusters\"] == 1]\n",
    "                .obs[\"pct_counts_mt\"]\n",
    "                .mean()\n",
    "            )\n",
    "            A2 = (\n",
    "                _adata[_adata.obs[\"gmm_pct_count_clusters\"] == 0]\n",
    "                .obs[\"n_genes_by_counts\"]\n",
    "                .mean()\n",
    "            )\n",
    "            B2 = (\n",
    "                _adata[_adata.obs[\"gmm_pct_count_clusters\"] == 1]\n",
    "                .obs[\"n_genes_by_counts\"]\n",
    "                .mean()\n",
    "            )\n",
    "            if (A1 > B1) and (A2 < B2):\n",
    "                keepdict = {0: False, 1: True}\n",
    "            else:\n",
    "                keepdict = {1: False, 0: True}\n",
    "            _adata.obs[\"gmm_pct_count_clusters_keep\"] = [\n",
    "                keepdict[x] for x in _adata.obs[\"gmm_pct_count_clusters\"]\n",
    "            ]\n",
    "        \n",
    "            _adata.obs[\"filter_rna\"] = (\n",
    "                (\n",
    "                    pd.Series(\n",
    "                        [\n",
    "                            ((n < min_genes) or (n > max_genes))\n",
    "                            for n in _adata.obs[\"n_genes_by_counts\"]\n",
    "                        ],\n",
    "                        index=_adata.obs.index,\n",
    "                    )\n",
    "                )\n",
    "                | ~(_adata.obs.gmm_pct_count_clusters_keep)\n",
    "            )\n",
    "        except Exception as e:\n",
    "            print(adata, 'has less than 2 cells passing the filtering') \n",
    "        \n",
    "    bool_dict = {True: \"True\", False: \"False\"}\n",
    "    _adata.obs[\"filter_rna\"] = [bool_dict[x] for x in _adata.obs[\"filter_rna\"]]\n",
    "\n",
    "    # removing columns that probably don't need anymore\n",
    "    _adata.obs = _adata.obs.drop(\n",
    "        [\"gmm_pct_count_clusters\"],\n",
    "        axis=1,\n",
    "    )\n",
    "    adata.obs = _adata.obs.copy()"
   ]
  },
  {
   "cell_type": "code",
   "execution_count": 10,
   "metadata": {},
   "outputs": [],
   "source": [
    "adatas_filtered = {}\n",
    "\n",
    "for sample in adatas:\n",
    "    # print(sample)\n",
    "    adata = adatas[sample]\n",
    "\n",
    "    # Do QC and filtering\n",
    "    recipe_scanpy_qc(adata)\n",
    "    try:\n",
    "        adata = adata[adata.obs['filter_rna'] == 'False']\n",
    "    except Exception as e:\n",
    "        print(sample, \"may not have the 'filter_rna' column\")\n",
    "\n",
    "    # We need at least 1 cell passing the filtering for the downstream processing\n",
    "    if adata.shape[0] > 0:\n",
    "        # Subset for common genes\n",
    "        adata = adata[:, list(common_genes)]\n",
    "\n",
    "        # Store the raw counts\n",
    "        adata.layers['counts'] = adata.X.copy()\n",
    "\n",
    "        # Do normalization\n",
    "        sc.pp.normalize_total(adata, target_sum=1e4)\n",
    "\n",
    "        # Do the log transformation\n",
    "        sc.pp.log1p(adata)\n",
    "\n",
    "        # Freeze the state in `.raw`\n",
    "        adata.raw = adata  \n",
    "        \n",
    "        adatas_filtered[sample] = adata"
   ]
  },
  {
   "cell_type": "code",
   "execution_count": 11,
   "metadata": {},
   "outputs": [
    {
     "data": {
      "text/plain": [
       "369"
      ]
     },
     "execution_count": 11,
     "metadata": {},
     "output_type": "execute_result"
    }
   ],
   "source": [
    "len(adatas_filtered)"
   ]
  },
  {
   "cell_type": "markdown",
   "metadata": {},
   "source": [
    "We have 3 samples that have no cells pass the filtering."
   ]
  },
  {
   "cell_type": "code",
   "execution_count": 12,
   "metadata": {},
   "outputs": [
    {
     "data": {
      "text/plain": [
       "dict_keys(['GSE235923_GSM7512002_Sample4D_uni', 'GSE235923_GSM7512005_Sample5R_uni', 'GSE235923_GSM7512020_Sample16E_uni', 'GSE235923_GSM7512000_Sample3D_uni', 'GSE235923_GSM7512018_Sample15E_uni', 'GSE235923_GSM7512021_Sample17D_uni', 'GSE235923_GSM7512025_Sample19D_uni', 'GSE235923_GSM7512007_Sample6E_uni', 'GSE235923_GSM7512026_Sample19E_uni', 'GSE235923_GSM7512003_Sample5D_uni', 'GSE235923_GSM7512017_Sample14E_uni', 'GSE235923_GSM7512006_Sample6D_uni', 'GSE235923_GSM7511999_Sample2D_uni', 'GSE235923_GSM7512027_Sample20D_uni', 'GSE235923_GSM7512011_Sample9D_uni', 'GSE235923_GSM7512009_Sample7D_uni', 'GSE235923_GSM7511998_Sample1D_uni', 'GSE235923_GSM7512004_Sample5E_uni', 'GSE235923_GSM7512012_Sample10D_uni', 'GSE235923_GSM7512019_Sample16D_uni', 'GSE235923_GSM7512016_Sample14D_uni', 'GSE235923_GSM7512023_Sample18Dx_uni', 'GSE235923_GSM7512028_Sample20E_uni', 'GSE235923_GSM7512013_Sample11D_uni', 'GSE235923_GSM7512024_Sample18E_uni', 'GSE235923_GSM7512010_Sample8D_uni', 'GSE235923_GSM7512022_Sample17E_uni', 'GSE235923_GSM7512015_Sample13D_uni', 'GSE235923_GSM7512001_Sample3E_uni', 'GSE235923_GSM7512008_Sample6R_uni', 'GSE235923_GSM7512014_Sample12D_uni', 'GSE236351_GSM7528330_M6_uni', 'GSE236351_GSM7528331_M7_uni', 'GSE236351_GSM7528326_M2_uni', 'GSE236351_GSM7528328_M4_uni', 'GSE236351_GSM7528329_M5_uni', 'GSE236351_GSM7528327_M3_uni', 'GSE236351_GSM7528325_M1_uni', 'GSE154109_GSM4664013_1150_uni', 'GSE154109_GSM4664025_1281_uni', 'GSE154109_GSM4664018_1260_uni', 'GSE154109_GSM4664020_1528_uni', 'GSE154109_GSM4664027_1209_uni', 'GSE154109_GSM4664014_1197_uni', 'GSE154109_GSM4664019_1249_uni', 'GSE154109_GSM4664016_1258_uni', 'GSE154109_GSM4664017_1323_uni', 'GSE154109_GSM4664024_1308_uni', 'GSE154109_GSM4664022_1199_uni', 'GSE154109_GSM4664026_1277_uni', 'GSE154109_GSM4664021_1236_uni', 'GSE154109_GSM4664023_1167_uni', 'GSE154109_GSM4664015_1210_uni', 'GSE235063_GSM7494282_AML17_DX_processed_uni', 'GSE235063_GSM7494267_AML15_REL_processed_uni', 'GSE235063_GSM7494277_AML20_DX_processed_uni', 'GSE235063_GSM7494275_AML8_REL_processed_uni', 'GSE235063_GSM7494320_AML26_REL_processed_uni', 'GSE235063_GSM7494260_AML6_DX_processed_uni', 'GSE235063_GSM7494324_AML18_DX_processed_uni', 'GSE235063_GSM7494297_AML11_REM_processed_uni', 'GSE235063_GSM7494296_AML11_REL_processed_uni', 'GSE235063_GSM7494276_AML8_REM_processed_uni', 'GSE235063_GSM7494306_AML24_DX_processed_uni', 'GSE235063_GSM7494309_AML23_DX_processed_uni', 'GSE235063_GSM7494285_AML1_DX_processed_uni', 'GSE235063_GSM7494262_AML6_REM_processed_uni', 'GSE235063_GSM7494329_AML13_DX_processed_uni', 'GSE235063_GSM7494319_AML26_DX_processed_uni', 'GSE235063_GSM7494270_AML3_REM_processed_uni', 'GSE235063_GSM7494295_AML11_DX_processed_uni', 'GSE235063_GSM7494318_AML25_REM_processed_uni', 'GSE235063_GSM7494298_AML4_DX_processed_uni', 'GSE235063_GSM7494292_AML10_DX_processed_uni', 'GSE235063_GSM7494274_AML8_DX_processed_uni', 'GSE235063_GSM7494312_AML28_REL_processed_uni', 'GSE235063_GSM7494272_AML7_REL_processed_uni', 'GSE235063_GSM7494271_AML7_DX_processed_uni', 'GSE235063_GSM7494330_AML13_REL_processed_uni', 'GSE235063_GSM7494310_AML23_REL_processed_uni', 'GSE235063_GSM7494326_AML12_DX_processed_uni', 'GSE235063_GSM7494269_AML3_DX_processed_uni', 'GSE235063_GSM7494293_AML10_REL_processed_uni', 'GSE235063_GSM7494328_AML12_REM_processed_uni', 'GSE235063_GSM7494316_AML25_DX_processed_uni', 'GSE235063_GSM7494278_AML20_REM_processed_uni', 'GSE235063_GSM7494290_AML9_REL_processed_uni', 'GSE235063_GSM7494302_AML22_REM_processed_uni', 'GSE235063_GSM7494287_AML27_REL_processed_uni', 'GSE235063_GSM7494257_AML16_DX_processed_uni', 'GSE235063_GSM7494283_AML17_REL_processed_uni', 'GSE235063_GSM7494317_AML25_REL_processed_uni', 'GSE235063_GSM7494261_AML6_REL_processed_uni', 'GSE235063_GSM7494304_AML21_REL_processed_uni', 'GSE235063_GSM7494268_AML15_REM_processed_uni', 'GSE235063_GSM7494315_AML14_REM_processed_uni', 'GSE235063_GSM7494331_AML13_REM_processed_uni', 'GSE235063_GSM7494259_AML16_REM_processed_uni', 'GSE235063_GSM7494307_AML24_REL_processed_uni', 'GSE235063_GSM7494263_AML2_DX_processed_uni', 'GSE235063_GSM7494300_AML22_DX_processed_uni', 'GSE235063_GSM7494299_AML4_REL_processed_uni', 'GSE235063_GSM7494323_AML19_REL_processed_uni', 'GSE235063_GSM7494291_AML9_REM_processed_uni', 'GSE235063_GSM7494288_AML27_REM_processed_uni', 'GSE235063_GSM7494289_AML9_DX_processed_uni', 'GSE235063_GSM7494286_AML27_DX_processed_uni', 'GSE235063_GSM7494301_AML22_REL_processed_uni', 'GSE235063_GSM7494327_AML12_REL_processed_uni', 'GSE235063_GSM7494314_AML14_DX_processed_uni', 'GSE235063_GSM7494279_AML5_DX_processed_uni', 'GSE235063_GSM7494325_AML18_REL_processed_uni', 'GSE235063_GSM7494266_AML15_DX_processed_uni', 'GSE235063_GSM7494281_AML5_REM_processed_uni', 'GSE235063_GSM7494265_AML2_REM_processed_uni', 'GSE235063_GSM7494308_AML24_REM_processed_uni', 'GSE235063_GSM7494321_AML26_REM_processed_uni', 'GSE235063_GSM7494280_AML5_REL_processed_uni', 'GSE235063_GSM7494303_AML21_DX_processed_uni', 'GSE235063_GSM7494273_AML7_REM_processed_uni', 'GSE235063_GSM7494284_AML1_REM_processed_uni', 'GSE235063_GSM7494305_AML21_REM_processed_uni', 'GSE235063_GSM7494264_AML2_REL_processed_uni', 'GSE235063_GSM7494322_AML19_DX_processed_uni', 'GSE235063_GSM7494258_AML16_REL_processed_uni', 'GSE235063_GSM7494294_AML10_REM_processed_uni', 'GSE235063_GSM7494311_AML23_REM_processed_uni', 'GSE235063_GSM7494313_AML28_REM_processed_uni', 'GSE132509_GSM3872444_PBMMC_3_uni', 'GSE132509_GSM3872442_PBMMC_1_uni', 'GSE132509_GSM3872441_PRE-T_2_uni', 'GSE132509_GSM3872443_PBMMC_2_uni', 'GSE132509_GSM3872437_ETV6-RUNX1_4_uni', 'GSE132509_GSM3872438_HHD_1_uni', 'GSE132509_GSM3872439_HHD_2_uni', 'GSE132509_GSM3872435_ETV6-RUNX1_2_uni', 'GSE132509_GSM3872434_ETV6-RUNX1_1_uni', 'GSE132509_GSM3872440_PRE-T_1_uni', 'GSE132509_GSM3872436_ETV6-RUNX1_3_uni', 'GSE227122_GSM7091999_T4Dx_uni', 'GSE227122_GSM7091997_T2Dx_uni', 'GSE227122_GSM7092003_T7Dx_uni', 'GSE227122_GSM7092008_T9EOI_uni', 'GSE227122_GSM7092002_T6EOI_uni', 'GSE227122_GSM7092007_T9Dx_uni', 'GSE227122_GSM7091998_T3Dx_uni', 'GSE227122_GSM7092009_T10Dx_uni', 'GSE227122_GSM7092001_T6Dx_uni', 'GSE227122_GSM7092004_T7EOI_uni', 'GSE227122_GSM7092006_T8EOI_uni', 'GSE227122_GSM7092011_T11Rel_uni', 'GSE227122_GSM7092000_T5Dx_uni', 'GSE227122_GSM7092010_T10EOI_uni', 'GSE227122_GSM7091996_T1Dx_uni', 'GSE227122_GSM7092005_T8Dx_uni', 'GSE148218_GSM4456252_ALL3_uni', 'GSE148218_GSM4456253_ALL8_uni', 'GSE148218_GSM4456254_ALL9_uni', 'GSE148218_GSM4456257_ALL10-d15_uni', 'GSE148218_GSM4456255_ALL10_uni', 'GSE148218_GSM4456256_ALL12_uni', 'GSE148218_GSM4456258_ALL12-d15_uni', 'GSE148218_GSM4456251_ALL1_uni', 'GSE102130_GSE102130_K27Mproject.RSEM.vh20170621_uni', 'GSE125969_GSE125969_uni', 'GSE221776_GSE221776_CD4_uni', 'GSE221776_GSE221776_CD8_uni', 'GSE189939_GSM5710226_GTE001_uni', 'GSE189939_GSM5710228_GTE009_uni', 'GSE189939_GSM5710227_GTE002_uni', 'GSE189939_GSM5710229_GTE012_uni', 'GSE231860_GSM7305269_1190_uni', 'GSE231860_GSM7305263_910_uni', 'GSE231860_GSM7305265_968_uni', 'GSE231860_GSM7305277_1458_uni', 'GSE231860_GSM7305272_1241_uni', 'GSE231860_GSM7305274_1421_uni', 'GSE231860_GSM7305271_1214_uni', 'GSE231860_GSM7305260_834_uni', 'GSE231860_GSM7305261_868_uni', 'GSE231860_GSM7305273_1414_uni', 'GSE231860_GSM7305275_1431_uni', 'GSE231860_GSM7305267_1144_uni', 'GSE231860_GSM7305276_1437_uni', 'GSE231860_GSM7305266_1107_uni', 'GSE231860_GSM7305278_1463_B_uni', 'GSE231860_GSM7305262_905_uni', 'GSE231860_GSM7305268_1187_uni', 'GSE231860_GSM7305270_1196_uni', 'GSE231860_GSM7305264_954_uni', 'GSE155446_GSE155446_uni', 'GSE141460_GSM5273084_MUV006_uni', 'GSE141460_PF_EPN_uni', 'GSE141460_GSM5273083_MUV056_uni', 'GSE141460_GSM5273081_MUV051_uni', 'GSE141460_SP_EPN_uni', 'GSE141460_GSM5273080_MUV013_uni', 'GSE141460_GSM5273079_MUV014_uni', 'GSE141460_ST_EPN_uni', 'GSE141460_Matched_uni', 'GSE198896_GSM5959131_Osteosarcoma_1_PBMC_uni', 'GSE198896_GSM5959132_Osteosarcoma_1_TIL_uni', 'GSE198896_GSM5959130_Ewing_1_TIL_uni', 'GSE198896_GSM5959129_Ewing_1_PBMC_uni', 'GSE198896_GSM5959137_Osteosarcoma_4_PBMC_uni', 'GSE198896_GSM5959133_Osteosarcoma_2_PBMC_uni', 'GSE198896_GSM5959140_Ewing_3_PBMC_TIL_uni', 'GSE198896_GSM5959139_Ewing_2_PBMC_TIL_uni', 'GSE198896_GSM5959134_Osteosarcoma_2_TIL_uni', 'GSE198896_GSM5959135_Osteosarcoma_3_PBMC_uni', 'GSE198896_GSM5959142_Healthy_donor_PBMC_uni', 'GSE198896_GSM5959136_Osteosarcoma_3_TIL_uni', 'GSE198896_GSM5959141_Ewing_4_PBMC_TIL_uni', 'GSE198896_GSM5959138_Osteosarcoma_4_TIL_uni', 'GSE243347_GSM7783794_TM548_uni', 'GSE243347_GSM7783786_TM348_uni', 'GSE243347_GSM7783798_TM570_uni', 'GSE243347_GSM7783783_TM338_uni', 'GSE243347_GSM7783805_TM712_uni', 'GSE243347_GSM7783809_TM770_uni', 'GSE243347_GSM7783785_TM344_uni', 'GSE243347_GSM7783806_TM734_uni', 'GSE243347_GSM7783797_TM564_uni', 'GSE243347_GSM7783789_TM424_uni', 'GSE243347_GSM7783807_TM736_uni', 'GSE243347_GSM7783791_TM505_uni', 'GSE243347_GSM7783793_TM547_uni', 'GSE243347_GSM7783788_TM417_uni', 'GSE243347_GSM7783802_TM709_uni', 'GSE243347_GSM7783787_TM416_uni', 'GSE243347_GSM7783790_TM425_uni', 'GSE243347_GSM7783784_TM339_uni', 'GSE243347_GSM7783796_TM552_uni', 'GSE243347_GSM7783799_TM572_uni', 'GSE243347_GSM7783792_TM506_uni', 'GSE243347_GSM7783800_TM574_uni', 'GSE243347_GSM7783801_TM707_uni', 'GSE243347_GSM7783795_TM549_uni', 'GSE162454_GSM5155199_OS_5_uni', 'GSE162454_GSM5155200_OS_6_uni', 'GSE162454_GSM4952363_OS_1_uni', 'GSE152048_GSE152048_BC11_uni', 'GSE152048_GSE152048_BC16_uni', 'GSE152048_GSE152048_BC22_uni', 'GSE152048_GSE152048_BC3_uni', 'GSE152048_GSE152048_BC2_uni', 'GSE152048_GSE152048_BC20_uni', 'GSE195709_GSM5848673_20082_hg19_uni', 'GSE195709_GSM5848675_21202_hg19_uni', 'GSE195709_GSM5848674_20696_hg19_uni', 'GSE195709_GSM5848676_29806_hg19_uni', 'GSE174376_GSM5293229_1634977_DYE2513_uni', 'GSE174376_GSM5390473_1763615_DYE2654_uni', 'GSE174376_GSM5390462_1782335_DYE2684_uni', 'GSE174376_GSM5390469_1782333_DYE2682_uni', 'GSE174376_GSM5390463_1782332_DYE2681_uni', 'GSE174376_GSM5390464_1763618_DYE2657_uni', 'GSE174376_GSM5390456_1681824_DYE2564_uni', 'GSE174376_GSM5390458_1801663_DYE2838_uni', 'GSE174376_GSM5390461_1782334_DYE2683_uni', 'GSE174376_GSM5390468_1722930_DYE2604_uni', 'GSE174376_GSM5390459_1801661_DYE2836_uni', 'GSE174376_GSM5390474_1722931_DYE2605_uni', 'GSE174376_GSM5390465_1801664_DYE2839_uni', 'GSE174376_GSM5390467_1763613_DYE2652_uni', 'GSE174376_GSM5390460_1771480_DYE2661_uni', 'GSE174376_GSM5390457_1801665_DYE2840_uni', 'GSE174376_GSM5390470_1763617_DYE2656_uni', 'GSE174376_GSM5390466_1801662_DYE2837_uni', 'GSE137804_GSM4088781_T71_uni', 'GSE137804_GSM4654667_F366_uni', 'GSE137804_GSM4088774_T10_uni', 'GSE137804_GSM4088776_T27_uni', 'GSE137804_GSM4088779_T44_uni', 'GSE137804_GSM4088778_T40_uni', 'GSE137804_GSM4088788_F107_uni', 'GSE137804_GSM4654669_T162_uni', 'GSE137804_GSM4088787_F106_uni', 'GSE137804_GSM4088786_F7_uni', 'GSE137804_GSM4088775_T19_uni', 'GSE137804_GSM4088780_T69_uni', 'GSE137804_GSM4654668_F379_uni', 'GSE137804_GSM4654674_T230_uni', 'GSE137804_GSM4088782_T75_uni', 'GSE137804_GSM4654673_T214_uni', 'GSE137804_GSM4088783_T92_uni', 'GSE137804_GSM4654671_T188_uni', 'GSE137804_GSM4654670_T175_uni', 'GSE137804_GSM4088785_F2_uni', 'GSE137804_GSM4088777_T34_uni', 'GSE137804_GSM4654672_T200_uni', 'GSE140819_GSM4186968_HTAPP-244-SMP-451_TST_channel1_uni', 'GSE140819_GSM4186992_HTAPP-951-SMP-4652_TST-V2_channel1_uni', 'GSE140819_GSM4186966_HTAPP-244-SMP-451_EZ_channel1_uni', 'GSE140819_GSM4186962_HTAPP-312-SMP-902_fresh-C4-T2_channel1_uni', 'GSE140819_GSM4186969_HTAPP-656-SMP-3481_TST_channel1_uni', 'GSE140819_GSM4186982_HTAPP-443-SMP-5491_CST_channel1_uni', 'GSE140819_GSM4186994_HTAPP-951-SMP-4652_CST-V3_channel1_uni', 'GSE140819_GSM4186963_HTAPP-656-SMP-3481_fresh-T1_channel1_uni', 'GSE140819_GSM4186967_HTAPP-244-SMP-451_NST_channel1_uni', 'GSE140819_GSM4186993_HTAPP-951-SMP-4652_TST-V3_channel1_uni', 'GSE140819_GSM4186961_HTAPP-312-SMP-901_fresh-T1_channel1_uni', 'GSE140819_GSM4186965_HTAPP-244-SMP-451_CST_channel1_uni', 'GSE140819_GSM4186995_HTAPP-975-SMP-4771_TST-V3_channel1_uni', 'GSE216176_GSM6659425_A2_filtered_feature_bc_matrix_uni', 'GSE216176_GSM6659423_M4_filtered_feature_bc_matrix_uni', 'GSE216176_GSM6659430_S5_filtered_feature_bc_matrix_uni', 'GSE216176_GSM6659414_C1_filtered_feature_bc_matrix_uni', 'GSE216176_GSM6659417_C4_filtered_feature_bc_matrix_uni', 'GSE216176_GSM6659415_C2_filtered_feature_bc_matrix_uni', 'GSE216176_GSM6659426_S1_filtered_feature_bc_matrix_uni', 'GSE216176_GSM6659422_M3_filtered_feature_bc_matrix_uni', 'GSE216176_GSM6659429_S4_filtered_feature_bc_matrix_uni', 'GSE216176_GSM6659421_M2b_filtered_feature_bc_matrix_uni', 'GSE216176_GSM6659416_C3_filtered_feature_bc_matrix_uni', 'GSE216176_GSM6659419_M1_filtered_feature_bc_matrix_uni', 'GSE216176_GSM6659420_M2a_filtered_feature_bc_matrix_uni', 'GSE216176_GSM6659428_S3_filtered_feature_bc_matrix_uni', 'GSE216176_GSM6659427_S2_filtered_feature_bc_matrix_uni', 'GSE216176_GSM6659424_A1_filtered_feature_bc_matrix_uni', 'GSE216176_GSM6659418_C5_filtered_feature_bc_matrix_uni', 'GSE147766_GSM4445623_NB24.count.csv_uni', 'GSE147766_GSM4445608_NB01.count.csv_uni', 'GSE147766_GSM4445621_NB22.count.csv_uni', 'GSE147766_GSM6058205_NB34.count.csv_uni', 'GSE147766_GSM4445615_NB16.count.csv_uni', 'GSE147766_GSM4445624_NB26.count.csv_uni', 'GSE147766_GSM4445612_NB12.count.csv_uni', 'GSE147766_GSM4445616_NB17.count.csv_uni', 'GSE147766_GSM4445609_NB02.count.csv_uni', 'GSE147766_GSM4445622_NB23.count.csv_uni', 'GSE147766_GSM4445619_NB20.count.csv_uni', 'GSE147766_GSM4445620_NB21.count.csv_uni', 'GSE147766_GSM4445614_NB15.count.csv_uni', 'GSE147766_GSM4445617_NB18.count.csv_uni', 'GSE147766_GSM6058206_NB37.count.csv_uni', 'GSE147766_GSM4445611_NB11.count.csv_uni', 'GSE147766_GSM4445610_NB09.count.csv_uni', 'GSE147766_GSM4445613_NB13.count.csv_uni', 'GSE147766_GSM4445618_NB19.count.csv_uni', 'GSE192906_GSM5768752_GN1_uni', 'GSE192906_GSM5768748_GNB1_uni', 'GSE192906_GSM5768750_GNB3_uni', 'GSE192906_GSM5768744_NB2_uni', 'GSE192906_GSM5768746_NB4_uni', 'GSE192906_GSM5768745_NB3_uni', 'GSE192906_GSM5768743_NB1_uni', 'GSE192906_GSM5768747_NB5_uni', 'GSE192906_GSM5768751_GNB4_uni', 'GSE192906_GSM5768749_GNB2_uni', 'GSE168434_GSM5139854_RB02_rep1_counts_uni', 'GSE168434_GSM5139857_RB03_rep2_counts_uni', 'GSE168434_GSM5139861_RB07_counts_uni', 'GSE168434_GSM5139855_RB02_rep2_counts_uni', 'GSE168434_GSM5139852_RB01_rep1_counts_uni', 'GSE168434_GSM5139860_RB06_counts_uni', 'GSE168434_GSM5139858_RB04_counts_uni', 'GSE168434_GSM5139856_RB03_rep1_counts_uni', 'GSE168434_GSM5139853_RB01_rep2_counts_uni', 'GSE168434_GSM5139859_RB05_counts_uni', 'GSE249995_GSM7968798_in_RB2_uni', 'GSE249995_GSM7968797_in_RB1_uni', 'GSE249995_GSM7968799_ex_RB1_uni', 'GSE249995_GSM7968800_ex_RB2_uni', 'PRJNA737188_SRR14800535_uni', 'PRJNA737188_SRR14800536_uni', 'GSE223373_GSM6946668_WT-RBG-R_matrix_uni', 'GSE223373_GSM6946666_WT-RBG-L_matrix_uni', 'GSE223373_GSM6946667_WT-RBG-N_matrix_uni'])"
      ]
     },
     "execution_count": 12,
     "metadata": {},
     "output_type": "execute_result"
    }
   ],
   "source": [
    "adatas_filtered.keys()"
   ]
  },
  {
   "cell_type": "code",
   "execution_count": 13,
   "metadata": {},
   "outputs": [
    {
     "data": {
      "text/html": [
       "<pre style=\"white-space:pre;overflow-x:auto;line-height:normal;font-family:Menlo,'DejaVu Sans Mono',consolas,'Courier New',monospace\"><span style=\"font-weight: bold\">[[</span> <span style=\"color: #008080; text-decoration-color: #008080; font-weight: bold\">9999.999</span><span style=\"font-weight: bold\">]</span>\n",
       " <span style=\"font-weight: bold\">[</span><span style=\"color: #008080; text-decoration-color: #008080; font-weight: bold\">10000.001</span><span style=\"font-weight: bold\">]</span>\n",
       " <span style=\"font-weight: bold\">[</span> <span style=\"color: #008080; text-decoration-color: #008080; font-weight: bold\">9999.999</span><span style=\"font-weight: bold\">]</span>\n",
       " <span style=\"color: #808000; text-decoration-color: #808000\">...</span>\n",
       " <span style=\"font-weight: bold\">[</span><span style=\"color: #008080; text-decoration-color: #008080; font-weight: bold\">10000</span>.   <span style=\"font-weight: bold\">]</span>\n",
       " <span style=\"font-weight: bold\">[</span><span style=\"color: #008080; text-decoration-color: #008080; font-weight: bold\">10000</span>.   <span style=\"font-weight: bold\">]</span>\n",
       " <span style=\"font-weight: bold\">[</span> <span style=\"color: #008080; text-decoration-color: #008080; font-weight: bold\">9999.999</span><span style=\"font-weight: bold\">]]</span>\n",
       "</pre>\n"
      ],
      "text/plain": [
       "\u001b[1m[\u001b[0m\u001b[1m[\u001b[0m \u001b[1;36m9999.999\u001b[0m\u001b[1m]\u001b[0m\n",
       " \u001b[1m[\u001b[0m\u001b[1;36m10000.001\u001b[0m\u001b[1m]\u001b[0m\n",
       " \u001b[1m[\u001b[0m \u001b[1;36m9999.999\u001b[0m\u001b[1m]\u001b[0m\n",
       " \u001b[33m...\u001b[0m\n",
       " \u001b[1m[\u001b[0m\u001b[1;36m10000\u001b[0m.   \u001b[1m]\u001b[0m\n",
       " \u001b[1m[\u001b[0m\u001b[1;36m10000\u001b[0m.   \u001b[1m]\u001b[0m\n",
       " \u001b[1m[\u001b[0m \u001b[1;36m9999.999\u001b[0m\u001b[1m]\u001b[0m\u001b[1m]\u001b[0m\n"
      ]
     },
     "metadata": {},
     "output_type": "display_data"
    }
   ],
   "source": [
    "print(adatas_filtered['GSE235923_GSM7512002_Sample4D_uni'].X.expm1().sum(axis = 1))\n",
    "# print(adatas_filtered['GSE235063_GSM7494302_AML22_REM_processed_uni'].X.expm1().sum(axis = 1))"
   ]
  },
  {
   "cell_type": "code",
   "execution_count": 14,
   "metadata": {},
   "outputs": [
    {
     "data": {
      "text/html": [
       "<pre style=\"white-space:pre;overflow-x:auto;line-height:normal;font-family:Menlo,'DejaVu Sans Mono',consolas,'Courier New',monospace\">Total number of cells: <span style=\"color: #008080; text-decoration-color: #008080; font-weight: bold\">1300958</span>\n",
       "</pre>\n"
      ],
      "text/plain": [
       "Total number of cells: \u001b[1;36m1300958\u001b[0m\n"
      ]
     },
     "metadata": {},
     "output_type": "display_data"
    }
   ],
   "source": [
    "# Check the total number of cells after filtering\n",
    "total_cells = 0\n",
    "\n",
    "# Iterate through each AnnData object in the list\n",
    "for sample in adatas_filtered:\n",
    "    # Add the number of cells in the current AnnData object to the total\n",
    "    total_cells += adatas_filtered[sample].shape[0]  # 'shape[0]' gives the number of cells\n",
    "\n",
    "# Print the total number of cells\n",
    "print(\"Total number of cells:\", total_cells)"
   ]
  },
  {
   "cell_type": "markdown",
   "metadata": {},
   "source": [
    "We have 1,300,958 cells after filtering."
   ]
  },
  {
   "cell_type": "code",
   "execution_count": 15,
   "metadata": {},
   "outputs": [
    {
     "data": {
      "text/plain": [
       "AnnData object with n_obs × n_vars = 1300958 × 7662\n",
       "    obs: 'cancer_type', 'dataset', 'tissue', 'uni_barcode', 'disease_progression', 'sample_barcode', 'n_genes', 'n_genes_by_counts', 'total_counts', 'total_counts_mt', 'pct_counts_mt', 'gmm_pct_count_clusters_keep', 'filter_rna', 'cell_type_from_paper', 'malignant_from_paper', 'age_months', 'age', 'sex', 'recurrent', 'cancer_subtype', 'metastatic'\n",
       "    var: 'gene_ids', 'feature_types'\n",
       "    layers: 'counts'"
      ]
     },
     "execution_count": 15,
     "metadata": {},
     "output_type": "execute_result"
    }
   ],
   "source": [
    "# Concatenate all AnnData objects\n",
    "adatas_filtered_all = anndata.concat(adatas_filtered, join='outer')\n",
    "\n",
    "# Provide the gene_id info in .var\n",
    "columns_toadd = adatas_filtered['GSE235923_GSM7512002_Sample4D_uni'].var.columns.tolist()\n",
    "adatas_filtered_all.var[columns_toadd] = adatas_filtered['GSE235923_GSM7512002_Sample4D_uni'].var[columns_toadd]\n",
    "\n",
    "adatas_filtered_all"
   ]
  },
  {
   "cell_type": "markdown",
   "metadata": {},
   "source": [
    "The shape of `adatas_filtered_all` is `n_obs × n_vars = 1300958 × 7662`\n",
    "\n",
    "So we have 1,300,958 cells and 7,662 genes for leukemia."
   ]
  },
  {
   "cell_type": "code",
   "execution_count": 16,
   "metadata": {},
   "outputs": [
    {
     "data": {
      "text/html": [
       "<div>\n",
       "<style scoped>\n",
       "    .dataframe tbody tr th:only-of-type {\n",
       "        vertical-align: middle;\n",
       "    }\n",
       "\n",
       "    .dataframe tbody tr th {\n",
       "        vertical-align: top;\n",
       "    }\n",
       "\n",
       "    .dataframe thead th {\n",
       "        text-align: right;\n",
       "    }\n",
       "</style>\n",
       "<table border=\"1\" class=\"dataframe\">\n",
       "  <thead>\n",
       "    <tr style=\"text-align: right;\">\n",
       "      <th></th>\n",
       "      <th>cancer_type</th>\n",
       "      <th>dataset</th>\n",
       "      <th>tissue</th>\n",
       "      <th>uni_barcode</th>\n",
       "      <th>disease_progression</th>\n",
       "      <th>sample_barcode</th>\n",
       "      <th>n_genes</th>\n",
       "      <th>n_genes_by_counts</th>\n",
       "      <th>total_counts</th>\n",
       "      <th>total_counts_mt</th>\n",
       "      <th>...</th>\n",
       "      <th>gmm_pct_count_clusters_keep</th>\n",
       "      <th>filter_rna</th>\n",
       "      <th>cell_type_from_paper</th>\n",
       "      <th>malignant_from_paper</th>\n",
       "      <th>age_months</th>\n",
       "      <th>age</th>\n",
       "      <th>sex</th>\n",
       "      <th>recurrent</th>\n",
       "      <th>cancer_subtype</th>\n",
       "      <th>metastatic</th>\n",
       "    </tr>\n",
       "  </thead>\n",
       "  <tbody>\n",
       "    <tr>\n",
       "      <th>GSE235923_AAACCTGAGCTAGTGG-1_GSM7512002_Sample4D</th>\n",
       "      <td>acute_myeloid_leukemia</td>\n",
       "      <td>GSE235923</td>\n",
       "      <td>bone_marrow</td>\n",
       "      <td>GSE235923_AAACCTGAGCTAGTGG-1</td>\n",
       "      <td>diagnosis</td>\n",
       "      <td>GSM7512002_Sample4D</td>\n",
       "      <td>2376</td>\n",
       "      <td>2376</td>\n",
       "      <td>11016.0</td>\n",
       "      <td>943.0</td>\n",
       "      <td>...</td>\n",
       "      <td>True</td>\n",
       "      <td>False</td>\n",
       "      <td>NaN</td>\n",
       "      <td>NaN</td>\n",
       "      <td>NaN</td>\n",
       "      <td>NaN</td>\n",
       "      <td>NaN</td>\n",
       "      <td>NaN</td>\n",
       "      <td>NaN</td>\n",
       "      <td>NaN</td>\n",
       "    </tr>\n",
       "    <tr>\n",
       "      <th>GSE235923_AAACCTGAGGATGCGT-1_GSM7512002_Sample4D</th>\n",
       "      <td>acute_myeloid_leukemia</td>\n",
       "      <td>GSE235923</td>\n",
       "      <td>bone_marrow</td>\n",
       "      <td>GSE235923_AAACCTGAGGATGCGT-1</td>\n",
       "      <td>diagnosis</td>\n",
       "      <td>GSM7512002_Sample4D</td>\n",
       "      <td>3565</td>\n",
       "      <td>3565</td>\n",
       "      <td>21188.0</td>\n",
       "      <td>1127.0</td>\n",
       "      <td>...</td>\n",
       "      <td>True</td>\n",
       "      <td>False</td>\n",
       "      <td>NaN</td>\n",
       "      <td>NaN</td>\n",
       "      <td>NaN</td>\n",
       "      <td>NaN</td>\n",
       "      <td>NaN</td>\n",
       "      <td>NaN</td>\n",
       "      <td>NaN</td>\n",
       "      <td>NaN</td>\n",
       "    </tr>\n",
       "    <tr>\n",
       "      <th>GSE235923_AAACCTGAGGGTGTTG-1_GSM7512002_Sample4D</th>\n",
       "      <td>acute_myeloid_leukemia</td>\n",
       "      <td>GSE235923</td>\n",
       "      <td>bone_marrow</td>\n",
       "      <td>GSE235923_AAACCTGAGGGTGTTG-1</td>\n",
       "      <td>diagnosis</td>\n",
       "      <td>GSM7512002_Sample4D</td>\n",
       "      <td>2886</td>\n",
       "      <td>2886</td>\n",
       "      <td>11618.0</td>\n",
       "      <td>894.0</td>\n",
       "      <td>...</td>\n",
       "      <td>True</td>\n",
       "      <td>False</td>\n",
       "      <td>NaN</td>\n",
       "      <td>NaN</td>\n",
       "      <td>NaN</td>\n",
       "      <td>NaN</td>\n",
       "      <td>NaN</td>\n",
       "      <td>NaN</td>\n",
       "      <td>NaN</td>\n",
       "      <td>NaN</td>\n",
       "    </tr>\n",
       "    <tr>\n",
       "      <th>GSE235923_AAACCTGAGTTCGCGC-1_GSM7512002_Sample4D</th>\n",
       "      <td>acute_myeloid_leukemia</td>\n",
       "      <td>GSE235923</td>\n",
       "      <td>bone_marrow</td>\n",
       "      <td>GSE235923_AAACCTGAGTTCGCGC-1</td>\n",
       "      <td>diagnosis</td>\n",
       "      <td>GSM7512002_Sample4D</td>\n",
       "      <td>2986</td>\n",
       "      <td>2986</td>\n",
       "      <td>13508.0</td>\n",
       "      <td>661.0</td>\n",
       "      <td>...</td>\n",
       "      <td>True</td>\n",
       "      <td>False</td>\n",
       "      <td>NaN</td>\n",
       "      <td>NaN</td>\n",
       "      <td>NaN</td>\n",
       "      <td>NaN</td>\n",
       "      <td>NaN</td>\n",
       "      <td>NaN</td>\n",
       "      <td>NaN</td>\n",
       "      <td>NaN</td>\n",
       "    </tr>\n",
       "    <tr>\n",
       "      <th>GSE235923_AAACCTGCAATGAATG-1_GSM7512002_Sample4D</th>\n",
       "      <td>acute_myeloid_leukemia</td>\n",
       "      <td>GSE235923</td>\n",
       "      <td>bone_marrow</td>\n",
       "      <td>GSE235923_AAACCTGCAATGAATG-1</td>\n",
       "      <td>diagnosis</td>\n",
       "      <td>GSM7512002_Sample4D</td>\n",
       "      <td>2187</td>\n",
       "      <td>2187</td>\n",
       "      <td>9031.0</td>\n",
       "      <td>414.0</td>\n",
       "      <td>...</td>\n",
       "      <td>True</td>\n",
       "      <td>False</td>\n",
       "      <td>NaN</td>\n",
       "      <td>NaN</td>\n",
       "      <td>NaN</td>\n",
       "      <td>NaN</td>\n",
       "      <td>NaN</td>\n",
       "      <td>NaN</td>\n",
       "      <td>NaN</td>\n",
       "      <td>NaN</td>\n",
       "    </tr>\n",
       "    <tr>\n",
       "      <th>...</th>\n",
       "      <td>...</td>\n",
       "      <td>...</td>\n",
       "      <td>...</td>\n",
       "      <td>...</td>\n",
       "      <td>...</td>\n",
       "      <td>...</td>\n",
       "      <td>...</td>\n",
       "      <td>...</td>\n",
       "      <td>...</td>\n",
       "      <td>...</td>\n",
       "      <td>...</td>\n",
       "      <td>...</td>\n",
       "      <td>...</td>\n",
       "      <td>...</td>\n",
       "      <td>...</td>\n",
       "      <td>...</td>\n",
       "      <td>...</td>\n",
       "      <td>...</td>\n",
       "      <td>...</td>\n",
       "      <td>...</td>\n",
       "      <td>...</td>\n",
       "    </tr>\n",
       "    <tr>\n",
       "      <th>GSE223373_TTCACGCAGCGAGTAAACGTATCA_GSM6946667_WT-RBG-N_matrix</th>\n",
       "      <td>Nephroblastoma</td>\n",
       "      <td>GSE223373</td>\n",
       "      <td>Kidney</td>\n",
       "      <td>NaN</td>\n",
       "      <td>NaN</td>\n",
       "      <td>GSM6946667_WT-RBG-N_matrix</td>\n",
       "      <td>1976</td>\n",
       "      <td>1976</td>\n",
       "      <td>8004.0</td>\n",
       "      <td>3758.0</td>\n",
       "      <td>...</td>\n",
       "      <td>True</td>\n",
       "      <td>False</td>\n",
       "      <td>NaN</td>\n",
       "      <td>NaN</td>\n",
       "      <td>NaN</td>\n",
       "      <td>NaN</td>\n",
       "      <td>NaN</td>\n",
       "      <td>NaN</td>\n",
       "      <td>NaN</td>\n",
       "      <td>NaN</td>\n",
       "    </tr>\n",
       "    <tr>\n",
       "      <th>GSE223373_TTCACGCAGTCGTAGAAAGACGGA_GSM6946667_WT-RBG-N_matrix</th>\n",
       "      <td>Nephroblastoma</td>\n",
       "      <td>GSE223373</td>\n",
       "      <td>Kidney</td>\n",
       "      <td>NaN</td>\n",
       "      <td>NaN</td>\n",
       "      <td>GSM6946667_WT-RBG-N_matrix</td>\n",
       "      <td>2120</td>\n",
       "      <td>2120</td>\n",
       "      <td>16639.0</td>\n",
       "      <td>12168.0</td>\n",
       "      <td>...</td>\n",
       "      <td>True</td>\n",
       "      <td>False</td>\n",
       "      <td>NaN</td>\n",
       "      <td>NaN</td>\n",
       "      <td>NaN</td>\n",
       "      <td>NaN</td>\n",
       "      <td>NaN</td>\n",
       "      <td>NaN</td>\n",
       "      <td>NaN</td>\n",
       "      <td>NaN</td>\n",
       "    </tr>\n",
       "    <tr>\n",
       "      <th>GSE223373_TTCACGCAGTGTTCTAGTACGCAA_GSM6946667_WT-RBG-N_matrix</th>\n",
       "      <td>Nephroblastoma</td>\n",
       "      <td>GSE223373</td>\n",
       "      <td>Kidney</td>\n",
       "      <td>NaN</td>\n",
       "      <td>NaN</td>\n",
       "      <td>GSM6946667_WT-RBG-N_matrix</td>\n",
       "      <td>2009</td>\n",
       "      <td>2009</td>\n",
       "      <td>6494.0</td>\n",
       "      <td>2877.0</td>\n",
       "      <td>...</td>\n",
       "      <td>True</td>\n",
       "      <td>False</td>\n",
       "      <td>NaN</td>\n",
       "      <td>NaN</td>\n",
       "      <td>NaN</td>\n",
       "      <td>NaN</td>\n",
       "      <td>NaN</td>\n",
       "      <td>NaN</td>\n",
       "      <td>NaN</td>\n",
       "      <td>NaN</td>\n",
       "    </tr>\n",
       "    <tr>\n",
       "      <th>GSE223373_TTCACGCATAGGATGATCTTCACA_GSM6946667_WT-RBG-N_matrix</th>\n",
       "      <td>Nephroblastoma</td>\n",
       "      <td>GSE223373</td>\n",
       "      <td>Kidney</td>\n",
       "      <td>NaN</td>\n",
       "      <td>NaN</td>\n",
       "      <td>GSM6946667_WT-RBG-N_matrix</td>\n",
       "      <td>3274</td>\n",
       "      <td>3274</td>\n",
       "      <td>9095.0</td>\n",
       "      <td>433.0</td>\n",
       "      <td>...</td>\n",
       "      <td>True</td>\n",
       "      <td>False</td>\n",
       "      <td>NaN</td>\n",
       "      <td>NaN</td>\n",
       "      <td>NaN</td>\n",
       "      <td>NaN</td>\n",
       "      <td>NaN</td>\n",
       "      <td>NaN</td>\n",
       "      <td>NaN</td>\n",
       "      <td>NaN</td>\n",
       "    </tr>\n",
       "    <tr>\n",
       "      <th>GSE223373_TTCACGCATTCACGCACGAACTTA_GSM6946667_WT-RBG-N_matrix</th>\n",
       "      <td>Nephroblastoma</td>\n",
       "      <td>GSE223373</td>\n",
       "      <td>Kidney</td>\n",
       "      <td>NaN</td>\n",
       "      <td>NaN</td>\n",
       "      <td>GSM6946667_WT-RBG-N_matrix</td>\n",
       "      <td>3062</td>\n",
       "      <td>3062</td>\n",
       "      <td>8350.0</td>\n",
       "      <td>570.0</td>\n",
       "      <td>...</td>\n",
       "      <td>True</td>\n",
       "      <td>False</td>\n",
       "      <td>NaN</td>\n",
       "      <td>NaN</td>\n",
       "      <td>NaN</td>\n",
       "      <td>NaN</td>\n",
       "      <td>NaN</td>\n",
       "      <td>NaN</td>\n",
       "      <td>NaN</td>\n",
       "      <td>NaN</td>\n",
       "    </tr>\n",
       "  </tbody>\n",
       "</table>\n",
       "<p>1300958 rows × 21 columns</p>\n",
       "</div>"
      ],
      "text/plain": [
       "                                                               cancer_type  \\\n",
       "GSE235923_AAACCTGAGCTAGTGG-1_GSM7512002_Sample4D    acute_myeloid_leukemia   \n",
       "GSE235923_AAACCTGAGGATGCGT-1_GSM7512002_Sample4D    acute_myeloid_leukemia   \n",
       "GSE235923_AAACCTGAGGGTGTTG-1_GSM7512002_Sample4D    acute_myeloid_leukemia   \n",
       "GSE235923_AAACCTGAGTTCGCGC-1_GSM7512002_Sample4D    acute_myeloid_leukemia   \n",
       "GSE235923_AAACCTGCAATGAATG-1_GSM7512002_Sample4D    acute_myeloid_leukemia   \n",
       "...                                                                    ...   \n",
       "GSE223373_TTCACGCAGCGAGTAAACGTATCA_GSM6946667_W...          Nephroblastoma   \n",
       "GSE223373_TTCACGCAGTCGTAGAAAGACGGA_GSM6946667_W...          Nephroblastoma   \n",
       "GSE223373_TTCACGCAGTGTTCTAGTACGCAA_GSM6946667_W...          Nephroblastoma   \n",
       "GSE223373_TTCACGCATAGGATGATCTTCACA_GSM6946667_W...          Nephroblastoma   \n",
       "GSE223373_TTCACGCATTCACGCACGAACTTA_GSM6946667_W...          Nephroblastoma   \n",
       "\n",
       "                                                      dataset       tissue  \\\n",
       "GSE235923_AAACCTGAGCTAGTGG-1_GSM7512002_Sample4D    GSE235923  bone_marrow   \n",
       "GSE235923_AAACCTGAGGATGCGT-1_GSM7512002_Sample4D    GSE235923  bone_marrow   \n",
       "GSE235923_AAACCTGAGGGTGTTG-1_GSM7512002_Sample4D    GSE235923  bone_marrow   \n",
       "GSE235923_AAACCTGAGTTCGCGC-1_GSM7512002_Sample4D    GSE235923  bone_marrow   \n",
       "GSE235923_AAACCTGCAATGAATG-1_GSM7512002_Sample4D    GSE235923  bone_marrow   \n",
       "...                                                       ...          ...   \n",
       "GSE223373_TTCACGCAGCGAGTAAACGTATCA_GSM6946667_W...  GSE223373       Kidney   \n",
       "GSE223373_TTCACGCAGTCGTAGAAAGACGGA_GSM6946667_W...  GSE223373       Kidney   \n",
       "GSE223373_TTCACGCAGTGTTCTAGTACGCAA_GSM6946667_W...  GSE223373       Kidney   \n",
       "GSE223373_TTCACGCATAGGATGATCTTCACA_GSM6946667_W...  GSE223373       Kidney   \n",
       "GSE223373_TTCACGCATTCACGCACGAACTTA_GSM6946667_W...  GSE223373       Kidney   \n",
       "\n",
       "                                                                     uni_barcode  \\\n",
       "GSE235923_AAACCTGAGCTAGTGG-1_GSM7512002_Sample4D    GSE235923_AAACCTGAGCTAGTGG-1   \n",
       "GSE235923_AAACCTGAGGATGCGT-1_GSM7512002_Sample4D    GSE235923_AAACCTGAGGATGCGT-1   \n",
       "GSE235923_AAACCTGAGGGTGTTG-1_GSM7512002_Sample4D    GSE235923_AAACCTGAGGGTGTTG-1   \n",
       "GSE235923_AAACCTGAGTTCGCGC-1_GSM7512002_Sample4D    GSE235923_AAACCTGAGTTCGCGC-1   \n",
       "GSE235923_AAACCTGCAATGAATG-1_GSM7512002_Sample4D    GSE235923_AAACCTGCAATGAATG-1   \n",
       "...                                                                          ...   \n",
       "GSE223373_TTCACGCAGCGAGTAAACGTATCA_GSM6946667_W...                           NaN   \n",
       "GSE223373_TTCACGCAGTCGTAGAAAGACGGA_GSM6946667_W...                           NaN   \n",
       "GSE223373_TTCACGCAGTGTTCTAGTACGCAA_GSM6946667_W...                           NaN   \n",
       "GSE223373_TTCACGCATAGGATGATCTTCACA_GSM6946667_W...                           NaN   \n",
       "GSE223373_TTCACGCATTCACGCACGAACTTA_GSM6946667_W...                           NaN   \n",
       "\n",
       "                                                   disease_progression  \\\n",
       "GSE235923_AAACCTGAGCTAGTGG-1_GSM7512002_Sample4D             diagnosis   \n",
       "GSE235923_AAACCTGAGGATGCGT-1_GSM7512002_Sample4D             diagnosis   \n",
       "GSE235923_AAACCTGAGGGTGTTG-1_GSM7512002_Sample4D             diagnosis   \n",
       "GSE235923_AAACCTGAGTTCGCGC-1_GSM7512002_Sample4D             diagnosis   \n",
       "GSE235923_AAACCTGCAATGAATG-1_GSM7512002_Sample4D             diagnosis   \n",
       "...                                                                ...   \n",
       "GSE223373_TTCACGCAGCGAGTAAACGTATCA_GSM6946667_W...                 NaN   \n",
       "GSE223373_TTCACGCAGTCGTAGAAAGACGGA_GSM6946667_W...                 NaN   \n",
       "GSE223373_TTCACGCAGTGTTCTAGTACGCAA_GSM6946667_W...                 NaN   \n",
       "GSE223373_TTCACGCATAGGATGATCTTCACA_GSM6946667_W...                 NaN   \n",
       "GSE223373_TTCACGCATTCACGCACGAACTTA_GSM6946667_W...                 NaN   \n",
       "\n",
       "                                                                sample_barcode  \\\n",
       "GSE235923_AAACCTGAGCTAGTGG-1_GSM7512002_Sample4D           GSM7512002_Sample4D   \n",
       "GSE235923_AAACCTGAGGATGCGT-1_GSM7512002_Sample4D           GSM7512002_Sample4D   \n",
       "GSE235923_AAACCTGAGGGTGTTG-1_GSM7512002_Sample4D           GSM7512002_Sample4D   \n",
       "GSE235923_AAACCTGAGTTCGCGC-1_GSM7512002_Sample4D           GSM7512002_Sample4D   \n",
       "GSE235923_AAACCTGCAATGAATG-1_GSM7512002_Sample4D           GSM7512002_Sample4D   \n",
       "...                                                                        ...   \n",
       "GSE223373_TTCACGCAGCGAGTAAACGTATCA_GSM6946667_W...  GSM6946667_WT-RBG-N_matrix   \n",
       "GSE223373_TTCACGCAGTCGTAGAAAGACGGA_GSM6946667_W...  GSM6946667_WT-RBG-N_matrix   \n",
       "GSE223373_TTCACGCAGTGTTCTAGTACGCAA_GSM6946667_W...  GSM6946667_WT-RBG-N_matrix   \n",
       "GSE223373_TTCACGCATAGGATGATCTTCACA_GSM6946667_W...  GSM6946667_WT-RBG-N_matrix   \n",
       "GSE223373_TTCACGCATTCACGCACGAACTTA_GSM6946667_W...  GSM6946667_WT-RBG-N_matrix   \n",
       "\n",
       "                                                    n_genes  \\\n",
       "GSE235923_AAACCTGAGCTAGTGG-1_GSM7512002_Sample4D       2376   \n",
       "GSE235923_AAACCTGAGGATGCGT-1_GSM7512002_Sample4D       3565   \n",
       "GSE235923_AAACCTGAGGGTGTTG-1_GSM7512002_Sample4D       2886   \n",
       "GSE235923_AAACCTGAGTTCGCGC-1_GSM7512002_Sample4D       2986   \n",
       "GSE235923_AAACCTGCAATGAATG-1_GSM7512002_Sample4D       2187   \n",
       "...                                                     ...   \n",
       "GSE223373_TTCACGCAGCGAGTAAACGTATCA_GSM6946667_W...     1976   \n",
       "GSE223373_TTCACGCAGTCGTAGAAAGACGGA_GSM6946667_W...     2120   \n",
       "GSE223373_TTCACGCAGTGTTCTAGTACGCAA_GSM6946667_W...     2009   \n",
       "GSE223373_TTCACGCATAGGATGATCTTCACA_GSM6946667_W...     3274   \n",
       "GSE223373_TTCACGCATTCACGCACGAACTTA_GSM6946667_W...     3062   \n",
       "\n",
       "                                                    n_genes_by_counts  \\\n",
       "GSE235923_AAACCTGAGCTAGTGG-1_GSM7512002_Sample4D                 2376   \n",
       "GSE235923_AAACCTGAGGATGCGT-1_GSM7512002_Sample4D                 3565   \n",
       "GSE235923_AAACCTGAGGGTGTTG-1_GSM7512002_Sample4D                 2886   \n",
       "GSE235923_AAACCTGAGTTCGCGC-1_GSM7512002_Sample4D                 2986   \n",
       "GSE235923_AAACCTGCAATGAATG-1_GSM7512002_Sample4D                 2187   \n",
       "...                                                               ...   \n",
       "GSE223373_TTCACGCAGCGAGTAAACGTATCA_GSM6946667_W...               1976   \n",
       "GSE223373_TTCACGCAGTCGTAGAAAGACGGA_GSM6946667_W...               2120   \n",
       "GSE223373_TTCACGCAGTGTTCTAGTACGCAA_GSM6946667_W...               2009   \n",
       "GSE223373_TTCACGCATAGGATGATCTTCACA_GSM6946667_W...               3274   \n",
       "GSE223373_TTCACGCATTCACGCACGAACTTA_GSM6946667_W...               3062   \n",
       "\n",
       "                                                    total_counts  \\\n",
       "GSE235923_AAACCTGAGCTAGTGG-1_GSM7512002_Sample4D         11016.0   \n",
       "GSE235923_AAACCTGAGGATGCGT-1_GSM7512002_Sample4D         21188.0   \n",
       "GSE235923_AAACCTGAGGGTGTTG-1_GSM7512002_Sample4D         11618.0   \n",
       "GSE235923_AAACCTGAGTTCGCGC-1_GSM7512002_Sample4D         13508.0   \n",
       "GSE235923_AAACCTGCAATGAATG-1_GSM7512002_Sample4D          9031.0   \n",
       "...                                                          ...   \n",
       "GSE223373_TTCACGCAGCGAGTAAACGTATCA_GSM6946667_W...        8004.0   \n",
       "GSE223373_TTCACGCAGTCGTAGAAAGACGGA_GSM6946667_W...       16639.0   \n",
       "GSE223373_TTCACGCAGTGTTCTAGTACGCAA_GSM6946667_W...        6494.0   \n",
       "GSE223373_TTCACGCATAGGATGATCTTCACA_GSM6946667_W...        9095.0   \n",
       "GSE223373_TTCACGCATTCACGCACGAACTTA_GSM6946667_W...        8350.0   \n",
       "\n",
       "                                                    total_counts_mt  ...  \\\n",
       "GSE235923_AAACCTGAGCTAGTGG-1_GSM7512002_Sample4D              943.0  ...   \n",
       "GSE235923_AAACCTGAGGATGCGT-1_GSM7512002_Sample4D             1127.0  ...   \n",
       "GSE235923_AAACCTGAGGGTGTTG-1_GSM7512002_Sample4D              894.0  ...   \n",
       "GSE235923_AAACCTGAGTTCGCGC-1_GSM7512002_Sample4D              661.0  ...   \n",
       "GSE235923_AAACCTGCAATGAATG-1_GSM7512002_Sample4D              414.0  ...   \n",
       "...                                                             ...  ...   \n",
       "GSE223373_TTCACGCAGCGAGTAAACGTATCA_GSM6946667_W...           3758.0  ...   \n",
       "GSE223373_TTCACGCAGTCGTAGAAAGACGGA_GSM6946667_W...          12168.0  ...   \n",
       "GSE223373_TTCACGCAGTGTTCTAGTACGCAA_GSM6946667_W...           2877.0  ...   \n",
       "GSE223373_TTCACGCATAGGATGATCTTCACA_GSM6946667_W...            433.0  ...   \n",
       "GSE223373_TTCACGCATTCACGCACGAACTTA_GSM6946667_W...            570.0  ...   \n",
       "\n",
       "                                                    gmm_pct_count_clusters_keep  \\\n",
       "GSE235923_AAACCTGAGCTAGTGG-1_GSM7512002_Sample4D                           True   \n",
       "GSE235923_AAACCTGAGGATGCGT-1_GSM7512002_Sample4D                           True   \n",
       "GSE235923_AAACCTGAGGGTGTTG-1_GSM7512002_Sample4D                           True   \n",
       "GSE235923_AAACCTGAGTTCGCGC-1_GSM7512002_Sample4D                           True   \n",
       "GSE235923_AAACCTGCAATGAATG-1_GSM7512002_Sample4D                           True   \n",
       "...                                                                         ...   \n",
       "GSE223373_TTCACGCAGCGAGTAAACGTATCA_GSM6946667_W...                         True   \n",
       "GSE223373_TTCACGCAGTCGTAGAAAGACGGA_GSM6946667_W...                         True   \n",
       "GSE223373_TTCACGCAGTGTTCTAGTACGCAA_GSM6946667_W...                         True   \n",
       "GSE223373_TTCACGCATAGGATGATCTTCACA_GSM6946667_W...                         True   \n",
       "GSE223373_TTCACGCATTCACGCACGAACTTA_GSM6946667_W...                         True   \n",
       "\n",
       "                                                    filter_rna  \\\n",
       "GSE235923_AAACCTGAGCTAGTGG-1_GSM7512002_Sample4D         False   \n",
       "GSE235923_AAACCTGAGGATGCGT-1_GSM7512002_Sample4D         False   \n",
       "GSE235923_AAACCTGAGGGTGTTG-1_GSM7512002_Sample4D         False   \n",
       "GSE235923_AAACCTGAGTTCGCGC-1_GSM7512002_Sample4D         False   \n",
       "GSE235923_AAACCTGCAATGAATG-1_GSM7512002_Sample4D         False   \n",
       "...                                                        ...   \n",
       "GSE223373_TTCACGCAGCGAGTAAACGTATCA_GSM6946667_W...       False   \n",
       "GSE223373_TTCACGCAGTCGTAGAAAGACGGA_GSM6946667_W...       False   \n",
       "GSE223373_TTCACGCAGTGTTCTAGTACGCAA_GSM6946667_W...       False   \n",
       "GSE223373_TTCACGCATAGGATGATCTTCACA_GSM6946667_W...       False   \n",
       "GSE223373_TTCACGCATTCACGCACGAACTTA_GSM6946667_W...       False   \n",
       "\n",
       "                                                   cell_type_from_paper  \\\n",
       "GSE235923_AAACCTGAGCTAGTGG-1_GSM7512002_Sample4D                    NaN   \n",
       "GSE235923_AAACCTGAGGATGCGT-1_GSM7512002_Sample4D                    NaN   \n",
       "GSE235923_AAACCTGAGGGTGTTG-1_GSM7512002_Sample4D                    NaN   \n",
       "GSE235923_AAACCTGAGTTCGCGC-1_GSM7512002_Sample4D                    NaN   \n",
       "GSE235923_AAACCTGCAATGAATG-1_GSM7512002_Sample4D                    NaN   \n",
       "...                                                                 ...   \n",
       "GSE223373_TTCACGCAGCGAGTAAACGTATCA_GSM6946667_W...                  NaN   \n",
       "GSE223373_TTCACGCAGTCGTAGAAAGACGGA_GSM6946667_W...                  NaN   \n",
       "GSE223373_TTCACGCAGTGTTCTAGTACGCAA_GSM6946667_W...                  NaN   \n",
       "GSE223373_TTCACGCATAGGATGATCTTCACA_GSM6946667_W...                  NaN   \n",
       "GSE223373_TTCACGCATTCACGCACGAACTTA_GSM6946667_W...                  NaN   \n",
       "\n",
       "                                                   malignant_from_paper  \\\n",
       "GSE235923_AAACCTGAGCTAGTGG-1_GSM7512002_Sample4D                    NaN   \n",
       "GSE235923_AAACCTGAGGATGCGT-1_GSM7512002_Sample4D                    NaN   \n",
       "GSE235923_AAACCTGAGGGTGTTG-1_GSM7512002_Sample4D                    NaN   \n",
       "GSE235923_AAACCTGAGTTCGCGC-1_GSM7512002_Sample4D                    NaN   \n",
       "GSE235923_AAACCTGCAATGAATG-1_GSM7512002_Sample4D                    NaN   \n",
       "...                                                                 ...   \n",
       "GSE223373_TTCACGCAGCGAGTAAACGTATCA_GSM6946667_W...                  NaN   \n",
       "GSE223373_TTCACGCAGTCGTAGAAAGACGGA_GSM6946667_W...                  NaN   \n",
       "GSE223373_TTCACGCAGTGTTCTAGTACGCAA_GSM6946667_W...                  NaN   \n",
       "GSE223373_TTCACGCATAGGATGATCTTCACA_GSM6946667_W...                  NaN   \n",
       "GSE223373_TTCACGCATTCACGCACGAACTTA_GSM6946667_W...                  NaN   \n",
       "\n",
       "                                                   age_months  age  sex  \\\n",
       "GSE235923_AAACCTGAGCTAGTGG-1_GSM7512002_Sample4D          NaN  NaN  NaN   \n",
       "GSE235923_AAACCTGAGGATGCGT-1_GSM7512002_Sample4D          NaN  NaN  NaN   \n",
       "GSE235923_AAACCTGAGGGTGTTG-1_GSM7512002_Sample4D          NaN  NaN  NaN   \n",
       "GSE235923_AAACCTGAGTTCGCGC-1_GSM7512002_Sample4D          NaN  NaN  NaN   \n",
       "GSE235923_AAACCTGCAATGAATG-1_GSM7512002_Sample4D          NaN  NaN  NaN   \n",
       "...                                                       ...  ...  ...   \n",
       "GSE223373_TTCACGCAGCGAGTAAACGTATCA_GSM6946667_W...        NaN  NaN  NaN   \n",
       "GSE223373_TTCACGCAGTCGTAGAAAGACGGA_GSM6946667_W...        NaN  NaN  NaN   \n",
       "GSE223373_TTCACGCAGTGTTCTAGTACGCAA_GSM6946667_W...        NaN  NaN  NaN   \n",
       "GSE223373_TTCACGCATAGGATGATCTTCACA_GSM6946667_W...        NaN  NaN  NaN   \n",
       "GSE223373_TTCACGCATTCACGCACGAACTTA_GSM6946667_W...        NaN  NaN  NaN   \n",
       "\n",
       "                                                   recurrent cancer_subtype  \\\n",
       "GSE235923_AAACCTGAGCTAGTGG-1_GSM7512002_Sample4D         NaN            NaN   \n",
       "GSE235923_AAACCTGAGGATGCGT-1_GSM7512002_Sample4D         NaN            NaN   \n",
       "GSE235923_AAACCTGAGGGTGTTG-1_GSM7512002_Sample4D         NaN            NaN   \n",
       "GSE235923_AAACCTGAGTTCGCGC-1_GSM7512002_Sample4D         NaN            NaN   \n",
       "GSE235923_AAACCTGCAATGAATG-1_GSM7512002_Sample4D         NaN            NaN   \n",
       "...                                                      ...            ...   \n",
       "GSE223373_TTCACGCAGCGAGTAAACGTATCA_GSM6946667_W...       NaN            NaN   \n",
       "GSE223373_TTCACGCAGTCGTAGAAAGACGGA_GSM6946667_W...       NaN            NaN   \n",
       "GSE223373_TTCACGCAGTGTTCTAGTACGCAA_GSM6946667_W...       NaN            NaN   \n",
       "GSE223373_TTCACGCATAGGATGATCTTCACA_GSM6946667_W...       NaN            NaN   \n",
       "GSE223373_TTCACGCATTCACGCACGAACTTA_GSM6946667_W...       NaN            NaN   \n",
       "\n",
       "                                                   metastatic  \n",
       "GSE235923_AAACCTGAGCTAGTGG-1_GSM7512002_Sample4D          NaN  \n",
       "GSE235923_AAACCTGAGGATGCGT-1_GSM7512002_Sample4D          NaN  \n",
       "GSE235923_AAACCTGAGGGTGTTG-1_GSM7512002_Sample4D          NaN  \n",
       "GSE235923_AAACCTGAGTTCGCGC-1_GSM7512002_Sample4D          NaN  \n",
       "GSE235923_AAACCTGCAATGAATG-1_GSM7512002_Sample4D          NaN  \n",
       "...                                                       ...  \n",
       "GSE223373_TTCACGCAGCGAGTAAACGTATCA_GSM6946667_W...        NaN  \n",
       "GSE223373_TTCACGCAGTCGTAGAAAGACGGA_GSM6946667_W...        NaN  \n",
       "GSE223373_TTCACGCAGTGTTCTAGTACGCAA_GSM6946667_W...        NaN  \n",
       "GSE223373_TTCACGCATAGGATGATCTTCACA_GSM6946667_W...        NaN  \n",
       "GSE223373_TTCACGCATTCACGCACGAACTTA_GSM6946667_W...        NaN  \n",
       "\n",
       "[1300958 rows x 21 columns]"
      ]
     },
     "execution_count": 16,
     "metadata": {},
     "output_type": "execute_result"
    }
   ],
   "source": [
    "adatas_filtered_all.obs"
   ]
  },
  {
   "cell_type": "code",
   "execution_count": 17,
   "metadata": {},
   "outputs": [
    {
     "data": {
      "text/plain": [
       "488"
      ]
     },
     "execution_count": 17,
     "metadata": {},
     "output_type": "execute_result"
    }
   ],
   "source": [
    "len(adatas_filtered_all.obs['sample_barcode'].unique())"
   ]
  },
  {
   "cell_type": "markdown",
   "metadata": {},
   "source": [
    "We have 491 - 488 = 3 samples not pass the filtering."
   ]
  },
  {
   "cell_type": "code",
   "execution_count": 18,
   "metadata": {},
   "outputs": [
    {
     "data": {
      "text/html": [
       "<div>\n",
       "<style scoped>\n",
       "    .dataframe tbody tr th:only-of-type {\n",
       "        vertical-align: middle;\n",
       "    }\n",
       "\n",
       "    .dataframe tbody tr th {\n",
       "        vertical-align: top;\n",
       "    }\n",
       "\n",
       "    .dataframe thead th {\n",
       "        text-align: right;\n",
       "    }\n",
       "</style>\n",
       "<table border=\"1\" class=\"dataframe\">\n",
       "  <thead>\n",
       "    <tr style=\"text-align: right;\">\n",
       "      <th></th>\n",
       "      <th>gene_ids</th>\n",
       "      <th>feature_types</th>\n",
       "    </tr>\n",
       "  </thead>\n",
       "  <tbody>\n",
       "    <tr>\n",
       "      <th>LGALS9</th>\n",
       "      <td>ENSG00000168961</td>\n",
       "      <td>Gene Expression</td>\n",
       "    </tr>\n",
       "    <tr>\n",
       "      <th>SSBP2</th>\n",
       "      <td>ENSG00000145687</td>\n",
       "      <td>Gene Expression</td>\n",
       "    </tr>\n",
       "    <tr>\n",
       "      <th>PPP3CC</th>\n",
       "      <td>ENSG00000120910</td>\n",
       "      <td>Gene Expression</td>\n",
       "    </tr>\n",
       "    <tr>\n",
       "      <th>AUP1</th>\n",
       "      <td>ENSG00000115307</td>\n",
       "      <td>Gene Expression</td>\n",
       "    </tr>\n",
       "    <tr>\n",
       "      <th>TOM1</th>\n",
       "      <td>ENSG00000100284</td>\n",
       "      <td>Gene Expression</td>\n",
       "    </tr>\n",
       "    <tr>\n",
       "      <th>...</th>\n",
       "      <td>...</td>\n",
       "      <td>...</td>\n",
       "    </tr>\n",
       "    <tr>\n",
       "      <th>MKKS</th>\n",
       "      <td>ENSG00000125863</td>\n",
       "      <td>Gene Expression</td>\n",
       "    </tr>\n",
       "    <tr>\n",
       "      <th>C1orf52</th>\n",
       "      <td>ENSG00000162642</td>\n",
       "      <td>Gene Expression</td>\n",
       "    </tr>\n",
       "    <tr>\n",
       "      <th>MED13</th>\n",
       "      <td>ENSG00000108510</td>\n",
       "      <td>Gene Expression</td>\n",
       "    </tr>\n",
       "    <tr>\n",
       "      <th>ABCA2</th>\n",
       "      <td>ENSG00000107331</td>\n",
       "      <td>Gene Expression</td>\n",
       "    </tr>\n",
       "    <tr>\n",
       "      <th>ZNHIT1</th>\n",
       "      <td>ENSG00000106400</td>\n",
       "      <td>Gene Expression</td>\n",
       "    </tr>\n",
       "  </tbody>\n",
       "</table>\n",
       "<p>7662 rows × 2 columns</p>\n",
       "</div>"
      ],
      "text/plain": [
       "                gene_ids    feature_types\n",
       "LGALS9   ENSG00000168961  Gene Expression\n",
       "SSBP2    ENSG00000145687  Gene Expression\n",
       "PPP3CC   ENSG00000120910  Gene Expression\n",
       "AUP1     ENSG00000115307  Gene Expression\n",
       "TOM1     ENSG00000100284  Gene Expression\n",
       "...                  ...              ...\n",
       "MKKS     ENSG00000125863  Gene Expression\n",
       "C1orf52  ENSG00000162642  Gene Expression\n",
       "MED13    ENSG00000108510  Gene Expression\n",
       "ABCA2    ENSG00000107331  Gene Expression\n",
       "ZNHIT1   ENSG00000106400  Gene Expression\n",
       "\n",
       "[7662 rows x 2 columns]"
      ]
     },
     "execution_count": 18,
     "metadata": {},
     "output_type": "execute_result"
    }
   ],
   "source": [
    "adatas_filtered_all.var"
   ]
  },
  {
   "cell_type": "code",
   "execution_count": 20,
   "metadata": {},
   "outputs": [],
   "source": [
    "adatas_filtered_all.obs['age'] = adatas_filtered_all.obs['age'].astype(str)"
   ]
  },
  {
   "cell_type": "code",
   "execution_count": 21,
   "metadata": {},
   "outputs": [],
   "source": [
    "# Save the concatenated adatas_filtered_all object\n",
    "adatas_filtered_all.write_h5ad('/scratch/user/s4543064/Xiaohan_Summer_Research/write/08_all_cancer/all_cancer_meta_anndata.h5ad', compression='gzip')"
   ]
  },
  {
   "cell_type": "code",
   "execution_count": 3,
   "metadata": {},
   "outputs": [
    {
     "data": {
      "text/plain": [
       "AnnData object with n_obs × n_vars = 1300958 × 7662\n",
       "    obs: 'cancer_type', 'dataset', 'tissue', 'uni_barcode', 'disease_progression', 'sample_barcode', 'n_genes', 'n_genes_by_counts', 'total_counts', 'total_counts_mt', 'pct_counts_mt', 'gmm_pct_count_clusters_keep', 'filter_rna', 'cell_type_from_paper', 'malignant_from_paper', 'age_months', 'age', 'sex', 'recurrent', 'cancer_subtype', 'metastatic'\n",
       "    var: 'gene_ids', 'feature_types'\n",
       "    layers: 'counts'"
      ]
     },
     "execution_count": 3,
     "metadata": {},
     "output_type": "execute_result"
    }
   ],
   "source": [
    "# Load the concatenated adatas_filtered_all object\n",
    "adatas_filtered_all = sc.read_h5ad('/scratch/user/s4543064/Xiaohan_Summer_Research/write/08_all_cancer/all_cancer_meta_anndata.h5ad')\n",
    "adatas_filtered_all"
   ]
  },
  {
   "cell_type": "code",
   "execution_count": 4,
   "metadata": {},
   "outputs": [
    {
     "data": {
      "text/plain": [
       "matrix([[ 9999.99934143],\n",
       "        [10000.00051373],\n",
       "        [ 9999.99982159],\n",
       "        ...,\n",
       "        [10000.00001831],\n",
       "        [ 9999.99974831],\n",
       "        [10000.00053825]])"
      ]
     },
     "execution_count": 4,
     "metadata": {},
     "output_type": "execute_result"
    }
   ],
   "source": [
    "adatas_filtered_all.X.expm1().sum(axis = 1)"
   ]
  },
  {
   "cell_type": "code",
   "execution_count": 5,
   "metadata": {},
   "outputs": [
    {
     "data": {
      "text/html": [
       "<div>\n",
       "<style scoped>\n",
       "    .dataframe tbody tr th:only-of-type {\n",
       "        vertical-align: middle;\n",
       "    }\n",
       "\n",
       "    .dataframe tbody tr th {\n",
       "        vertical-align: top;\n",
       "    }\n",
       "\n",
       "    .dataframe thead th {\n",
       "        text-align: right;\n",
       "    }\n",
       "</style>\n",
       "<table border=\"1\" class=\"dataframe\">\n",
       "  <thead>\n",
       "    <tr style=\"text-align: right;\">\n",
       "      <th></th>\n",
       "      <th>gene_ids</th>\n",
       "      <th>feature_types</th>\n",
       "    </tr>\n",
       "  </thead>\n",
       "  <tbody>\n",
       "    <tr>\n",
       "      <th>LGALS9</th>\n",
       "      <td>ENSG00000168961</td>\n",
       "      <td>Gene Expression</td>\n",
       "    </tr>\n",
       "    <tr>\n",
       "      <th>SSBP2</th>\n",
       "      <td>ENSG00000145687</td>\n",
       "      <td>Gene Expression</td>\n",
       "    </tr>\n",
       "    <tr>\n",
       "      <th>PPP3CC</th>\n",
       "      <td>ENSG00000120910</td>\n",
       "      <td>Gene Expression</td>\n",
       "    </tr>\n",
       "    <tr>\n",
       "      <th>AUP1</th>\n",
       "      <td>ENSG00000115307</td>\n",
       "      <td>Gene Expression</td>\n",
       "    </tr>\n",
       "    <tr>\n",
       "      <th>TOM1</th>\n",
       "      <td>ENSG00000100284</td>\n",
       "      <td>Gene Expression</td>\n",
       "    </tr>\n",
       "    <tr>\n",
       "      <th>...</th>\n",
       "      <td>...</td>\n",
       "      <td>...</td>\n",
       "    </tr>\n",
       "    <tr>\n",
       "      <th>MKKS</th>\n",
       "      <td>ENSG00000125863</td>\n",
       "      <td>Gene Expression</td>\n",
       "    </tr>\n",
       "    <tr>\n",
       "      <th>C1orf52</th>\n",
       "      <td>ENSG00000162642</td>\n",
       "      <td>Gene Expression</td>\n",
       "    </tr>\n",
       "    <tr>\n",
       "      <th>MED13</th>\n",
       "      <td>ENSG00000108510</td>\n",
       "      <td>Gene Expression</td>\n",
       "    </tr>\n",
       "    <tr>\n",
       "      <th>ABCA2</th>\n",
       "      <td>ENSG00000107331</td>\n",
       "      <td>Gene Expression</td>\n",
       "    </tr>\n",
       "    <tr>\n",
       "      <th>ZNHIT1</th>\n",
       "      <td>ENSG00000106400</td>\n",
       "      <td>Gene Expression</td>\n",
       "    </tr>\n",
       "  </tbody>\n",
       "</table>\n",
       "<p>7662 rows × 2 columns</p>\n",
       "</div>"
      ],
      "text/plain": [
       "                gene_ids    feature_types\n",
       "LGALS9   ENSG00000168961  Gene Expression\n",
       "SSBP2    ENSG00000145687  Gene Expression\n",
       "PPP3CC   ENSG00000120910  Gene Expression\n",
       "AUP1     ENSG00000115307  Gene Expression\n",
       "TOM1     ENSG00000100284  Gene Expression\n",
       "...                  ...              ...\n",
       "MKKS     ENSG00000125863  Gene Expression\n",
       "C1orf52  ENSG00000162642  Gene Expression\n",
       "MED13    ENSG00000108510  Gene Expression\n",
       "ABCA2    ENSG00000107331  Gene Expression\n",
       "ZNHIT1   ENSG00000106400  Gene Expression\n",
       "\n",
       "[7662 rows x 2 columns]"
      ]
     },
     "execution_count": 5,
     "metadata": {},
     "output_type": "execute_result"
    }
   ],
   "source": [
    "adatas_filtered_all.var"
   ]
  },
  {
   "cell_type": "code",
   "execution_count": 6,
   "metadata": {},
   "outputs": [
    {
     "data": {
      "text/html": [
       "<div>\n",
       "<style scoped>\n",
       "    .dataframe tbody tr th:only-of-type {\n",
       "        vertical-align: middle;\n",
       "    }\n",
       "\n",
       "    .dataframe tbody tr th {\n",
       "        vertical-align: top;\n",
       "    }\n",
       "\n",
       "    .dataframe thead th {\n",
       "        text-align: right;\n",
       "    }\n",
       "</style>\n",
       "<table border=\"1\" class=\"dataframe\">\n",
       "  <thead>\n",
       "    <tr style=\"text-align: right;\">\n",
       "      <th></th>\n",
       "      <th>cancer_type</th>\n",
       "      <th>dataset</th>\n",
       "      <th>tissue</th>\n",
       "      <th>uni_barcode</th>\n",
       "      <th>disease_progression</th>\n",
       "      <th>sample_barcode</th>\n",
       "      <th>n_genes</th>\n",
       "      <th>n_genes_by_counts</th>\n",
       "      <th>total_counts</th>\n",
       "      <th>total_counts_mt</th>\n",
       "      <th>...</th>\n",
       "      <th>gmm_pct_count_clusters_keep</th>\n",
       "      <th>filter_rna</th>\n",
       "      <th>cell_type_from_paper</th>\n",
       "      <th>malignant_from_paper</th>\n",
       "      <th>age_months</th>\n",
       "      <th>age</th>\n",
       "      <th>sex</th>\n",
       "      <th>recurrent</th>\n",
       "      <th>cancer_subtype</th>\n",
       "      <th>metastatic</th>\n",
       "    </tr>\n",
       "  </thead>\n",
       "  <tbody>\n",
       "    <tr>\n",
       "      <th>GSE235923_AAACCTGAGCTAGTGG-1_GSM7512002_Sample4D</th>\n",
       "      <td>acute_myeloid_leukemia</td>\n",
       "      <td>GSE235923</td>\n",
       "      <td>bone_marrow</td>\n",
       "      <td>GSE235923_AAACCTGAGCTAGTGG-1</td>\n",
       "      <td>diagnosis</td>\n",
       "      <td>GSM7512002_Sample4D</td>\n",
       "      <td>2376</td>\n",
       "      <td>2376</td>\n",
       "      <td>11016.0</td>\n",
       "      <td>943.0</td>\n",
       "      <td>...</td>\n",
       "      <td>True</td>\n",
       "      <td>False</td>\n",
       "      <td>NaN</td>\n",
       "      <td>NaN</td>\n",
       "      <td>NaN</td>\n",
       "      <td>nan</td>\n",
       "      <td>NaN</td>\n",
       "      <td>NaN</td>\n",
       "      <td>NaN</td>\n",
       "      <td>NaN</td>\n",
       "    </tr>\n",
       "    <tr>\n",
       "      <th>GSE235923_AAACCTGAGGATGCGT-1_GSM7512002_Sample4D</th>\n",
       "      <td>acute_myeloid_leukemia</td>\n",
       "      <td>GSE235923</td>\n",
       "      <td>bone_marrow</td>\n",
       "      <td>GSE235923_AAACCTGAGGATGCGT-1</td>\n",
       "      <td>diagnosis</td>\n",
       "      <td>GSM7512002_Sample4D</td>\n",
       "      <td>3565</td>\n",
       "      <td>3565</td>\n",
       "      <td>21188.0</td>\n",
       "      <td>1127.0</td>\n",
       "      <td>...</td>\n",
       "      <td>True</td>\n",
       "      <td>False</td>\n",
       "      <td>NaN</td>\n",
       "      <td>NaN</td>\n",
       "      <td>NaN</td>\n",
       "      <td>nan</td>\n",
       "      <td>NaN</td>\n",
       "      <td>NaN</td>\n",
       "      <td>NaN</td>\n",
       "      <td>NaN</td>\n",
       "    </tr>\n",
       "    <tr>\n",
       "      <th>GSE235923_AAACCTGAGGGTGTTG-1_GSM7512002_Sample4D</th>\n",
       "      <td>acute_myeloid_leukemia</td>\n",
       "      <td>GSE235923</td>\n",
       "      <td>bone_marrow</td>\n",
       "      <td>GSE235923_AAACCTGAGGGTGTTG-1</td>\n",
       "      <td>diagnosis</td>\n",
       "      <td>GSM7512002_Sample4D</td>\n",
       "      <td>2886</td>\n",
       "      <td>2886</td>\n",
       "      <td>11618.0</td>\n",
       "      <td>894.0</td>\n",
       "      <td>...</td>\n",
       "      <td>True</td>\n",
       "      <td>False</td>\n",
       "      <td>NaN</td>\n",
       "      <td>NaN</td>\n",
       "      <td>NaN</td>\n",
       "      <td>nan</td>\n",
       "      <td>NaN</td>\n",
       "      <td>NaN</td>\n",
       "      <td>NaN</td>\n",
       "      <td>NaN</td>\n",
       "    </tr>\n",
       "    <tr>\n",
       "      <th>GSE235923_AAACCTGAGTTCGCGC-1_GSM7512002_Sample4D</th>\n",
       "      <td>acute_myeloid_leukemia</td>\n",
       "      <td>GSE235923</td>\n",
       "      <td>bone_marrow</td>\n",
       "      <td>GSE235923_AAACCTGAGTTCGCGC-1</td>\n",
       "      <td>diagnosis</td>\n",
       "      <td>GSM7512002_Sample4D</td>\n",
       "      <td>2986</td>\n",
       "      <td>2986</td>\n",
       "      <td>13508.0</td>\n",
       "      <td>661.0</td>\n",
       "      <td>...</td>\n",
       "      <td>True</td>\n",
       "      <td>False</td>\n",
       "      <td>NaN</td>\n",
       "      <td>NaN</td>\n",
       "      <td>NaN</td>\n",
       "      <td>nan</td>\n",
       "      <td>NaN</td>\n",
       "      <td>NaN</td>\n",
       "      <td>NaN</td>\n",
       "      <td>NaN</td>\n",
       "    </tr>\n",
       "    <tr>\n",
       "      <th>GSE235923_AAACCTGCAATGAATG-1_GSM7512002_Sample4D</th>\n",
       "      <td>acute_myeloid_leukemia</td>\n",
       "      <td>GSE235923</td>\n",
       "      <td>bone_marrow</td>\n",
       "      <td>GSE235923_AAACCTGCAATGAATG-1</td>\n",
       "      <td>diagnosis</td>\n",
       "      <td>GSM7512002_Sample4D</td>\n",
       "      <td>2187</td>\n",
       "      <td>2187</td>\n",
       "      <td>9031.0</td>\n",
       "      <td>414.0</td>\n",
       "      <td>...</td>\n",
       "      <td>True</td>\n",
       "      <td>False</td>\n",
       "      <td>NaN</td>\n",
       "      <td>NaN</td>\n",
       "      <td>NaN</td>\n",
       "      <td>nan</td>\n",
       "      <td>NaN</td>\n",
       "      <td>NaN</td>\n",
       "      <td>NaN</td>\n",
       "      <td>NaN</td>\n",
       "    </tr>\n",
       "    <tr>\n",
       "      <th>...</th>\n",
       "      <td>...</td>\n",
       "      <td>...</td>\n",
       "      <td>...</td>\n",
       "      <td>...</td>\n",
       "      <td>...</td>\n",
       "      <td>...</td>\n",
       "      <td>...</td>\n",
       "      <td>...</td>\n",
       "      <td>...</td>\n",
       "      <td>...</td>\n",
       "      <td>...</td>\n",
       "      <td>...</td>\n",
       "      <td>...</td>\n",
       "      <td>...</td>\n",
       "      <td>...</td>\n",
       "      <td>...</td>\n",
       "      <td>...</td>\n",
       "      <td>...</td>\n",
       "      <td>...</td>\n",
       "      <td>...</td>\n",
       "      <td>...</td>\n",
       "    </tr>\n",
       "    <tr>\n",
       "      <th>GSE223373_TTCACGCAGCGAGTAAACGTATCA_GSM6946667_WT-RBG-N_matrix</th>\n",
       "      <td>Nephroblastoma</td>\n",
       "      <td>GSE223373</td>\n",
       "      <td>Kidney</td>\n",
       "      <td>NaN</td>\n",
       "      <td>NaN</td>\n",
       "      <td>GSM6946667_WT-RBG-N_matrix</td>\n",
       "      <td>1976</td>\n",
       "      <td>1976</td>\n",
       "      <td>8004.0</td>\n",
       "      <td>3758.0</td>\n",
       "      <td>...</td>\n",
       "      <td>True</td>\n",
       "      <td>False</td>\n",
       "      <td>NaN</td>\n",
       "      <td>NaN</td>\n",
       "      <td>NaN</td>\n",
       "      <td>nan</td>\n",
       "      <td>NaN</td>\n",
       "      <td>NaN</td>\n",
       "      <td>NaN</td>\n",
       "      <td>NaN</td>\n",
       "    </tr>\n",
       "    <tr>\n",
       "      <th>GSE223373_TTCACGCAGTCGTAGAAAGACGGA_GSM6946667_WT-RBG-N_matrix</th>\n",
       "      <td>Nephroblastoma</td>\n",
       "      <td>GSE223373</td>\n",
       "      <td>Kidney</td>\n",
       "      <td>NaN</td>\n",
       "      <td>NaN</td>\n",
       "      <td>GSM6946667_WT-RBG-N_matrix</td>\n",
       "      <td>2120</td>\n",
       "      <td>2120</td>\n",
       "      <td>16639.0</td>\n",
       "      <td>12168.0</td>\n",
       "      <td>...</td>\n",
       "      <td>True</td>\n",
       "      <td>False</td>\n",
       "      <td>NaN</td>\n",
       "      <td>NaN</td>\n",
       "      <td>NaN</td>\n",
       "      <td>nan</td>\n",
       "      <td>NaN</td>\n",
       "      <td>NaN</td>\n",
       "      <td>NaN</td>\n",
       "      <td>NaN</td>\n",
       "    </tr>\n",
       "    <tr>\n",
       "      <th>GSE223373_TTCACGCAGTGTTCTAGTACGCAA_GSM6946667_WT-RBG-N_matrix</th>\n",
       "      <td>Nephroblastoma</td>\n",
       "      <td>GSE223373</td>\n",
       "      <td>Kidney</td>\n",
       "      <td>NaN</td>\n",
       "      <td>NaN</td>\n",
       "      <td>GSM6946667_WT-RBG-N_matrix</td>\n",
       "      <td>2009</td>\n",
       "      <td>2009</td>\n",
       "      <td>6494.0</td>\n",
       "      <td>2877.0</td>\n",
       "      <td>...</td>\n",
       "      <td>True</td>\n",
       "      <td>False</td>\n",
       "      <td>NaN</td>\n",
       "      <td>NaN</td>\n",
       "      <td>NaN</td>\n",
       "      <td>nan</td>\n",
       "      <td>NaN</td>\n",
       "      <td>NaN</td>\n",
       "      <td>NaN</td>\n",
       "      <td>NaN</td>\n",
       "    </tr>\n",
       "    <tr>\n",
       "      <th>GSE223373_TTCACGCATAGGATGATCTTCACA_GSM6946667_WT-RBG-N_matrix</th>\n",
       "      <td>Nephroblastoma</td>\n",
       "      <td>GSE223373</td>\n",
       "      <td>Kidney</td>\n",
       "      <td>NaN</td>\n",
       "      <td>NaN</td>\n",
       "      <td>GSM6946667_WT-RBG-N_matrix</td>\n",
       "      <td>3274</td>\n",
       "      <td>3274</td>\n",
       "      <td>9095.0</td>\n",
       "      <td>433.0</td>\n",
       "      <td>...</td>\n",
       "      <td>True</td>\n",
       "      <td>False</td>\n",
       "      <td>NaN</td>\n",
       "      <td>NaN</td>\n",
       "      <td>NaN</td>\n",
       "      <td>nan</td>\n",
       "      <td>NaN</td>\n",
       "      <td>NaN</td>\n",
       "      <td>NaN</td>\n",
       "      <td>NaN</td>\n",
       "    </tr>\n",
       "    <tr>\n",
       "      <th>GSE223373_TTCACGCATTCACGCACGAACTTA_GSM6946667_WT-RBG-N_matrix</th>\n",
       "      <td>Nephroblastoma</td>\n",
       "      <td>GSE223373</td>\n",
       "      <td>Kidney</td>\n",
       "      <td>NaN</td>\n",
       "      <td>NaN</td>\n",
       "      <td>GSM6946667_WT-RBG-N_matrix</td>\n",
       "      <td>3062</td>\n",
       "      <td>3062</td>\n",
       "      <td>8350.0</td>\n",
       "      <td>570.0</td>\n",
       "      <td>...</td>\n",
       "      <td>True</td>\n",
       "      <td>False</td>\n",
       "      <td>NaN</td>\n",
       "      <td>NaN</td>\n",
       "      <td>NaN</td>\n",
       "      <td>nan</td>\n",
       "      <td>NaN</td>\n",
       "      <td>NaN</td>\n",
       "      <td>NaN</td>\n",
       "      <td>NaN</td>\n",
       "    </tr>\n",
       "  </tbody>\n",
       "</table>\n",
       "<p>1300958 rows × 21 columns</p>\n",
       "</div>"
      ],
      "text/plain": [
       "                                                               cancer_type  \\\n",
       "GSE235923_AAACCTGAGCTAGTGG-1_GSM7512002_Sample4D    acute_myeloid_leukemia   \n",
       "GSE235923_AAACCTGAGGATGCGT-1_GSM7512002_Sample4D    acute_myeloid_leukemia   \n",
       "GSE235923_AAACCTGAGGGTGTTG-1_GSM7512002_Sample4D    acute_myeloid_leukemia   \n",
       "GSE235923_AAACCTGAGTTCGCGC-1_GSM7512002_Sample4D    acute_myeloid_leukemia   \n",
       "GSE235923_AAACCTGCAATGAATG-1_GSM7512002_Sample4D    acute_myeloid_leukemia   \n",
       "...                                                                    ...   \n",
       "GSE223373_TTCACGCAGCGAGTAAACGTATCA_GSM6946667_W...          Nephroblastoma   \n",
       "GSE223373_TTCACGCAGTCGTAGAAAGACGGA_GSM6946667_W...          Nephroblastoma   \n",
       "GSE223373_TTCACGCAGTGTTCTAGTACGCAA_GSM6946667_W...          Nephroblastoma   \n",
       "GSE223373_TTCACGCATAGGATGATCTTCACA_GSM6946667_W...          Nephroblastoma   \n",
       "GSE223373_TTCACGCATTCACGCACGAACTTA_GSM6946667_W...          Nephroblastoma   \n",
       "\n",
       "                                                      dataset       tissue  \\\n",
       "GSE235923_AAACCTGAGCTAGTGG-1_GSM7512002_Sample4D    GSE235923  bone_marrow   \n",
       "GSE235923_AAACCTGAGGATGCGT-1_GSM7512002_Sample4D    GSE235923  bone_marrow   \n",
       "GSE235923_AAACCTGAGGGTGTTG-1_GSM7512002_Sample4D    GSE235923  bone_marrow   \n",
       "GSE235923_AAACCTGAGTTCGCGC-1_GSM7512002_Sample4D    GSE235923  bone_marrow   \n",
       "GSE235923_AAACCTGCAATGAATG-1_GSM7512002_Sample4D    GSE235923  bone_marrow   \n",
       "...                                                       ...          ...   \n",
       "GSE223373_TTCACGCAGCGAGTAAACGTATCA_GSM6946667_W...  GSE223373       Kidney   \n",
       "GSE223373_TTCACGCAGTCGTAGAAAGACGGA_GSM6946667_W...  GSE223373       Kidney   \n",
       "GSE223373_TTCACGCAGTGTTCTAGTACGCAA_GSM6946667_W...  GSE223373       Kidney   \n",
       "GSE223373_TTCACGCATAGGATGATCTTCACA_GSM6946667_W...  GSE223373       Kidney   \n",
       "GSE223373_TTCACGCATTCACGCACGAACTTA_GSM6946667_W...  GSE223373       Kidney   \n",
       "\n",
       "                                                                     uni_barcode  \\\n",
       "GSE235923_AAACCTGAGCTAGTGG-1_GSM7512002_Sample4D    GSE235923_AAACCTGAGCTAGTGG-1   \n",
       "GSE235923_AAACCTGAGGATGCGT-1_GSM7512002_Sample4D    GSE235923_AAACCTGAGGATGCGT-1   \n",
       "GSE235923_AAACCTGAGGGTGTTG-1_GSM7512002_Sample4D    GSE235923_AAACCTGAGGGTGTTG-1   \n",
       "GSE235923_AAACCTGAGTTCGCGC-1_GSM7512002_Sample4D    GSE235923_AAACCTGAGTTCGCGC-1   \n",
       "GSE235923_AAACCTGCAATGAATG-1_GSM7512002_Sample4D    GSE235923_AAACCTGCAATGAATG-1   \n",
       "...                                                                          ...   \n",
       "GSE223373_TTCACGCAGCGAGTAAACGTATCA_GSM6946667_W...                           NaN   \n",
       "GSE223373_TTCACGCAGTCGTAGAAAGACGGA_GSM6946667_W...                           NaN   \n",
       "GSE223373_TTCACGCAGTGTTCTAGTACGCAA_GSM6946667_W...                           NaN   \n",
       "GSE223373_TTCACGCATAGGATGATCTTCACA_GSM6946667_W...                           NaN   \n",
       "GSE223373_TTCACGCATTCACGCACGAACTTA_GSM6946667_W...                           NaN   \n",
       "\n",
       "                                                   disease_progression  \\\n",
       "GSE235923_AAACCTGAGCTAGTGG-1_GSM7512002_Sample4D             diagnosis   \n",
       "GSE235923_AAACCTGAGGATGCGT-1_GSM7512002_Sample4D             diagnosis   \n",
       "GSE235923_AAACCTGAGGGTGTTG-1_GSM7512002_Sample4D             diagnosis   \n",
       "GSE235923_AAACCTGAGTTCGCGC-1_GSM7512002_Sample4D             diagnosis   \n",
       "GSE235923_AAACCTGCAATGAATG-1_GSM7512002_Sample4D             diagnosis   \n",
       "...                                                                ...   \n",
       "GSE223373_TTCACGCAGCGAGTAAACGTATCA_GSM6946667_W...                 NaN   \n",
       "GSE223373_TTCACGCAGTCGTAGAAAGACGGA_GSM6946667_W...                 NaN   \n",
       "GSE223373_TTCACGCAGTGTTCTAGTACGCAA_GSM6946667_W...                 NaN   \n",
       "GSE223373_TTCACGCATAGGATGATCTTCACA_GSM6946667_W...                 NaN   \n",
       "GSE223373_TTCACGCATTCACGCACGAACTTA_GSM6946667_W...                 NaN   \n",
       "\n",
       "                                                                sample_barcode  \\\n",
       "GSE235923_AAACCTGAGCTAGTGG-1_GSM7512002_Sample4D           GSM7512002_Sample4D   \n",
       "GSE235923_AAACCTGAGGATGCGT-1_GSM7512002_Sample4D           GSM7512002_Sample4D   \n",
       "GSE235923_AAACCTGAGGGTGTTG-1_GSM7512002_Sample4D           GSM7512002_Sample4D   \n",
       "GSE235923_AAACCTGAGTTCGCGC-1_GSM7512002_Sample4D           GSM7512002_Sample4D   \n",
       "GSE235923_AAACCTGCAATGAATG-1_GSM7512002_Sample4D           GSM7512002_Sample4D   \n",
       "...                                                                        ...   \n",
       "GSE223373_TTCACGCAGCGAGTAAACGTATCA_GSM6946667_W...  GSM6946667_WT-RBG-N_matrix   \n",
       "GSE223373_TTCACGCAGTCGTAGAAAGACGGA_GSM6946667_W...  GSM6946667_WT-RBG-N_matrix   \n",
       "GSE223373_TTCACGCAGTGTTCTAGTACGCAA_GSM6946667_W...  GSM6946667_WT-RBG-N_matrix   \n",
       "GSE223373_TTCACGCATAGGATGATCTTCACA_GSM6946667_W...  GSM6946667_WT-RBG-N_matrix   \n",
       "GSE223373_TTCACGCATTCACGCACGAACTTA_GSM6946667_W...  GSM6946667_WT-RBG-N_matrix   \n",
       "\n",
       "                                                    n_genes  \\\n",
       "GSE235923_AAACCTGAGCTAGTGG-1_GSM7512002_Sample4D       2376   \n",
       "GSE235923_AAACCTGAGGATGCGT-1_GSM7512002_Sample4D       3565   \n",
       "GSE235923_AAACCTGAGGGTGTTG-1_GSM7512002_Sample4D       2886   \n",
       "GSE235923_AAACCTGAGTTCGCGC-1_GSM7512002_Sample4D       2986   \n",
       "GSE235923_AAACCTGCAATGAATG-1_GSM7512002_Sample4D       2187   \n",
       "...                                                     ...   \n",
       "GSE223373_TTCACGCAGCGAGTAAACGTATCA_GSM6946667_W...     1976   \n",
       "GSE223373_TTCACGCAGTCGTAGAAAGACGGA_GSM6946667_W...     2120   \n",
       "GSE223373_TTCACGCAGTGTTCTAGTACGCAA_GSM6946667_W...     2009   \n",
       "GSE223373_TTCACGCATAGGATGATCTTCACA_GSM6946667_W...     3274   \n",
       "GSE223373_TTCACGCATTCACGCACGAACTTA_GSM6946667_W...     3062   \n",
       "\n",
       "                                                    n_genes_by_counts  \\\n",
       "GSE235923_AAACCTGAGCTAGTGG-1_GSM7512002_Sample4D                 2376   \n",
       "GSE235923_AAACCTGAGGATGCGT-1_GSM7512002_Sample4D                 3565   \n",
       "GSE235923_AAACCTGAGGGTGTTG-1_GSM7512002_Sample4D                 2886   \n",
       "GSE235923_AAACCTGAGTTCGCGC-1_GSM7512002_Sample4D                 2986   \n",
       "GSE235923_AAACCTGCAATGAATG-1_GSM7512002_Sample4D                 2187   \n",
       "...                                                               ...   \n",
       "GSE223373_TTCACGCAGCGAGTAAACGTATCA_GSM6946667_W...               1976   \n",
       "GSE223373_TTCACGCAGTCGTAGAAAGACGGA_GSM6946667_W...               2120   \n",
       "GSE223373_TTCACGCAGTGTTCTAGTACGCAA_GSM6946667_W...               2009   \n",
       "GSE223373_TTCACGCATAGGATGATCTTCACA_GSM6946667_W...               3274   \n",
       "GSE223373_TTCACGCATTCACGCACGAACTTA_GSM6946667_W...               3062   \n",
       "\n",
       "                                                    total_counts  \\\n",
       "GSE235923_AAACCTGAGCTAGTGG-1_GSM7512002_Sample4D         11016.0   \n",
       "GSE235923_AAACCTGAGGATGCGT-1_GSM7512002_Sample4D         21188.0   \n",
       "GSE235923_AAACCTGAGGGTGTTG-1_GSM7512002_Sample4D         11618.0   \n",
       "GSE235923_AAACCTGAGTTCGCGC-1_GSM7512002_Sample4D         13508.0   \n",
       "GSE235923_AAACCTGCAATGAATG-1_GSM7512002_Sample4D          9031.0   \n",
       "...                                                          ...   \n",
       "GSE223373_TTCACGCAGCGAGTAAACGTATCA_GSM6946667_W...        8004.0   \n",
       "GSE223373_TTCACGCAGTCGTAGAAAGACGGA_GSM6946667_W...       16639.0   \n",
       "GSE223373_TTCACGCAGTGTTCTAGTACGCAA_GSM6946667_W...        6494.0   \n",
       "GSE223373_TTCACGCATAGGATGATCTTCACA_GSM6946667_W...        9095.0   \n",
       "GSE223373_TTCACGCATTCACGCACGAACTTA_GSM6946667_W...        8350.0   \n",
       "\n",
       "                                                    total_counts_mt  ...  \\\n",
       "GSE235923_AAACCTGAGCTAGTGG-1_GSM7512002_Sample4D              943.0  ...   \n",
       "GSE235923_AAACCTGAGGATGCGT-1_GSM7512002_Sample4D             1127.0  ...   \n",
       "GSE235923_AAACCTGAGGGTGTTG-1_GSM7512002_Sample4D              894.0  ...   \n",
       "GSE235923_AAACCTGAGTTCGCGC-1_GSM7512002_Sample4D              661.0  ...   \n",
       "GSE235923_AAACCTGCAATGAATG-1_GSM7512002_Sample4D              414.0  ...   \n",
       "...                                                             ...  ...   \n",
       "GSE223373_TTCACGCAGCGAGTAAACGTATCA_GSM6946667_W...           3758.0  ...   \n",
       "GSE223373_TTCACGCAGTCGTAGAAAGACGGA_GSM6946667_W...          12168.0  ...   \n",
       "GSE223373_TTCACGCAGTGTTCTAGTACGCAA_GSM6946667_W...           2877.0  ...   \n",
       "GSE223373_TTCACGCATAGGATGATCTTCACA_GSM6946667_W...            433.0  ...   \n",
       "GSE223373_TTCACGCATTCACGCACGAACTTA_GSM6946667_W...            570.0  ...   \n",
       "\n",
       "                                                    gmm_pct_count_clusters_keep  \\\n",
       "GSE235923_AAACCTGAGCTAGTGG-1_GSM7512002_Sample4D                           True   \n",
       "GSE235923_AAACCTGAGGATGCGT-1_GSM7512002_Sample4D                           True   \n",
       "GSE235923_AAACCTGAGGGTGTTG-1_GSM7512002_Sample4D                           True   \n",
       "GSE235923_AAACCTGAGTTCGCGC-1_GSM7512002_Sample4D                           True   \n",
       "GSE235923_AAACCTGCAATGAATG-1_GSM7512002_Sample4D                           True   \n",
       "...                                                                         ...   \n",
       "GSE223373_TTCACGCAGCGAGTAAACGTATCA_GSM6946667_W...                         True   \n",
       "GSE223373_TTCACGCAGTCGTAGAAAGACGGA_GSM6946667_W...                         True   \n",
       "GSE223373_TTCACGCAGTGTTCTAGTACGCAA_GSM6946667_W...                         True   \n",
       "GSE223373_TTCACGCATAGGATGATCTTCACA_GSM6946667_W...                         True   \n",
       "GSE223373_TTCACGCATTCACGCACGAACTTA_GSM6946667_W...                         True   \n",
       "\n",
       "                                                    filter_rna  \\\n",
       "GSE235923_AAACCTGAGCTAGTGG-1_GSM7512002_Sample4D         False   \n",
       "GSE235923_AAACCTGAGGATGCGT-1_GSM7512002_Sample4D         False   \n",
       "GSE235923_AAACCTGAGGGTGTTG-1_GSM7512002_Sample4D         False   \n",
       "GSE235923_AAACCTGAGTTCGCGC-1_GSM7512002_Sample4D         False   \n",
       "GSE235923_AAACCTGCAATGAATG-1_GSM7512002_Sample4D         False   \n",
       "...                                                        ...   \n",
       "GSE223373_TTCACGCAGCGAGTAAACGTATCA_GSM6946667_W...       False   \n",
       "GSE223373_TTCACGCAGTCGTAGAAAGACGGA_GSM6946667_W...       False   \n",
       "GSE223373_TTCACGCAGTGTTCTAGTACGCAA_GSM6946667_W...       False   \n",
       "GSE223373_TTCACGCATAGGATGATCTTCACA_GSM6946667_W...       False   \n",
       "GSE223373_TTCACGCATTCACGCACGAACTTA_GSM6946667_W...       False   \n",
       "\n",
       "                                                   cell_type_from_paper  \\\n",
       "GSE235923_AAACCTGAGCTAGTGG-1_GSM7512002_Sample4D                    NaN   \n",
       "GSE235923_AAACCTGAGGATGCGT-1_GSM7512002_Sample4D                    NaN   \n",
       "GSE235923_AAACCTGAGGGTGTTG-1_GSM7512002_Sample4D                    NaN   \n",
       "GSE235923_AAACCTGAGTTCGCGC-1_GSM7512002_Sample4D                    NaN   \n",
       "GSE235923_AAACCTGCAATGAATG-1_GSM7512002_Sample4D                    NaN   \n",
       "...                                                                 ...   \n",
       "GSE223373_TTCACGCAGCGAGTAAACGTATCA_GSM6946667_W...                  NaN   \n",
       "GSE223373_TTCACGCAGTCGTAGAAAGACGGA_GSM6946667_W...                  NaN   \n",
       "GSE223373_TTCACGCAGTGTTCTAGTACGCAA_GSM6946667_W...                  NaN   \n",
       "GSE223373_TTCACGCATAGGATGATCTTCACA_GSM6946667_W...                  NaN   \n",
       "GSE223373_TTCACGCATTCACGCACGAACTTA_GSM6946667_W...                  NaN   \n",
       "\n",
       "                                                   malignant_from_paper  \\\n",
       "GSE235923_AAACCTGAGCTAGTGG-1_GSM7512002_Sample4D                    NaN   \n",
       "GSE235923_AAACCTGAGGATGCGT-1_GSM7512002_Sample4D                    NaN   \n",
       "GSE235923_AAACCTGAGGGTGTTG-1_GSM7512002_Sample4D                    NaN   \n",
       "GSE235923_AAACCTGAGTTCGCGC-1_GSM7512002_Sample4D                    NaN   \n",
       "GSE235923_AAACCTGCAATGAATG-1_GSM7512002_Sample4D                    NaN   \n",
       "...                                                                 ...   \n",
       "GSE223373_TTCACGCAGCGAGTAAACGTATCA_GSM6946667_W...                  NaN   \n",
       "GSE223373_TTCACGCAGTCGTAGAAAGACGGA_GSM6946667_W...                  NaN   \n",
       "GSE223373_TTCACGCAGTGTTCTAGTACGCAA_GSM6946667_W...                  NaN   \n",
       "GSE223373_TTCACGCATAGGATGATCTTCACA_GSM6946667_W...                  NaN   \n",
       "GSE223373_TTCACGCATTCACGCACGAACTTA_GSM6946667_W...                  NaN   \n",
       "\n",
       "                                                   age_months  age  sex  \\\n",
       "GSE235923_AAACCTGAGCTAGTGG-1_GSM7512002_Sample4D          NaN  nan  NaN   \n",
       "GSE235923_AAACCTGAGGATGCGT-1_GSM7512002_Sample4D          NaN  nan  NaN   \n",
       "GSE235923_AAACCTGAGGGTGTTG-1_GSM7512002_Sample4D          NaN  nan  NaN   \n",
       "GSE235923_AAACCTGAGTTCGCGC-1_GSM7512002_Sample4D          NaN  nan  NaN   \n",
       "GSE235923_AAACCTGCAATGAATG-1_GSM7512002_Sample4D          NaN  nan  NaN   \n",
       "...                                                       ...  ...  ...   \n",
       "GSE223373_TTCACGCAGCGAGTAAACGTATCA_GSM6946667_W...        NaN  nan  NaN   \n",
       "GSE223373_TTCACGCAGTCGTAGAAAGACGGA_GSM6946667_W...        NaN  nan  NaN   \n",
       "GSE223373_TTCACGCAGTGTTCTAGTACGCAA_GSM6946667_W...        NaN  nan  NaN   \n",
       "GSE223373_TTCACGCATAGGATGATCTTCACA_GSM6946667_W...        NaN  nan  NaN   \n",
       "GSE223373_TTCACGCATTCACGCACGAACTTA_GSM6946667_W...        NaN  nan  NaN   \n",
       "\n",
       "                                                   recurrent cancer_subtype  \\\n",
       "GSE235923_AAACCTGAGCTAGTGG-1_GSM7512002_Sample4D         NaN            NaN   \n",
       "GSE235923_AAACCTGAGGATGCGT-1_GSM7512002_Sample4D         NaN            NaN   \n",
       "GSE235923_AAACCTGAGGGTGTTG-1_GSM7512002_Sample4D         NaN            NaN   \n",
       "GSE235923_AAACCTGAGTTCGCGC-1_GSM7512002_Sample4D         NaN            NaN   \n",
       "GSE235923_AAACCTGCAATGAATG-1_GSM7512002_Sample4D         NaN            NaN   \n",
       "...                                                      ...            ...   \n",
       "GSE223373_TTCACGCAGCGAGTAAACGTATCA_GSM6946667_W...       NaN            NaN   \n",
       "GSE223373_TTCACGCAGTCGTAGAAAGACGGA_GSM6946667_W...       NaN            NaN   \n",
       "GSE223373_TTCACGCAGTGTTCTAGTACGCAA_GSM6946667_W...       NaN            NaN   \n",
       "GSE223373_TTCACGCATAGGATGATCTTCACA_GSM6946667_W...       NaN            NaN   \n",
       "GSE223373_TTCACGCATTCACGCACGAACTTA_GSM6946667_W...       NaN            NaN   \n",
       "\n",
       "                                                   metastatic  \n",
       "GSE235923_AAACCTGAGCTAGTGG-1_GSM7512002_Sample4D          NaN  \n",
       "GSE235923_AAACCTGAGGATGCGT-1_GSM7512002_Sample4D          NaN  \n",
       "GSE235923_AAACCTGAGGGTGTTG-1_GSM7512002_Sample4D          NaN  \n",
       "GSE235923_AAACCTGAGTTCGCGC-1_GSM7512002_Sample4D          NaN  \n",
       "GSE235923_AAACCTGCAATGAATG-1_GSM7512002_Sample4D          NaN  \n",
       "...                                                       ...  \n",
       "GSE223373_TTCACGCAGCGAGTAAACGTATCA_GSM6946667_W...        NaN  \n",
       "GSE223373_TTCACGCAGTCGTAGAAAGACGGA_GSM6946667_W...        NaN  \n",
       "GSE223373_TTCACGCAGTGTTCTAGTACGCAA_GSM6946667_W...        NaN  \n",
       "GSE223373_TTCACGCATAGGATGATCTTCACA_GSM6946667_W...        NaN  \n",
       "GSE223373_TTCACGCATTCACGCACGAACTTA_GSM6946667_W...        NaN  \n",
       "\n",
       "[1300958 rows x 21 columns]"
      ]
     },
     "execution_count": 6,
     "metadata": {},
     "output_type": "execute_result"
    }
   ],
   "source": [
    "adatas_filtered_all.obs"
   ]
  },
  {
   "cell_type": "code",
   "execution_count": 7,
   "metadata": {},
   "outputs": [
    {
     "data": {
      "text/plain": [
       "1312.0"
      ]
     },
     "execution_count": 7,
     "metadata": {},
     "output_type": "execute_result"
    }
   ],
   "source": [
    "import numpy as np\n",
    "\n",
    "np.max(adatas_filtered_all.layers['counts'][:2000, ].toarray())"
   ]
  },
  {
   "cell_type": "code",
   "execution_count": 8,
   "metadata": {},
   "outputs": [
    {
     "name": "stdout",
     "output_type": "stream",
     "text": [
      "X.shape:  (1, 3660)\n"
     ]
    }
   ],
   "source": [
    "# Select highly variable genes\n",
    "sc.pp.highly_variable_genes(\n",
    "    adatas_filtered_all,\n",
    "    # n_top_genes=1200,\n",
    "    # layer=\"counts\",\n",
    "    batch_key=\"sample_barcode\",\n",
    "    # flavor=\"seurat_v3\",\n",
    "    subset=True,\n",
    ")"
   ]
  },
  {
   "cell_type": "markdown",
   "metadata": {},
   "source": [
    "It seems that one sample only has 1 cell pass the filtering, so arbitrarily set its gene variance to 0."
   ]
  },
  {
   "cell_type": "code",
   "execution_count": 9,
   "metadata": {},
   "outputs": [
    {
     "data": {
      "text/plain": [
       "AnnData object with n_obs × n_vars = 1300958 × 559\n",
       "    obs: 'cancer_type', 'dataset', 'tissue', 'uni_barcode', 'disease_progression', 'sample_barcode', 'n_genes', 'n_genes_by_counts', 'total_counts', 'total_counts_mt', 'pct_counts_mt', 'gmm_pct_count_clusters_keep', 'filter_rna', 'cell_type_from_paper', 'malignant_from_paper', 'age_months', 'age', 'sex', 'recurrent', 'cancer_subtype', 'metastatic'\n",
       "    var: 'gene_ids', 'feature_types', 'highly_variable', 'means', 'dispersions', 'dispersions_norm', 'highly_variable_nbatches', 'highly_variable_intersection'\n",
       "    uns: 'hvg'\n",
       "    layers: 'counts'"
      ]
     },
     "execution_count": 9,
     "metadata": {},
     "output_type": "execute_result"
    }
   ],
   "source": [
    "adatas_filtered_all"
   ]
  },
  {
   "cell_type": "markdown",
   "metadata": {},
   "source": [
    "There are 559 highly variable genes for the kidney cancer datasets."
   ]
  },
  {
   "cell_type": "code",
   "execution_count": 10,
   "metadata": {},
   "outputs": [
    {
     "data": {
      "text/plain": [
       "[]"
      ]
     },
     "execution_count": 10,
     "metadata": {},
     "output_type": "execute_result"
    }
   ],
   "source": [
    "# Check the presence of TCR genes (we don' expect to see any)\n",
    "tr_columns = [col for col in adatas_filtered_all.var.columns if col.startswith('TR')]\n",
    "tr_columns"
   ]
  },
  {
   "cell_type": "code",
   "execution_count": 11,
   "metadata": {},
   "outputs": [
    {
     "data": {
      "text/html": [
       "<div>\n",
       "<style scoped>\n",
       "    .dataframe tbody tr th:only-of-type {\n",
       "        vertical-align: middle;\n",
       "    }\n",
       "\n",
       "    .dataframe tbody tr th {\n",
       "        vertical-align: top;\n",
       "    }\n",
       "\n",
       "    .dataframe thead th {\n",
       "        text-align: right;\n",
       "    }\n",
       "</style>\n",
       "<table border=\"1\" class=\"dataframe\">\n",
       "  <thead>\n",
       "    <tr style=\"text-align: right;\">\n",
       "      <th></th>\n",
       "      <th>gene_ids</th>\n",
       "      <th>feature_types</th>\n",
       "      <th>highly_variable</th>\n",
       "      <th>means</th>\n",
       "      <th>dispersions</th>\n",
       "      <th>dispersions_norm</th>\n",
       "      <th>highly_variable_nbatches</th>\n",
       "      <th>highly_variable_intersection</th>\n",
       "    </tr>\n",
       "  </thead>\n",
       "  <tbody>\n",
       "    <tr>\n",
       "      <th>RAMP1</th>\n",
       "      <td>ENSG00000132329</td>\n",
       "      <td>Gene Expression</td>\n",
       "      <td>True</td>\n",
       "      <td>0.395341</td>\n",
       "      <td>1.404469</td>\n",
       "      <td>0.826235</td>\n",
       "      <td>232</td>\n",
       "      <td>False</td>\n",
       "    </tr>\n",
       "    <tr>\n",
       "      <th>FECH</th>\n",
       "      <td>ENSG00000066926</td>\n",
       "      <td>Gene Expression</td>\n",
       "      <td>True</td>\n",
       "      <td>0.352477</td>\n",
       "      <td>1.648399</td>\n",
       "      <td>1.286079</td>\n",
       "      <td>203</td>\n",
       "      <td>False</td>\n",
       "    </tr>\n",
       "    <tr>\n",
       "      <th>TNFRSF12A</th>\n",
       "      <td>ENSG00000006327</td>\n",
       "      <td>Gene Expression</td>\n",
       "      <td>True</td>\n",
       "      <td>0.182145</td>\n",
       "      <td>1.344135</td>\n",
       "      <td>0.729749</td>\n",
       "      <td>233</td>\n",
       "      <td>False</td>\n",
       "    </tr>\n",
       "    <tr>\n",
       "      <th>ETS2</th>\n",
       "      <td>ENSG00000157557</td>\n",
       "      <td>Gene Expression</td>\n",
       "      <td>True</td>\n",
       "      <td>0.509476</td>\n",
       "      <td>1.472557</td>\n",
       "      <td>0.684707</td>\n",
       "      <td>255</td>\n",
       "      <td>False</td>\n",
       "    </tr>\n",
       "    <tr>\n",
       "      <th>HLA-B</th>\n",
       "      <td>ENSG00000234745</td>\n",
       "      <td>Gene Expression</td>\n",
       "      <td>True</td>\n",
       "      <td>2.638680</td>\n",
       "      <td>2.702799</td>\n",
       "      <td>1.673440</td>\n",
       "      <td>198</td>\n",
       "      <td>False</td>\n",
       "    </tr>\n",
       "    <tr>\n",
       "      <th>...</th>\n",
       "      <td>...</td>\n",
       "      <td>...</td>\n",
       "      <td>...</td>\n",
       "      <td>...</td>\n",
       "      <td>...</td>\n",
       "      <td>...</td>\n",
       "      <td>...</td>\n",
       "      <td>...</td>\n",
       "    </tr>\n",
       "    <tr>\n",
       "      <th>KCNQ1OT1</th>\n",
       "      <td>ENSG00000269821</td>\n",
       "      <td>Gene Expression</td>\n",
       "      <td>True</td>\n",
       "      <td>0.958201</td>\n",
       "      <td>1.925883</td>\n",
       "      <td>1.477188</td>\n",
       "      <td>331</td>\n",
       "      <td>False</td>\n",
       "    </tr>\n",
       "    <tr>\n",
       "      <th>GYPC</th>\n",
       "      <td>ENSG00000136732</td>\n",
       "      <td>Gene Expression</td>\n",
       "      <td>True</td>\n",
       "      <td>1.115444</td>\n",
       "      <td>2.065587</td>\n",
       "      <td>1.616435</td>\n",
       "      <td>303</td>\n",
       "      <td>False</td>\n",
       "    </tr>\n",
       "    <tr>\n",
       "      <th>LY96</th>\n",
       "      <td>ENSG00000154589</td>\n",
       "      <td>Gene Expression</td>\n",
       "      <td>True</td>\n",
       "      <td>0.266592</td>\n",
       "      <td>1.373795</td>\n",
       "      <td>0.930653</td>\n",
       "      <td>245</td>\n",
       "      <td>False</td>\n",
       "    </tr>\n",
       "    <tr>\n",
       "      <th>DCAF12</th>\n",
       "      <td>ENSG00000198876</td>\n",
       "      <td>Gene Expression</td>\n",
       "      <td>True</td>\n",
       "      <td>0.371687</td>\n",
       "      <td>1.612170</td>\n",
       "      <td>1.117161</td>\n",
       "      <td>176</td>\n",
       "      <td>False</td>\n",
       "    </tr>\n",
       "    <tr>\n",
       "      <th>ARID5B</th>\n",
       "      <td>ENSG00000150347</td>\n",
       "      <td>Gene Expression</td>\n",
       "      <td>True</td>\n",
       "      <td>0.617255</td>\n",
       "      <td>1.649291</td>\n",
       "      <td>1.334143</td>\n",
       "      <td>359</td>\n",
       "      <td>False</td>\n",
       "    </tr>\n",
       "  </tbody>\n",
       "</table>\n",
       "<p>559 rows × 8 columns</p>\n",
       "</div>"
      ],
      "text/plain": [
       "                  gene_ids    feature_types  highly_variable     means  \\\n",
       "RAMP1      ENSG00000132329  Gene Expression             True  0.395341   \n",
       "FECH       ENSG00000066926  Gene Expression             True  0.352477   \n",
       "TNFRSF12A  ENSG00000006327  Gene Expression             True  0.182145   \n",
       "ETS2       ENSG00000157557  Gene Expression             True  0.509476   \n",
       "HLA-B      ENSG00000234745  Gene Expression             True  2.638680   \n",
       "...                    ...              ...              ...       ...   \n",
       "KCNQ1OT1   ENSG00000269821  Gene Expression             True  0.958201   \n",
       "GYPC       ENSG00000136732  Gene Expression             True  1.115444   \n",
       "LY96       ENSG00000154589  Gene Expression             True  0.266592   \n",
       "DCAF12     ENSG00000198876  Gene Expression             True  0.371687   \n",
       "ARID5B     ENSG00000150347  Gene Expression             True  0.617255   \n",
       "\n",
       "           dispersions  dispersions_norm  highly_variable_nbatches  \\\n",
       "RAMP1         1.404469          0.826235                       232   \n",
       "FECH          1.648399          1.286079                       203   \n",
       "TNFRSF12A     1.344135          0.729749                       233   \n",
       "ETS2          1.472557          0.684707                       255   \n",
       "HLA-B         2.702799          1.673440                       198   \n",
       "...                ...               ...                       ...   \n",
       "KCNQ1OT1      1.925883          1.477188                       331   \n",
       "GYPC          2.065587          1.616435                       303   \n",
       "LY96          1.373795          0.930653                       245   \n",
       "DCAF12        1.612170          1.117161                       176   \n",
       "ARID5B        1.649291          1.334143                       359   \n",
       "\n",
       "           highly_variable_intersection  \n",
       "RAMP1                             False  \n",
       "FECH                              False  \n",
       "TNFRSF12A                         False  \n",
       "ETS2                              False  \n",
       "HLA-B                             False  \n",
       "...                                 ...  \n",
       "KCNQ1OT1                          False  \n",
       "GYPC                              False  \n",
       "LY96                              False  \n",
       "DCAF12                            False  \n",
       "ARID5B                            False  \n",
       "\n",
       "[559 rows x 8 columns]"
      ]
     },
     "execution_count": 11,
     "metadata": {},
     "output_type": "execute_result"
    }
   ],
   "source": [
    "adatas_filtered_all.var"
   ]
  },
  {
   "cell_type": "code",
   "execution_count": 12,
   "metadata": {},
   "outputs": [],
   "source": [
    "# Save the hvg-subsetted adatas_filtered_all object\n",
    "adatas_filtered_all.write_h5ad('/scratch/user/s4543064/Xiaohan_Summer_Research/write/08_all_cancer/all_cancer_meta_anndata_hvg.h5ad', compression='gzip')"
   ]
  },
  {
   "cell_type": "code",
   "execution_count": 13,
   "metadata": {},
   "outputs": [
    {
     "data": {
      "text/plain": [
       "AnnData object with n_obs × n_vars = 1300958 × 559\n",
       "    obs: 'cancer_type', 'dataset', 'tissue', 'uni_barcode', 'disease_progression', 'sample_barcode', 'n_genes', 'n_genes_by_counts', 'total_counts', 'total_counts_mt', 'pct_counts_mt', 'gmm_pct_count_clusters_keep', 'filter_rna', 'cell_type_from_paper', 'malignant_from_paper', 'age_months', 'age', 'sex', 'recurrent', 'cancer_subtype', 'metastatic'\n",
       "    var: 'gene_ids', 'feature_types', 'highly_variable', 'means', 'dispersions', 'dispersions_norm', 'highly_variable_nbatches', 'highly_variable_intersection'\n",
       "    uns: 'hvg'\n",
       "    layers: 'counts'"
      ]
     },
     "execution_count": 13,
     "metadata": {},
     "output_type": "execute_result"
    }
   ],
   "source": [
    "meta_anndata_hvg = sc.read_h5ad('/scratch/user/s4543064/Xiaohan_Summer_Research/write/08_all_cancer/all_cancer_meta_anndata_hvg.h5ad')\n",
    "meta_anndata_hvg"
   ]
  },
  {
   "cell_type": "code",
   "execution_count": 14,
   "metadata": {},
   "outputs": [
    {
     "data": {
      "text/plain": [
       "AnnData object with n_obs × n_vars = 1300958 × 7662\n",
       "    obs: 'cancer_type', 'dataset', 'tissue', 'uni_barcode', 'disease_progression', 'sample_barcode', 'n_genes', 'n_genes_by_counts', 'total_counts', 'total_counts_mt', 'pct_counts_mt', 'gmm_pct_count_clusters_keep', 'filter_rna', 'cell_type_from_paper', 'malignant_from_paper', 'age_months', 'age', 'sex', 'recurrent', 'cancer_subtype', 'metastatic'\n",
       "    uns: 'hvg'"
      ]
     },
     "execution_count": 14,
     "metadata": {},
     "output_type": "execute_result"
    }
   ],
   "source": [
    "meta_anndata_hvg.raw.to_adata()"
   ]
  }
 ],
 "metadata": {
  "kernelspec": {
   "display_name": "Python 3 (ipykernel)",
   "language": "python",
   "name": "python3"
  },
  "language_info": {
   "codemirror_mode": {
    "name": "ipython",
    "version": 3
   },
   "file_extension": ".py",
   "mimetype": "text/x-python",
   "name": "python",
   "nbconvert_exporter": "python",
   "pygments_lexer": "ipython3",
   "version": "3.11.8"
  }
 },
 "nbformat": 4,
 "nbformat_minor": 2
}
