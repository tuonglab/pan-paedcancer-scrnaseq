{
 "cells": [
  {
   "cell_type": "markdown",
   "metadata": {},
   "source": [
    "### 1. General info of dataset GSE192906\n",
    "\n",
    "This is the Jupyter Notebook for dataset GSE192906. Its dataset includes an overall big txt file. As seen below, in the txt file, each row is a gene and each column is a cell.\n",
    "\n",
    "Thus, we need to transform this txt file and generate an overall AnnData object for all samples.\n",
    "\n",
    "NB: neuroblastoma\n",
    "\n",
    "GNB: ganglioneuroblastoma"
   ]
  },
  {
   "cell_type": "code",
   "execution_count": 1,
   "metadata": {},
   "outputs": [],
   "source": [
    "# Environment setup\n",
    "import numpy as np\n",
    "import pandas as pd\n",
    "import scanpy as sc\n",
    "import anndata as anndata\n",
    "import scipy"
   ]
  },
  {
   "cell_type": "code",
   "execution_count": 5,
   "metadata": {},
   "outputs": [
    {
     "data": {
      "text/plain": [
       "'/scratch/user/uqjsaxo1'"
      ]
     },
     "execution_count": 5,
     "metadata": {},
     "output_type": "execute_result"
    }
   ],
   "source": [
    "import os\n",
    "os.getcwd()"
   ]
  },
  {
   "cell_type": "code",
   "execution_count": 6,
   "metadata": {},
   "outputs": [
    {
     "name": "stdout",
     "output_type": "stream",
     "text": [
      "             A1_1_0316_AACGAGGT  A1_1_0316_AAGCACAT  A1_1_0316_ACACCGTG  \\\n",
      "MIR1302-2HG                   0                   0                   0   \n",
      "FAM138A                       0                   0                   0   \n",
      "OR4F5                         0                   0                   0   \n",
      "AL627309.1                    0                   0                   0   \n",
      "AL627309.3                    0                   0                   0   \n",
      "\n",
      "             A1_1_0316_ACCTCAGC  A1_1_0316_ACTGTTTG  A1_1_0316_AGCTCCTT  \\\n",
      "MIR1302-2HG                   0                   0                   0   \n",
      "FAM138A                       0                   0                   0   \n",
      "OR4F5                         0                   0                   0   \n",
      "AL627309.1                    0                   0                   0   \n",
      "AL627309.3                    0                   0                   0   \n",
      "\n",
      "             A1_1_0316_ATTTAGCG  A1_1_0316_CACACTGA  A1_1_0316_CACAGCAT  \\\n",
      "MIR1302-2HG                   0                   0                   0   \n",
      "FAM138A                       0                   0                   0   \n",
      "OR4F5                         0                   0                   0   \n",
      "AL627309.1                    0                   0                   0   \n",
      "AL627309.3                    0                   0                   0   \n",
      "\n",
      "             A1_1_0316_CCTTCAAG  ...  J2_2_0316_GTCATTAG  J2_2_0316_GTTACAGG  \\\n",
      "MIR1302-2HG                   0  ...                   0                   0   \n",
      "FAM138A                       0  ...                   0                   0   \n",
      "OR4F5                         0  ...                   0                   0   \n",
      "AL627309.1                    0  ...                   0                   0   \n",
      "AL627309.3                    0  ...                   0                   0   \n",
      "\n",
      "             J2_2_0316_TAACTCCG  J2_2_0316_TCAACGAC  J2_2_0316_TCACCCGA  \\\n",
      "MIR1302-2HG                   0                   0                   0   \n",
      "FAM138A                       0                   0                   0   \n",
      "OR4F5                         0                   0                   0   \n",
      "AL627309.1                    0                   0                   0   \n",
      "AL627309.3                    0                   0                   0   \n",
      "\n",
      "             J2_2_0316_TCTCACAC  J2_2_0316_TGGAGCTC  J2_2_0316_TGTACCAA  \\\n",
      "MIR1302-2HG                   0                   0                   0   \n",
      "FAM138A                       0                   0                   0   \n",
      "OR4F5                         0                   0                   0   \n",
      "AL627309.1                    0                   0                   0   \n",
      "AL627309.3                    0                   0                   0   \n",
      "\n",
      "             J2_2_0316_TTACGGGT  J2_2_0316_TTCCGTTC  \n",
      "MIR1302-2HG                   0                   0  \n",
      "FAM138A                       0                   0  \n",
      "OR4F5                         0                   0  \n",
      "AL627309.1                    0                   0  \n",
      "AL627309.3                    0                   0  \n",
      "\n",
      "[5 rows x 960 columns]\n",
      "(33514, 960)\n"
     ]
    }
   ],
   "source": [
    "# inspect the first dataset\n",
    "path = '/scratch/user/uqjsaxo1/xiaohan-john-project/data/GSE192906_RAW/GSM5768743_NB1_UMI_COUNTS_RAW.txt'\n",
    "input = pd.read_csv(path, sep='\\t', index_col=0) # the first column contains gene names and is the index\n",
    "\n",
    "print(input.head()) \n",
    "print(input.shape) # (23686 rows, 4058 columns)"
   ]
  },
  {
   "cell_type": "markdown",
   "metadata": {},
   "source": [
    "As shown above, the dataset contains 4058 cells and 23686 genes."
   ]
  },
  {
   "cell_type": "markdown",
   "metadata": {},
   "source": [
    "### 2. Overall AnnData object of the dataset\n",
    "\n",
    "<span style=\"color:red\">**IMPORTANT:**</span> transpose the DataFrame.values to match the AnnData.X\n",
    "\n",
    "1. `DataFrame.columns`: cell barcodes, which go into `.obs`\n",
    "2. `DataFrame.index`: gene names, `.var`\n",
    "3. `DataFrame.values`: the transpose of the expression matrix, `.X`"
   ]
  },
  {
   "cell_type": "code",
   "execution_count": 11,
   "metadata": {},
   "outputs": [
    {
     "name": "stderr",
     "output_type": "stream",
     "text": [
      "/home/uqjsaxo1/miniforge3/envs/env/lib/python3.10/site-packages/anndata/_core/anndata.py:183: ImplicitModificationWarning: Transforming to str index.\n",
      "  warnings.warn(\"Transforming to str index.\", ImplicitModificationWarning)\n"
     ]
    },
    {
     "name": "stdout",
     "output_type": "stream",
     "text": [
      "AnnData object with n_obs × n_vars = 740 × 33514\n",
      "    var: 'gene_symbols'\n",
      "AnnData object with n_obs × n_vars = 740 × 33514\n",
      "    obs: 'cancer_type', 'dataset', 'tissue', 'sample_barcode', 'uni_barcode'\n",
      "    var: 'gene_symbols'\n"
     ]
    },
    {
     "name": "stderr",
     "output_type": "stream",
     "text": [
      "/home/uqjsaxo1/miniforge3/envs/env/lib/python3.10/site-packages/anndata/_core/anndata.py:183: ImplicitModificationWarning: Transforming to str index.\n",
      "  warnings.warn(\"Transforming to str index.\", ImplicitModificationWarning)\n"
     ]
    },
    {
     "name": "stdout",
     "output_type": "stream",
     "text": [
      "AnnData object with n_obs × n_vars = 445 × 33514\n",
      "    var: 'gene_symbols'\n",
      "AnnData object with n_obs × n_vars = 445 × 33514\n",
      "    obs: 'cancer_type', 'dataset', 'tissue', 'sample_barcode', 'uni_barcode'\n",
      "    var: 'gene_symbols'\n"
     ]
    },
    {
     "name": "stderr",
     "output_type": "stream",
     "text": [
      "/home/uqjsaxo1/miniforge3/envs/env/lib/python3.10/site-packages/anndata/_core/anndata.py:183: ImplicitModificationWarning: Transforming to str index.\n",
      "  warnings.warn(\"Transforming to str index.\", ImplicitModificationWarning)\n"
     ]
    },
    {
     "name": "stdout",
     "output_type": "stream",
     "text": [
      "AnnData object with n_obs × n_vars = 357 × 33514\n",
      "    var: 'gene_symbols'\n",
      "AnnData object with n_obs × n_vars = 357 × 33514\n",
      "    obs: 'cancer_type', 'dataset', 'tissue', 'sample_barcode', 'uni_barcode'\n",
      "    var: 'gene_symbols'\n"
     ]
    },
    {
     "name": "stderr",
     "output_type": "stream",
     "text": [
      "/home/uqjsaxo1/miniforge3/envs/env/lib/python3.10/site-packages/anndata/_core/anndata.py:183: ImplicitModificationWarning: Transforming to str index.\n",
      "  warnings.warn(\"Transforming to str index.\", ImplicitModificationWarning)\n"
     ]
    },
    {
     "name": "stdout",
     "output_type": "stream",
     "text": [
      "AnnData object with n_obs × n_vars = 360 × 33514\n",
      "    var: 'gene_symbols'\n",
      "AnnData object with n_obs × n_vars = 360 × 33514\n",
      "    obs: 'cancer_type', 'dataset', 'tissue', 'sample_barcode', 'uni_barcode'\n",
      "    var: 'gene_symbols'\n"
     ]
    },
    {
     "name": "stderr",
     "output_type": "stream",
     "text": [
      "/home/uqjsaxo1/miniforge3/envs/env/lib/python3.10/site-packages/anndata/_core/anndata.py:183: ImplicitModificationWarning: Transforming to str index.\n",
      "  warnings.warn(\"Transforming to str index.\", ImplicitModificationWarning)\n"
     ]
    },
    {
     "name": "stdout",
     "output_type": "stream",
     "text": [
      "AnnData object with n_obs × n_vars = 768 × 33514\n",
      "    var: 'gene_symbols'\n",
      "AnnData object with n_obs × n_vars = 768 × 33514\n",
      "    obs: 'cancer_type', 'dataset', 'tissue', 'sample_barcode', 'uni_barcode'\n",
      "    var: 'gene_symbols'\n"
     ]
    },
    {
     "name": "stderr",
     "output_type": "stream",
     "text": [
      "/home/uqjsaxo1/miniforge3/envs/env/lib/python3.10/site-packages/anndata/_core/anndata.py:183: ImplicitModificationWarning: Transforming to str index.\n",
      "  warnings.warn(\"Transforming to str index.\", ImplicitModificationWarning)\n"
     ]
    },
    {
     "name": "stdout",
     "output_type": "stream",
     "text": [
      "AnnData object with n_obs × n_vars = 960 × 33514\n",
      "    var: 'gene_symbols'\n",
      "AnnData object with n_obs × n_vars = 960 × 33514\n",
      "    obs: 'cancer_type', 'dataset', 'tissue', 'sample_barcode', 'uni_barcode'\n",
      "    var: 'gene_symbols'\n"
     ]
    },
    {
     "name": "stderr",
     "output_type": "stream",
     "text": [
      "/home/uqjsaxo1/miniforge3/envs/env/lib/python3.10/site-packages/anndata/_core/anndata.py:183: ImplicitModificationWarning: Transforming to str index.\n",
      "  warnings.warn(\"Transforming to str index.\", ImplicitModificationWarning)\n"
     ]
    },
    {
     "name": "stdout",
     "output_type": "stream",
     "text": [
      "AnnData object with n_obs × n_vars = 639 × 33514\n",
      "    var: 'gene_symbols'\n",
      "AnnData object with n_obs × n_vars = 639 × 33514\n",
      "    obs: 'cancer_type', 'dataset', 'tissue', 'sample_barcode', 'uni_barcode'\n",
      "    var: 'gene_symbols'\n"
     ]
    },
    {
     "name": "stderr",
     "output_type": "stream",
     "text": [
      "/home/uqjsaxo1/miniforge3/envs/env/lib/python3.10/site-packages/anndata/_core/anndata.py:183: ImplicitModificationWarning: Transforming to str index.\n",
      "  warnings.warn(\"Transforming to str index.\", ImplicitModificationWarning)\n"
     ]
    },
    {
     "name": "stdout",
     "output_type": "stream",
     "text": [
      "AnnData object with n_obs × n_vars = 551 × 33514\n",
      "    var: 'gene_symbols'\n",
      "AnnData object with n_obs × n_vars = 551 × 33514\n",
      "    obs: 'cancer_type', 'dataset', 'tissue', 'sample_barcode', 'uni_barcode'\n",
      "    var: 'gene_symbols'\n"
     ]
    },
    {
     "name": "stderr",
     "output_type": "stream",
     "text": [
      "/home/uqjsaxo1/miniforge3/envs/env/lib/python3.10/site-packages/anndata/_core/anndata.py:183: ImplicitModificationWarning: Transforming to str index.\n",
      "  warnings.warn(\"Transforming to str index.\", ImplicitModificationWarning)\n"
     ]
    },
    {
     "name": "stdout",
     "output_type": "stream",
     "text": [
      "AnnData object with n_obs × n_vars = 1052 × 33514\n",
      "    var: 'gene_symbols'\n",
      "AnnData object with n_obs × n_vars = 1052 × 33514\n",
      "    obs: 'cancer_type', 'dataset', 'tissue', 'sample_barcode', 'uni_barcode'\n",
      "    var: 'gene_symbols'\n"
     ]
    },
    {
     "name": "stderr",
     "output_type": "stream",
     "text": [
      "/home/uqjsaxo1/miniforge3/envs/env/lib/python3.10/site-packages/anndata/_core/anndata.py:183: ImplicitModificationWarning: Transforming to str index.\n",
      "  warnings.warn(\"Transforming to str index.\", ImplicitModificationWarning)\n"
     ]
    },
    {
     "name": "stdout",
     "output_type": "stream",
     "text": [
      "AnnData object with n_obs × n_vars = 1053 × 33514\n",
      "    var: 'gene_symbols'\n",
      "AnnData object with n_obs × n_vars = 1053 × 33514\n",
      "    obs: 'cancer_type', 'dataset', 'tissue', 'sample_barcode', 'uni_barcode'\n",
      "    var: 'gene_symbols'\n"
     ]
    }
   ],
   "source": [
    "from pathlib import Path\n",
    "\n",
    "# Specify directory paths\n",
    "data_directory = Path('/scratch/user/uqjsaxo1/xiaohan-john-project/data/GSE192906_RAW/')\n",
    "\n",
    "# Loop through all files in the directory\n",
    "for file in data_directory.iterdir():\n",
    "    sample = pd.read_csv(file, sep='\\t', index_col=0)\n",
    "    matrix = scipy.sparse.csr_matrix(sample.values.T)\n",
    "    obs_name = pd.DataFrame(index=sample.columns)\n",
    "    var_name = pd.DataFrame(sample.index)\n",
    "    var_name.rename(columns={0: 'gene_symbols'}, inplace=True)\n",
    "\n",
    "    sample = anndata.AnnData(X=matrix, obs=obs_name, var=var_name)\n",
    "    print(sample)\n",
    "\n",
    "    # Create an observation metric info to store related features\n",
    "    obs_metrics = pd.DataFrame(index=sample.obs_names) ## Get the identifiers\n",
    "    if 'GNB' in file.stem:\n",
    "        obs_metrics['cancer_type'] = 'Ganglioneuroblastoma'\n",
    "    elif 'NB' in file.stem:\n",
    "        obs_metrics['cancer_type'] = 'Neuroblastoma'\n",
    "    else: \n",
    "        obs_metrics['cancer_type'] = 'Ganglioneuroma' \n",
    "    obs_metrics['dataset'] = 'GSE192906'\n",
    "    obs_metrics['tissue'] = 'Neuronal'\n",
    "    obs_metrics['sample_barcode'] = file.stem\n",
    "    obs_metrics['uni_barcode'] = obs_metrics['dataset'] + '_' + obs_metrics.index.astype(str)\n",
    "\n",
    "    sample.obs = obs_metrics\n",
    "    sample.obs.set_index(\"uni_barcode\", drop=False, inplace=True)\n",
    "    print(sample)\n",
    "\n",
    "    # save the anndata object\n",
    "    sample.write_h5ad(f'/scratch/user/uqjsaxo1/xiaohan-john-project/write/GSE192906/{file.stem}_uni.h5ad', compression=\"gzip\")"
   ]
  },
  {
   "cell_type": "code",
   "execution_count": 12,
   "metadata": {},
   "outputs": [
    {
     "data": {
      "text/html": [
       "<div>\n",
       "<style scoped>\n",
       "    .dataframe tbody tr th:only-of-type {\n",
       "        vertical-align: middle;\n",
       "    }\n",
       "\n",
       "    .dataframe tbody tr th {\n",
       "        vertical-align: top;\n",
       "    }\n",
       "\n",
       "    .dataframe thead th {\n",
       "        text-align: right;\n",
       "    }\n",
       "</style>\n",
       "<table border=\"1\" class=\"dataframe\">\n",
       "  <thead>\n",
       "    <tr style=\"text-align: right;\">\n",
       "      <th></th>\n",
       "      <th>cancer_type</th>\n",
       "      <th>dataset</th>\n",
       "      <th>tissue</th>\n",
       "      <th>sample_barcode</th>\n",
       "      <th>uni_barcode</th>\n",
       "    </tr>\n",
       "    <tr>\n",
       "      <th>uni_barcode</th>\n",
       "      <th></th>\n",
       "      <th></th>\n",
       "      <th></th>\n",
       "      <th></th>\n",
       "      <th></th>\n",
       "    </tr>\n",
       "  </thead>\n",
       "  <tbody>\n",
       "    <tr>\n",
       "      <th>GSE192906_A1_1_0314_AACGAGGT</th>\n",
       "      <td>Ganglioneuroblastoma</td>\n",
       "      <td>GSE192906</td>\n",
       "      <td>Neuronal</td>\n",
       "      <td>GSM5768750_GNB3_UMI_COUNTS_RAW</td>\n",
       "      <td>GSE192906_A1_1_0314_AACGAGGT</td>\n",
       "    </tr>\n",
       "    <tr>\n",
       "      <th>GSE192906_A1_1_0314_AAGCACAT</th>\n",
       "      <td>Ganglioneuroblastoma</td>\n",
       "      <td>GSE192906</td>\n",
       "      <td>Neuronal</td>\n",
       "      <td>GSM5768750_GNB3_UMI_COUNTS_RAW</td>\n",
       "      <td>GSE192906_A1_1_0314_AAGCACAT</td>\n",
       "    </tr>\n",
       "    <tr>\n",
       "      <th>GSE192906_A1_1_0314_ACACCGTG</th>\n",
       "      <td>Ganglioneuroblastoma</td>\n",
       "      <td>GSE192906</td>\n",
       "      <td>Neuronal</td>\n",
       "      <td>GSM5768750_GNB3_UMI_COUNTS_RAW</td>\n",
       "      <td>GSE192906_A1_1_0314_ACACCGTG</td>\n",
       "    </tr>\n",
       "    <tr>\n",
       "      <th>GSE192906_A1_1_0314_ACCTCAGC</th>\n",
       "      <td>Ganglioneuroblastoma</td>\n",
       "      <td>GSE192906</td>\n",
       "      <td>Neuronal</td>\n",
       "      <td>GSM5768750_GNB3_UMI_COUNTS_RAW</td>\n",
       "      <td>GSE192906_A1_1_0314_ACCTCAGC</td>\n",
       "    </tr>\n",
       "    <tr>\n",
       "      <th>GSE192906_A1_1_0314_ACTGTTTG</th>\n",
       "      <td>Ganglioneuroblastoma</td>\n",
       "      <td>GSE192906</td>\n",
       "      <td>Neuronal</td>\n",
       "      <td>GSM5768750_GNB3_UMI_COUNTS_RAW</td>\n",
       "      <td>GSE192906_A1_1_0314_ACTGTTTG</td>\n",
       "    </tr>\n",
       "    <tr>\n",
       "      <th>...</th>\n",
       "      <td>...</td>\n",
       "      <td>...</td>\n",
       "      <td>...</td>\n",
       "      <td>...</td>\n",
       "      <td>...</td>\n",
       "    </tr>\n",
       "    <tr>\n",
       "      <th>GSE192906_K2_2_0314_TCTCACAC</th>\n",
       "      <td>Ganglioneuroblastoma</td>\n",
       "      <td>GSE192906</td>\n",
       "      <td>Neuronal</td>\n",
       "      <td>GSM5768750_GNB3_UMI_COUNTS_RAW</td>\n",
       "      <td>GSE192906_K2_2_0314_TCTCACAC</td>\n",
       "    </tr>\n",
       "    <tr>\n",
       "      <th>GSE192906_K2_2_0314_TGGAGCTC</th>\n",
       "      <td>Ganglioneuroblastoma</td>\n",
       "      <td>GSE192906</td>\n",
       "      <td>Neuronal</td>\n",
       "      <td>GSM5768750_GNB3_UMI_COUNTS_RAW</td>\n",
       "      <td>GSE192906_K2_2_0314_TGGAGCTC</td>\n",
       "    </tr>\n",
       "    <tr>\n",
       "      <th>GSE192906_K2_2_0314_TGTACCAA</th>\n",
       "      <td>Ganglioneuroblastoma</td>\n",
       "      <td>GSE192906</td>\n",
       "      <td>Neuronal</td>\n",
       "      <td>GSM5768750_GNB3_UMI_COUNTS_RAW</td>\n",
       "      <td>GSE192906_K2_2_0314_TGTACCAA</td>\n",
       "    </tr>\n",
       "    <tr>\n",
       "      <th>GSE192906_K2_2_0314_TTACGGGT</th>\n",
       "      <td>Ganglioneuroblastoma</td>\n",
       "      <td>GSE192906</td>\n",
       "      <td>Neuronal</td>\n",
       "      <td>GSM5768750_GNB3_UMI_COUNTS_RAW</td>\n",
       "      <td>GSE192906_K2_2_0314_TTACGGGT</td>\n",
       "    </tr>\n",
       "    <tr>\n",
       "      <th>GSE192906_K2_2_0314_TTCCGTTC</th>\n",
       "      <td>Ganglioneuroblastoma</td>\n",
       "      <td>GSE192906</td>\n",
       "      <td>Neuronal</td>\n",
       "      <td>GSM5768750_GNB3_UMI_COUNTS_RAW</td>\n",
       "      <td>GSE192906_K2_2_0314_TTCCGTTC</td>\n",
       "    </tr>\n",
       "  </tbody>\n",
       "</table>\n",
       "<p>1053 rows × 5 columns</p>\n",
       "</div>"
      ],
      "text/plain": [
       "                                       cancer_type    dataset    tissue  \\\n",
       "uni_barcode                                                               \n",
       "GSE192906_A1_1_0314_AACGAGGT  Ganglioneuroblastoma  GSE192906  Neuronal   \n",
       "GSE192906_A1_1_0314_AAGCACAT  Ganglioneuroblastoma  GSE192906  Neuronal   \n",
       "GSE192906_A1_1_0314_ACACCGTG  Ganglioneuroblastoma  GSE192906  Neuronal   \n",
       "GSE192906_A1_1_0314_ACCTCAGC  Ganglioneuroblastoma  GSE192906  Neuronal   \n",
       "GSE192906_A1_1_0314_ACTGTTTG  Ganglioneuroblastoma  GSE192906  Neuronal   \n",
       "...                                            ...        ...       ...   \n",
       "GSE192906_K2_2_0314_TCTCACAC  Ganglioneuroblastoma  GSE192906  Neuronal   \n",
       "GSE192906_K2_2_0314_TGGAGCTC  Ganglioneuroblastoma  GSE192906  Neuronal   \n",
       "GSE192906_K2_2_0314_TGTACCAA  Ganglioneuroblastoma  GSE192906  Neuronal   \n",
       "GSE192906_K2_2_0314_TTACGGGT  Ganglioneuroblastoma  GSE192906  Neuronal   \n",
       "GSE192906_K2_2_0314_TTCCGTTC  Ganglioneuroblastoma  GSE192906  Neuronal   \n",
       "\n",
       "                                              sample_barcode  \\\n",
       "uni_barcode                                                    \n",
       "GSE192906_A1_1_0314_AACGAGGT  GSM5768750_GNB3_UMI_COUNTS_RAW   \n",
       "GSE192906_A1_1_0314_AAGCACAT  GSM5768750_GNB3_UMI_COUNTS_RAW   \n",
       "GSE192906_A1_1_0314_ACACCGTG  GSM5768750_GNB3_UMI_COUNTS_RAW   \n",
       "GSE192906_A1_1_0314_ACCTCAGC  GSM5768750_GNB3_UMI_COUNTS_RAW   \n",
       "GSE192906_A1_1_0314_ACTGTTTG  GSM5768750_GNB3_UMI_COUNTS_RAW   \n",
       "...                                                      ...   \n",
       "GSE192906_K2_2_0314_TCTCACAC  GSM5768750_GNB3_UMI_COUNTS_RAW   \n",
       "GSE192906_K2_2_0314_TGGAGCTC  GSM5768750_GNB3_UMI_COUNTS_RAW   \n",
       "GSE192906_K2_2_0314_TGTACCAA  GSM5768750_GNB3_UMI_COUNTS_RAW   \n",
       "GSE192906_K2_2_0314_TTACGGGT  GSM5768750_GNB3_UMI_COUNTS_RAW   \n",
       "GSE192906_K2_2_0314_TTCCGTTC  GSM5768750_GNB3_UMI_COUNTS_RAW   \n",
       "\n",
       "                                               uni_barcode  \n",
       "uni_barcode                                                 \n",
       "GSE192906_A1_1_0314_AACGAGGT  GSE192906_A1_1_0314_AACGAGGT  \n",
       "GSE192906_A1_1_0314_AAGCACAT  GSE192906_A1_1_0314_AAGCACAT  \n",
       "GSE192906_A1_1_0314_ACACCGTG  GSE192906_A1_1_0314_ACACCGTG  \n",
       "GSE192906_A1_1_0314_ACCTCAGC  GSE192906_A1_1_0314_ACCTCAGC  \n",
       "GSE192906_A1_1_0314_ACTGTTTG  GSE192906_A1_1_0314_ACTGTTTG  \n",
       "...                                                    ...  \n",
       "GSE192906_K2_2_0314_TCTCACAC  GSE192906_K2_2_0314_TCTCACAC  \n",
       "GSE192906_K2_2_0314_TGGAGCTC  GSE192906_K2_2_0314_TGGAGCTC  \n",
       "GSE192906_K2_2_0314_TGTACCAA  GSE192906_K2_2_0314_TGTACCAA  \n",
       "GSE192906_K2_2_0314_TTACGGGT  GSE192906_K2_2_0314_TTACGGGT  \n",
       "GSE192906_K2_2_0314_TTCCGTTC  GSE192906_K2_2_0314_TTCCGTTC  \n",
       "\n",
       "[1053 rows x 5 columns]"
      ]
     },
     "execution_count": 12,
     "metadata": {},
     "output_type": "execute_result"
    }
   ],
   "source": [
    "sample.obs"
   ]
  },
  {
   "cell_type": "markdown",
   "metadata": {},
   "source": [
    "### 3. Confirmation of created AnnData object"
   ]
  },
  {
   "cell_type": "code",
   "execution_count": 13,
   "metadata": {},
   "outputs": [
    {
     "name": "stdout",
     "output_type": "stream",
     "text": [
      "AnnData object with n_obs × n_vars = 960 × 33514\n",
      "    obs: 'cancer_type', 'dataset', 'tissue', 'sample_barcode', 'uni_barcode'\n",
      "    var: 'gene_symbols'\n"
     ]
    }
   ],
   "source": [
    "output = '/scratch/user/uqjsaxo1/xiaohan-john-project/write/GSE192906/GSM5768743_NB1_UMI_COUNTS_RAW_uni.h5ad'\n",
    "sample = anndata.read_h5ad(output)\n",
    "print(sample)"
   ]
  },
  {
   "cell_type": "markdown",
   "metadata": {},
   "source": [
    "### 4. Convert AnnData objects to SingleCellExperiment objects"
   ]
  },
  {
   "cell_type": "code",
   "execution_count": 14,
   "metadata": {},
   "outputs": [],
   "source": [
    "from pathlib import Path\n",
    "\n",
    "import anndata2ri\n",
    "import rpy2.robjects as robjects\n",
    "from rpy2.robjects import r\n",
    "from rpy2.robjects.conversion import localconverter\n",
    "\n",
    "# Specify directory paths\n",
    "write_directory = Path('/scratch/user/s4543064/xiaohan-john-project/write/GSE102130')\n",
    "\n",
    "# Loop through all files in the directory\n",
    "for file in write_directory.iterdir():\n",
    "    sample_name = file.stem\n",
    "    if \"_uni.h5ad\" in file.name:\n",
    "        sample_anndata = anndata.read_h5ad(file)\n",
    "        sample_sce_file = sample_name + \".rds\"\n",
    "\n",
    "        with localconverter(anndata2ri.converter):\n",
    "            sample_sce = anndata2ri.py2rpy(sample_anndata)\n",
    "        print(sample_sce)\n",
    "        \n",
    "        # Save the sce object in .rds file\n",
    "        robjects.globalenv[\"sample_sce\"] = sample_sce\n",
    "        sample_sce_path = write_directory / sample_sce_file\n",
    "        robjects.r(\"saveRDS(sample_sce, file='{}')\".format(sample_sce_path))"
   ]
  }
 ],
 "metadata": {
  "kernelspec": {
   "display_name": "Python 3 (ipykernel)",
   "language": "python",
   "name": "python3"
  },
  "language_info": {
   "codemirror_mode": {
    "name": "ipython",
    "version": 3
   },
   "file_extension": ".py",
   "mimetype": "text/x-python",
   "name": "python",
   "nbconvert_exporter": "python",
   "pygments_lexer": "ipython3",
   "version": "3.10.13"
  }
 },
 "nbformat": 4,
 "nbformat_minor": 2
}
