{
 "cells": [
  {
   "cell_type": "markdown",
   "metadata": {},
   "source": [
    "### 1. General info of dataset GSE148218\n",
    "\n",
    "This is the Jupyter Notebook for dataset GSE148218. Its dataset includes barcodes/features/matrix files for each sample.\n",
    "\n",
    "Thus, we need to simply incorparate these barcodes/genes/matrix files and generate an AnnData object for each sample. \n",
    "In total, there are 8 acute lymphoblastic leukemia (ALL) samples."
   ]
  },
  {
   "cell_type": "code",
   "execution_count": 2,
   "metadata": {},
   "outputs": [],
   "source": [
    "# Environment setup\n",
    "import numpy as np\n",
    "import pandas as pd\n",
    "import scanpy as sc\n",
    "import anndata as anndata\n",
    "import scipy"
   ]
  },
  {
   "cell_type": "markdown",
   "metadata": {},
   "source": [
    "### 2. AnnData object of each sample\n",
    "\n",
    "<span style=\"color:red\">**IMPORTANT:**</span> rename files to get rid of prefixes\n",
    "\n",
    "1. `barcodes.tsv.gz`: cell barcodes, which go into `.obs`\n",
    "2. `features.tsv.gz`: gene names, `.var`\n",
    "3. `matrix.mtx.gz`: the expression matrix, `.X`"
   ]
  },
  {
   "cell_type": "code",
   "execution_count": 8,
   "metadata": {},
   "outputs": [
    {
     "name": "stdout",
     "output_type": "stream",
     "text": [
      "AnnData object with n_obs × n_vars = 6106 × 32738\n",
      "    obs: 'cancer_type', 'dataset', 'tissue', 'uni_barcode'\n",
      "    var: 'gene_ids', 'feature_types'\n",
      "AnnData object with n_obs × n_vars = 7228 × 32738\n",
      "    obs: 'cancer_type', 'dataset', 'tissue', 'uni_barcode'\n",
      "    var: 'gene_ids', 'feature_types'\n",
      "AnnData object with n_obs × n_vars = 4163 × 32738\n",
      "    obs: 'cancer_type', 'dataset', 'tissue', 'uni_barcode'\n",
      "    var: 'gene_ids', 'feature_types'\n",
      "AnnData object with n_obs × n_vars = 7826 × 32738\n",
      "    obs: 'cancer_type', 'dataset', 'tissue', 'uni_barcode'\n",
      "    var: 'gene_ids', 'feature_types'\n",
      "AnnData object with n_obs × n_vars = 4224 × 32738\n",
      "    obs: 'cancer_type', 'dataset', 'tissue', 'uni_barcode'\n",
      "    var: 'gene_ids', 'feature_types'\n",
      "AnnData object with n_obs × n_vars = 7160 × 32738\n",
      "    obs: 'cancer_type', 'dataset', 'tissue', 'uni_barcode'\n",
      "    var: 'gene_ids', 'feature_types'\n",
      "AnnData object with n_obs × n_vars = 7917 × 32738\n",
      "    obs: 'cancer_type', 'dataset', 'tissue', 'uni_barcode'\n",
      "    var: 'gene_ids', 'feature_types'\n",
      "AnnData object with n_obs × n_vars = 6123 × 32738\n",
      "    obs: 'cancer_type', 'dataset', 'tissue', 'uni_barcode'\n",
      "    var: 'gene_ids', 'feature_types'\n"
     ]
    }
   ],
   "source": [
    "from pathlib import Path\n",
    "\n",
    "# Specify directory paths\n",
    "data_directory = Path('/scratch/user/s4543064/xiaohan-john-project/data/GSE148218')\n",
    "write_directory = Path('/scratch/user/s4543064/xiaohan-john-project/write/GSE148218')\n",
    "\n",
    "# Loop through all files in the directory\n",
    "for sample_directory in data_directory.iterdir():\n",
    "    sample_name = sample_directory.stem\n",
    "    sample_h5ad = sample_name + '_uni.h5ad'\n",
    "\n",
    "    sample = sc.read_10x_mtx(\n",
    "    sample_directory,\n",
    "    var_names='gene_symbols',  \n",
    "    cache=False\n",
    "    )\n",
    "\n",
    "    # Create an observation metric info to store related features\n",
    "    obs_metrics = pd.DataFrame(index=sample.obs_names) ## Get the identifiers\n",
    "    obs_metrics['cancer_type'] = 'acute_lymphoblastic_leukemia'\n",
    "    obs_metrics['dataset'] = 'GSE148218'\n",
    "    obs_metrics['tissue'] = 'bone_marrow'\n",
    "    obs_metrics['uni_barcode'] = obs_metrics['dataset'] + '_' + obs_metrics.index.astype(str)\n",
    "    \n",
    "    sample.obs = obs_metrics\n",
    "    sample.obs.set_index(\"uni_barcode\", drop=False, inplace=True)\n",
    "    print(sample)\n",
    "\n",
    "    # save the anndata object\n",
    "    output_path = write_directory / sample_h5ad\n",
    "    sample.write_h5ad(output_path, compression=\"gzip\")"
   ]
  },
  {
   "cell_type": "code",
   "execution_count": 4,
   "metadata": {},
   "outputs": [
    {
     "name": "stdout",
     "output_type": "stream",
     "text": [
      "AnnData object with n_obs × n_vars = 6123 × 32738\n",
      "    obs: 'cancer_type', 'dataset', 'tissue', 'uni_barcode', 'sample_barcode'\n",
      "    var: 'gene_ids', 'feature_types'\n",
      "AnnData object with n_obs × n_vars = 4163 × 32738\n",
      "    obs: 'cancer_type', 'dataset', 'tissue', 'uni_barcode', 'sample_barcode'\n",
      "    var: 'gene_ids', 'feature_types'\n",
      "AnnData object with n_obs × n_vars = 7826 × 32738\n",
      "    obs: 'cancer_type', 'dataset', 'tissue', 'uni_barcode', 'sample_barcode'\n",
      "    var: 'gene_ids', 'feature_types'\n",
      "AnnData object with n_obs × n_vars = 7917 × 32738\n",
      "    obs: 'cancer_type', 'dataset', 'tissue', 'uni_barcode', 'sample_barcode'\n",
      "    var: 'gene_ids', 'feature_types'\n",
      "AnnData object with n_obs × n_vars = 7160 × 32738\n",
      "    obs: 'cancer_type', 'dataset', 'tissue', 'uni_barcode', 'sample_barcode'\n",
      "    var: 'gene_ids', 'feature_types'\n",
      "AnnData object with n_obs × n_vars = 4224 × 32738\n",
      "    obs: 'cancer_type', 'dataset', 'tissue', 'uni_barcode', 'sample_barcode'\n",
      "    var: 'gene_ids', 'feature_types'\n",
      "AnnData object with n_obs × n_vars = 6106 × 32738\n",
      "    obs: 'cancer_type', 'dataset', 'tissue', 'uni_barcode', 'sample_barcode'\n",
      "    var: 'gene_ids', 'feature_types'\n",
      "AnnData object with n_obs × n_vars = 7228 × 32738\n",
      "    obs: 'cancer_type', 'dataset', 'tissue', 'uni_barcode', 'sample_barcode'\n",
      "    var: 'gene_ids', 'feature_types'\n"
     ]
    }
   ],
   "source": [
    "# Add \"sample_barcode\" info for each sample\n",
    "from pathlib import Path\n",
    "\n",
    "# Specify directory paths\n",
    "rdm_directory = Path('/QRISdata/Q6104/Xiaohan/2_AnnData_objs/GSE148218')\n",
    "write_directory = Path('/scratch/user/s4543064/xiaohan-john-project/write/GSE148218')\n",
    "\n",
    "# Loop through all files in the directory\n",
    "for file in rdm_directory.iterdir():\n",
    "    if \"_uni.h5ad\" in file.name:        \n",
    "        sample = anndata.read_h5ad(file)\n",
    "\n",
    "        sample.obs['sample_barcode'] = file.stem.split(\"_uni\")[0]\n",
    "        print(sample)\n",
    "\n",
    "        # save the anndata object\n",
    "        output_path = write_directory / file.name\n",
    "        sample.write_h5ad(output_path, compression=\"gzip\")"
   ]
  },
  {
   "cell_type": "markdown",
   "metadata": {},
   "source": [
    "### 3. Confirmation of created AnnData objects"
   ]
  },
  {
   "cell_type": "code",
   "execution_count": 7,
   "metadata": {},
   "outputs": [
    {
     "name": "stdout",
     "output_type": "stream",
     "text": [
      "{'GSM4456257_ALL10-d15', 'GSM4456254_ALL9', 'GSM4456255_ALL10', 'GSM4456252_ALL3', 'GSM4456256_ALL12', 'GSM4456251_ALL1', 'GSM4456253_ALL8', 'GSM4456258_ALL12-d15'}\n",
      "8\n"
     ]
    }
   ],
   "source": [
    "from pathlib import Path\n",
    "\n",
    "# Specify directory paths\n",
    "write_directory = Path('/scratch/user/s4543064/xiaohan-john-project/write/GSE148218')\n",
    "sample_barcodes = set()\n",
    "\n",
    "# Loop through all files in the directory\n",
    "for file in write_directory.iterdir():\n",
    "    if \"_uni.h5ad\" in file.name:\n",
    "        sample = anndata.read_h5ad(file)\n",
    "        sample_barcodes.update(set(sample.obs['sample_barcode']))\n",
    "\n",
    "print(sample_barcodes)\n",
    "print(len(sample_barcodes))"
   ]
  },
  {
   "cell_type": "markdown",
   "metadata": {},
   "source": [
    "### 4. Convert AnnData objects to SingleCellExperiment objects"
   ]
  },
  {
   "cell_type": "code",
   "execution_count": 8,
   "metadata": {},
   "outputs": [],
   "source": [
    "from pathlib import Path\n",
    "\n",
    "import anndata2ri\n",
    "import rpy2.robjects as robjects\n",
    "from rpy2.robjects import r\n",
    "from rpy2.robjects.conversion import localconverter\n",
    "\n",
    "# Specify directory paths\n",
    "write_directory = Path('/scratch/user/s4543064/xiaohan-john-project/write/GSE148218')\n",
    "\n",
    "# Loop through all files in the directory\n",
    "for file in write_directory.iterdir():\n",
    "    sample_name = file.stem\n",
    "    if \"_uni.h5ad\" in sample_name:\n",
    "        sample_anndata = anndata.read_h5ad(file)\n",
    "        sample_sce_file = sample_name + \".rds\"\n",
    "\n",
    "        with localconverter(anndata2ri.converter):\n",
    "            sample_sce = anndata2ri.py2rpy(sample_anndata)\n",
    "        \n",
    "        # Save the sce object in .rds file\n",
    "        robjects.globalenv[\"sample_sce\"] = sample_sce\n",
    "        sample_sce_path = write_directory / sample_sce_file\n",
    "        robjects.r(\"saveRDS(sample_sce, file='{}')\".format(sample_sce_path))"
   ]
  },
  {
   "cell_type": "code",
   "execution_count": null,
   "metadata": {},
   "outputs": [],
   "source": [
    "print()"
   ]
  }
 ],
 "metadata": {
  "kernelspec": {
   "display_name": "Python 3 (ipykernel)",
   "language": "python",
   "name": "python3"
  },
  "language_info": {
   "codemirror_mode": {
    "name": "ipython",
    "version": 3
   },
   "file_extension": ".py",
   "mimetype": "text/x-python",
   "name": "python",
   "nbconvert_exporter": "python",
   "pygments_lexer": "ipython3",
   "version": "3.12.2"
  }
 },
 "nbformat": 4,
 "nbformat_minor": 2
}
