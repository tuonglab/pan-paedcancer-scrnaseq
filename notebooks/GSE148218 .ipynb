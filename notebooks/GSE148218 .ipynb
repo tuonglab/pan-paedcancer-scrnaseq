{
 "cells": [
  {
   "cell_type": "markdown",
   "metadata": {},
   "source": [
    "### 1. General info of dataset GSE148218\n",
    "\n",
    "This is the Jupyter Notebook for dataset GSE148218. Its dataset includes barcodes/genes/matrix files for each sample.\n",
    "\n",
    "Thus, we need to simply incorparate these barcodes/genes/matrix files and generate an AnnData object for each sample. \n",
    "In total, there are 8 acute lymphoblastic leukemia (ALL) samples.\n"
   ]
  },
  {
   "cell_type": "code",
   "execution_count": 1,
   "metadata": {},
   "outputs": [],
   "source": [
    "# Environment setup\n",
    "import numpy as np\n",
    "import pandas as pd\n",
    "import scanpy as sc\n",
    "import anndata as anndata\n",
    "import scipy"
   ]
  },
  {
   "cell_type": "markdown",
   "metadata": {},
   "source": [
    "### 2. AnnData object of each sample\n",
    "\n",
    "<span style=\"color:red\">**IMPORTANT:**</span> rename files to get rid of prefixes; rename features.tsv to genes.tsv\n",
    "\n",
    "1. `barcodes.tsv`: cell barcodes, which go into `.obs`\n",
    "2. `genes.tsv`: gene names, `.var`\n",
    "3. `matrix.mtx`: the expression matrix, `.X`"
   ]
  },
  {
   "cell_type": "code",
   "execution_count": 9,
   "metadata": {},
   "outputs": [
    {
     "name": "stdout",
     "output_type": "stream",
     "text": [
      "1\n",
      "AnnData object with n_obs × n_vars = 7228 × 32738\n",
      "    var: 'gene_ids'\n",
      "3\n",
      "AnnData object with n_obs × n_vars = 6123 × 32738\n",
      "    var: 'gene_ids'\n",
      "8\n",
      "AnnData object with n_obs × n_vars = 4163 × 32738\n",
      "    var: 'gene_ids'\n",
      "9\n",
      "AnnData object with n_obs × n_vars = 7826 × 32738\n",
      "    var: 'gene_ids'\n",
      "10\n",
      "AnnData object with n_obs × n_vars = 7160 × 32738\n",
      "    var: 'gene_ids'\n",
      "12\n",
      "AnnData object with n_obs × n_vars = 4224 × 32738\n",
      "    var: 'gene_ids'\n",
      "10-d15\n",
      "AnnData object with n_obs × n_vars = 7917 × 32738\n",
      "    var: 'gene_ids'\n",
      "12-d15\n",
      "AnnData object with n_obs × n_vars = 6106 × 32738\n",
      "    var: 'gene_ids'\n"
     ]
    }
   ],
   "source": [
    "general_input_path = '/scratch/user/s4543064/Xiaohan_Summer_Research/data/GSE148218/GSM445625'\n",
    "general_output_path = '/scratch/user/s4543064/Xiaohan_Summer_Research/write/GSE148218/GSM445625'\n",
    "\n",
    "for i in range(1, 9):\n",
    "    j = ''\n",
    "    if i == 1:\n",
    "        j += '1'\n",
    "    elif i == 2:\n",
    "        j += '3'\n",
    "    elif i == 3:\n",
    "        j += '8'\n",
    "    elif i == 4:\n",
    "        j += '9'\n",
    "    elif i == 5:\n",
    "        j += '10'\n",
    "    elif i == 6:\n",
    "        j += '12'\n",
    "    elif i == 7:\n",
    "        j += '10-d15'\n",
    "    elif i == 8:\n",
    "        j += '12-d15'\n",
    "\n",
    "    actual_input_path = general_input_path + str(i) + '_ALL' + j\n",
    "    actual_output_path = general_output_path + str(i) + '_ALL' + j + '.h5ad'\n",
    "\n",
    "    sample = sc.read_10x_mtx(\n",
    "        actual_input_path,\n",
    "        var_names='gene_symbols',  \n",
    "        cache=False\n",
    "    )\n",
    "    print(j)\n",
    "    print(sample)\n",
    "    \n",
    "    # save the anndata object\n",
    "    sample.write_h5ad(actual_output_path, compression=\"gzip\")"
   ]
  },
  {
   "cell_type": "markdown",
   "metadata": {},
   "source": [
    "### 3. Confirmation of created AnnData objects"
   ]
  },
  {
   "cell_type": "code",
   "execution_count": 10,
   "metadata": {},
   "outputs": [
    {
     "name": "stdout",
     "output_type": "stream",
     "text": [
      "/scratch/user/s4543064/Xiaohan_Summer_Research/write/GSE148218/GSM4456256_ALL12.h5ad\n",
      "AnnData object with n_obs × n_vars = 4224 × 32738\n",
      "    var: 'gene_ids'\n",
      "/scratch/user/s4543064/Xiaohan_Summer_Research/write/GSE148218/GSM4456255_ALL10.h5ad\n",
      "AnnData object with n_obs × n_vars = 7160 × 32738\n",
      "    var: 'gene_ids'\n",
      "/scratch/user/s4543064/Xiaohan_Summer_Research/write/GSE148218/GSM4456258_ALL12-d15.h5ad\n",
      "AnnData object with n_obs × n_vars = 6106 × 32738\n",
      "    var: 'gene_ids'\n",
      "/scratch/user/s4543064/Xiaohan_Summer_Research/write/GSE148218/GSM4456251_ALL1.h5ad\n",
      "AnnData object with n_obs × n_vars = 7228 × 32738\n",
      "    var: 'gene_ids'\n",
      "/scratch/user/s4543064/Xiaohan_Summer_Research/write/GSE148218/GSM4456253_ALL8.h5ad\n",
      "AnnData object with n_obs × n_vars = 4163 × 32738\n",
      "    var: 'gene_ids'\n",
      "/scratch/user/s4543064/Xiaohan_Summer_Research/write/GSE148218/GSM4456254_ALL9.h5ad\n",
      "AnnData object with n_obs × n_vars = 7826 × 32738\n",
      "    var: 'gene_ids'\n",
      "/scratch/user/s4543064/Xiaohan_Summer_Research/write/GSE148218/GSM4456257_ALL10-d15.h5ad\n",
      "AnnData object with n_obs × n_vars = 7917 × 32738\n",
      "    var: 'gene_ids'\n",
      "/scratch/user/s4543064/Xiaohan_Summer_Research/write/GSE148218/GSM4456252_ALL3.h5ad\n",
      "AnnData object with n_obs × n_vars = 6123 × 32738\n",
      "    var: 'gene_ids'\n"
     ]
    }
   ],
   "source": [
    "import os\n",
    "\n",
    "# Specify the directory path\n",
    "directory = '/scratch/user/s4543064/Xiaohan_Summer_Research/write/GSE148218'\n",
    "\n",
    "# Loop through every file in the directory\n",
    "for filename in os.listdir(directory):\n",
    "    # Get the full path of the file\n",
    "    filepath = os.path.join(directory, filename)\n",
    "    # Check if the file is a regular file (not a directory)\n",
    "    if os.path.isfile(filepath):\n",
    "        # Process the file\n",
    "        print(filepath)\n",
    "        sample = anndata.read_h5ad(filepath)\n",
    "        print(sample)\n"
   ]
  }
 ],
 "metadata": {
  "kernelspec": {
   "display_name": "Python 3 (ipykernel)",
   "language": "python",
   "name": "python3"
  },
  "language_info": {
   "codemirror_mode": {
    "name": "ipython",
    "version": 3
   },
   "file_extension": ".py",
   "mimetype": "text/x-python",
   "name": "python",
   "nbconvert_exporter": "python",
   "pygments_lexer": "ipython3",
   "version": "3.8.18"
  }
 },
 "nbformat": 4,
 "nbformat_minor": 2
}
