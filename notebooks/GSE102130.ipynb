{
 "cells": [
  {
   "cell_type": "markdown",
   "metadata": {},
   "source": [
    "### 1. General info of dataset GSE102130\n",
    "\n",
    "This is the Jupyter Notebook for dataset GSE102130. Its dataset includes an overall big txt file. As seen below, in the txt file, each row is a gene and each column is a cell.\n",
    "\n",
    "Thus, we need to transform this txt file and generate an overall AnnData object for all samples. \n",
    "\n"
   ]
  },
  {
   "cell_type": "code",
   "execution_count": 1,
   "metadata": {},
   "outputs": [],
   "source": [
    "# Environment setup\n",
    "import numpy as np\n",
    "import pandas as pd\n",
    "import scanpy as sc\n",
    "import anndata as anndata\n",
    "import scipy"
   ]
  },
  {
   "cell_type": "code",
   "execution_count": 2,
   "metadata": {},
   "outputs": [
    {
     "name": "stdout",
     "output_type": "stream",
     "text": [
      "          MUV1-P04-B12  MUV1-P04-C08  MUV1-P04-D09  MUV1-P04-D10  \\\n",
      "Gene                                                               \n",
      "A1BG               0.0           0.0           0.0           0.0   \n",
      "A1BG-AS1           0.0           0.0           0.0           0.0   \n",
      "A1CF               0.0           0.0           0.0           0.0   \n",
      "A2M                0.0           0.0           0.0           0.0   \n",
      "A2M-AS1            0.0           0.0           0.0           0.0   \n",
      "\n",
      "          MUV1-P04-E03  MUV1-P04-E07  MUV1-P04-E08  MUV1-P04-E10  \\\n",
      "Gene                                                               \n",
      "A1BG              0.00          0.00          0.00          0.00   \n",
      "A1BG-AS1          0.00          0.00          0.00          0.00   \n",
      "A1CF              0.00          0.00          0.53          0.34   \n",
      "A2M             348.48        362.08          0.00          0.00   \n",
      "A2M-AS1           0.00          1.19          0.00          0.00   \n",
      "\n",
      "          MUV1-P04-E11  MUV1-P04-F05  ...  Oligo-P22-G05  Oligo-P22-G07  \\\n",
      "Gene                                  ...                                 \n",
      "A1BG               0.0          0.00  ...            0.0         132.26   \n",
      "A1BG-AS1           0.0          0.00  ...            0.0           0.00   \n",
      "A1CF               0.0          0.00  ...            0.0           0.65   \n",
      "A2M                0.0         27.17  ...            0.0           0.00   \n",
      "A2M-AS1            0.0          0.00  ...            0.0           0.00   \n",
      "\n",
      "          Oligo-P22-G11  Oligo-P22-G12  Oligo-P22-H02  Oligo-P22-H03  \\\n",
      "Gene                                                                   \n",
      "A1BG                0.0            0.0            0.0            0.0   \n",
      "A1BG-AS1            0.0            0.0            0.0            0.0   \n",
      "A1CF                0.0            0.0            0.0            0.0   \n",
      "A2M                 0.0            0.0            0.0            0.0   \n",
      "A2M-AS1             0.0            0.0            0.0            0.0   \n",
      "\n",
      "          Oligo-P22-H05  Oligo-P22-H06  Oligo-P22-H08  Oligo-P22-H09  \n",
      "Gene                                                                  \n",
      "A1BG                0.0            0.0           0.00            0.0  \n",
      "A1BG-AS1            0.0            0.0           0.00            0.0  \n",
      "A1CF                0.0            0.0           0.00            0.0  \n",
      "A2M                 0.0            0.0           0.00            0.0  \n",
      "A2M-AS1             0.0            0.0        1098.07            0.0  \n",
      "\n",
      "[5 rows x 4058 columns]\n",
      "(23686, 4058)\n"
     ]
    }
   ],
   "source": [
    "# inspect the dataset\n",
    "path = '/scratch/user/s4543064/Xiaohan_Summer_Research/data/GSE102130/GSE102130_K27Mproject.RSEM.vh20170621.txt'\n",
    "input = pd.read_csv(path, sep='\\t', index_col=0) # the first column contains gene names and is the index\n",
    "\n",
    "print(input.head()) \n",
    "print(input.shape) # (23686 rows, 4058 columns)"
   ]
  },
  {
   "cell_type": "markdown",
   "metadata": {},
   "source": [
    "As shown above, the dataset contains 4058 cells and 23686 genes."
   ]
  },
  {
   "cell_type": "markdown",
   "metadata": {},
   "source": [
    "### 2. Overall AnnData object of the dataset\n",
    "\n",
    "<span style=\"color:red\">**IMPORTANT:**</span> transpose the DataFrame.values to match the AnnData.X\n",
    "\n",
    "1. `DataFrame.columns`: cell barcodes, which go into `.obs`\n",
    "2. `DataFrame.index`: gene names, `.var`\n",
    "3. `DataFrame.values`: the transpose of the expression matrix, `.X`"
   ]
  },
  {
   "cell_type": "code",
   "execution_count": 8,
   "metadata": {},
   "outputs": [
    {
     "name": "stderr",
     "output_type": "stream",
     "text": [
      "/home/s4543064/miniforge3/envs/summer_env/lib/python3.8/site-packages/anndata/_core/anndata.py:121: ImplicitModificationWarning: Transforming to str index.\n",
      "  warnings.warn(\"Transforming to str index.\", ImplicitModificationWarning)\n"
     ]
    },
    {
     "name": "stdout",
     "output_type": "stream",
     "text": [
      "AnnData object with n_obs × n_vars = 4058 × 23686\n",
      "    var: 'gene_symbols'\n"
     ]
    }
   ],
   "source": [
    "matrix = scipy.sparse.csr_matrix(input.values.T)\n",
    "obs_name = pd.DataFrame(index=input.columns)\n",
    "var_name = pd.DataFrame(input.index)\n",
    "var_name.rename(columns={'Gene': 'gene_symbols'}, inplace=True)\n",
    "\n",
    "sample = anndata.AnnData(X=matrix, obs=obs_name, var=var_name)\n",
    "print(sample)\n",
    "\n",
    "# save the anndata object\n",
    "sample.write_h5ad('/scratch/user/s4543064/Xiaohan_Summer_Research/write/GSE102130/GSE102130_K27Mproject.RSEM.vh20170621.h5ad', compression=\"gzip\")"
   ]
  },
  {
   "cell_type": "markdown",
   "metadata": {},
   "source": [
    "### 3. Confirmation of created AnnData object"
   ]
  },
  {
   "cell_type": "code",
   "execution_count": 9,
   "metadata": {},
   "outputs": [
    {
     "name": "stdout",
     "output_type": "stream",
     "text": [
      "AnnData object with n_obs × n_vars = 4058 × 23686\n",
      "    var: 'gene_symbols'\n"
     ]
    }
   ],
   "source": [
    "output = '/scratch/user/s4543064/Xiaohan_Summer_Research/write/GSE102130/GSE102130_K27Mproject.RSEM.vh20170621.h5ad'\n",
    "sample = anndata.read_h5ad(output)\n",
    "print(sample)"
   ]
  }
 ],
 "metadata": {
  "kernelspec": {
   "display_name": "Python 3 (ipykernel)",
   "language": "python",
   "name": "python3"
  },
  "language_info": {
   "codemirror_mode": {
    "name": "ipython",
    "version": 3
   },
   "file_extension": ".py",
   "mimetype": "text/x-python",
   "name": "python",
   "nbconvert_exporter": "python",
   "pygments_lexer": "ipython3",
   "version": "3.8.18"
  }
 },
 "nbformat": 4,
 "nbformat_minor": 2
}
