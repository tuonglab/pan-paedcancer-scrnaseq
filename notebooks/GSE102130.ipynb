{
 "cells": [
  {
   "cell_type": "markdown",
   "metadata": {},
   "source": [
    "### 1. General info of dataset GSE102130\n",
    "\n",
    "This is the Jupyter Notebook for dataset GSE102130. Its dataset includes an overall big txt file. As seen below, in the txt file, each row is a gene and each column is a cell.\n",
    "\n",
    "Thus, we need to transform this txt file and generate an overall AnnData object for all samples. \n",
    "\n"
   ]
  },
  {
   "cell_type": "code",
   "execution_count": 1,
   "metadata": {},
   "outputs": [],
   "source": [
    "# Environment setup\n",
    "import numpy as np\n",
    "import pandas as pd\n",
    "import scanpy as sc\n",
    "import anndata as anndata\n",
    "import scipy"
   ]
  },
  {
   "cell_type": "code",
   "execution_count": 5,
   "metadata": {},
   "outputs": [
    {
     "name": "stdout",
     "output_type": "stream",
     "text": [
      "          MUV1-P04-B12  MUV1-P04-C08  MUV1-P04-D09  MUV1-P04-D10  \\\n",
      "Gene                                                               \n",
      "A1BG               0.0           0.0           0.0           0.0   \n",
      "A1BG-AS1           0.0           0.0           0.0           0.0   \n",
      "A1CF               0.0           0.0           0.0           0.0   \n",
      "A2M                0.0           0.0           0.0           0.0   \n",
      "A2M-AS1            0.0           0.0           0.0           0.0   \n",
      "\n",
      "          MUV1-P04-E03  MUV1-P04-E07  MUV1-P04-E08  MUV1-P04-E10  \\\n",
      "Gene                                                               \n",
      "A1BG              0.00          0.00          0.00          0.00   \n",
      "A1BG-AS1          0.00          0.00          0.00          0.00   \n",
      "A1CF              0.00          0.00          0.53          0.34   \n",
      "A2M             348.48        362.08          0.00          0.00   \n",
      "A2M-AS1           0.00          1.19          0.00          0.00   \n",
      "\n",
      "          MUV1-P04-E11  MUV1-P04-F05  ...  Oligo-P22-G05  Oligo-P22-G07  \\\n",
      "Gene                                  ...                                 \n",
      "A1BG               0.0          0.00  ...            0.0         132.26   \n",
      "A1BG-AS1           0.0          0.00  ...            0.0           0.00   \n",
      "A1CF               0.0          0.00  ...            0.0           0.65   \n",
      "A2M                0.0         27.17  ...            0.0           0.00   \n",
      "A2M-AS1            0.0          0.00  ...            0.0           0.00   \n",
      "\n",
      "          Oligo-P22-G11  Oligo-P22-G12  Oligo-P22-H02  Oligo-P22-H03  \\\n",
      "Gene                                                                   \n",
      "A1BG                0.0            0.0            0.0            0.0   \n",
      "A1BG-AS1            0.0            0.0            0.0            0.0   \n",
      "A1CF                0.0            0.0            0.0            0.0   \n",
      "A2M                 0.0            0.0            0.0            0.0   \n",
      "A2M-AS1             0.0            0.0            0.0            0.0   \n",
      "\n",
      "          Oligo-P22-H05  Oligo-P22-H06  Oligo-P22-H08  Oligo-P22-H09  \n",
      "Gene                                                                  \n",
      "A1BG                0.0            0.0           0.00            0.0  \n",
      "A1BG-AS1            0.0            0.0           0.00            0.0  \n",
      "A1CF                0.0            0.0           0.00            0.0  \n",
      "A2M                 0.0            0.0           0.00            0.0  \n",
      "A2M-AS1             0.0            0.0        1098.07            0.0  \n",
      "\n",
      "[5 rows x 4058 columns]\n",
      "(23686, 4058)\n"
     ]
    }
   ],
   "source": [
    "# inspect the dataset\n",
    "path = '/scratch/user/s4543064/Xiaohan_Summer_Research/data/GSE102130/GSE102130_K27Mproject.RSEM.vh20170621.txt'\n",
    "input = pd.read_csv(path, sep='\\t', index_col=0) # the first column contains gene names and is the index\n",
    "\n",
    "print(input.head()) \n",
    "print(input.shape) # (23686 rows, 4058 columns)"
   ]
  },
  {
   "cell_type": "markdown",
   "metadata": {},
   "source": [
    "As shown above, the dataset contains 4058 cells and 23686 genes."
   ]
  },
  {
   "cell_type": "markdown",
   "metadata": {},
   "source": [
    "### 2. Overall AnnData object of the dataset\n",
    "\n",
    "<span style=\"color:red\">**IMPORTANT:**</span> transpose the DataFrame.values to match the AnnData.X\n",
    "\n",
    "1. `DataFrame.columns`: cell barcodes, which go into `.obs`\n",
    "2. `DataFrame.index`: gene names, `.var`\n",
    "3. `DataFrame.values`: the transpose of the expression matrix, `.X`"
   ]
  },
  {
   "cell_type": "code",
   "execution_count": 10,
   "metadata": {},
   "outputs": [
    {
     "name": "stderr",
     "output_type": "stream",
     "text": [
      "/home/s4543064/miniforge3/envs/test/lib/python3.12/site-packages/anndata/_core/anndata.py:183: ImplicitModificationWarning: Transforming to str index.\n",
      "  warnings.warn(\"Transforming to str index.\", ImplicitModificationWarning)\n"
     ]
    },
    {
     "name": "stdout",
     "output_type": "stream",
     "text": [
      "AnnData object with n_obs × n_vars = 4058 × 23686\n",
      "    var: 'gene_symbols'\n",
      "AnnData object with n_obs × n_vars = 4058 × 23686\n",
      "    obs: 'cancer_type', 'dataset', 'tissue', 'uni_barcode'\n",
      "    var: 'gene_symbols'\n"
     ]
    }
   ],
   "source": [
    "matrix = scipy.sparse.csr_matrix(input.values.T)\n",
    "obs_name = pd.DataFrame(index=input.columns)\n",
    "var_name = pd.DataFrame(input.index)\n",
    "var_name.rename(columns={'Gene': 'gene_symbols'}, inplace=True)\n",
    "\n",
    "sample = anndata.AnnData(X=matrix, obs=obs_name, var=var_name)\n",
    "print(sample)\n",
    "\n",
    "# Create an observation metric info to store related features\n",
    "obs_metrics = pd.DataFrame(index=sample.obs_names) ## Get the identifiers\n",
    "obs_metrics['cancer_type'] = 'H3K27M-glioma'\n",
    "obs_metrics['dataset'] = 'GSE102130'\n",
    "obs_metrics['tissue'] = 'brain'\n",
    "obs_metrics['uni_barcode'] = obs_metrics['dataset'] + '_' + obs_metrics.index.astype(str)\n",
    "\n",
    "sample.obs = obs_metrics\n",
    "sample.obs.set_index(\"uni_barcode\", drop=False, inplace=True)\n",
    "print(sample)\n",
    "\n",
    "# save the anndata object\n",
    "sample.write_h5ad('/scratch/user/s4543064/xiaohan-john-project/write/GSE102130/GSE102130_K27Mproject.RSEM.vh20170621_uni.h5ad', compression=\"gzip\")"
   ]
  },
  {
   "cell_type": "code",
   "execution_count": 11,
   "metadata": {},
   "outputs": [
    {
     "data": {
      "text/html": [
       "<div>\n",
       "<style scoped>\n",
       "    .dataframe tbody tr th:only-of-type {\n",
       "        vertical-align: middle;\n",
       "    }\n",
       "\n",
       "    .dataframe tbody tr th {\n",
       "        vertical-align: top;\n",
       "    }\n",
       "\n",
       "    .dataframe thead th {\n",
       "        text-align: right;\n",
       "    }\n",
       "</style>\n",
       "<table border=\"1\" class=\"dataframe\">\n",
       "  <thead>\n",
       "    <tr style=\"text-align: right;\">\n",
       "      <th></th>\n",
       "      <th>cancer_type</th>\n",
       "      <th>dataset</th>\n",
       "      <th>tissue</th>\n",
       "      <th>uni_barcode</th>\n",
       "    </tr>\n",
       "    <tr>\n",
       "      <th>uni_barcode</th>\n",
       "      <th></th>\n",
       "      <th></th>\n",
       "      <th></th>\n",
       "      <th></th>\n",
       "    </tr>\n",
       "  </thead>\n",
       "  <tbody>\n",
       "    <tr>\n",
       "      <th>GSE102130_MUV1-P04-B12</th>\n",
       "      <td>H3K27M-glioma</td>\n",
       "      <td>GSE102130</td>\n",
       "      <td>brain</td>\n",
       "      <td>GSE102130_MUV1-P04-B12</td>\n",
       "    </tr>\n",
       "    <tr>\n",
       "      <th>GSE102130_MUV1-P04-C08</th>\n",
       "      <td>H3K27M-glioma</td>\n",
       "      <td>GSE102130</td>\n",
       "      <td>brain</td>\n",
       "      <td>GSE102130_MUV1-P04-C08</td>\n",
       "    </tr>\n",
       "    <tr>\n",
       "      <th>GSE102130_MUV1-P04-D09</th>\n",
       "      <td>H3K27M-glioma</td>\n",
       "      <td>GSE102130</td>\n",
       "      <td>brain</td>\n",
       "      <td>GSE102130_MUV1-P04-D09</td>\n",
       "    </tr>\n",
       "    <tr>\n",
       "      <th>GSE102130_MUV1-P04-D10</th>\n",
       "      <td>H3K27M-glioma</td>\n",
       "      <td>GSE102130</td>\n",
       "      <td>brain</td>\n",
       "      <td>GSE102130_MUV1-P04-D10</td>\n",
       "    </tr>\n",
       "    <tr>\n",
       "      <th>GSE102130_MUV1-P04-E03</th>\n",
       "      <td>H3K27M-glioma</td>\n",
       "      <td>GSE102130</td>\n",
       "      <td>brain</td>\n",
       "      <td>GSE102130_MUV1-P04-E03</td>\n",
       "    </tr>\n",
       "    <tr>\n",
       "      <th>...</th>\n",
       "      <td>...</td>\n",
       "      <td>...</td>\n",
       "      <td>...</td>\n",
       "      <td>...</td>\n",
       "    </tr>\n",
       "    <tr>\n",
       "      <th>GSE102130_Oligo-P22-H03</th>\n",
       "      <td>H3K27M-glioma</td>\n",
       "      <td>GSE102130</td>\n",
       "      <td>brain</td>\n",
       "      <td>GSE102130_Oligo-P22-H03</td>\n",
       "    </tr>\n",
       "    <tr>\n",
       "      <th>GSE102130_Oligo-P22-H05</th>\n",
       "      <td>H3K27M-glioma</td>\n",
       "      <td>GSE102130</td>\n",
       "      <td>brain</td>\n",
       "      <td>GSE102130_Oligo-P22-H05</td>\n",
       "    </tr>\n",
       "    <tr>\n",
       "      <th>GSE102130_Oligo-P22-H06</th>\n",
       "      <td>H3K27M-glioma</td>\n",
       "      <td>GSE102130</td>\n",
       "      <td>brain</td>\n",
       "      <td>GSE102130_Oligo-P22-H06</td>\n",
       "    </tr>\n",
       "    <tr>\n",
       "      <th>GSE102130_Oligo-P22-H08</th>\n",
       "      <td>H3K27M-glioma</td>\n",
       "      <td>GSE102130</td>\n",
       "      <td>brain</td>\n",
       "      <td>GSE102130_Oligo-P22-H08</td>\n",
       "    </tr>\n",
       "    <tr>\n",
       "      <th>GSE102130_Oligo-P22-H09</th>\n",
       "      <td>H3K27M-glioma</td>\n",
       "      <td>GSE102130</td>\n",
       "      <td>brain</td>\n",
       "      <td>GSE102130_Oligo-P22-H09</td>\n",
       "    </tr>\n",
       "  </tbody>\n",
       "</table>\n",
       "<p>4058 rows × 4 columns</p>\n",
       "</div>"
      ],
      "text/plain": [
       "                           cancer_type    dataset tissue  \\\n",
       "uni_barcode                                                \n",
       "GSE102130_MUV1-P04-B12   H3K27M-glioma  GSE102130  brain   \n",
       "GSE102130_MUV1-P04-C08   H3K27M-glioma  GSE102130  brain   \n",
       "GSE102130_MUV1-P04-D09   H3K27M-glioma  GSE102130  brain   \n",
       "GSE102130_MUV1-P04-D10   H3K27M-glioma  GSE102130  brain   \n",
       "GSE102130_MUV1-P04-E03   H3K27M-glioma  GSE102130  brain   \n",
       "...                                ...        ...    ...   \n",
       "GSE102130_Oligo-P22-H03  H3K27M-glioma  GSE102130  brain   \n",
       "GSE102130_Oligo-P22-H05  H3K27M-glioma  GSE102130  brain   \n",
       "GSE102130_Oligo-P22-H06  H3K27M-glioma  GSE102130  brain   \n",
       "GSE102130_Oligo-P22-H08  H3K27M-glioma  GSE102130  brain   \n",
       "GSE102130_Oligo-P22-H09  H3K27M-glioma  GSE102130  brain   \n",
       "\n",
       "                                     uni_barcode  \n",
       "uni_barcode                                       \n",
       "GSE102130_MUV1-P04-B12    GSE102130_MUV1-P04-B12  \n",
       "GSE102130_MUV1-P04-C08    GSE102130_MUV1-P04-C08  \n",
       "GSE102130_MUV1-P04-D09    GSE102130_MUV1-P04-D09  \n",
       "GSE102130_MUV1-P04-D10    GSE102130_MUV1-P04-D10  \n",
       "GSE102130_MUV1-P04-E03    GSE102130_MUV1-P04-E03  \n",
       "...                                          ...  \n",
       "GSE102130_Oligo-P22-H03  GSE102130_Oligo-P22-H03  \n",
       "GSE102130_Oligo-P22-H05  GSE102130_Oligo-P22-H05  \n",
       "GSE102130_Oligo-P22-H06  GSE102130_Oligo-P22-H06  \n",
       "GSE102130_Oligo-P22-H08  GSE102130_Oligo-P22-H08  \n",
       "GSE102130_Oligo-P22-H09  GSE102130_Oligo-P22-H09  \n",
       "\n",
       "[4058 rows x 4 columns]"
      ]
     },
     "execution_count": 11,
     "metadata": {},
     "output_type": "execute_result"
    }
   ],
   "source": [
    "sample.obs"
   ]
  },
  {
   "cell_type": "markdown",
   "metadata": {},
   "source": [
    "### 3. Confirmation of created AnnData object"
   ]
  },
  {
   "cell_type": "code",
   "execution_count": 2,
   "metadata": {},
   "outputs": [
    {
     "name": "stdout",
     "output_type": "stream",
     "text": [
      "AnnData object with n_obs × n_vars = 4058 × 23686\n",
      "    obs: 'cancer_type', 'dataset', 'tissue', 'uni_barcode'\n",
      "    var: 'gene_symbols'\n"
     ]
    }
   ],
   "source": [
    "output = '/scratch/user/s4543064/xiaohan-john-project/write/GSE102130/GSE102130_K27Mproject.RSEM.vh20170621_uni.h5ad'\n",
    "sample = anndata.read_h5ad(output)\n",
    "print(sample)"
   ]
  },
  {
   "cell_type": "code",
   "execution_count": 4,
   "metadata": {},
   "outputs": [],
   "source": [
    "sample.obs['sample_barcode'] = 'GSE102130'\n",
    "sample\n",
    "\n",
    "# Save the AnnData object\n",
    "sample.write_h5ad('/scratch/user/s4543064/xiaohan-john-project/write/GSE102130/GSE102130_K27Mproject.RSEM.vh20170621_uni.h5ad', compression=\"gzip\")"
   ]
  },
  {
   "cell_type": "markdown",
   "metadata": {},
   "source": [
    "### 4. Convert AnnData objects to SingleCellExperiment objects"
   ]
  },
  {
   "cell_type": "code",
   "execution_count": 5,
   "metadata": {},
   "outputs": [],
   "source": [
    "from pathlib import Path\n",
    "\n",
    "import anndata2ri\n",
    "import rpy2.robjects as robjects\n",
    "from rpy2.robjects import r\n",
    "from rpy2.robjects.conversion import localconverter\n",
    "\n",
    "# Specify directory paths\n",
    "write_directory = Path('/scratch/user/s4543064/xiaohan-john-project/write/GSE102130')\n",
    "\n",
    "# Loop through all files in the directory\n",
    "for file in write_directory.iterdir():\n",
    "    sample_name = file.stem\n",
    "    if \"_uni.h5ad\" in file.name:\n",
    "        sample_anndata = anndata.read_h5ad(file)\n",
    "        sample_sce_file = sample_name + \".rds\"\n",
    "\n",
    "        with localconverter(anndata2ri.converter):\n",
    "            sample_sce = anndata2ri.py2rpy(sample_anndata)\n",
    "        # print(sample_sce)\n",
    "        \n",
    "        # Save the sce object in .rds file\n",
    "        robjects.globalenv[\"sample_sce\"] = sample_sce\n",
    "        sample_sce_path = write_directory / sample_sce_file\n",
    "        robjects.r(\"saveRDS(sample_sce, file='{}')\".format(sample_sce_path))"
   ]
  },
  {
   "cell_type": "code",
   "execution_count": 6,
   "metadata": {},
   "outputs": [
    {
     "name": "stdout",
     "output_type": "stream",
     "text": [
      "class: SingleCellExperiment \n",
      "dim: 23686 4058 \n",
      "metadata(0):\n",
      "assays(1): X\n",
      "rownames(23686): 0 1 ... 23684 23685\n",
      "rowData names(1): gene_symbols\n",
      "colnames(4058): GSE102130_MUV1-P04-B12 GSE102130_MUV1-P04-C08 ...\n",
      "  GSE102130_Oligo-P22-H08 GSE102130_Oligo-P22-H09\n",
      "colData names(5): cancer_type dataset tissue uni_barcode sample_barcode\n",
      "reducedDimNames(0):\n",
      "mainExpName: NULL\n",
      "altExpNames(0):\n",
      "\n"
     ]
    }
   ],
   "source": [
    "print(sample_sce)"
   ]
  }
 ],
 "metadata": {
  "kernelspec": {
   "display_name": "Python 3 (ipykernel)",
   "language": "python",
   "name": "python3"
  },
  "language_info": {
   "codemirror_mode": {
    "name": "ipython",
    "version": 3
   },
   "file_extension": ".py",
   "mimetype": "text/x-python",
   "name": "python",
   "nbconvert_exporter": "python",
   "pygments_lexer": "ipython3",
   "version": "3.12.2"
  }
 },
 "nbformat": 4,
 "nbformat_minor": 2
}
