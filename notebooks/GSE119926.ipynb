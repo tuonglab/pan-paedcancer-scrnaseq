{
 "cells": [
  {
   "cell_type": "markdown",
   "metadata": {},
   "source": [
    "### 1. General info of dataset GSE119926\n",
    "\n",
    "This is the Jupyter Notebook for dataset GSE119926. Its dataset includes a txt file for each sample. As seen below, in the txt file, each row is a gene and each column is a cell.\n",
    "\n",
    "Thus, we need to transform this txt file and generate an AnnData object for all samples for each sample. In total, there are 25 fresh surgical resection samples (23 diagnostic samples and 2 recurrences) and 11 patient-derived xenograft (PDX) samples.\n",
    "\n",
    "<span style=\"color:green\">**[BCH]**</span> fresh tumour biopsies from Boston Children's Hospital\n",
    "\n",
    "<span style=\"color:green\">**[MUV]**</span> fresh tumour biopsies from Vienna General Hospital\n",
    "\n",
    "<span style=\"color:green\">**[SJ]**</span> fresh tumour biopsies from LeBonheur Children's Hospital"
   ]
  },
  {
   "cell_type": "code",
   "execution_count": 1,
   "metadata": {},
   "outputs": [],
   "source": [
    "# Environment setup\n",
    "import numpy as np\n",
    "import pandas as pd\n",
    "import scanpy as sc\n",
    "import anndata as anndata\n",
    "import scipy"
   ]
  },
  {
   "cell_type": "code",
   "execution_count": 3,
   "metadata": {},
   "outputs": [
    {
     "name": "stdout",
     "output_type": "stream",
     "text": [
      "          BCH807-P02-A01  BCH807-P02-A02  BCH807-P02-A03  BCH807-P02-A04  \\\n",
      "A1BG                 0.0            2.26           0.000             0.0   \n",
      "A1BG-AS1             0.0            0.00           1.183             0.0   \n",
      "A1CF                 0.0            0.00           0.000             0.0   \n",
      "A2M                  0.0            0.00           0.550             0.0   \n",
      "A2M-AS1              0.0            0.00           0.000             0.0   \n",
      "\n",
      "          BCH807-P02-A05  BCH807-P02-A06  BCH807-P02-A07  BCH807-P02-A08  \\\n",
      "A1BG                 0.0           0.559             0.0             0.0   \n",
      "A1BG-AS1             0.0           2.174             0.0             0.0   \n",
      "A1CF                 0.0           0.000             0.0             0.0   \n",
      "A2M                  0.0           0.000             0.0             0.0   \n",
      "A2M-AS1              0.0           0.000             0.0             0.0   \n",
      "\n",
      "          BCH807-P02-A09  BCH807-P02-A10  ...  BCH807-P05-H01  BCH807-P05-H02  \\\n",
      "A1BG               0.871           1.872  ...           0.000           0.000   \n",
      "A1BG-AS1           0.000           1.493  ...           0.000           0.209   \n",
      "A1CF               0.000           0.047  ...           0.088           0.000   \n",
      "A2M                0.000           0.000  ...           0.000           0.000   \n",
      "A2M-AS1            0.000           0.000  ...           0.000           0.000   \n",
      "\n",
      "          BCH807-P05-H04  BCH807-P05-H05  BCH807-P05-H06  BCH807-P05-H07  \\\n",
      "A1BG               0.574           1.023             0.0             0.0   \n",
      "A1BG-AS1           1.006           0.000             0.0             0.0   \n",
      "A1CF               0.000           0.000             0.0             0.0   \n",
      "A2M                0.000           0.000             0.0             0.0   \n",
      "A2M-AS1            0.000           0.000             0.0             0.0   \n",
      "\n",
      "          BCH807-P05-H08  BCH807-P05-H09  BCH807-P05-H10  BCH807-P05-H11  \n",
      "A1BG               0.000             0.0             0.0           2.251  \n",
      "A1BG-AS1           2.838             0.0             0.0           0.000  \n",
      "A1CF               0.000             0.0             0.0           0.034  \n",
      "A2M                0.000             0.0             0.0           0.068  \n",
      "A2M-AS1            0.000             0.0             0.0           0.000  \n",
      "\n",
      "[5 rows x 307 columns]\n",
      "(23686, 307)\n"
     ]
    }
   ],
   "source": [
    "# inspect the txt for each sample\n",
    "path = '/scratch/user/s4543064/xiaohan-john-project/data/GSE119926/GSM3905406_BCH807.txt'\n",
    "input = pd.read_csv(path, sep='\\t', index_col=0) # the first column contains gene names and is the index\n",
    "\n",
    "print(input.head()) \n",
    "print(input.shape) # (23686 rows, 307 columns)"
   ]
  },
  {
   "cell_type": "markdown",
   "metadata": {},
   "source": [
    "### 2. AnnData object of each sample\n",
    "\n",
    "<span style=\"color:red\">**IMPORTANT:**</span> transpose the DataFrame.values to match the AnnData.X\n",
    "\n",
    "1. `DataFrame.columns`: cell barcodes, which go into `.obs`\n",
    "2. `DataFrame.index`: gene names, `.var`\n",
    "3. `DataFrame.values`: the transpose of the expression matrix, `.X`"
   ]
  },
  {
   "cell_type": "code",
   "execution_count": 4,
   "metadata": {},
   "outputs": [
    {
     "name": "stderr",
     "output_type": "stream",
     "text": [
      "/home/s4543064/miniforge3/envs/test/lib/python3.12/site-packages/anndata/_core/anndata.py:183: ImplicitModificationWarning: Transforming to str index.\n",
      "  warnings.warn(\"Transforming to str index.\", ImplicitModificationWarning)\n"
     ]
    },
    {
     "name": "stdout",
     "output_type": "stream",
     "text": [
      "AnnData object with n_obs × n_vars = 81 × 23686\n",
      "    var: 'gene_symbols'\n",
      "AnnData object with n_obs × n_vars = 81 × 23686\n",
      "    obs: 'cancer_type', 'dataset', 'tissue', 'uni_barcode'\n",
      "    var: 'gene_symbols'\n"
     ]
    },
    {
     "name": "stderr",
     "output_type": "stream",
     "text": [
      "/home/s4543064/miniforge3/envs/test/lib/python3.12/site-packages/anndata/_core/anndata.py:183: ImplicitModificationWarning: Transforming to str index.\n",
      "  warnings.warn(\"Transforming to str index.\", ImplicitModificationWarning)\n"
     ]
    },
    {
     "name": "stdout",
     "output_type": "stream",
     "text": [
      "AnnData object with n_obs × n_vars = 190 × 23686\n",
      "    var: 'gene_symbols'\n",
      "AnnData object with n_obs × n_vars = 190 × 23686\n",
      "    obs: 'cancer_type', 'dataset', 'tissue', 'uni_barcode'\n",
      "    var: 'gene_symbols'\n"
     ]
    },
    {
     "name": "stderr",
     "output_type": "stream",
     "text": [
      "/home/s4543064/miniforge3/envs/test/lib/python3.12/site-packages/anndata/_core/anndata.py:183: ImplicitModificationWarning: Transforming to str index.\n",
      "  warnings.warn(\"Transforming to str index.\", ImplicitModificationWarning)\n"
     ]
    },
    {
     "name": "stdout",
     "output_type": "stream",
     "text": [
      "AnnData object with n_obs × n_vars = 334 × 23686\n",
      "    var: 'gene_symbols'\n",
      "AnnData object with n_obs × n_vars = 334 × 23686\n",
      "    obs: 'cancer_type', 'dataset', 'tissue', 'uni_barcode'\n",
      "    var: 'gene_symbols'\n"
     ]
    },
    {
     "name": "stderr",
     "output_type": "stream",
     "text": [
      "/home/s4543064/miniforge3/envs/test/lib/python3.12/site-packages/anndata/_core/anndata.py:183: ImplicitModificationWarning: Transforming to str index.\n",
      "  warnings.warn(\"Transforming to str index.\", ImplicitModificationWarning)\n"
     ]
    },
    {
     "name": "stdout",
     "output_type": "stream",
     "text": [
      "AnnData object with n_obs × n_vars = 86 × 23686\n",
      "    var: 'gene_symbols'\n",
      "AnnData object with n_obs × n_vars = 86 × 23686\n",
      "    obs: 'cancer_type', 'dataset', 'tissue', 'uni_barcode'\n",
      "    var: 'gene_symbols'\n"
     ]
    },
    {
     "name": "stderr",
     "output_type": "stream",
     "text": [
      "/home/s4543064/miniforge3/envs/test/lib/python3.12/site-packages/anndata/_core/anndata.py:183: ImplicitModificationWarning: Transforming to str index.\n",
      "  warnings.warn(\"Transforming to str index.\", ImplicitModificationWarning)\n"
     ]
    },
    {
     "name": "stdout",
     "output_type": "stream",
     "text": [
      "AnnData object with n_obs × n_vars = 293 × 23686\n",
      "    var: 'gene_symbols'\n",
      "AnnData object with n_obs × n_vars = 293 × 23686\n",
      "    obs: 'cancer_type', 'dataset', 'tissue', 'uni_barcode'\n",
      "    var: 'gene_symbols'\n"
     ]
    },
    {
     "name": "stderr",
     "output_type": "stream",
     "text": [
      "/home/s4543064/miniforge3/envs/test/lib/python3.12/site-packages/anndata/_core/anndata.py:183: ImplicitModificationWarning: Transforming to str index.\n",
      "  warnings.warn(\"Transforming to str index.\", ImplicitModificationWarning)\n"
     ]
    },
    {
     "name": "stdout",
     "output_type": "stream",
     "text": [
      "AnnData object with n_obs × n_vars = 314 × 23686\n",
      "    var: 'gene_symbols'\n",
      "AnnData object with n_obs × n_vars = 314 × 23686\n",
      "    obs: 'cancer_type', 'dataset', 'tissue', 'uni_barcode'\n",
      "    var: 'gene_symbols'\n"
     ]
    },
    {
     "name": "stderr",
     "output_type": "stream",
     "text": [
      "/home/s4543064/miniforge3/envs/test/lib/python3.12/site-packages/anndata/_core/anndata.py:183: ImplicitModificationWarning: Transforming to str index.\n",
      "  warnings.warn(\"Transforming to str index.\", ImplicitModificationWarning)\n"
     ]
    },
    {
     "name": "stdout",
     "output_type": "stream",
     "text": [
      "AnnData object with n_obs × n_vars = 313 × 23686\n",
      "    var: 'gene_symbols'\n",
      "AnnData object with n_obs × n_vars = 313 × 23686\n",
      "    obs: 'cancer_type', 'dataset', 'tissue', 'uni_barcode'\n",
      "    var: 'gene_symbols'\n"
     ]
    },
    {
     "name": "stderr",
     "output_type": "stream",
     "text": [
      "/home/s4543064/miniforge3/envs/test/lib/python3.12/site-packages/anndata/_core/anndata.py:183: ImplicitModificationWarning: Transforming to str index.\n",
      "  warnings.warn(\"Transforming to str index.\", ImplicitModificationWarning)\n"
     ]
    },
    {
     "name": "stdout",
     "output_type": "stream",
     "text": [
      "AnnData object with n_obs × n_vars = 316 × 23686\n",
      "    var: 'gene_symbols'\n",
      "AnnData object with n_obs × n_vars = 316 × 23686\n",
      "    obs: 'cancer_type', 'dataset', 'tissue', 'uni_barcode'\n",
      "    var: 'gene_symbols'\n"
     ]
    },
    {
     "name": "stderr",
     "output_type": "stream",
     "text": [
      "/home/s4543064/miniforge3/envs/test/lib/python3.12/site-packages/anndata/_core/anndata.py:183: ImplicitModificationWarning: Transforming to str index.\n",
      "  warnings.warn(\"Transforming to str index.\", ImplicitModificationWarning)\n"
     ]
    },
    {
     "name": "stdout",
     "output_type": "stream",
     "text": [
      "AnnData object with n_obs × n_vars = 338 × 23686\n",
      "    var: 'gene_symbols'\n",
      "AnnData object with n_obs × n_vars = 338 × 23686\n",
      "    obs: 'cancer_type', 'dataset', 'tissue', 'uni_barcode'\n",
      "    var: 'gene_symbols'\n"
     ]
    },
    {
     "name": "stderr",
     "output_type": "stream",
     "text": [
      "/home/s4543064/miniforge3/envs/test/lib/python3.12/site-packages/anndata/_core/anndata.py:183: ImplicitModificationWarning: Transforming to str index.\n",
      "  warnings.warn(\"Transforming to str index.\", ImplicitModificationWarning)\n"
     ]
    },
    {
     "name": "stdout",
     "output_type": "stream",
     "text": [
      "AnnData object with n_obs × n_vars = 83 × 23686\n",
      "    var: 'gene_symbols'\n",
      "AnnData object with n_obs × n_vars = 83 × 23686\n",
      "    obs: 'cancer_type', 'dataset', 'tissue', 'uni_barcode'\n",
      "    var: 'gene_symbols'\n"
     ]
    },
    {
     "name": "stderr",
     "output_type": "stream",
     "text": [
      "/home/s4543064/miniforge3/envs/test/lib/python3.12/site-packages/anndata/_core/anndata.py:183: ImplicitModificationWarning: Transforming to str index.\n",
      "  warnings.warn(\"Transforming to str index.\", ImplicitModificationWarning)\n"
     ]
    },
    {
     "name": "stdout",
     "output_type": "stream",
     "text": [
      "AnnData object with n_obs × n_vars = 241 × 23686\n",
      "    var: 'gene_symbols'\n",
      "AnnData object with n_obs × n_vars = 241 × 23686\n",
      "    obs: 'cancer_type', 'dataset', 'tissue', 'uni_barcode'\n",
      "    var: 'gene_symbols'\n"
     ]
    },
    {
     "name": "stderr",
     "output_type": "stream",
     "text": [
      "/home/s4543064/miniforge3/envs/test/lib/python3.12/site-packages/anndata/_core/anndata.py:183: ImplicitModificationWarning: Transforming to str index.\n",
      "  warnings.warn(\"Transforming to str index.\", ImplicitModificationWarning)\n"
     ]
    },
    {
     "name": "stdout",
     "output_type": "stream",
     "text": [
      "AnnData object with n_obs × n_vars = 72 × 23686\n",
      "    var: 'gene_symbols'\n",
      "AnnData object with n_obs × n_vars = 72 × 23686\n",
      "    obs: 'cancer_type', 'dataset', 'tissue', 'uni_barcode'\n",
      "    var: 'gene_symbols'\n"
     ]
    },
    {
     "name": "stderr",
     "output_type": "stream",
     "text": [
      "/home/s4543064/miniforge3/envs/test/lib/python3.12/site-packages/anndata/_core/anndata.py:183: ImplicitModificationWarning: Transforming to str index.\n",
      "  warnings.warn(\"Transforming to str index.\", ImplicitModificationWarning)\n"
     ]
    },
    {
     "name": "stdout",
     "output_type": "stream",
     "text": [
      "AnnData object with n_obs × n_vars = 507 × 23686\n",
      "    var: 'gene_symbols'\n",
      "AnnData object with n_obs × n_vars = 507 × 23686\n",
      "    obs: 'cancer_type', 'dataset', 'tissue', 'uni_barcode'\n",
      "    var: 'gene_symbols'\n"
     ]
    },
    {
     "name": "stderr",
     "output_type": "stream",
     "text": [
      "/home/s4543064/miniforge3/envs/test/lib/python3.12/site-packages/anndata/_core/anndata.py:183: ImplicitModificationWarning: Transforming to str index.\n",
      "  warnings.warn(\"Transforming to str index.\", ImplicitModificationWarning)\n"
     ]
    },
    {
     "name": "stdout",
     "output_type": "stream",
     "text": [
      "AnnData object with n_obs × n_vars = 304 × 23686\n",
      "    var: 'gene_symbols'\n",
      "AnnData object with n_obs × n_vars = 304 × 23686\n",
      "    obs: 'cancer_type', 'dataset', 'tissue', 'uni_barcode'\n",
      "    var: 'gene_symbols'\n"
     ]
    },
    {
     "name": "stderr",
     "output_type": "stream",
     "text": [
      "/home/s4543064/miniforge3/envs/test/lib/python3.12/site-packages/anndata/_core/anndata.py:183: ImplicitModificationWarning: Transforming to str index.\n",
      "  warnings.warn(\"Transforming to str index.\", ImplicitModificationWarning)\n"
     ]
    },
    {
     "name": "stdout",
     "output_type": "stream",
     "text": [
      "AnnData object with n_obs × n_vars = 273 × 23686\n",
      "    var: 'gene_symbols'\n",
      "AnnData object with n_obs × n_vars = 273 × 23686\n",
      "    obs: 'cancer_type', 'dataset', 'tissue', 'uni_barcode'\n",
      "    var: 'gene_symbols'\n"
     ]
    },
    {
     "name": "stderr",
     "output_type": "stream",
     "text": [
      "/home/s4543064/miniforge3/envs/test/lib/python3.12/site-packages/anndata/_core/anndata.py:183: ImplicitModificationWarning: Transforming to str index.\n",
      "  warnings.warn(\"Transforming to str index.\", ImplicitModificationWarning)\n"
     ]
    },
    {
     "name": "stdout",
     "output_type": "stream",
     "text": [
      "AnnData object with n_obs × n_vars = 80 × 23686\n",
      "    var: 'gene_symbols'\n",
      "AnnData object with n_obs × n_vars = 80 × 23686\n",
      "    obs: 'cancer_type', 'dataset', 'tissue', 'uni_barcode'\n",
      "    var: 'gene_symbols'\n"
     ]
    },
    {
     "name": "stderr",
     "output_type": "stream",
     "text": [
      "/home/s4543064/miniforge3/envs/test/lib/python3.12/site-packages/anndata/_core/anndata.py:183: ImplicitModificationWarning: Transforming to str index.\n",
      "  warnings.warn(\"Transforming to str index.\", ImplicitModificationWarning)\n"
     ]
    },
    {
     "name": "stdout",
     "output_type": "stream",
     "text": [
      "AnnData object with n_obs × n_vars = 294 × 23686\n",
      "    var: 'gene_symbols'\n",
      "AnnData object with n_obs × n_vars = 294 × 23686\n",
      "    obs: 'cancer_type', 'dataset', 'tissue', 'uni_barcode'\n",
      "    var: 'gene_symbols'\n"
     ]
    },
    {
     "name": "stderr",
     "output_type": "stream",
     "text": [
      "/home/s4543064/miniforge3/envs/test/lib/python3.12/site-packages/anndata/_core/anndata.py:183: ImplicitModificationWarning: Transforming to str index.\n",
      "  warnings.warn(\"Transforming to str index.\", ImplicitModificationWarning)\n"
     ]
    },
    {
     "name": "stdout",
     "output_type": "stream",
     "text": [
      "AnnData object with n_obs × n_vars = 301 × 23686\n",
      "    var: 'gene_symbols'\n",
      "AnnData object with n_obs × n_vars = 301 × 23686\n",
      "    obs: 'cancer_type', 'dataset', 'tissue', 'uni_barcode'\n",
      "    var: 'gene_symbols'\n"
     ]
    },
    {
     "name": "stderr",
     "output_type": "stream",
     "text": [
      "/home/s4543064/miniforge3/envs/test/lib/python3.12/site-packages/anndata/_core/anndata.py:183: ImplicitModificationWarning: Transforming to str index.\n",
      "  warnings.warn(\"Transforming to str index.\", ImplicitModificationWarning)\n"
     ]
    },
    {
     "name": "stdout",
     "output_type": "stream",
     "text": [
      "AnnData object with n_obs × n_vars = 314 × 23686\n",
      "    var: 'gene_symbols'\n",
      "AnnData object with n_obs × n_vars = 314 × 23686\n",
      "    obs: 'cancer_type', 'dataset', 'tissue', 'uni_barcode'\n",
      "    var: 'gene_symbols'\n"
     ]
    },
    {
     "name": "stderr",
     "output_type": "stream",
     "text": [
      "/home/s4543064/miniforge3/envs/test/lib/python3.12/site-packages/anndata/_core/anndata.py:183: ImplicitModificationWarning: Transforming to str index.\n",
      "  warnings.warn(\"Transforming to str index.\", ImplicitModificationWarning)\n"
     ]
    },
    {
     "name": "stdout",
     "output_type": "stream",
     "text": [
      "AnnData object with n_obs × n_vars = 47 × 23686\n",
      "    var: 'gene_symbols'\n",
      "AnnData object with n_obs × n_vars = 47 × 23686\n",
      "    obs: 'cancer_type', 'dataset', 'tissue', 'uni_barcode'\n",
      "    var: 'gene_symbols'\n"
     ]
    },
    {
     "name": "stderr",
     "output_type": "stream",
     "text": [
      "/home/s4543064/miniforge3/envs/test/lib/python3.12/site-packages/anndata/_core/anndata.py:183: ImplicitModificationWarning: Transforming to str index.\n",
      "  warnings.warn(\"Transforming to str index.\", ImplicitModificationWarning)\n"
     ]
    },
    {
     "name": "stdout",
     "output_type": "stream",
     "text": [
      "AnnData object with n_obs × n_vars = 307 × 23686\n",
      "    var: 'gene_symbols'\n",
      "AnnData object with n_obs × n_vars = 307 × 23686\n",
      "    obs: 'cancer_type', 'dataset', 'tissue', 'uni_barcode'\n",
      "    var: 'gene_symbols'\n"
     ]
    },
    {
     "name": "stderr",
     "output_type": "stream",
     "text": [
      "/home/s4543064/miniforge3/envs/test/lib/python3.12/site-packages/anndata/_core/anndata.py:183: ImplicitModificationWarning: Transforming to str index.\n",
      "  warnings.warn(\"Transforming to str index.\", ImplicitModificationWarning)\n"
     ]
    },
    {
     "name": "stdout",
     "output_type": "stream",
     "text": [
      "AnnData object with n_obs × n_vars = 166 × 23686\n",
      "    var: 'gene_symbols'\n",
      "AnnData object with n_obs × n_vars = 166 × 23686\n",
      "    obs: 'cancer_type', 'dataset', 'tissue', 'uni_barcode'\n",
      "    var: 'gene_symbols'\n"
     ]
    },
    {
     "name": "stderr",
     "output_type": "stream",
     "text": [
      "/home/s4543064/miniforge3/envs/test/lib/python3.12/site-packages/anndata/_core/anndata.py:183: ImplicitModificationWarning: Transforming to str index.\n",
      "  warnings.warn(\"Transforming to str index.\", ImplicitModificationWarning)\n",
      "/home/s4543064/miniforge3/envs/test/lib/python3.12/site-packages/anndata/_core/anndata.py:183: ImplicitModificationWarning: Transforming to str index.\n",
      "  warnings.warn(\"Transforming to str index.\", ImplicitModificationWarning)\n"
     ]
    },
    {
     "name": "stdout",
     "output_type": "stream",
     "text": [
      "AnnData object with n_obs × n_vars = 66 × 23686\n",
      "    var: 'gene_symbols'\n",
      "AnnData object with n_obs × n_vars = 66 × 23686\n",
      "    obs: 'cancer_type', 'dataset', 'tissue', 'uni_barcode'\n",
      "    var: 'gene_symbols'\n",
      "AnnData object with n_obs × n_vars = 75 × 23686\n",
      "    var: 'gene_symbols'\n",
      "AnnData object with n_obs × n_vars = 75 × 23686\n",
      "    obs: 'cancer_type', 'dataset', 'tissue', 'uni_barcode'\n",
      "    var: 'gene_symbols'\n"
     ]
    },
    {
     "name": "stderr",
     "output_type": "stream",
     "text": [
      "/home/s4543064/miniforge3/envs/test/lib/python3.12/site-packages/anndata/_core/anndata.py:183: ImplicitModificationWarning: Transforming to str index.\n",
      "  warnings.warn(\"Transforming to str index.\", ImplicitModificationWarning)\n"
     ]
    },
    {
     "name": "stdout",
     "output_type": "stream",
     "text": [
      "AnnData object with n_obs × n_vars = 400 × 23686\n",
      "    var: 'gene_symbols'\n",
      "AnnData object with n_obs × n_vars = 400 × 23686\n",
      "    obs: 'cancer_type', 'dataset', 'tissue', 'uni_barcode'\n",
      "    var: 'gene_symbols'\n"
     ]
    },
    {
     "name": "stderr",
     "output_type": "stream",
     "text": [
      "/home/s4543064/miniforge3/envs/test/lib/python3.12/site-packages/anndata/_core/anndata.py:183: ImplicitModificationWarning: Transforming to str index.\n",
      "  warnings.warn(\"Transforming to str index.\", ImplicitModificationWarning)\n"
     ]
    },
    {
     "name": "stdout",
     "output_type": "stream",
     "text": [
      "AnnData object with n_obs × n_vars = 431 × 23686\n",
      "    var: 'gene_symbols'\n",
      "AnnData object with n_obs × n_vars = 431 × 23686\n",
      "    obs: 'cancer_type', 'dataset', 'tissue', 'uni_barcode'\n",
      "    var: 'gene_symbols'\n"
     ]
    },
    {
     "name": "stderr",
     "output_type": "stream",
     "text": [
      "/home/s4543064/miniforge3/envs/test/lib/python3.12/site-packages/anndata/_core/anndata.py:183: ImplicitModificationWarning: Transforming to str index.\n",
      "  warnings.warn(\"Transforming to str index.\", ImplicitModificationWarning)\n",
      "/home/s4543064/miniforge3/envs/test/lib/python3.12/site-packages/anndata/_core/anndata.py:183: ImplicitModificationWarning: Transforming to str index.\n",
      "  warnings.warn(\"Transforming to str index.\", ImplicitModificationWarning)\n"
     ]
    },
    {
     "name": "stdout",
     "output_type": "stream",
     "text": [
      "AnnData object with n_obs × n_vars = 137 × 23686\n",
      "    var: 'gene_symbols'\n",
      "AnnData object with n_obs × n_vars = 137 × 23686\n",
      "    obs: 'cancer_type', 'dataset', 'tissue', 'uni_barcode'\n",
      "    var: 'gene_symbols'\n",
      "AnnData object with n_obs × n_vars = 52 × 23686\n",
      "    var: 'gene_symbols'\n",
      "AnnData object with n_obs × n_vars = 52 × 23686\n",
      "    obs: 'cancer_type', 'dataset', 'tissue', 'uni_barcode'\n",
      "    var: 'gene_symbols'\n"
     ]
    },
    {
     "name": "stderr",
     "output_type": "stream",
     "text": [
      "/home/s4543064/miniforge3/envs/test/lib/python3.12/site-packages/anndata/_core/anndata.py:183: ImplicitModificationWarning: Transforming to str index.\n",
      "  warnings.warn(\"Transforming to str index.\", ImplicitModificationWarning)\n"
     ]
    },
    {
     "name": "stdout",
     "output_type": "stream",
     "text": [
      "AnnData object with n_obs × n_vars = 338 × 23686\n",
      "    var: 'gene_symbols'\n",
      "AnnData object with n_obs × n_vars = 338 × 23686\n",
      "    obs: 'cancer_type', 'dataset', 'tissue', 'uni_barcode'\n",
      "    var: 'gene_symbols'\n"
     ]
    },
    {
     "name": "stderr",
     "output_type": "stream",
     "text": [
      "/home/s4543064/miniforge3/envs/test/lib/python3.12/site-packages/anndata/_core/anndata.py:183: ImplicitModificationWarning: Transforming to str index.\n",
      "  warnings.warn(\"Transforming to str index.\", ImplicitModificationWarning)\n"
     ]
    },
    {
     "name": "stdout",
     "output_type": "stream",
     "text": [
      "AnnData object with n_obs × n_vars = 60 × 23686\n",
      "    var: 'gene_symbols'\n",
      "AnnData object with n_obs × n_vars = 60 × 23686\n",
      "    obs: 'cancer_type', 'dataset', 'tissue', 'uni_barcode'\n",
      "    var: 'gene_symbols'\n"
     ]
    },
    {
     "name": "stderr",
     "output_type": "stream",
     "text": [
      "/home/s4543064/miniforge3/envs/test/lib/python3.12/site-packages/anndata/_core/anndata.py:183: ImplicitModificationWarning: Transforming to str index.\n",
      "  warnings.warn(\"Transforming to str index.\", ImplicitModificationWarning)\n"
     ]
    },
    {
     "name": "stdout",
     "output_type": "stream",
     "text": [
      "AnnData object with n_obs × n_vars = 328 × 23686\n",
      "    var: 'gene_symbols'\n",
      "AnnData object with n_obs × n_vars = 328 × 23686\n",
      "    obs: 'cancer_type', 'dataset', 'tissue', 'uni_barcode'\n",
      "    var: 'gene_symbols'\n"
     ]
    },
    {
     "name": "stderr",
     "output_type": "stream",
     "text": [
      "/home/s4543064/miniforge3/envs/test/lib/python3.12/site-packages/anndata/_core/anndata.py:183: ImplicitModificationWarning: Transforming to str index.\n",
      "  warnings.warn(\"Transforming to str index.\", ImplicitModificationWarning)\n"
     ]
    },
    {
     "name": "stdout",
     "output_type": "stream",
     "text": [
      "AnnData object with n_obs × n_vars = 333 × 23686\n",
      "    var: 'gene_symbols'\n",
      "AnnData object with n_obs × n_vars = 333 × 23686\n",
      "    obs: 'cancer_type', 'dataset', 'tissue', 'uni_barcode'\n",
      "    var: 'gene_symbols'\n"
     ]
    },
    {
     "name": "stderr",
     "output_type": "stream",
     "text": [
      "/home/s4543064/miniforge3/envs/test/lib/python3.12/site-packages/anndata/_core/anndata.py:183: ImplicitModificationWarning: Transforming to str index.\n",
      "  warnings.warn(\"Transforming to str index.\", ImplicitModificationWarning)\n"
     ]
    },
    {
     "name": "stdout",
     "output_type": "stream",
     "text": [
      "AnnData object with n_obs × n_vars = 493 × 23686\n",
      "    var: 'gene_symbols'\n",
      "AnnData object with n_obs × n_vars = 493 × 23686\n",
      "    obs: 'cancer_type', 'dataset', 'tissue', 'uni_barcode'\n",
      "    var: 'gene_symbols'\n"
     ]
    },
    {
     "name": "stderr",
     "output_type": "stream",
     "text": [
      "/home/s4543064/miniforge3/envs/test/lib/python3.12/site-packages/anndata/_core/anndata.py:183: ImplicitModificationWarning: Transforming to str index.\n",
      "  warnings.warn(\"Transforming to str index.\", ImplicitModificationWarning)\n"
     ]
    },
    {
     "name": "stdout",
     "output_type": "stream",
     "text": [
      "AnnData object with n_obs × n_vars = 68 × 23686\n",
      "    var: 'gene_symbols'\n",
      "AnnData object with n_obs × n_vars = 68 × 23686\n",
      "    obs: 'cancer_type', 'dataset', 'tissue', 'uni_barcode'\n",
      "    var: 'gene_symbols'\n"
     ]
    },
    {
     "name": "stderr",
     "output_type": "stream",
     "text": [
      "/home/s4543064/miniforge3/envs/test/lib/python3.12/site-packages/anndata/_core/anndata.py:183: ImplicitModificationWarning: Transforming to str index.\n",
      "  warnings.warn(\"Transforming to str index.\", ImplicitModificationWarning)\n"
     ]
    },
    {
     "name": "stdout",
     "output_type": "stream",
     "text": [
      "AnnData object with n_obs × n_vars = 330 × 23686\n",
      "    var: 'gene_symbols'\n",
      "AnnData object with n_obs × n_vars = 330 × 23686\n",
      "    obs: 'cancer_type', 'dataset', 'tissue', 'uni_barcode'\n",
      "    var: 'gene_symbols'\n"
     ]
    },
    {
     "name": "stderr",
     "output_type": "stream",
     "text": [
      "/home/s4543064/miniforge3/envs/test/lib/python3.12/site-packages/anndata/_core/anndata.py:183: ImplicitModificationWarning: Transforming to str index.\n",
      "  warnings.warn(\"Transforming to str index.\", ImplicitModificationWarning)\n"
     ]
    },
    {
     "name": "stdout",
     "output_type": "stream",
     "text": [
      "AnnData object with n_obs × n_vars = 326 × 23686\n",
      "    var: 'gene_symbols'\n",
      "AnnData object with n_obs × n_vars = 326 × 23686\n",
      "    obs: 'cancer_type', 'dataset', 'tissue', 'uni_barcode'\n",
      "    var: 'gene_symbols'\n"
     ]
    }
   ],
   "source": [
    "from pathlib import Path\n",
    "\n",
    "# Specify the data directory path\n",
    "data_directory = Path('/scratch/user/s4543064/xiaohan-john-project/data/GSE119926')\n",
    "write_directory = Path('/scratch/user/s4543064/xiaohan-john-project/write/GSE119926')\n",
    "\n",
    "# Loop through all files in the directory\n",
    "for file in data_directory.iterdir():\n",
    "    file_name = file.stem\n",
    "    file_h5ad = file_name + '_uni.h5ad'\n",
    "\n",
    "    input = pd.read_csv(file, sep='\\t', index_col=0) # the first column contains gene names and is the index\n",
    "\n",
    "    matrix = scipy.sparse.csr_matrix(input.values.T)\n",
    "    obs_name = pd.DataFrame(index=input.columns)\n",
    "    var_name = pd.DataFrame(input.index, columns=['gene_symbols'])\n",
    "\n",
    "    sample = anndata.AnnData(X=matrix, obs=obs_name, var=var_name)\n",
    "    print(sample)\n",
    "\n",
    "    # Create an observation metric info to store related features\n",
    "    obs_metrics = pd.DataFrame(index=sample.obs_names) ## Get the identifiers\n",
    "    obs_metrics['cancer_type'] = 'medulloblastoma'\n",
    "    obs_metrics['dataset'] = 'GSE119926'\n",
    "    obs_metrics['tissue'] = 'brain'\n",
    "    obs_metrics['uni_barcode'] = obs_metrics['dataset'] + '_' + obs_metrics.index.astype(str)\n",
    "\n",
    "    sample.obs = obs_metrics\n",
    "    sample.obs.set_index(\"uni_barcode\", drop=False, inplace=True)\n",
    "    print(sample)\n",
    "\n",
    "    # save the anndata object\n",
    "    output_path = write_directory / file_h5ad\n",
    "    sample.write_h5ad(output_path, compression=\"gzip\")"
   ]
  },
  {
   "cell_type": "markdown",
   "metadata": {},
   "source": [
    "### 3. Confirmation of created AnnData objects"
   ]
  },
  {
   "cell_type": "code",
   "execution_count": 6,
   "metadata": {},
   "outputs": [
    {
     "name": "stdout",
     "output_type": "stream",
     "text": [
      "AnnData object with n_obs × n_vars = 137 × 23686\n",
      "    obs: 'cancer_type', 'dataset', 'tissue', 'uni_barcode'\n",
      "    var: 'gene_symbols'\n",
      "AnnData object with n_obs × n_vars = 273 × 23686\n",
      "    obs: 'cancer_type', 'dataset', 'tissue', 'uni_barcode'\n",
      "    var: 'gene_symbols'\n",
      "AnnData object with n_obs × n_vars = 81 × 23686\n",
      "    obs: 'cancer_type', 'dataset', 'tissue', 'uni_barcode'\n",
      "    var: 'gene_symbols'\n",
      "AnnData object with n_obs × n_vars = 328 × 23686\n",
      "    obs: 'cancer_type', 'dataset', 'tissue', 'uni_barcode'\n",
      "    var: 'gene_symbols'\n",
      "AnnData object with n_obs × n_vars = 60 × 23686\n",
      "    obs: 'cancer_type', 'dataset', 'tissue', 'uni_barcode'\n",
      "    var: 'gene_symbols'\n",
      "AnnData object with n_obs × n_vars = 72 × 23686\n",
      "    obs: 'cancer_type', 'dataset', 'tissue', 'uni_barcode'\n",
      "    var: 'gene_symbols'\n",
      "AnnData object with n_obs × n_vars = 293 × 23686\n",
      "    obs: 'cancer_type', 'dataset', 'tissue', 'uni_barcode'\n",
      "    var: 'gene_symbols'\n",
      "AnnData object with n_obs × n_vars = 493 × 23686\n",
      "    obs: 'cancer_type', 'dataset', 'tissue', 'uni_barcode'\n",
      "    var: 'gene_symbols'\n",
      "AnnData object with n_obs × n_vars = 333 × 23686\n",
      "    obs: 'cancer_type', 'dataset', 'tissue', 'uni_barcode'\n",
      "    var: 'gene_symbols'\n",
      "AnnData object with n_obs × n_vars = 330 × 23686\n",
      "    obs: 'cancer_type', 'dataset', 'tissue', 'uni_barcode'\n",
      "    var: 'gene_symbols'\n",
      "AnnData object with n_obs × n_vars = 507 × 23686\n",
      "    obs: 'cancer_type', 'dataset', 'tissue', 'uni_barcode'\n",
      "    var: 'gene_symbols'\n",
      "AnnData object with n_obs × n_vars = 83 × 23686\n",
      "    obs: 'cancer_type', 'dataset', 'tissue', 'uni_barcode'\n",
      "    var: 'gene_symbols'\n",
      "AnnData object with n_obs × n_vars = 52 × 23686\n",
      "    obs: 'cancer_type', 'dataset', 'tissue', 'uni_barcode'\n",
      "    var: 'gene_symbols'\n",
      "AnnData object with n_obs × n_vars = 304 × 23686\n",
      "    obs: 'cancer_type', 'dataset', 'tissue', 'uni_barcode'\n",
      "    var: 'gene_symbols'\n",
      "AnnData object with n_obs × n_vars = 241 × 23686\n",
      "    obs: 'cancer_type', 'dataset', 'tissue', 'uni_barcode'\n",
      "    var: 'gene_symbols'\n",
      "AnnData object with n_obs × n_vars = 338 × 23686\n",
      "    obs: 'cancer_type', 'dataset', 'tissue', 'uni_barcode'\n",
      "    var: 'gene_symbols'\n",
      "AnnData object with n_obs × n_vars = 294 × 23686\n",
      "    obs: 'cancer_type', 'dataset', 'tissue', 'uni_barcode'\n",
      "    var: 'gene_symbols'\n",
      "AnnData object with n_obs × n_vars = 326 × 23686\n",
      "    obs: 'cancer_type', 'dataset', 'tissue', 'uni_barcode'\n",
      "    var: 'gene_symbols'\n",
      "AnnData object with n_obs × n_vars = 314 × 23686\n",
      "    obs: 'cancer_type', 'dataset', 'tissue', 'uni_barcode'\n",
      "    var: 'gene_symbols'\n",
      "AnnData object with n_obs × n_vars = 190 × 23686\n",
      "    obs: 'cancer_type', 'dataset', 'tissue', 'uni_barcode'\n",
      "    var: 'gene_symbols'\n",
      "AnnData object with n_obs × n_vars = 334 × 23686\n",
      "    obs: 'cancer_type', 'dataset', 'tissue', 'uni_barcode'\n",
      "    var: 'gene_symbols'\n",
      "AnnData object with n_obs × n_vars = 313 × 23686\n",
      "    obs: 'cancer_type', 'dataset', 'tissue', 'uni_barcode'\n",
      "    var: 'gene_symbols'\n",
      "AnnData object with n_obs × n_vars = 314 × 23686\n",
      "    obs: 'cancer_type', 'dataset', 'tissue', 'uni_barcode'\n",
      "    var: 'gene_symbols'\n",
      "AnnData object with n_obs × n_vars = 431 × 23686\n",
      "    obs: 'cancer_type', 'dataset', 'tissue', 'uni_barcode'\n",
      "    var: 'gene_symbols'\n",
      "AnnData object with n_obs × n_vars = 307 × 23686\n",
      "    obs: 'cancer_type', 'dataset', 'tissue', 'uni_barcode'\n",
      "    var: 'gene_symbols'\n",
      "AnnData object with n_obs × n_vars = 338 × 23686\n",
      "    obs: 'cancer_type', 'dataset', 'tissue', 'uni_barcode'\n",
      "    var: 'gene_symbols'\n",
      "AnnData object with n_obs × n_vars = 166 × 23686\n",
      "    obs: 'cancer_type', 'dataset', 'tissue', 'uni_barcode'\n",
      "    var: 'gene_symbols'\n",
      "AnnData object with n_obs × n_vars = 66 × 23686\n",
      "    obs: 'cancer_type', 'dataset', 'tissue', 'uni_barcode'\n",
      "    var: 'gene_symbols'\n",
      "AnnData object with n_obs × n_vars = 75 × 23686\n",
      "    obs: 'cancer_type', 'dataset', 'tissue', 'uni_barcode'\n",
      "    var: 'gene_symbols'\n",
      "AnnData object with n_obs × n_vars = 86 × 23686\n",
      "    obs: 'cancer_type', 'dataset', 'tissue', 'uni_barcode'\n",
      "    var: 'gene_symbols'\n",
      "AnnData object with n_obs × n_vars = 80 × 23686\n",
      "    obs: 'cancer_type', 'dataset', 'tissue', 'uni_barcode'\n",
      "    var: 'gene_symbols'\n",
      "AnnData object with n_obs × n_vars = 400 × 23686\n",
      "    obs: 'cancer_type', 'dataset', 'tissue', 'uni_barcode'\n",
      "    var: 'gene_symbols'\n",
      "AnnData object with n_obs × n_vars = 68 × 23686\n",
      "    obs: 'cancer_type', 'dataset', 'tissue', 'uni_barcode'\n",
      "    var: 'gene_symbols'\n",
      "AnnData object with n_obs × n_vars = 301 × 23686\n",
      "    obs: 'cancer_type', 'dataset', 'tissue', 'uni_barcode'\n",
      "    var: 'gene_symbols'\n",
      "AnnData object with n_obs × n_vars = 47 × 23686\n",
      "    obs: 'cancer_type', 'dataset', 'tissue', 'uni_barcode'\n",
      "    var: 'gene_symbols'\n",
      "AnnData object with n_obs × n_vars = 316 × 23686\n",
      "    obs: 'cancer_type', 'dataset', 'tissue', 'uni_barcode'\n",
      "    var: 'gene_symbols'\n"
     ]
    }
   ],
   "source": [
    "from pathlib import Path\n",
    "\n",
    "write_directory = Path('/scratch/user/s4543064/xiaohan-john-project/write/GSE119926')\n",
    "\n",
    "for file in write_directory.iterdir():\n",
    "    if \"_uni.h5ad\" in file.name:\n",
    "        sample = anndata.read_h5ad(file)\n",
    "        print(sample)"
   ]
  },
  {
   "cell_type": "markdown",
   "metadata": {},
   "source": [
    "### 4. Convert AnnData objects to SingleCellExperiment objects"
   ]
  },
  {
   "cell_type": "code",
   "execution_count": 8,
   "metadata": {},
   "outputs": [],
   "source": [
    "from pathlib import Path\n",
    "\n",
    "import anndata2ri\n",
    "import rpy2.robjects as robjects\n",
    "from rpy2.robjects import r\n",
    "from rpy2.robjects.conversion import localconverter\n",
    "\n",
    "# Specify directory paths\n",
    "write_directory = Path('/scratch/user/s4543064/xiaohan-john-project/write/GSE119926')\n",
    "\n",
    "# Loop through all files in the directory\n",
    "for file in write_directory.iterdir():\n",
    "    sample_name = file.stem\n",
    "    if \"_uni.h5ad\" in file.name:\n",
    "        sample_anndata = anndata.read_h5ad(file)\n",
    "        sample_sce_file = sample_name + \".rds\"\n",
    "\n",
    "        with localconverter(anndata2ri.converter):\n",
    "            sample_sce = anndata2ri.py2rpy(sample_anndata)\n",
    "        # print(sample_sce)\n",
    "        \n",
    "        # Save the sce object in .rds file\n",
    "        robjects.globalenv[\"sample_sce\"] = sample_sce\n",
    "        sample_sce_path = write_directory / sample_sce_file\n",
    "        robjects.r(\"saveRDS(sample_sce, file='{}')\".format(sample_sce_path))"
   ]
  },
  {
   "cell_type": "code",
   "execution_count": 9,
   "metadata": {},
   "outputs": [
    {
     "name": "stdout",
     "output_type": "stream",
     "text": [
      "class: SingleCellExperiment \n",
      "dim: 23686 316 \n",
      "metadata(0):\n",
      "assays(1): X\n",
      "rownames(23686): 0 1 ... 23684 23685\n",
      "rowData names(1): gene_symbols\n",
      "colnames(316): GSE119926_SJ217-P01-A01 GSE119926_SJ217-P01-A02 ...\n",
      "  GSE119926_SJ217-P05-H06 GSE119926_SJ217-P05-H07\n",
      "colData names(4): cancer_type dataset tissue uni_barcode\n",
      "reducedDimNames(0):\n",
      "mainExpName: NULL\n",
      "altExpNames(0):\n",
      "\n"
     ]
    }
   ],
   "source": [
    "print(sample_sce)"
   ]
  }
 ],
 "metadata": {
  "kernelspec": {
   "display_name": "Python 3 (ipykernel)",
   "language": "python",
   "name": "python3"
  },
  "language_info": {
   "codemirror_mode": {
    "name": "ipython",
    "version": 3
   },
   "file_extension": ".py",
   "mimetype": "text/x-python",
   "name": "python",
   "nbconvert_exporter": "python",
   "pygments_lexer": "ipython3",
   "version": "3.12.2"
  }
 },
 "nbformat": 4,
 "nbformat_minor": 2
}
