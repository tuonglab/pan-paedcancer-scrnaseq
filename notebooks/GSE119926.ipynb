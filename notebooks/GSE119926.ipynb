{
 "cells": [
  {
   "cell_type": "markdown",
   "metadata": {},
   "source": [
    "### 1. General info of dataset GSE119926\n",
    "\n",
    "This is the Jupyter Notebook for dataset GSE119926. Its dataset includes a txt file for each sample. As seen below, in the txt file, each row is a gene and each column is a cell.\n",
    "\n",
    "Thus, we need to transform this txt file and generate an AnnData object for all samples for each sample. In total, there are 25 fresh surgical resection samples (23 diagnostic samples and 2 recurrences) and 11 patient-derived xenograft (PDX) samples.\n",
    "\n",
    "<span style=\"color:green\">**[BCH]**</span> fresh tumour biopsies from Boston Children's Hospital\n",
    "\n",
    "<span style=\"color:green\">**[MUV]**</span> fresh tumour biopsies from Vienna General Hospital\n",
    "\n",
    "<span style=\"color:green\">**[SJ]**</span> fresh tumour biopsies from LeBonheur Children's Hospital"
   ]
  },
  {
   "cell_type": "code",
   "execution_count": 14,
   "metadata": {},
   "outputs": [],
   "source": [
    "# Environment setup\n",
    "import numpy as np\n",
    "import pandas as pd\n",
    "import scanpy as sc\n",
    "import anndata as anndata\n",
    "import scipy"
   ]
  },
  {
   "cell_type": "code",
   "execution_count": 2,
   "metadata": {},
   "outputs": [
    {
     "name": "stdout",
     "output_type": "stream",
     "text": [
      "          BCH807-P02-A01  BCH807-P02-A02  BCH807-P02-A03  BCH807-P02-A04  \\\n",
      "A1BG                 0.0            2.26           0.000             0.0   \n",
      "A1BG-AS1             0.0            0.00           1.183             0.0   \n",
      "A1CF                 0.0            0.00           0.000             0.0   \n",
      "A2M                  0.0            0.00           0.550             0.0   \n",
      "A2M-AS1              0.0            0.00           0.000             0.0   \n",
      "\n",
      "          BCH807-P02-A05  BCH807-P02-A06  BCH807-P02-A07  BCH807-P02-A08  \\\n",
      "A1BG                 0.0           0.559             0.0             0.0   \n",
      "A1BG-AS1             0.0           2.174             0.0             0.0   \n",
      "A1CF                 0.0           0.000             0.0             0.0   \n",
      "A2M                  0.0           0.000             0.0             0.0   \n",
      "A2M-AS1              0.0           0.000             0.0             0.0   \n",
      "\n",
      "          BCH807-P02-A09  BCH807-P02-A10  ...  BCH807-P05-H01  BCH807-P05-H02  \\\n",
      "A1BG               0.871           1.872  ...           0.000           0.000   \n",
      "A1BG-AS1           0.000           1.493  ...           0.000           0.209   \n",
      "A1CF               0.000           0.047  ...           0.088           0.000   \n",
      "A2M                0.000           0.000  ...           0.000           0.000   \n",
      "A2M-AS1            0.000           0.000  ...           0.000           0.000   \n",
      "\n",
      "          BCH807-P05-H04  BCH807-P05-H05  BCH807-P05-H06  BCH807-P05-H07  \\\n",
      "A1BG               0.574           1.023             0.0             0.0   \n",
      "A1BG-AS1           1.006           0.000             0.0             0.0   \n",
      "A1CF               0.000           0.000             0.0             0.0   \n",
      "A2M                0.000           0.000             0.0             0.0   \n",
      "A2M-AS1            0.000           0.000             0.0             0.0   \n",
      "\n",
      "          BCH807-P05-H08  BCH807-P05-H09  BCH807-P05-H10  BCH807-P05-H11  \n",
      "A1BG               0.000             0.0             0.0           2.251  \n",
      "A1BG-AS1           2.838             0.0             0.0           0.000  \n",
      "A1CF               0.000             0.0             0.0           0.034  \n",
      "A2M                0.000             0.0             0.0           0.068  \n",
      "A2M-AS1            0.000             0.0             0.0           0.000  \n",
      "\n",
      "[5 rows x 307 columns]\n",
      "(23686, 307)\n"
     ]
    }
   ],
   "source": [
    "# inspect the txt for each sample\n",
    "path = '/scratch/user/s4543064/xiaohan-john-project/data/GSE119926/GSM3905406_BCH807.txt'\n",
    "input = pd.read_csv(path, sep='\\t', index_col=0) # the first column contains gene names and is the index\n",
    "\n",
    "print(input.head()) \n",
    "print(input.shape) # (23686 rows, 307 columns)"
   ]
  },
  {
   "cell_type": "markdown",
   "metadata": {},
   "source": [
    "### 2. AnnData object of each sample\n",
    "\n",
    "<span style=\"color:red\">**IMPORTANT:**</span> transpose the DataFrame.values to match the AnnData.X\n",
    "\n",
    "1. `DataFrame.columns`: cell barcodes, which go into `.obs`\n",
    "2. `DataFrame.index`: gene names, `.var`\n",
    "3. `DataFrame.values`: the transpose of the expression matrix, `.X`"
   ]
  },
  {
   "cell_type": "code",
   "execution_count": 25,
   "metadata": {},
   "outputs": [
    {
     "name": "stderr",
     "output_type": "stream",
     "text": [
      "/home/s4543064/miniforge3/envs/summer_env/lib/python3.8/site-packages/anndata/_core/anndata.py:121: ImplicitModificationWarning: Transforming to str index.\n",
      "  warnings.warn(\"Transforming to str index.\", ImplicitModificationWarning)\n"
     ]
    },
    {
     "name": "stdout",
     "output_type": "stream",
     "text": [
      "AnnData object with n_obs × n_vars = 190 × 23686\n",
      "    var: 'gene_symbols'\n"
     ]
    },
    {
     "name": "stderr",
     "output_type": "stream",
     "text": [
      "/home/s4543064/miniforge3/envs/summer_env/lib/python3.8/site-packages/anndata/_core/anndata.py:121: ImplicitModificationWarning: Transforming to str index.\n",
      "  warnings.warn(\"Transforming to str index.\", ImplicitModificationWarning)\n"
     ]
    },
    {
     "name": "stdout",
     "output_type": "stream",
     "text": [
      "AnnData object with n_obs × n_vars = 334 × 23686\n",
      "    var: 'gene_symbols'\n"
     ]
    },
    {
     "name": "stderr",
     "output_type": "stream",
     "text": [
      "/home/s4543064/miniforge3/envs/summer_env/lib/python3.8/site-packages/anndata/_core/anndata.py:121: ImplicitModificationWarning: Transforming to str index.\n",
      "  warnings.warn(\"Transforming to str index.\", ImplicitModificationWarning)\n"
     ]
    },
    {
     "name": "stdout",
     "output_type": "stream",
     "text": [
      "AnnData object with n_obs × n_vars = 293 × 23686\n",
      "    var: 'gene_symbols'\n"
     ]
    },
    {
     "name": "stderr",
     "output_type": "stream",
     "text": [
      "/home/s4543064/miniforge3/envs/summer_env/lib/python3.8/site-packages/anndata/_core/anndata.py:121: ImplicitModificationWarning: Transforming to str index.\n",
      "  warnings.warn(\"Transforming to str index.\", ImplicitModificationWarning)\n"
     ]
    },
    {
     "name": "stdout",
     "output_type": "stream",
     "text": [
      "AnnData object with n_obs × n_vars = 314 × 23686\n",
      "    var: 'gene_symbols'\n"
     ]
    },
    {
     "name": "stderr",
     "output_type": "stream",
     "text": [
      "/home/s4543064/miniforge3/envs/summer_env/lib/python3.8/site-packages/anndata/_core/anndata.py:121: ImplicitModificationWarning: Transforming to str index.\n",
      "  warnings.warn(\"Transforming to str index.\", ImplicitModificationWarning)\n"
     ]
    },
    {
     "name": "stdout",
     "output_type": "stream",
     "text": [
      "AnnData object with n_obs × n_vars = 313 × 23686\n",
      "    var: 'gene_symbols'\n"
     ]
    },
    {
     "name": "stderr",
     "output_type": "stream",
     "text": [
      "/home/s4543064/miniforge3/envs/summer_env/lib/python3.8/site-packages/anndata/_core/anndata.py:121: ImplicitModificationWarning: Transforming to str index.\n",
      "  warnings.warn(\"Transforming to str index.\", ImplicitModificationWarning)\n"
     ]
    },
    {
     "name": "stdout",
     "output_type": "stream",
     "text": [
      "AnnData object with n_obs × n_vars = 316 × 23686\n",
      "    var: 'gene_symbols'\n"
     ]
    },
    {
     "name": "stderr",
     "output_type": "stream",
     "text": [
      "/home/s4543064/miniforge3/envs/summer_env/lib/python3.8/site-packages/anndata/_core/anndata.py:121: ImplicitModificationWarning: Transforming to str index.\n",
      "  warnings.warn(\"Transforming to str index.\", ImplicitModificationWarning)\n"
     ]
    },
    {
     "name": "stdout",
     "output_type": "stream",
     "text": [
      "AnnData object with n_obs × n_vars = 338 × 23686\n",
      "    var: 'gene_symbols'\n"
     ]
    },
    {
     "name": "stderr",
     "output_type": "stream",
     "text": [
      "/home/s4543064/miniforge3/envs/summer_env/lib/python3.8/site-packages/anndata/_core/anndata.py:121: ImplicitModificationWarning: Transforming to str index.\n",
      "  warnings.warn(\"Transforming to str index.\", ImplicitModificationWarning)\n"
     ]
    },
    {
     "name": "stdout",
     "output_type": "stream",
     "text": [
      "AnnData object with n_obs × n_vars = 241 × 23686\n",
      "    var: 'gene_symbols'\n"
     ]
    },
    {
     "name": "stderr",
     "output_type": "stream",
     "text": [
      "/home/s4543064/miniforge3/envs/summer_env/lib/python3.8/site-packages/anndata/_core/anndata.py:121: ImplicitModificationWarning: Transforming to str index.\n",
      "  warnings.warn(\"Transforming to str index.\", ImplicitModificationWarning)\n"
     ]
    },
    {
     "name": "stdout",
     "output_type": "stream",
     "text": [
      "AnnData object with n_obs × n_vars = 507 × 23686\n",
      "    var: 'gene_symbols'\n"
     ]
    },
    {
     "name": "stderr",
     "output_type": "stream",
     "text": [
      "/home/s4543064/miniforge3/envs/summer_env/lib/python3.8/site-packages/anndata/_core/anndata.py:121: ImplicitModificationWarning: Transforming to str index.\n",
      "  warnings.warn(\"Transforming to str index.\", ImplicitModificationWarning)\n"
     ]
    },
    {
     "name": "stdout",
     "output_type": "stream",
     "text": [
      "AnnData object with n_obs × n_vars = 304 × 23686\n",
      "    var: 'gene_symbols'\n"
     ]
    },
    {
     "name": "stderr",
     "output_type": "stream",
     "text": [
      "/home/s4543064/miniforge3/envs/summer_env/lib/python3.8/site-packages/anndata/_core/anndata.py:121: ImplicitModificationWarning: Transforming to str index.\n",
      "  warnings.warn(\"Transforming to str index.\", ImplicitModificationWarning)\n"
     ]
    },
    {
     "name": "stdout",
     "output_type": "stream",
     "text": [
      "AnnData object with n_obs × n_vars = 273 × 23686\n",
      "    var: 'gene_symbols'\n"
     ]
    },
    {
     "name": "stderr",
     "output_type": "stream",
     "text": [
      "/home/s4543064/miniforge3/envs/summer_env/lib/python3.8/site-packages/anndata/_core/anndata.py:121: ImplicitModificationWarning: Transforming to str index.\n",
      "  warnings.warn(\"Transforming to str index.\", ImplicitModificationWarning)\n"
     ]
    },
    {
     "name": "stdout",
     "output_type": "stream",
     "text": [
      "AnnData object with n_obs × n_vars = 294 × 23686\n",
      "    var: 'gene_symbols'\n"
     ]
    },
    {
     "name": "stderr",
     "output_type": "stream",
     "text": [
      "/home/s4543064/miniforge3/envs/summer_env/lib/python3.8/site-packages/anndata/_core/anndata.py:121: ImplicitModificationWarning: Transforming to str index.\n",
      "  warnings.warn(\"Transforming to str index.\", ImplicitModificationWarning)\n"
     ]
    },
    {
     "name": "stdout",
     "output_type": "stream",
     "text": [
      "AnnData object with n_obs × n_vars = 301 × 23686\n",
      "    var: 'gene_symbols'\n"
     ]
    },
    {
     "name": "stderr",
     "output_type": "stream",
     "text": [
      "/home/s4543064/miniforge3/envs/summer_env/lib/python3.8/site-packages/anndata/_core/anndata.py:121: ImplicitModificationWarning: Transforming to str index.\n",
      "  warnings.warn(\"Transforming to str index.\", ImplicitModificationWarning)\n"
     ]
    },
    {
     "name": "stdout",
     "output_type": "stream",
     "text": [
      "AnnData object with n_obs × n_vars = 314 × 23686\n",
      "    var: 'gene_symbols'\n"
     ]
    },
    {
     "name": "stderr",
     "output_type": "stream",
     "text": [
      "/home/s4543064/miniforge3/envs/summer_env/lib/python3.8/site-packages/anndata/_core/anndata.py:121: ImplicitModificationWarning: Transforming to str index.\n",
      "  warnings.warn(\"Transforming to str index.\", ImplicitModificationWarning)\n"
     ]
    },
    {
     "name": "stdout",
     "output_type": "stream",
     "text": [
      "AnnData object with n_obs × n_vars = 307 × 23686\n",
      "    var: 'gene_symbols'\n"
     ]
    },
    {
     "name": "stderr",
     "output_type": "stream",
     "text": [
      "/home/s4543064/miniforge3/envs/summer_env/lib/python3.8/site-packages/anndata/_core/anndata.py:121: ImplicitModificationWarning: Transforming to str index.\n",
      "  warnings.warn(\"Transforming to str index.\", ImplicitModificationWarning)\n"
     ]
    },
    {
     "name": "stdout",
     "output_type": "stream",
     "text": [
      "AnnData object with n_obs × n_vars = 75 × 23686\n",
      "    var: 'gene_symbols'\n"
     ]
    },
    {
     "name": "stderr",
     "output_type": "stream",
     "text": [
      "/home/s4543064/miniforge3/envs/summer_env/lib/python3.8/site-packages/anndata/_core/anndata.py:121: ImplicitModificationWarning: Transforming to str index.\n",
      "  warnings.warn(\"Transforming to str index.\", ImplicitModificationWarning)\n"
     ]
    },
    {
     "name": "stdout",
     "output_type": "stream",
     "text": [
      "AnnData object with n_obs × n_vars = 400 × 23686\n",
      "    var: 'gene_symbols'\n"
     ]
    },
    {
     "name": "stderr",
     "output_type": "stream",
     "text": [
      "/home/s4543064/miniforge3/envs/summer_env/lib/python3.8/site-packages/anndata/_core/anndata.py:121: ImplicitModificationWarning: Transforming to str index.\n",
      "  warnings.warn(\"Transforming to str index.\", ImplicitModificationWarning)\n"
     ]
    },
    {
     "name": "stdout",
     "output_type": "stream",
     "text": [
      "AnnData object with n_obs × n_vars = 431 × 23686\n",
      "    var: 'gene_symbols'\n"
     ]
    },
    {
     "name": "stderr",
     "output_type": "stream",
     "text": [
      "/home/s4543064/miniforge3/envs/summer_env/lib/python3.8/site-packages/anndata/_core/anndata.py:121: ImplicitModificationWarning: Transforming to str index.\n",
      "  warnings.warn(\"Transforming to str index.\", ImplicitModificationWarning)\n"
     ]
    },
    {
     "name": "stdout",
     "output_type": "stream",
     "text": [
      "AnnData object with n_obs × n_vars = 52 × 23686\n",
      "    var: 'gene_symbols'\n"
     ]
    },
    {
     "name": "stderr",
     "output_type": "stream",
     "text": [
      "/home/s4543064/miniforge3/envs/summer_env/lib/python3.8/site-packages/anndata/_core/anndata.py:121: ImplicitModificationWarning: Transforming to str index.\n",
      "  warnings.warn(\"Transforming to str index.\", ImplicitModificationWarning)\n"
     ]
    },
    {
     "name": "stdout",
     "output_type": "stream",
     "text": [
      "AnnData object with n_obs × n_vars = 338 × 23686\n",
      "    var: 'gene_symbols'\n"
     ]
    },
    {
     "name": "stderr",
     "output_type": "stream",
     "text": [
      "/home/s4543064/miniforge3/envs/summer_env/lib/python3.8/site-packages/anndata/_core/anndata.py:121: ImplicitModificationWarning: Transforming to str index.\n",
      "  warnings.warn(\"Transforming to str index.\", ImplicitModificationWarning)\n"
     ]
    },
    {
     "name": "stdout",
     "output_type": "stream",
     "text": [
      "AnnData object with n_obs × n_vars = 328 × 23686\n",
      "    var: 'gene_symbols'\n"
     ]
    },
    {
     "name": "stderr",
     "output_type": "stream",
     "text": [
      "/home/s4543064/miniforge3/envs/summer_env/lib/python3.8/site-packages/anndata/_core/anndata.py:121: ImplicitModificationWarning: Transforming to str index.\n",
      "  warnings.warn(\"Transforming to str index.\", ImplicitModificationWarning)\n"
     ]
    },
    {
     "name": "stdout",
     "output_type": "stream",
     "text": [
      "AnnData object with n_obs × n_vars = 333 × 23686\n",
      "    var: 'gene_symbols'\n"
     ]
    },
    {
     "name": "stderr",
     "output_type": "stream",
     "text": [
      "/home/s4543064/miniforge3/envs/summer_env/lib/python3.8/site-packages/anndata/_core/anndata.py:121: ImplicitModificationWarning: Transforming to str index.\n",
      "  warnings.warn(\"Transforming to str index.\", ImplicitModificationWarning)\n"
     ]
    },
    {
     "name": "stdout",
     "output_type": "stream",
     "text": [
      "AnnData object with n_obs × n_vars = 493 × 23686\n",
      "    var: 'gene_symbols'\n"
     ]
    },
    {
     "name": "stderr",
     "output_type": "stream",
     "text": [
      "/home/s4543064/miniforge3/envs/summer_env/lib/python3.8/site-packages/anndata/_core/anndata.py:121: ImplicitModificationWarning: Transforming to str index.\n",
      "  warnings.warn(\"Transforming to str index.\", ImplicitModificationWarning)\n"
     ]
    },
    {
     "name": "stdout",
     "output_type": "stream",
     "text": [
      "AnnData object with n_obs × n_vars = 330 × 23686\n",
      "    var: 'gene_symbols'\n"
     ]
    },
    {
     "name": "stderr",
     "output_type": "stream",
     "text": [
      "/home/s4543064/miniforge3/envs/summer_env/lib/python3.8/site-packages/anndata/_core/anndata.py:121: ImplicitModificationWarning: Transforming to str index.\n",
      "  warnings.warn(\"Transforming to str index.\", ImplicitModificationWarning)\n"
     ]
    },
    {
     "name": "stdout",
     "output_type": "stream",
     "text": [
      "AnnData object with n_obs × n_vars = 326 × 23686\n",
      "    var: 'gene_symbols'\n"
     ]
    }
   ],
   "source": [
    "from pathlib import Path\n",
    "\n",
    "# Specify the data directory path\n",
    "data_directory = Path('/scratch/user/s4543064/xiaohan-john-project/data/GSE119926')\n",
    "write_directory = Path('/scratch/user/s4543064/xiaohan-john-project/write/GSE119926')\n",
    "\n",
    "# Loop through all files in the directory\n",
    "for file in data_directory.iterdir():\n",
    "    file_name = file.stem\n",
    "    file_h5ad = file_name + '.h5ad'\n",
    "\n",
    "    input = pd.read_csv(file, sep='\\t', index_col=0) # the first column contains gene names and is the index\n",
    "\n",
    "    matrix = scipy.sparse.csr_matrix(input.values.T)\n",
    "    obs_name = pd.DataFrame(index=input.columns)\n",
    "    var_name = pd.DataFrame(input.index, columns=['gene_symbols'])\n",
    "\n",
    "    sample = anndata.AnnData(X=matrix, obs=obs_name, var=var_name)\n",
    "    print(sample)\n",
    "\n",
    "    # save the anndata object\n",
    "    output_path = write_directory / file_h5ad\n",
    "    sample.write_h5ad(output_path, compression=\"gzip\")"
   ]
  },
  {
   "cell_type": "markdown",
   "metadata": {},
   "source": [
    "### 3. Confirmation of created AnnData objects"
   ]
  },
  {
   "cell_type": "code",
   "execution_count": 26,
   "metadata": {},
   "outputs": [
    {
     "name": "stdout",
     "output_type": "stream",
     "text": [
      "AnnData object with n_obs × n_vars = 334 × 23686\n",
      "    var: 'gene_symbols'\n",
      "AnnData object with n_obs × n_vars = 330 × 23686\n",
      "    var: 'gene_symbols'\n",
      "AnnData object with n_obs × n_vars = 52 × 23686\n",
      "    var: 'gene_symbols'\n",
      "AnnData object with n_obs × n_vars = 294 × 23686\n",
      "    var: 'gene_symbols'\n",
      "AnnData object with n_obs × n_vars = 293 × 23686\n",
      "    var: 'gene_symbols'\n",
      "AnnData object with n_obs × n_vars = 328 × 23686\n",
      "    var: 'gene_symbols'\n",
      "AnnData object with n_obs × n_vars = 333 × 23686\n",
      "    var: 'gene_symbols'\n",
      "AnnData object with n_obs × n_vars = 301 × 23686\n",
      "    var: 'gene_symbols'\n",
      "AnnData object with n_obs × n_vars = 241 × 23686\n",
      "    var: 'gene_symbols'\n",
      "AnnData object with n_obs × n_vars = 190 × 23686\n",
      "    var: 'gene_symbols'\n",
      "AnnData object with n_obs × n_vars = 75 × 23686\n",
      "    var: 'gene_symbols'\n",
      "AnnData object with n_obs × n_vars = 338 × 23686\n",
      "    var: 'gene_symbols'\n",
      "AnnData object with n_obs × n_vars = 304 × 23686\n",
      "    var: 'gene_symbols'\n",
      "AnnData object with n_obs × n_vars = 314 × 23686\n",
      "    var: 'gene_symbols'\n",
      "AnnData object with n_obs × n_vars = 314 × 23686\n",
      "    var: 'gene_symbols'\n",
      "AnnData object with n_obs × n_vars = 400 × 23686\n",
      "    var: 'gene_symbols'\n",
      "AnnData object with n_obs × n_vars = 313 × 23686\n",
      "    var: 'gene_symbols'\n",
      "AnnData object with n_obs × n_vars = 307 × 23686\n",
      "    var: 'gene_symbols'\n",
      "AnnData object with n_obs × n_vars = 507 × 23686\n",
      "    var: 'gene_symbols'\n",
      "AnnData object with n_obs × n_vars = 273 × 23686\n",
      "    var: 'gene_symbols'\n",
      "AnnData object with n_obs × n_vars = 431 × 23686\n",
      "    var: 'gene_symbols'\n",
      "AnnData object with n_obs × n_vars = 326 × 23686\n",
      "    var: 'gene_symbols'\n",
      "AnnData object with n_obs × n_vars = 493 × 23686\n",
      "    var: 'gene_symbols'\n",
      "AnnData object with n_obs × n_vars = 338 × 23686\n",
      "    var: 'gene_symbols'\n",
      "AnnData object with n_obs × n_vars = 316 × 23686\n",
      "    var: 'gene_symbols'\n"
     ]
    }
   ],
   "source": [
    "from pathlib import Path\n",
    "\n",
    "write_directory = Path('/scratch/user/s4543064/xiaohan-john-project/write/GSE119926')\n",
    "\n",
    "for file in write_directory.iterdir():\n",
    "    sample = anndata.read_h5ad(file)\n",
    "    print(sample)"
   ]
  }
 ],
 "metadata": {
  "kernelspec": {
   "display_name": "Python 3 (ipykernel)",
   "language": "python",
   "name": "python3"
  }
 },
 "nbformat": 4,
 "nbformat_minor": 2
}
